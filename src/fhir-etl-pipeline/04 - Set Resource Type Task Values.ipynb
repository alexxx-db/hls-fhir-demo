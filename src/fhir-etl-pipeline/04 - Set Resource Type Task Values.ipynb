{
 "cells": [
  {
   "cell_type": "code",
   "execution_count": 0,
   "metadata": {
    "application/vnd.databricks.v1+cell": {
     "cellMetadata": {
      "byteLimit": 2048000,
      "rowLimit": 10000
     },
     "inputWidgets": {},
     "nuid": "3c15962c-50b4-4269-bcab-03a7637890c9",
     "showTitle": false,
     "tableResultSettingsMap": {},
     "title": ""
    }
   },
   "outputs": [],
   "source": [
    "dbutils.widgets.text(\"catalog_use\", \"fhir_workshop\")\n",
    "dbutils.widgets.text(\"schema_use\", spark.sql(\"SELECT REPLACE(SPLIT(current_user(), '@')[0], '.', '_')\").collect()[0][0])"
   ]
  },
  {
   "cell_type": "code",
   "execution_count": 0,
   "metadata": {
    "application/vnd.databricks.v1+cell": {
     "cellMetadata": {
      "byteLimit": 2048000,
      "rowLimit": 10000
     },
     "inputWidgets": {},
     "nuid": "460139fe-1660-406f-939f-86cd9e342be2",
     "showTitle": false,
     "tableResultSettingsMap": {},
     "title": ""
    }
   },
   "outputs": [],
   "source": [
    "catalog_use = dbutils.widgets.get(\"catalog_use\")\n",
    "schema_use = dbutils.widgets.get(\"schema_use\")"
   ]
  },
  {
   "cell_type": "code",
   "execution_count": 0,
   "metadata": {
    "application/vnd.databricks.v1+cell": {
     "cellMetadata": {
      "byteLimit": 2048000,
      "rowLimit": 10000
     },
     "inputWidgets": {},
     "nuid": "32b250c3-b40e-47ef-a4b5-cf666c8b89c2",
     "showTitle": false,
     "tableResultSettingsMap": {},
     "title": ""
    }
   },
   "outputs": [],
   "source": [
    "spark.sql(f\"USE {catalog_use}.{schema_use}\")"
   ]
  },
  {
   "cell_type": "code",
   "execution_count": 0,
   "metadata": {
    "application/vnd.databricks.v1+cell": {
     "cellMetadata": {
      "byteLimit": 2048000,
      "implicitDf": true,
      "rowLimit": 10000
     },
     "inputWidgets": {},
     "nuid": "61f73cd2-e26e-4162-b9b1-558f3bac7d91",
     "showTitle": false,
     "tableResultSettingsMap": {},
     "title": ""
    }
   },
   "outputs": [],
   "source": [
    "%sql\n",
    "SELECT current_catalog(), current_schema();"
   ]
  },
  {
   "cell_type": "code",
   "execution_count": 0,
   "metadata": {
    "application/vnd.databricks.v1+cell": {
     "cellMetadata": {
      "byteLimit": 2048000,
      "rowLimit": 10000
     },
     "inputWidgets": {},
     "nuid": "afbee5bb-c5fc-44a9-93f3-791648931350",
     "showTitle": false,
     "tableResultSettingsMap": {},
     "title": ""
    }
   },
   "outputs": [],
   "source": [
    "resource_types = spark.sql(\"SELECT DISTINCT resourceType FROM resource_schemas\").collect()\n",
    "resource_types = [row.resourceType for row in resource_types]\n",
    "resource_types"
   ]
  },
  {
   "cell_type": "code",
   "execution_count": 0,
   "metadata": {
    "application/vnd.databricks.v1+cell": {
     "cellMetadata": {
      "byteLimit": 2048000,
      "rowLimit": 10000
     },
     "inputWidgets": {},
     "nuid": "2f76871f-bf5a-4a8c-bd6f-7188234acea9",
     "showTitle": false,
     "tableResultSettingsMap": {},
     "title": ""
    }
   },
   "outputs": [],
   "source": [
    "from pyspark.sql.functions import col"
   ]
  },
  {
   "cell_type": "code",
   "execution_count": 0,
   "metadata": {
    "application/vnd.databricks.v1+cell": {
     "cellMetadata": {
      "byteLimit": 2048000,
      "rowLimit": 10000
     },
     "inputWidgets": {},
     "nuid": "364a718f-bd0c-4e98-b0c6-918f36322507",
     "showTitle": false,
     "tableResultSettingsMap": {},
     "title": ""
    }
   },
   "outputs": [],
   "source": [
    "resource_control = []\n",
    "for resource_type in resource_types:\n",
    "  resource_dict = {}\n",
    "  resource_dict[\"resource_type\"] = resource_type\n",
    "  current_columns = (\n",
    "    spark.sql(f\"DESCRIBE {resource_type}\")\n",
    "    .filter(~col(\"col_name\").isin(\"bundle_uuid\", f\"{resource_type}_url\"))\n",
    "    .select(\"col_name\")\n",
    "  )\n",
    "  latest_columns = spark.sql(f\"SELECT resource from resource_schemas where resourceType = '{resource_type}'\")\n",
    "  columns_diff = latest_columns.select(\"resource\").subtract(current_columns.select(col(\"col_name\").alias(\"resource\")))\n",
    "\n",
    "  if columns_diff.count() > 0:\n",
    "      resource_dict[\"full_refresh\"] = \"true\"\n",
    "  else:\n",
    "      resource_dict[\"full_refresh\"] = \"false\"\n",
    "  \n",
    "  resource_control.append(resource_dict)"
   ]
  },
  {
   "cell_type": "code",
   "execution_count": 0,
   "metadata": {
    "application/vnd.databricks.v1+cell": {
     "cellMetadata": {
      "byteLimit": 2048000,
      "rowLimit": 10000
     },
     "inputWidgets": {},
     "nuid": "031997b9-79b3-452b-b5b3-ffc972e339f3",
     "showTitle": false,
     "tableResultSettingsMap": {},
     "title": ""
    }
   },
   "outputs": [],
   "source": [
    "resource_control"
   ]
  },
  {
   "cell_type": "code",
   "execution_count": 0,
   "metadata": {
    "application/vnd.databricks.v1+cell": {
     "cellMetadata": {
      "byteLimit": 2048000,
      "rowLimit": 10000
     },
     "inputWidgets": {},
     "nuid": "a0fb26fe-3636-4866-9a25-7036abf01944",
     "showTitle": false,
     "tableResultSettingsMap": {},
     "title": ""
    }
   },
   "outputs": [],
   "source": [
    "dbutils.jobs.taskValues.set(\"resource_control\", resource_control)"
   ]
  }
 ],
 "metadata": {
  "application/vnd.databricks.v1+notebook": {
   "computePreferences": null,
   "dashboards": [],
   "environmentMetadata": {
    "base_environment": "",
    "client": "1"
   },
   "language": "python",
   "notebookMetadata": {
    "mostRecentlyExecutedCommandWithImplicitDF": {
     "commandId": 3530894374837981,
     "dataframes": [
      "_sqldf"
     ]
    },
    "pythonIndentUnit": 2
   },
   "notebookName": "04 - Set Resource Type Task Values",
   "widgets": {
    "catalog_use": {
     "currentValue": "redox",
     "nuid": "a05ae7db-636f-44aa-b627-555e95959fc5",
     "typedWidgetInfo": {
      "autoCreated": false,
      "defaultValue": "fhir_workshop",
      "label": null,
      "name": "catalog_use",
      "options": {
       "widgetDisplayType": "Text",
       "validationRegex": null
      },
      "parameterDataType": "String"
     },
     "widgetInfo": {
      "widgetType": "text",
      "defaultValue": "fhir_workshop",
      "label": null,
      "name": "catalog_use",
      "options": {
       "widgetType": "text",
       "autoCreated": null,
       "validationRegex": null
      }
     }
    },
    "schema_use": {
     "currentValue": "hls_webinar_fy25q4",
     "nuid": "5486f0b0-f781-42e5-a68e-c5fc98142213",
     "typedWidgetInfo": {
      "autoCreated": false,
      "defaultValue": "matthew_giglia",
      "label": null,
      "name": "schema_use",
      "options": {
       "widgetDisplayType": "Text",
       "validationRegex": null
      },
      "parameterDataType": "String"
     },
     "widgetInfo": {
      "widgetType": "text",
      "defaultValue": "matthew_giglia",
      "label": null,
      "name": "schema_use",
      "options": {
       "widgetType": "text",
       "autoCreated": null,
       "validationRegex": null
      }
     }
    }
   }
  },
  "language_info": {
   "name": "python"
  }
 },
 "nbformat": 4,
 "nbformat_minor": 0
}
