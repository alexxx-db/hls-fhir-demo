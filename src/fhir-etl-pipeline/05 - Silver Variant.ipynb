{
 "cells": [
  {
   "cell_type": "markdown",
   "metadata": {
    "application/vnd.databricks.v1+cell": {
     "cellMetadata": {},
     "inputWidgets": {},
     "nuid": "f65abe2b-746d-41a0-ba8b-a5b8d0d204af",
     "showTitle": false,
     "tableResultSettingsMap": {},
     "title": ""
    }
   },
   "source": [
    "_Note: This is a SQL scoped notebook, and therefore should be attached to a Serverless SQL warehouse for execution._  "
   ]
  },
  {
   "cell_type": "code",
   "execution_count": 0,
   "metadata": {
    "application/vnd.databricks.v1+cell": {
     "cellMetadata": {
      "byteLimit": 2048000,
      "rowLimit": 10000
     },
     "inputWidgets": {},
     "nuid": "96c0403f-dee0-4cfb-a8ce-f3a885c0f3e7",
     "showTitle": false,
     "tableResultSettingsMap": {},
     "title": ""
    }
   },
   "outputs": [],
   "source": [
    "DECLARE OR REPLACE VARIABLE catalog_use STRING DEFAULT 'fhir_workshop';\n",
    "DECLARE OR REPLACE VARIABLE schema_use STRING DEFAULT REPLACE(SPLIT(current_user(), '@')[0], '.', '_');\n",
    "DECLARE OR REPLACE VARIABLE resource_type STRING DEFAULT 'Encounter';\n",
    "DECLARE OR REPLACE VARIABLE full_refresh BOOLEAN DEFAULT FALSE;"
   ]
  },
  {
   "cell_type": "code",
   "execution_count": 0,
   "metadata": {
    "application/vnd.databricks.v1+cell": {
     "cellMetadata": {
      "byteLimit": 2048000,
      "rowLimit": 10000
     },
     "inputWidgets": {},
     "nuid": "44b18f5b-c57a-4f80-8e1c-867cfe975164",
     "showTitle": false,
     "tableResultSettingsMap": {},
     "title": ""
    }
   },
   "outputs": [],
   "source": [
    "SET VARIABLE catalog_use = :catalog_use; \n",
    "SET VARIABLE schema_use = :schema_use;\n",
    "SET VARIABLE resource_type = :resource_type; \n",
    "SET VARIABLE full_refresh = :full_refresh == 'true';\n",
    "\n",
    "SELECT resource_type, full_refresh;"
   ]
  },
  {
   "cell_type": "code",
   "execution_count": 0,
   "metadata": {
    "application/vnd.databricks.v1+cell": {
     "cellMetadata": {
      "byteLimit": 2048000,
      "rowLimit": 10000
     },
     "inputWidgets": {},
     "nuid": "e6801038-3e82-4639-80e9-f0215fe70a7a",
     "showTitle": false,
     "tableResultSettingsMap": {},
     "title": ""
    }
   },
   "outputs": [],
   "source": [
    "USE IDENTIFIER(catalog_use || \".\" || schema_use);"
   ]
  },
  {
   "cell_type": "code",
   "execution_count": 0,
   "metadata": {
    "application/vnd.databricks.v1+cell": {
     "cellMetadata": {
      "byteLimit": 2048000,
      "rowLimit": 10000
     },
     "inputWidgets": {},
     "nuid": "13b312e9-23dc-4eb8-8749-dd112ba5cba0",
     "showTitle": false,
     "tableResultSettingsMap": {},
     "title": ""
    }
   },
   "outputs": [],
   "source": [
    "SELECT current_catalog(), current_schema();"
   ]
  },
  {
   "cell_type": "code",
   "execution_count": 0,
   "metadata": {
    "application/vnd.databricks.v1+cell": {
     "cellMetadata": {
      "byteLimit": 2048000,
      "rowLimit": 10000
     },
     "inputWidgets": {},
     "nuid": "1c5a1723-ad30-47a9-bb9a-6200523e2803",
     "showTitle": false,
     "tableResultSettingsMap": {},
     "title": ""
    }
   },
   "outputs": [],
   "source": [
    "DECLARE OR REPLACE VARIABLE new_resource_keys BOOLEAN DEFAULT FALSE;\n",
    "\n",
    "SET VARIABLE new_resource_keys = (\n",
    "  WITH column_diff AS (\n",
    "    SELECT column_name \n",
    "    FROM resource_schemas \n",
    "    WHERE \n",
    "      resourceType = resource_type\n",
    "    EXCEPT\n",
    "    SELECT column_name \n",
    "    FROM IDENTIFIER(catalog_use || \".information_schema.columns\")\n",
    "    WHERE \n",
    "      table_catalog = catalog_use\n",
    "      AND table_schema = schema_use\n",
    "      AND table_name = lower(resource_type)\n",
    "      AND (column_name NOT LIKE 'bundle_uuid' AND column_name NOT LIKE resource_type)\n",
    "  )\n",
    "  SELECT count(*) > 0 FROM column_diff\n",
    ");\n",
    "\n",
    "SELECT new_resource_keys;"
   ]
  },
  {
   "cell_type": "code",
   "execution_count": 0,
   "metadata": {
    "application/vnd.databricks.v1+cell": {
     "cellMetadata": {
      "byteLimit": 2048000,
      "rowLimit": 10000
     },
     "inputWidgets": {},
     "nuid": "6f0bc9f0-04cf-4036-ad60-392a4431d66b",
     "showTitle": false,
     "tableResultSettingsMap": {},
     "title": ""
    }
   },
   "outputs": [],
   "source": [
    "DECLARE OR REPLACE VARIABLE full_refresh_stmnt STRING; \n",
    "\n",
    "SET VARIABLE full_refresh_stmnt = (\n",
    "  CASE when (full_refresh OR new_resource_keys) THEN \"DROP TABLE IF EXISTS \" || resource_type || \";\" ELSE \"SELECT 'Performing standard refresh of streaming table \" || resource_type || \"' AS message;\" END\n",
    ");\n",
    "\n",
    "SELECT full_refresh_stmnt;"
   ]
  },
  {
   "cell_type": "code",
   "execution_count": 0,
   "metadata": {
    "application/vnd.databricks.v1+cell": {
     "cellMetadata": {
      "byteLimit": 2048000,
      "rowLimit": 10000
     },
     "inputWidgets": {},
     "nuid": "1c739583-b0cc-4f01-b59e-23a44d9fb9b1",
     "showTitle": false,
     "tableResultSettingsMap": {},
     "title": ""
    }
   },
   "outputs": [],
   "source": [
    "EXECUTE IMMEDIATE full_refresh_stmnt;"
   ]
  },
  {
   "cell_type": "code",
   "execution_count": 0,
   "metadata": {
    "application/vnd.databricks.v1+cell": {
     "cellMetadata": {
      "byteLimit": 2048000,
      "rowLimit": 10000
     },
     "inputWidgets": {},
     "nuid": "3c3ea425-83e7-4ba5-bb8d-b2d9d7ccde93",
     "showTitle": false,
     "tableResultSettingsMap": {},
     "title": ""
    }
   },
   "outputs": [],
   "source": [
    "DECLARE OR REPLACE VARIABLE resource_keys STRING;\n",
    "\n",
    "-- SET VARIABLE resource_keys = (\n",
    "--   SELECT \n",
    "--     array_join(collect_list(DISTINCT column_name), \"', '\")\n",
    "--   FROM \n",
    "--     resource_schemas\n",
    "--   WHERE \n",
    "--     resourceType = resource_type\n",
    "-- )\n",
    "\n",
    "SET VARIABLE resource_keys = (\n",
    "  WITH existing_colums as (\n",
    "    SELECT \n",
    "      resource_type as resourceType\n",
    "      ,column_name\n",
    "      ,ordinal_position\n",
    "    FROM \n",
    "      IDENTIFIER(catalog_use || \".information_schema.columns\")\n",
    "    WHERE \n",
    "      table_catalog = catalog_use\n",
    "      AND table_schema = schema_use\n",
    "      AND table_name = lower(resource_type)\n",
    "    ORDER BY \n",
    "      ordinal_position\n",
    "  )\n",
    "  ,ordered_columns AS (\n",
    "    SELECT\n",
    "      t1.resourceType,\n",
    "      t1.column_name,\n",
    "      t2.ordinal_position\n",
    "    FROM\n",
    "      resource_schemas t1\n",
    "      LEFT OUTER JOIN existing_colums t2 ON t1.resourceType = t2.resourceType AND t1.column_name = t2.column_name\n",
    "    WHERE\n",
    "      t1.resourceType = resource_type\n",
    "    ORDER BY\n",
    "      t2.ordinal_position\n",
    "  ),\n",
    "  ordered_values AS (\n",
    "    SELECT\n",
    "      collect_list(column_name) OVER (PARTITION BY resourceType ORDER BY ordinal_position) AS ordered_values,\n",
    "      row_number() OVER (PARTITION BY resourceType ORDER BY ordinal_position DESC) AS row_num\n",
    "    FROM\n",
    "      ordered_columns\n",
    "  )\n",
    "  SELECT\n",
    "    array_join(ordered_values, \"', '\")\n",
    "  FROM\n",
    "    ordered_values\n",
    "  WHERE\n",
    "    row_num = 1\n",
    ");\n",
    "\n",
    "select resource_keys;"
   ]
  },
  {
   "cell_type": "code",
   "execution_count": 0,
   "metadata": {
    "application/vnd.databricks.v1+cell": {
     "cellMetadata": {
      "byteLimit": 2048000,
      "rowLimit": 10000
     },
     "inputWidgets": {},
     "nuid": "64815750-9836-410b-8e7a-c88907fcfd03",
     "showTitle": false,
     "tableResultSettingsMap": {},
     "title": ""
    }
   },
   "outputs": [],
   "source": [
    "DECLARE OR REPLACE VARIABLE resource_stmnt STRING;\n",
    "\n",
    "SET VARIABLE resource_stmnt = \"\n",
    "CREATE OR REFRESH STREAMING TABLE \" || resource_type || \"\n",
    "COMMENT 'Parsed FHIR \" || resource_type || \" Records'\n",
    "TBLPROPERTIES (\n",
    "  'delta.enableChangeDataFeed' = 'true'\n",
    "  ,'delta.enableDeletionVectors' = 'true'\n",
    "  ,'delta.enableRowTracking' = 'true'\n",
    "  ,'quality' = 'bronze'\n",
    "  ,'pipelines.channel' = 'PREVIEW'\n",
    "  ,'delta.feature.variantType-preview' = 'supported'\n",
    ")\n",
    "AS SELECT\n",
    "  *\n",
    "FROM (\n",
    "  SELECT\n",
    "    bundle_uuid\n",
    "    ,fullUrl as \"|| resource_type ||\"_url\n",
    "    ,key\n",
    "    ,value\n",
    "  FROM \n",
    "    STREAM(resources_exploded)\n",
    "  WHERE \n",
    "    resourceType = '\"|| resource_type ||\"')\n",
    "  PIVOT (\n",
    "    first(value) FOR key IN ('\" || resource_keys || \"')\n",
    "  );\n",
    "\";\n",
    "\n",
    "SELECT resource_stmnt;\n"
   ]
  },
  {
   "cell_type": "code",
   "execution_count": 0,
   "metadata": {
    "application/vnd.databricks.v1+cell": {
     "cellMetadata": {
      "byteLimit": 2048000,
      "rowLimit": 10000
     },
     "inputWidgets": {},
     "nuid": "b135c732-762a-491d-b61a-8a623a04b727",
     "showTitle": false,
     "tableResultSettingsMap": {},
     "title": ""
    }
   },
   "outputs": [],
   "source": [
    "EXECUTE IMMEDIATE resource_stmnt;"
   ]
  }
 ],
 "metadata": {
  "application/vnd.databricks.v1+notebook": {
   "computePreferences": null,
   "dashboards": [],
   "environmentMetadata": {
    "base_environment": "",
    "environment_version": "1"
   },
   "language": "sql",
   "notebookMetadata": {
    "pythonIndentUnit": 2
   },
   "notebookName": "05 - Silver Variant",
   "widgets": {
    "catalog_use": {
     "currentValue": "redox",
     "nuid": "107444f7-66fb-4f46-bf90-3acc4fa5fc1a",
     "typedWidgetInfo": {
      "autoCreated": false,
      "defaultValue": "fhir_workshop",
      "label": "",
      "name": "catalog_use",
      "options": {
       "widgetDisplayType": "Text",
       "validationRegex": null
      },
      "parameterDataType": "String"
     },
     "widgetInfo": {
      "widgetType": "text",
      "defaultValue": "fhir_workshop",
      "label": "",
      "name": "catalog_use",
      "options": {
       "widgetType": "text",
       "autoCreated": false,
       "validationRegex": null
      }
     }
    },
    "full_refresh": {
     "currentValue": "false",
     "nuid": "f1b24666-3e95-412c-a2fc-9e6034f92200",
     "typedWidgetInfo": {
      "autoCreated": false,
      "defaultValue": "false",
      "label": "",
      "name": "full_refresh",
      "options": {
       "widgetDisplayType": "Text",
       "validationRegex": null
      },
      "parameterDataType": "String"
     },
     "widgetInfo": {
      "widgetType": "text",
      "defaultValue": "false",
      "label": "",
      "name": "full_refresh",
      "options": {
       "widgetType": "text",
       "autoCreated": false,
       "validationRegex": null
      }
     }
    },
    "resource_type": {
     "currentValue": "Practitioner",
     "nuid": "3e3d27ae-2530-446c-b1ed-af5456429656",
     "typedWidgetInfo": {
      "autoCreated": false,
      "defaultValue": "Encounter",
      "label": "",
      "name": "resource_type",
      "options": {
       "widgetDisplayType": "Text",
       "validationRegex": null
      },
      "parameterDataType": "String"
     },
     "widgetInfo": {
      "widgetType": "text",
      "defaultValue": "Encounter",
      "label": "",
      "name": "resource_type",
      "options": {
       "widgetType": "text",
       "autoCreated": false,
       "validationRegex": null
      }
     }
    },
    "schema_use": {
     "currentValue": "hls_webinar_fy25q4",
     "nuid": "e1ffda6d-7078-4676-909e-85106fbc0481",
     "typedWidgetInfo": {
      "autoCreated": true,
      "defaultValue": "",
      "label": null,
      "name": "schema_use",
      "options": {
       "widgetDisplayType": "Text",
       "validationRegex": null
      },
      "parameterDataType": "String"
     },
     "widgetInfo": {
      "widgetType": "text",
      "defaultValue": "",
      "label": null,
      "name": "schema_use",
      "options": {
       "widgetType": "text",
       "autoCreated": true,
       "validationRegex": null
      }
     }
    }
   }
  },
  "language_info": {
   "name": "sql"
  }
 },
 "nbformat": 4,
 "nbformat_minor": 0
}
