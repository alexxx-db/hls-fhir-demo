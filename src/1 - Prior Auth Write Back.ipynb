{
 "cells": [
  {
   "cell_type": "code",
   "execution_count": 0,
   "metadata": {
    "application/vnd.databricks.v1+cell": {
     "cellMetadata": {
      "byteLimit": 2048000,
      "rowLimit": 10000
     },
     "inputWidgets": {},
     "nuid": "56e88cdd-75f9-4e22-9449-27da68b2422c",
     "showTitle": true,
     "tableResultSettingsMap": {},
     "title": "pip Install dbignite in the Notebook"
    }
   },
   "outputs": [],
   "source": [
    "%pip install git+https://github.com/databrickslabs/dbignite.git"
   ]
  },
  {
   "cell_type": "code",
   "execution_count": 0,
   "metadata": {
    "application/vnd.databricks.v1+cell": {
     "cellMetadata": {
      "byteLimit": 2048000,
      "rowLimit": 10000
     },
     "inputWidgets": {},
     "nuid": "7fc7a4fc-9cbf-495c-816d-5ccba654fc23",
     "showTitle": true,
     "tableResultSettingsMap": {},
     "title": "pip Install redox-ehr-api in the Notebook"
    }
   },
   "outputs": [],
   "source": [
    "# %pip install git+https://github.com/databricks-industry-solutions/redox-ehr-api"
   ]
  },
  {
   "cell_type": "markdown",
   "metadata": {
    "application/vnd.databricks.v1+cell": {
     "cellMetadata": {
      "byteLimit": 2048000,
      "rowLimit": 10000
     },
     "inputWidgets": {},
     "nuid": "91ee9781-68da-46cc-bc0a-5bce1220f414",
     "showTitle": false,
     "tableResultSettingsMap": {},
     "title": ""
    }
   },
   "source": [
    "# Databricks Health & Life Sciences\n",
    "### Webinar FY25 Q4\n",
    "## Prior Authorization Review with DBSQL, Variant, dbignite & redox-ehr-api\n",
    "\n",
    "*** "
   ]
  },
  {
   "cell_type": "markdown",
   "metadata": {
    "application/vnd.databricks.v1+cell": {
     "cellMetadata": {
      "byteLimit": 2048000,
      "rowLimit": 10000
     },
     "inputWidgets": {},
     "nuid": "cd5190bf-7e56-46d7-9d49-8c14a4018f4d",
     "showTitle": false,
     "tableResultSettingsMap": {},
     "title": ""
    }
   },
   "source": [
    "## Write Back Claim Response\n",
    "***"
   ]
  },
  {
   "cell_type": "code",
   "execution_count": 0,
   "metadata": {
    "application/vnd.databricks.v1+cell": {
     "cellMetadata": {
      "byteLimit": 2048000,
      "implicitDf": true,
      "rowLimit": 10000
     },
     "inputWidgets": {},
     "nuid": "ebd1bb71-3b66-4aee-8ea2-20f66e982d65",
     "showTitle": true,
     "tableResultSettingsMap": {},
     "title": "Set the Catalog and Schema"
    }
   },
   "outputs": [],
   "source": [
    "%sql\n",
    "USE redox.hls_webinar_fy25q4;"
   ]
  },
  {
   "cell_type": "code",
   "execution_count": 0,
   "metadata": {
    "application/vnd.databricks.v1+cell": {
     "cellMetadata": {
      "byteLimit": 2048000,
      "rowLimit": 10000
     },
     "inputWidgets": {},
     "nuid": "2999a105-233e-4cf9-9646-4cca38d2c066",
     "showTitle": true,
     "tableResultSettingsMap": {},
     "title": "Load the Prior Auth Request as Spark Dataframe"
    }
   },
   "outputs": [],
   "source": [
    "df = spark.table(\"prior_auth_request_bundle\")\n",
    "display(df)"
   ]
  },
  {
   "cell_type": "code",
   "execution_count": 0,
   "metadata": {
    "application/vnd.databricks.v1+cell": {
     "cellMetadata": {
      "byteLimit": 2048000,
      "rowLimit": 10000
     },
     "inputWidgets": {},
     "nuid": "11ac7277-02ff-4370-ac2b-ed56e07ac15a",
     "showTitle": true,
     "tableResultSettingsMap": {},
     "title": "Create an array of the resources available in the bundle"
    }
   },
   "outputs": [],
   "source": [
    "resources = [\"Claim\", \"Patient\", \"Practitioner\", \"Organization\", \"Coverage\", \"RelatedPerson\", \"ServiceRequest\"]\n",
    "resources"
   ]
  },
  {
   "cell_type": "code",
   "execution_count": 0,
   "metadata": {
    "application/vnd.databricks.v1+cell": {
     "cellMetadata": {
      "byteLimit": 2048000,
      "rowLimit": 10000
     },
     "inputWidgets": {},
     "nuid": "2241ed5b-c6b8-421d-9e4d-2ef69d00023f",
     "showTitle": true,
     "tableResultSettingsMap": {},
     "title": "Determine JSON Schemas of the Variant Objects"
    }
   },
   "outputs": [],
   "source": [
    "from pyspark.sql.functions import schema_of_variant, schema_of_variant_agg, variant_get\n",
    "from pyspark.sql.functions import col, regexp_replace\n",
    "\n",
    "schemas = (\n",
    "  df\n",
    "  .groupBy(col(\"bundle_uuid\"))\n",
    "  .agg(*[regexp_replace(schema_of_variant_agg(col(r)), 'OBJECT', 'STRUCT')\n",
    "    .alias(f\"{r}_schema\") for r in resources])\n",
    ")\n",
    "\n",
    "schema_dict = {f\"{r}\": row[f\"{r}_schema\"] for row in schemas.collect() for r in resources}\n",
    "\n",
    "# example for Claim\n",
    "schema_dict.get(\"Claim\")"
   ]
  },
  {
   "cell_type": "code",
   "execution_count": 0,
   "metadata": {
    "application/vnd.databricks.v1+cell": {
     "cellMetadata": {
      "byteLimit": 2048000,
      "rowLimit": 10000
     },
     "inputWidgets": {},
     "nuid": "78ff66ff-e5b0-44a8-abd6-a7332386069a",
     "showTitle": true,
     "tableResultSettingsMap": {},
     "title": "Convert the Variant Columns to Fully Parsed Structs"
    }
   },
   "outputs": [],
   "source": [
    "from pyspark.sql.functions import cast, to_json, from_json\n",
    "\n",
    "df_transformed = (\n",
    "  df.select(\n",
    "    col(\"bundle_uuid\")\n",
    "    ,*[from_json(to_json(col(r)), schema_dict.get(r)).alias(r) for r in resources]\n",
    "  )\n",
    ")\n",
    "\n",
    "display(df_transformed)"
   ]
  },
  {
   "cell_type": "code",
   "execution_count": 0,
   "metadata": {
    "application/vnd.databricks.v1+cell": {
     "cellMetadata": {
      "byteLimit": 2048000,
      "rowLimit": 10000
     },
     "inputWidgets": {},
     "nuid": "39ac32b9-ed88-4020-a8ba-3222c1be146d",
     "showTitle": true,
     "tableResultSettingsMap": {},
     "title": "Join the Transformed DF With Data From Your Utilization Management System"
    }
   },
   "outputs": [],
   "source": [
    "from pyspark.sql.functions import lit, struct, array, expr, col, concat\n",
    "\n",
    "claimResponse = (\n",
    "  df_transformed\n",
    "  .withColumn(\"id\", expr(\"uuid()\"))\n",
    "  .withColumn(\"claimResponse_id\", concat(lit(\"/databricks/mgiglia/\"), col(\"id\")))\n",
    "  .withColumn(\"claimResponse_status\", lit(\"active\"))\n",
    "  .withColumn(\"claimResponse_use\", lit(\"preauthorization\"))\n",
    "  .withColumn(\"claimResponse_type_code\", col(\"Claim\")[0].resource.type.coding[0].code)\n",
    "  .withColumn(\"claimResponse_type_system\", lit(\"http://terminology.hl7.org/CodeSystem/claim-type\"))\n",
    "  .withColumn(\"adjudication_system\", lit(\"http://terminology.hl7.org/CodeSystem/adjudication\"))\n",
    "  .withColumn(\"adjudication_code\", lit(\"approved\"))\n",
    "  .withColumn(\"claimResponse_text\", lit(\"Requested preauthorization has been approved.\"))\n",
    ")  \n",
    "\n",
    "display(claimResponse)"
   ]
  },
  {
   "cell_type": "code",
   "execution_count": 0,
   "metadata": {
    "application/vnd.databricks.v1+cell": {
     "cellMetadata": {
      "byteLimit": 2048000,
      "rowLimit": 10000
     },
     "inputWidgets": {},
     "nuid": "a65c3e84-e0dc-4ff6-966d-9166ffdad5bd",
     "showTitle": false,
     "tableResultSettingsMap": {},
     "title": ""
    }
   },
   "outputs": [],
   "source": [
    "from dbignite.writer.bundler import *\n",
    "from dbignite.writer.fhir_encoder import *"
   ]
  },
  {
   "cell_type": "code",
   "execution_count": 0,
   "metadata": {
    "application/vnd.databricks.v1+cell": {
     "cellMetadata": {
      "byteLimit": 2048000,
      "rowLimit": 10000
     },
     "inputWidgets": {},
     "nuid": "e6ee1df9-ba4c-40d4-9dd8-a9110173bb93",
     "showTitle": false,
     "tableResultSettingsMap": {},
     "title": ""
    }
   },
   "outputs": [],
   "source": [
    "maps = [\n",
    "  Mapping('claimResponse_id', 'ClaimResponse.id')\n",
    "  ,Mapping('claimResponse_status', 'ClaimResponse.status')\n",
    "  ,Mapping('claimResponse_use', 'ClaimResponse.use')\n",
    "  ,Mapping('claimResponse_type_code', 'ClaimResponse.type.coding.code')\n",
    "  ,Mapping('claimResponse_type_system', 'ClaimResponse.type.coding.system')\n",
    "  ,Mapping('adjudication_system', 'ClaimResponse.item.adjudication.category.coding.system')\n",
    "  ,Mapping('adjudication_code', 'ClaimResponse.item.adjudication.category.coding.code')\n",
    "  ,Mapping('claimResponse_text', 'ClaimResponse.text')\n",
    "]"
   ]
  },
  {
   "cell_type": "code",
   "execution_count": 0,
   "metadata": {
    "application/vnd.databricks.v1+cell": {
     "cellMetadata": {
      "byteLimit": 2048000,
      "rowLimit": 10000
     },
     "inputWidgets": {},
     "nuid": "466b19ae-e719-44d9-8745-81b4a8cb3519",
     "showTitle": false,
     "tableResultSettingsMap": {},
     "title": ""
    }
   },
   "outputs": [],
   "source": [
    "# import json\n",
    "# from pyspark.sql.functions import udf, collect_list, struct, to_json\n",
    "# from pyspark.sql.types import StringType, StructType, StructField, ArrayType\n",
    "\n",
    "# class BundleServerless():\n",
    "#     def __init__(self, mm):\n",
    "#         self.mm = mm\n",
    "\n",
    "#     def df_to_fhir(self, df):\n",
    "#         return self._encode_to_json(self._encode_df(df))\n",
    "\n",
    "#     def _encode_df(self, df):\n",
    "#         encode_udf = udf(lambda row: [self.mm.encode(row, resourceType) for resourceType in self.mm.fhir_resource_list()], \n",
    "#                          ArrayType(StructType([StructField(\"resource\", StringType())])))\n",
    "        \n",
    "#         return df.withColumn(\"encoded\", encode_udf(struct(*df.columns)))\n",
    "\n",
    "#     def _encode_to_json(self, df):\n",
    "#         resource_to_fhir_udf = udf(self._resource_to_fhir, StringType())\n",
    "        \n",
    "#         return (df\n",
    "#             .select(collect_list(resource_to_fhir_udf(\"encoded\")).alias(\"entry\"))\n",
    "#             .withColumn(\"resourceType\", lit(\"Bundle\"))\n",
    "#             .select(to_json(struct(\"resourceType\", \"entry\")).alias(\"bundle\"))\n",
    "#         )\n",
    "\n",
    "#     def _resource_to_fhir(self, resource):\n",
    "#         resource_dict = json.loads(resource)\n",
    "#         resource_type = list(resource_dict.keys())[0]\n",
    "#         return json.dumps({\n",
    "#             'resource': {\n",
    "#                 'resourceType': resource_type,\n",
    "#                 **resource_dict[resource_type]\n",
    "#             }\n",
    "#         })\n"
   ]
  },
  {
   "cell_type": "code",
   "execution_count": 0,
   "metadata": {
    "application/vnd.databricks.v1+cell": {
     "cellMetadata": {
      "byteLimit": 2048000,
      "rowLimit": 10000
     },
     "inputWidgets": {},
     "nuid": "f6a7b19a-9133-4145-bb30-92ca0b77533e",
     "showTitle": false,
     "tableResultSettingsMap": {},
     "title": ""
    }
   },
   "outputs": [],
   "source": [
    "# Instance of the encoder & bundle writer\n",
    "#  - Encoder transforms data to valid FHIR format in Spark\n",
    "#  - bundler maps data to json format\n",
    "m = MappingManager(maps, claimResponse.schema)\n",
    "b = Bundle(m)\n",
    "result = b.df_to_fhir(claimResponse)"
   ]
  },
  {
   "cell_type": "code",
   "execution_count": 0,
   "metadata": {
    "application/vnd.databricks.v1+cell": {
     "cellMetadata": {
      "byteLimit": 2048000,
      "rowLimit": 10000
     },
     "inputWidgets": {},
     "nuid": "8d5cb917-f026-4241-a7af-5dbf7e2f0aaf",
     "showTitle": false,
     "tableResultSettingsMap": {},
     "title": ""
    }
   },
   "outputs": [],
   "source": [
    "print('\\n'.join([str(x) for x in \n",
    "       result.map(lambda x: json.loads(x)).map(lambda x: json.dumps(x, indent=4)).take(10)]))"
   ]
  },
  {
   "cell_type": "code",
   "execution_count": 0,
   "metadata": {
    "application/vnd.databricks.v1+cell": {
     "cellMetadata": {
      "byteLimit": 2048000,
      "rowLimit": 10000
     },
     "inputWidgets": {},
     "nuid": "fcb658fb-b1f7-449e-ae80-6ba9e0653a05",
     "showTitle": false,
     "tableResultSettingsMap": {},
     "title": ""
    }
   },
   "outputs": [],
   "source": []
  },
  {
   "cell_type": "code",
   "execution_count": 0,
   "metadata": {
    "application/vnd.databricks.v1+cell": {
     "cellMetadata": {
      "byteLimit": 2048000,
      "rowLimit": 10000
     },
     "inputWidgets": {},
     "nuid": "9d80edb0-e140-4f1b-9f8f-52e4746737e1",
     "showTitle": false,
     "tableResultSettingsMap": {},
     "title": ""
    }
   },
   "outputs": [],
   "source": [
    "import json\n",
    "\n",
    "# Convert the DataFrame to JSON strings\n",
    "result_json = result.selectExpr(\"to_json(struct(*)) as json_string\")\n",
    "\n",
    "# Collect the JSON strings\n",
    "json_strings = result_json.collect()\n",
    "\n",
    "# Pretty print the JSON strings\n",
    "for row in json_strings:\n",
    "    json_string = row.json_string\n",
    "    parsed_json = json.loads(json_string)\n",
    "    print(json.dumps(parsed_json, indent=4))"
   ]
  },
  {
   "cell_type": "code",
   "execution_count": 0,
   "metadata": {
    "application/vnd.databricks.v1+cell": {
     "cellMetadata": {
      "byteLimit": 2048000,
      "rowLimit": 10000
     },
     "inputWidgets": {},
     "nuid": "32c1be88-9a7d-42ca-9018-bc88e69baf3a",
     "showTitle": false,
     "tableResultSettingsMap": {},
     "title": ""
    }
   },
   "outputs": [],
   "source": [
    "display(result)"
   ]
  },
  {
   "cell_type": "code",
   "execution_count": 0,
   "metadata": {
    "application/vnd.databricks.v1+cell": {
     "cellMetadata": {},
     "inputWidgets": {},
     "nuid": "0b88870d-45a1-4b1b-ba4c-76798c76b8f5",
     "showTitle": false,
     "tableResultSettingsMap": {},
     "title": ""
    }
   },
   "outputs": [],
   "source": [
    "# Create a dummy Dataframe with 2 rows of data\n",
    "data = spark.createDataFrame([('CLM123', 'PAT01', 'COH123'), ('CLM345', 'PAT02', 'COH123')],['CLAIM_ID', 'PATIENT_ID', 'PATIENT_COHORT_NUM'])\n",
    "\n",
    "# Define a mapping from DF columns to FHIR Schema, including a hardcoded value for Patient.identifier.system\n",
    "maps = [Mapping('CLAIM_ID', 'Claim.id'), \n",
    "\t\tMapping('PATIENT_COHORT_NUM', 'Patient.identifier.value'),\n",
    "    Mapping('<url of a hardcoded system reference>', 'Patient.identifier.system', True),\n",
    "\t\tMapping('PATIENT_ID', 'Patient.id')]\n",
    "\n",
    "# Instance of the encoder & bundle writer\n",
    "#  - Encoder transforms data to valid FHIR format in Spark\n",
    "#  - bundler maps data to json format\n",
    "m = MappingManager(maps, data.schema)\n",
    "b = Bundle(m)\n",
    "result = b.df_to_fhir(data)\n",
    "\n",
    "#Pretty printing the resulting RDD\n",
    "import json\n",
    "result.map(lambda x: json.loads(x)).foreach(lambda x: print(json.dumps(x, indent=4)))"
   ]
  },
  {
   "cell_type": "code",
   "execution_count": 0,
   "metadata": {
    "application/vnd.databricks.v1+cell": {
     "cellMetadata": {},
     "inputWidgets": {},
     "nuid": "ae871ebc-deda-4be4-9b55-89e9c9eb374f",
     "showTitle": false,
     "tableResultSettingsMap": {},
     "title": ""
    }
   },
   "outputs": [],
   "source": [
    "   \n",
    "    [\"resourceType\": \"ClaimResponse\",\n",
    "        \"id\": \"RedoxPAClaimResponseExample\",\n",
    "        \"status\": \"active\",\n",
    "        \"use\": \"preauthorization\",\n",
    "        \"item\": [\n",
    "          {\n",
    "            \"adjudication\": [\n",
    "              {\n",
    "                \"category\": {\n",
    "                  \"coding\": [\n",
    "                    {\n",
    "                      \"system\": \"http://terminology.hl7.org/CodeSystem/adjudication\",\n",
    "                      \"code\": \"submitted\"\n",
    "                    }\n",
    "                  ]\n",
    "                },\n",
    "                \"extension\": [\n",
    "                  {\n",
    "                    \"extension\": [\n",
    "                      {\n",
    "                        \"url\": \"http://hl7.org/fhir/us/davinci-pas/StructureDefinition/extension-reviewActionCode\",\n",
    "                        \"valueCodeableConcept\": {\n",
    "                          \"coding\": [\n",
    "                            {\n",
    "                              \"code\": \"A1\",\n",
    "                              \"system\": \"https://codesystem.x12.org/005010/306\",\n",
    "                              \"display\": \"Certified in total\"\n",
    "                            }\n",
    "                          ]\n",
    "                        }\n",
    "                      },\n",
    "                      {\n",
    "                        \"url\": \"number\",\n",
    "                        \"valueString\": \"AUTH1001\"\n",
    "                      }\n",
    "                    ],\n",
    "                    \"url\": \"http://hl7.org/fhir/us/davinci-pas/StructureDefinition/extension-reviewAction\"\n",
    "                  }\n",
    "                ]\n",
    "              }\n",
    "            ],\n",
    "            \"extension\": [\n",
    "              {\n",
    "                \"url\": \"http://hl7.org/fhir/us/davinci-pas/StructureDefinition/extension-administrationReferenceNumber\",\n",
    "                \"valueString\": \"REF456\"\n",
    "              },\n",
    "              {\n",
    "                \"url\": \"http://hl7.org/fhir/us/davinci-pas/StructureDefinition/extension-itemPreAuthIssueDate\",\n",
    "                \"valueDate\": \"2021-08-23\"\n",
    "              },\n",
    "              {\n",
    "                \"url\": \"http://hl7.org/fhir/us/davinci-pas/StructureDefinition/extension-itemPreAuthPeriod\",\n",
    "                \"valuePeriod\": {\n",
    "                  \"start\": \"2021-08-23\",\n",
    "                  \"end\": \"2021-09-23\"\n",
    "                }\n",
    "              },\n",
    "              {\n",
    "                \"url\": \"http://hl7.org/fhir/us/davinci-pas/StructureDefinition/extension-itemTraceNumber\",\n",
    "                \"valueIdentifier\": {\n",
    "                  \"value\": \"23462346\"\n",
    "                }\n",
    "              },\n",
    "              {\n",
    "                \"extension\": [\n",
    "                  {\n",
    "                    \"url\": \"productOrServiceCode\",\n",
    "                    \"valueCodeableConcept\": {\n",
    "                      \"coding\": [\n",
    "                        {\n",
    "                          \"code\": \"93451\",\n",
    "                          \"system\": \"http://www.ama-assn.org/go/cpt\"\n",
    "                        }\n",
    "                      ],\n",
    "                      \"text\": \"Right heart catheterization\"\n",
    "                    }\n",
    "                  },\n",
    "                  {\n",
    "                    \"url\": \"quantity\",\n",
    "                    \"valueQuantity\": {\n",
    "                      \"value\": 1\n",
    "                    }\n",
    "                  },\n",
    "                  {\n",
    "                    \"url\": \"unitPrice\",\n",
    "                    \"valueMoney\": {\n",
    "                      \"value\": 4966,\n",
    "                      \"currency\": \"USD\"\n",
    "                    }\n",
    "                  }\n",
    "                ],\n",
    "                \"url\": \"http://hl7.org/fhir/us/davinci-pas/StructureDefinition/extension-itemAuthorizedDetail\"\n",
    "              }\n",
    "            ],\n",
    "            \"itemSequence\": 1\n",
    "          }\n",
    "        ],\n",
    "        \"type\": {\n",
    "          \"coding\": [\n",
    "            {\n",
    "              \"code\": \"professional\",\n",
    "              \"system\": \"http://terminology.hl7.org/CodeSystem/claim-type\"\n",
    "            }\n",
    "          ]\n",
    "        },\n",
    "        \"patient\": {\n",
    "          \"reference\": \"Patient/RedoxPABeneficiaryExample\"\n",
    "        },\n",
    "        \"created\": \"2021-08-23T16:35:54.648Z\",\n",
    "        \"insurer\": {\n",
    "          \"reference\": \"Organization/RedoxPAInsurerOrganizationExample\"\n",
    "        },\n",
    "        \"requestor\": {\n",
    "          \"reference\": \"Organization/RedoxPARequestorOrganizationExample\"\n",
    "        },\n",
    "        \"request\": {\n",
    "          \"reference\": \"Claim/RedoxPAServiceClaimExample\",\n",
    "          \"identifier\": {\n",
    "            \"type\": {\n",
    "              \"coding\": [\n",
    "                {\n",
    "                  \"code\": \"ClaimID\"\n",
    "                }\n",
    "              ]\n",
    "            },\n",
    "            \"value\": \"urn:uuid:97b8d6d0-ac3d-411a-b32a-e1d237aceb6a\"\n",
    "          }\n",
    "        },\n",
    "        \"outcome\": \"complete\",\n",
    "        \"processNote\": [\n",
    "          {\n",
    "            \"text\": \"Covered under extended benefits\"\n",
    "          }\n",
    "        ]\n",
    "      }\n",
    "    }"
   ]
  }
 ],
 "metadata": {
  "application/vnd.databricks.v1+notebook": {
   "computePreferences": {
    "hardware": {
     "accelerator": null,
     "gpuPoolId": null,
     "memory": null
    }
   },
   "dashboards": [],
   "environmentMetadata": {
    "base_environment": "",
    "client": "2",
    "dependencies": [
     "git+https://github.com/databrickslabs/dbignite.git"
    ]
   },
   "language": "python",
   "notebookMetadata": {
    "mostRecentlyExecutedCommandWithImplicitDF": {
     "commandId": 3530894374849291,
     "dataframes": [
      "_sqldf"
     ]
    },
    "pythonIndentUnit": 2
   },
   "notebookName": "1 - Prior Auth Write Back",
   "widgets": {}
  },
  "language_info": {
   "name": "python"
  }
 },
 "nbformat": 4,
 "nbformat_minor": 0
}
