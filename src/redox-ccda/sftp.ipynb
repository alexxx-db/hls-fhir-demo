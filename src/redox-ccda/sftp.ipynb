{
 "cells": [
  {
   "cell_type": "code",
   "execution_count": 0,
   "metadata": {
    "application/vnd.databricks.v1+cell": {
     "cellMetadata": {},
     "inputWidgets": {},
     "nuid": "b693967e-e4b6-4148-95c1-d79c176dc0a8",
     "showTitle": false,
     "tableResultSettingsMap": {},
     "title": ""
    }
   },
   "outputs": [],
   "source": [
    "from pysftp import Connection, CnOpts\n",
    "\n",
    "# Define SFTP connection parameters\n",
    "sftp_host = \"your_sftp_host\"\n",
    "sftp_port = 22\n",
    "sftp_username = \"your_sftp_username\"\n",
    "sftp_private_key = \"/path/to/your/private/key\"\n",
    "local_file_path = \"/path/to/your/local/file\"\n",
    "remote_file_path = \"/path/to/your/remote/file\"\n",
    "\n",
    "# Set up connection options\n",
    "cnopts = CnOpts()\n",
    "cnopts.hostkeys = None  # Disable host key checking\n",
    "\n",
    "# Establish SFTP connection and upload file\n",
    "with Connection(host=sftp_host, port=sftp_port, username=sftp_username, private_key=sftp_private_key, cnopts=cnopts) as sftp:\n",
    "    sftp.put(local_file_path, remote_file_path)"
   ]
  }
 ],
 "metadata": {
  "application/vnd.databricks.v1+notebook": {
   "computePreferences": null,
   "dashboards": [],
   "environmentMetadata": {
    "base_environment": "",
    "environment_version": "2"
   },
   "inputWidgetPreferences": null,
   "language": "python",
   "notebookMetadata": {
    "pythonIndentUnit": 2
   },
   "notebookName": "sftp",
   "widgets": {}
  },
  "language_info": {
   "name": "python"
  }
 },
 "nbformat": 4,
 "nbformat_minor": 0
}
