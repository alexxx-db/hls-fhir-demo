{
 "cells": [
  {
   "cell_type": "markdown",
   "metadata": {
    "application/vnd.databricks.v1+cell": {
     "cellMetadata": {
      "batchId": -3530894374845834,
      "byteLimit": 2048000,
      "rowLimit": 10000
     },
     "inputWidgets": {},
     "nuid": "58cd7439-e344-48d6-9401-43202cb1f19c",
     "showTitle": false,
     "tableResultSettingsMap": {},
     "title": ""
    }
   },
   "source": [
    "# Databricks Health & Life Sciences\n",
    "### Webinar FY25 Q4\n",
    "## Prior Authorization Review with DBSQL, Variant, dbignite & redox-ehr-api\n",
    "\n",
    "*** "
   ]
  },
  {
   "cell_type": "markdown",
   "metadata": {
    "application/vnd.databricks.v1+cell": {
     "cellMetadata": {
      "batchId": -3530894374845834,
      "byteLimit": 2048000,
      "rowLimit": 10000
     },
     "inputWidgets": {},
     "nuid": "d8e0547b-3098-449f-a833-69f578445630",
     "showTitle": false,
     "tableResultSettingsMap": {},
     "title": ""
    }
   },
   "source": [
    "## Exploratory Analysis\n",
    "***"
   ]
  },
  {
   "cell_type": "code",
   "execution_count": 0,
   "metadata": {
    "application/vnd.databricks.v1+cell": {
     "cellMetadata": {
      "byteLimit": 2048000,
      "rowLimit": 10000
     },
     "inputWidgets": {},
     "nuid": "9635bc86-c7b1-4c7d-a3d9-fffd6511f735",
     "showTitle": true,
     "tableResultSettingsMap": {},
     "title": "Set Input Paramerter and Declare Variable for Bundle to Review"
    }
   },
   "outputs": [],
   "source": [
    "DECLARE OR REPLACE VARIABLE prior_auth_bundle_uuid STRING DEFAULT \"a710df7d-92b8-4e3e-99ca-b5df37808bc9\";\n",
    "\n",
    "SET VARIABLE prior_auth_bundle_uuid = :bundle_uuid;\n",
    "\n",
    "SELECT prior_auth_bundle_uuid;"
   ]
  },
  {
   "cell_type": "code",
   "execution_count": 0,
   "metadata": {
    "application/vnd.databricks.v1+cell": {
     "cellMetadata": {
      "byteLimit": 2048000,
      "implicitDf": true,
      "rowLimit": 10000
     },
     "inputWidgets": {},
     "nuid": "6a3130ac-86f4-4337-9b1a-c8202993916b",
     "showTitle": true,
     "tableResultSettingsMap": {},
     "title": "Set Catalog & Schema to Use"
    }
   },
   "outputs": [],
   "source": [
    "USE redox.hls_webinar_fy25q4;"
   ]
  },
  {
   "cell_type": "code",
   "execution_count": 0,
   "metadata": {
    "application/vnd.databricks.v1+cell": {
     "cellMetadata": {
      "byteLimit": 2048000,
      "implicitDf": true,
      "rowLimit": 10000
     },
     "inputWidgets": {},
     "nuid": "64509a95-0fee-4d4e-af3b-098b31973fcf",
     "showTitle": true,
     "tableResultSettingsMap": {},
     "title": "Review the Full Bundle As It Originally Arrived in Bronze with Variant"
    }
   },
   "outputs": [],
   "source": [
    "SELECT \n",
    "  * \n",
    "FROM \n",
    "  fhir_bronze_variant \n",
    "WHERE \n",
    "  bundle_uuid = prior_auth_bundle_uuid;"
   ]
  },
  {
   "cell_type": "code",
   "execution_count": 0,
   "metadata": {
    "application/vnd.databricks.v1+cell": {
     "cellMetadata": {
      "byteLimit": 2048000,
      "rowLimit": 10000
     },
     "inputWidgets": {},
     "nuid": "c5bb6ce0-c194-4084-b08a-e957b3f323ae",
     "showTitle": true,
     "tableResultSettingsMap": {},
     "title": "Lateral Explode the Entry Array That Contains the Resources and Extact the Resource Type"
    }
   },
   "outputs": [],
   "source": [
    "SELECT \n",
    "  bundle_uuid\n",
    "  ,entry.value:fullUrl::string as fullUrl\n",
    "  ,entry.value:resource.resourceType::string as resourceType\n",
    "  ,entry.value as resource\n",
    "FROM \n",
    "  fhir_bronze_variant\n",
    "  ,LATERAL variant_explode(fhir:entry) as entry\n",
    "WHERE \n",
    "  bundle_uuid = prior_auth_bundle_uuid"
   ]
  },
  {
   "cell_type": "code",
   "execution_count": 0,
   "metadata": {
    "application/vnd.databricks.v1+cell": {
     "cellMetadata": {
      "byteLimit": 2048000,
      "rowLimit": 10000
     },
     "inputWidgets": {},
     "nuid": "7735c3cd-7060-4939-9601-a721b4b36c3e",
     "showTitle": false,
     "tableResultSettingsMap": {},
     "title": ""
    }
   },
   "outputs": [],
   "source": [
    "WITH entry_exploded as (\n",
    "  SELECT \n",
    "    bundle_uuid\n",
    "    ,entry.value:fullUrl::string as fullUrl\n",
    "    ,entry.value:resource.resourceType::string as resourceType\n",
    "    ,entry.value as resource\n",
    "  FROM \n",
    "    fhir_bronze_variant\n",
    "    ,LATERAL variant_explode(fhir:entry) as entry\n",
    "  WHERE \n",
    "    bundle_uuid = prior_auth_bundle_uuid\n",
    ")\n",
    ",pivoted_reources as (\n",
    "  SELECT \n",
    "    * \n",
    "  FROM (\n",
    "    SELECT\n",
    "      bundle_uuid\n",
    "      ,fullUrl\n",
    "      ,resourceType\n",
    "      ,resource\n",
    "    FROM \n",
    "      entry_exploded\n",
    "    )\n",
    "  PIVOT (\n",
    "    first(resource) FOR resourceType IN (\n",
    "      'Claim'\n",
    "      ,'Patient'\n",
    "      ,'Practitioner'\n",
    "      ,'Organization'\n",
    "      ,'Coverage'\n",
    "      ,'RelatedPerson'\n",
    "      ,'ServiceRequest'\n",
    "    )\n",
    "  )\n",
    ")\n",
    "SELECT\n",
    "  bundle_uuid\n",
    "  ,collect_list(Claim)::variant as Claim\n",
    "  ,collect_list(Patient)::variant as Patient\n",
    "  ,collect_list(Practitioner)::variant as Practitioner\n",
    "  ,collect_list(Organization)::variant as Organization\n",
    "  ,collect_list(Coverage)::variant as Coverage\n",
    "  ,collect_list(RelatedPerson)::variant as RelatedPerson\n",
    "  ,collect_list(ServiceRequest)::variant as ServiceRequest\n",
    "FROM\n",
    "  pivoted_reources\n",
    "GROUP BY\n",
    "  bundle_uuid\n",
    ";"
   ]
  },
  {
   "cell_type": "code",
   "execution_count": 0,
   "metadata": {
    "application/vnd.databricks.v1+cell": {
     "cellMetadata": {
      "byteLimit": 2048000,
      "rowLimit": 10000
     },
     "inputWidgets": {},
     "nuid": "a8d2eff2-aac0-402c-a9b0-5c184ed4814a",
     "showTitle": false,
     "tableResultSettingsMap": {},
     "title": ""
    }
   },
   "outputs": [],
   "source": [
    "DECLARE OR REPLACE VARIABLE pa_view_stmnt STRING;\n",
    "\n",
    "SET VARIABLE pa_view_stmnt = \"\n",
    "  CREATE OR REPLACE VIEW prior_auth_request_bundle AS\n",
    "  WITH entry_exploded as (\n",
    "    SELECT \n",
    "      bundle_uuid\n",
    "      ,entry.value:fullUrl::string as fullUrl\n",
    "      ,entry.value:resource.resourceType::string as resourceType\n",
    "      ,entry.value as resource\n",
    "    FROM \n",
    "      fhir_bronze_variant\n",
    "      ,LATERAL variant_explode(fhir:entry) as entry\n",
    "    WHERE \n",
    "      bundle_uuid = '\" || prior_auth_bundle_uuid || \"'\n",
    "  )\n",
    "  ,pivoted_reources as (\n",
    "    SELECT \n",
    "      * \n",
    "    FROM (\n",
    "      SELECT\n",
    "        bundle_uuid\n",
    "        ,fullUrl\n",
    "        ,resourceType\n",
    "        ,resource\n",
    "      FROM \n",
    "        entry_exploded\n",
    "      )\n",
    "    PIVOT (\n",
    "      first(resource) FOR resourceType IN (\n",
    "        'Claim'\n",
    "        ,'Patient'\n",
    "        ,'Practitioner'\n",
    "        ,'Organization'\n",
    "        ,'Coverage'\n",
    "        ,'RelatedPerson'\n",
    "        ,'ServiceRequest'\n",
    "      )\n",
    "    )\n",
    "  )\n",
    "  SELECT\n",
    "    bundle_uuid\n",
    "    ,collect_list(Claim)::variant as Claim\n",
    "    ,collect_list(Patient)::variant as Patient\n",
    "    ,collect_list(Practitioner)::variant as Practitioner\n",
    "    ,collect_list(Organization)::variant as Organization\n",
    "    ,collect_list(Coverage)::variant as Coverage\n",
    "    ,collect_list(RelatedPerson)::variant as RelatedPerson\n",
    "    ,collect_list(ServiceRequest)::variant as ServiceRequest\n",
    "  FROM\n",
    "    pivoted_reources\n",
    "  GROUP BY\n",
    "    bundle_uuid\n",
    "  ;\n",
    "\";\n",
    "\n",
    "SELECT pa_view_stmnt;\n",
    "\n",
    "EXECUTE IMMEDIATE pa_view_stmnt;"
   ]
  },
  {
   "cell_type": "code",
   "execution_count": 0,
   "metadata": {
    "application/vnd.databricks.v1+cell": {
     "cellMetadata": {
      "byteLimit": 2048000,
      "rowLimit": 10000
     },
     "inputWidgets": {},
     "nuid": "4fcdc5e8-b91e-44dd-b863-312c826bb8c8",
     "showTitle": false,
     "tableResultSettingsMap": {},
     "title": ""
    }
   },
   "outputs": [],
   "source": [
    "SELECT \n",
    "  Claim:[0].resource.id::string as claim_id\n",
    "  ,Claim:[0].resource.use::string as use\n",
    "  ,Claim:[0].resource.created::TIMESTAMP as claim_created_datetime\n",
    "  ,Claim:[0].resource.diagnosis[0].diagnosisCodeableConcept.coding[0].code::string as diag_code_1\n",
    "  ,Claim:[0].resource.diagnosis[1].diagnosisCodeableConcept.coding[0].code::string as diag_code_2\n",
    "  ,Claim:[0].resource.diagnosis[2].diagnosisCodeableConcept.coding[0].code::string as diag_code_3\n",
    "  ,Claim:[0].resource.item[0].productOrService.coding[0].code::string as proc_code_1\n",
    "  ,Claim:[0].resource.priority.coding[0].code::string as priority\n",
    "  ,Claim:[0].resource.status::string as claim_status\n",
    "  ,Claim:[0].resource.type.coding[0].code::string as claim_type\n",
    "  ,ai_query(\n",
    "      endpoint => 'databricks-meta-llama-3-3-70b-instruct'\n",
    "      ,request => 'Lookup the ICD10 CM code descriptions for ' || Claim:[0].resource.diagnosis[0].diagnosisCodeableConcept.coding[0].code::string || ', ' || Claim:[0].resource.diagnosis[1].diagnosisCodeableConcept.coding[0].code::string || ', and ' || Claim:[0].resource.diagnosis[2].diagnosisCodeableConcept.coding[0].code::string || '. Then summarize in less than 200 characters.'\n",
    "      ,returnType => 'STRING'\n",
    "    ) AS diagnosis_code_summary\n",
    "  ,ServiceRequest:[0].resource.code:coding[0].code::string as requested_pro_code\n",
    "  ,ai_query(\n",
    "    endpoint => 'databricks-meta-llama-3-3-70b-instruct'\n",
    "    ,request => 'lookup HCPCS Procedure Code description for ' || ServiceRequest:[0].resource.code:coding[0].code::string\n",
    "    ,returnType => 'STRING'\n",
    "  ) AS requested_procedure_description\n",
    "  ,*\n",
    "FROM \n",
    "  prior_auth_request_bundle;"
   ]
  },
  {
   "cell_type": "code",
   "execution_count": 0,
   "metadata": {
    "application/vnd.databricks.v1+cell": {
     "cellMetadata": {
      "byteLimit": 2048000,
      "rowLimit": 10000
     },
     "inputWidgets": {},
     "nuid": "c4bce158-bc90-4eee-9297-d2dcf844215e",
     "showTitle": false,
     "tableResultSettingsMap": {},
     "title": ""
    }
   },
   "outputs": [],
   "source": [
    "SELECT \n",
    "  bundle_uuid,\n",
    "  struct(\n",
    "    schema_of_variant(Claim) AS Claim_schema,\n",
    "    schema_of_variant(Patient) AS Patient_schema,\n",
    "    schema_of_variant(Organization) AS Organization_schema,\n",
    "    schema_of_variant(Coverage) AS Coverage_schema,\n",
    "    schema_of_variant(column5) AS column5\n",
    "    -- Add more columns as needed\n",
    "  ) AS struct_columns\n",
    "FROM \n",
    "  prior_auth_request_bundle;\n",
    "\n",
    "\n",
    "'Claim'\n",
    "        ,'Patient'\n",
    "        ,'Practitioner'\n",
    "        ,'Organization'\n",
    "        ,'Coverage'\n",
    "        ,'RelatedPerson'\n",
    "        ,'ServiceRequest"
   ]
  }
 ],
 "metadata": {
  "application/vnd.databricks.v1+notebook": {
   "computePreferences": null,
   "dashboards": [],
   "environmentMetadata": {
    "base_environment": "",
    "client": "1"
   },
   "language": "sql",
   "notebookMetadata": {
    "mostRecentlyExecutedCommandWithImplicitDF": {
     "commandId": -1,
     "dataframes": [
      "_sqldf"
     ]
    },
    "pythonIndentUnit": 2
   },
   "notebookName": "0 - Prior Authorization Request Review",
   "widgets": {
    "bundle_uuid": {
     "currentValue": "a710df7d-92b8-4e3e-99ca-b5df37808bc9",
     "nuid": "41137793-eb00-4ca1-ac2d-744669daf21f",
     "typedWidgetInfo": {
      "autoCreated": false,
      "defaultValue": "a710df7d-92b8-4e3e-99ca-b5df37808bc9",
      "label": "",
      "name": "bundle_uuid",
      "options": {
       "widgetDisplayType": "Text",
       "validationRegex": null
      },
      "parameterDataType": "String"
     },
     "widgetInfo": {
      "widgetType": "text",
      "defaultValue": "a710df7d-92b8-4e3e-99ca-b5df37808bc9",
      "label": "",
      "name": "bundle_uuid",
      "options": {
       "widgetType": "text",
       "autoCreated": false,
       "validationRegex": null
      }
     }
    }
   }
  },
  "language_info": {
   "name": "sql"
  }
 },
 "nbformat": 4,
 "nbformat_minor": 0
}
