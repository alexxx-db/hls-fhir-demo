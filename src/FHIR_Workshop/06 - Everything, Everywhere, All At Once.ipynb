{
 "cells": [
  {
   "cell_type": "markdown",
   "metadata": {
    "application/vnd.databricks.v1+cell": {
     "cellMetadata": {},
     "inputWidgets": {},
     "nuid": "c5987f15-cc0d-47b8-9fad-5d0cb0971296",
     "showTitle": false,
     "tableResultSettingsMap": {},
     "title": ""
    }
   },
   "source": [
    "*Note that this notebook should be executed with a Serverless SQL Warehouse.*"
   ]
  },
  {
   "cell_type": "markdown",
   "metadata": {
    "application/vnd.databricks.v1+cell": {
     "cellMetadata": {},
     "inputWidgets": {},
     "nuid": "4626dd94-6fd8-4d73-bdb0-4c8e19889977",
     "showTitle": false,
     "tableResultSettingsMap": {},
     "title": ""
    }
   },
   "source": [
    "# Everything, Everywhere, All at Once \n",
    "## Or, How to Write Fully Dynamic SQL Notebooks And Use with the ForEach Task \n",
    "***"
   ]
  },
  {
   "cell_type": "code",
   "execution_count": 0,
   "metadata": {
    "application/vnd.databricks.v1+cell": {
     "cellMetadata": {
      "byteLimit": 2048000,
      "rowLimit": 10000
     },
     "inputWidgets": {},
     "nuid": "ccea1cf5-6529-44cb-bc00-4c8aa9a066b8",
     "showTitle": false,
     "tableResultSettingsMap": {},
     "title": ""
    }
   },
   "outputs": [],
   "source": [
    "DECLARE OR REPLACE VARIABLE catalog_use STRING DEFAULT 'fhir_workshop';\n",
    "DECLARE OR REPLACE VARIABLE schema_use STRING DEFAULT REPLACE(SPLIT(current_user(), '@')[0], '.', '_');\n",
    "DECLARE OR REPLACE VARIABLE resource_type STRING DEFAULT 'Encounter';\n",
    "DECLARE OR REPLACE VARIABLE full_refresh BOOLEAN DEFAULT FALSE;"
   ]
  },
  {
   "cell_type": "code",
   "execution_count": 0,
   "metadata": {
    "application/vnd.databricks.v1+cell": {
     "cellMetadata": {
      "byteLimit": 2048000,
      "rowLimit": 10000
     },
     "inputWidgets": {},
     "nuid": "5fbb58ed-6bcd-496e-8cd1-bec67bf3e5ac",
     "showTitle": false,
     "tableResultSettingsMap": {},
     "title": ""
    }
   },
   "outputs": [],
   "source": [
    "select schema_use;"
   ]
  },
  {
   "cell_type": "code",
   "execution_count": 0,
   "metadata": {
    "application/vnd.databricks.v1+cell": {
     "cellMetadata": {
      "byteLimit": 2048000,
      "rowLimit": 10000
     },
     "inputWidgets": {},
     "nuid": "e345f3e6-799c-4bb2-8663-d0af6aee692c",
     "showTitle": false,
     "tableResultSettingsMap": {},
     "title": ""
    }
   },
   "outputs": [],
   "source": [
    "SET VARIABLE catalog_use = :catalog_use; \n",
    "SET VARIABLE schema_use = :schema_use;\n",
    "SET VARIABLE resource_type = :resource_type; \n",
    "SET VARIABLE full_refresh = :full_refresh == 'true';\n",
    "\n",
    "SELECT catalog_use, schema_use, resource_type, full_refresh;"
   ]
  },
  {
   "cell_type": "code",
   "execution_count": 0,
   "metadata": {
    "application/vnd.databricks.v1+cell": {
     "cellMetadata": {
      "byteLimit": 2048000,
      "rowLimit": 10000
     },
     "inputWidgets": {},
     "nuid": "44921158-61fa-42ae-962f-cb7494361f06",
     "showTitle": false,
     "tableResultSettingsMap": {},
     "title": ""
    }
   },
   "outputs": [],
   "source": [
    "USE IDENTIFIER(catalog_use || \".\" || schema_use);"
   ]
  },
  {
   "cell_type": "code",
   "execution_count": 0,
   "metadata": {
    "application/vnd.databricks.v1+cell": {
     "cellMetadata": {
      "byteLimit": 2048000,
      "rowLimit": 10000
     },
     "inputWidgets": {},
     "nuid": "c02dbcb5-574f-44bc-bbb9-20fe9cc7a43b",
     "showTitle": false,
     "tableResultSettingsMap": {},
     "title": ""
    }
   },
   "outputs": [],
   "source": [
    "SELECT current_catalog(), current_schema();"
   ]
  },
  {
   "cell_type": "code",
   "execution_count": 0,
   "metadata": {
    "application/vnd.databricks.v1+cell": {
     "cellMetadata": {
      "byteLimit": 2048000,
      "rowLimit": 10000
     },
     "inputWidgets": {},
     "nuid": "018412ab-9b50-4ef0-809b-5e212709be8e",
     "showTitle": false,
     "tableResultSettingsMap": {},
     "title": ""
    }
   },
   "outputs": [],
   "source": [
    "DECLARE OR REPLACE VARIABLE new_resource_keys BOOLEAN DEFAULT FALSE;\n",
    "\n",
    "SET VARIABLE new_resource_keys = (\n",
    "  WITH column_diff AS (\n",
    "    SELECT column_name \n",
    "    FROM fhir_resource_schemas \n",
    "    WHERE \n",
    "      resourceType = resource_type\n",
    "    EXCEPT\n",
    "    SELECT column_name \n",
    "    FROM IDENTIFIER(catalog_use || \".information_schema.columns\")\n",
    "    WHERE \n",
    "      table_catalog = catalog_use\n",
    "      AND table_schema = schema_use\n",
    "      AND table_name = lower(resource_type)\n",
    "      AND (column_name NOT LIKE 'bundle_uuid' AND column_name NOT LIKE resource_type)\n",
    "  )\n",
    "  SELECT count(*) > 0 FROM column_diff\n",
    ");\n",
    "\n",
    "SELECT new_resource_keys;"
   ]
  },
  {
   "cell_type": "code",
   "execution_count": 0,
   "metadata": {
    "application/vnd.databricks.v1+cell": {
     "cellMetadata": {
      "byteLimit": 2048000,
      "rowLimit": 10000
     },
     "inputWidgets": {},
     "nuid": "affc8ad1-80f1-467d-abfa-24b9c4bdde93",
     "showTitle": false,
     "tableResultSettingsMap": {},
     "title": ""
    }
   },
   "outputs": [],
   "source": [
    "DECLARE OR REPLACE VARIABLE full_refresh_stmnt STRING; \n",
    "\n",
    "SET VARIABLE full_refresh_stmnt = (\n",
    "  CASE when (full_refresh OR new_resource_keys) THEN \"DROP TABLE IF EXISTS \" || resource_type || \";\" ELSE \"SELECT 'Performing standard refresh of streaming table \" || resource_type || \"' AS message;\" END\n",
    ");\n",
    "\n",
    "SELECT full_refresh_stmnt;"
   ]
  },
  {
   "cell_type": "code",
   "execution_count": 0,
   "metadata": {
    "application/vnd.databricks.v1+cell": {
     "cellMetadata": {},
     "inputWidgets": {},
     "nuid": "0bb3cb52-aefc-411c-ae85-4afbdaaf4394",
     "showTitle": false,
     "tableResultSettingsMap": {},
     "title": ""
    }
   },
   "outputs": [],
   "source": [
    "EXECUTE IMMEDIATE full_refresh_stmnt;"
   ]
  },
  {
   "cell_type": "code",
   "execution_count": 0,
   "metadata": {
    "application/vnd.databricks.v1+cell": {
     "cellMetadata": {
      "byteLimit": 2048000,
      "rowLimit": 10000
     },
     "inputWidgets": {},
     "nuid": "300c0f12-9552-4b02-9978-1e9e0b79eaec",
     "showTitle": false,
     "tableResultSettingsMap": {},
     "title": ""
    }
   },
   "outputs": [],
   "source": [
    "DECLARE OR REPLACE VARIABLE resource_keys STRING;\n",
    "\n",
    "-- SET VARIABLE resource_keys = (\n",
    "--   SELECT \n",
    "--     array_join(collect_list(DISTINCT column_name), \"', '\")\n",
    "--   FROM \n",
    "--     resource_schemas\n",
    "--   WHERE \n",
    "--     resourceType = resource_type\n",
    "-- )\n",
    "\n",
    "SET VARIABLE resource_keys = (\n",
    "  WITH existing_colums as (\n",
    "    SELECT \n",
    "      resource_type as resourceType\n",
    "      ,column_name\n",
    "      ,ordinal_position\n",
    "    FROM \n",
    "      IDENTIFIER(catalog_use || \".information_schema.columns\")\n",
    "    WHERE \n",
    "      table_catalog = catalog_use\n",
    "      AND table_schema = schema_use\n",
    "      AND table_name = lower(resource_type)\n",
    "    ORDER BY \n",
    "      ordinal_position\n",
    "  )\n",
    "  ,ordered_columns AS (\n",
    "    SELECT\n",
    "      t1.resourceType,\n",
    "      t1.column_name,\n",
    "      t2.ordinal_position\n",
    "    FROM\n",
    "      fhir_resource_schemas t1\n",
    "      LEFT OUTER JOIN existing_colums t2 ON t1.resourceType = t2.resourceType AND t1.column_name = t2.column_name\n",
    "    WHERE\n",
    "      t1.resourceType = resource_type\n",
    "    ORDER BY\n",
    "      t2.ordinal_position\n",
    "  ),\n",
    "  ordered_values AS (\n",
    "    SELECT\n",
    "      collect_list(column_name) OVER (PARTITION BY resourceType ORDER BY ordinal_position) AS ordered_values,\n",
    "      row_number() OVER (PARTITION BY resourceType ORDER BY ordinal_position DESC) AS row_num\n",
    "    FROM\n",
    "      ordered_columns\n",
    "  )\n",
    "  SELECT\n",
    "    array_join(ordered_values, \"', '\")\n",
    "  FROM\n",
    "    ordered_values\n",
    "  WHERE\n",
    "    row_num = 1\n",
    ");\n",
    "\n",
    "select resource_keys;"
   ]
  },
  {
   "cell_type": "code",
   "execution_count": 0,
   "metadata": {
    "application/vnd.databricks.v1+cell": {
     "cellMetadata": {
      "byteLimit": 2048000,
      "rowLimit": 10000
     },
     "inputWidgets": {},
     "nuid": "a7dae9db-64fe-41a4-81db-e6b1f26094b3",
     "showTitle": false,
     "tableResultSettingsMap": {},
     "title": ""
    }
   },
   "outputs": [],
   "source": [
    "DECLARE OR REPLACE VARIABLE dynamic_ddl STRING;\n",
    "\n",
    "SET VAR dynamic_ddl = (\n",
    "  WITH existing_colums as (\n",
    "    SELECT \n",
    "      resource_type as resourceType\n",
    "      ,column_name\n",
    "      ,ordinal_position\n",
    "    FROM \n",
    "      IDENTIFIER(catalog_use || \".information_schema.columns\")\n",
    "    WHERE \n",
    "      table_catalog = catalog_use\n",
    "      AND table_schema = schema_use\n",
    "      AND table_name = lower(resource_type)\n",
    "    ORDER BY \n",
    "      ordinal_position\n",
    "  )\n",
    "  ,ordered_columns AS (\n",
    "    SELECT\n",
    "      t1.resourceType,\n",
    "      t1.column_name,\n",
    "      t2.ordinal_position\n",
    "    FROM\n",
    "      fhir_resource_schemas t1\n",
    "      LEFT OUTER JOIN existing_colums t2 ON t1.resourceType = t2.resourceType AND t1.column_name = t2.column_name\n",
    "    WHERE\n",
    "      t1.resourceType = resource_type\n",
    "    ORDER BY\n",
    "      t2.ordinal_position\n",
    "  ),\n",
    "  ordered_values AS (\n",
    "    SELECT\n",
    "      collect_list(column_name) OVER (PARTITION BY resourceType ORDER BY ordinal_position) AS ordered_values,\n",
    "      row_number() OVER (PARTITION BY resourceType ORDER BY ordinal_position DESC) AS row_num\n",
    "    FROM\n",
    "      ordered_columns\n",
    "  )\n",
    "  SELECT\n",
    "    \"\\t\" || lower(resource_type) || \"_uuid STRING NOT NULL PRIMARY KEY COMMENT 'Uniquie identifier for the unique FHIR \" || resource_type || \" Resource in a bundle.'\\n\\t,bundle_uuid STRING COMMENT 'Unique identifier for the FHIR bundle.'\\n\\t,\" || lower(resource_type) || \"_url STRING COMMENT 'The full URL of the \" || resource_type || \" resource in the entry array.  This serves as the primary key for the resource and later is used to join related resources from within a bundle.'\\n\\t,\" || \n",
    "    array_join(ordered_values, \" VARIANT\\n\\t,\") || \" VARIANT\\n\\t\" ||\n",
    "    \",CONSTRAINT fk_\" || lower(resource_type) || \"_bundle_meta_bundle_uuid FOREIGN KEY (bundle_uuid) REFERENCES \" || catalog_use || \".\" || schema_use || \".bundle_meta(bundle_uuid)\n",
    "    \\t,CONSTRAINT fk_\" || lower(resource_type) || \"_fhir_resources_resource_uuid FOREIGN KEY (\" || lower(resource_type) || \"_uuid) REFERENCES \" || catalog_use || \".\" || schema_use || \".fhir_resources(resource_uuid)\"\n",
    "  FROM\n",
    "    ordered_values\n",
    "  WHERE\n",
    "    row_num = 1\n",
    ");\n",
    "\n",
    "select dynamic_ddl;"
   ]
  },
  {
   "cell_type": "code",
   "execution_count": 0,
   "metadata": {
    "application/vnd.databricks.v1+cell": {
     "cellMetadata": {
      "byteLimit": 2048000,
      "rowLimit": 10000
     },
     "inputWidgets": {},
     "nuid": "bd4a22be-6696-44c8-993f-d1018555bd0a",
     "showTitle": false,
     "tableResultSettingsMap": {},
     "title": ""
    }
   },
   "outputs": [],
   "source": [
    "DECLARE OR REPLACE VARIABLE resource_stmnt STRING;\n",
    "\n",
    "SET VARIABLE resource_stmnt = \"\n",
    "CREATE OR REFRESH STREAMING TABLE \" || resource_type || \"(\\n\" ||\n",
    "  dynamic_ddl\n",
    "|| \"\\n)\n",
    "COMMENT 'Parsed FHIR \" || resource_type || \" Records'\n",
    "TBLPROPERTIES (\n",
    "  'delta.enableChangeDataFeed' = 'true'\n",
    "  ,'delta.enableDeletionVectors' = 'true'\n",
    "  ,'delta.enableRowTracking' = 'true'\n",
    "  ,'quality' = 'bronze'\n",
    "  ,'pipelines.channel' = 'PREVIEW'\n",
    "  ,'delta.feature.variantType-preview' = 'supported'\n",
    ")\n",
    "AS SELECT\n",
    "  *\n",
    "FROM (\n",
    "  SELECT\n",
    "    resource_uuid as \" || lower(resource_type) || \"_uuid\n",
    "    ,bundle_uuid\n",
    "    ,fullUrl as \"|| lower(resource_type) ||\"_url\n",
    "    ,key\n",
    "    ,value\n",
    "  FROM \n",
    "    STREAM(fhir_resources)\n",
    "  WHERE \n",
    "    resourceType = '\"|| resource_type ||\"')\n",
    "  PIVOT (\n",
    "    first(value) FOR key IN ('\" || resource_keys || \"')\n",
    "  );\n",
    "\";\n",
    "\n",
    "SELECT resource_stmnt;\n"
   ]
  },
  {
   "cell_type": "code",
   "execution_count": 0,
   "metadata": {
    "application/vnd.databricks.v1+cell": {
     "cellMetadata": {
      "byteLimit": 2048000,
      "rowLimit": 10000
     },
     "inputWidgets": {},
     "nuid": "d1611e3a-f5e1-4efa-be0c-c788a3e4a956",
     "showTitle": false,
     "tableResultSettingsMap": {},
     "title": ""
    }
   },
   "outputs": [],
   "source": [
    "EXECUTE IMMEDIATE resource_stmnt;"
   ]
  }
 ],
 "metadata": {
  "application/vnd.databricks.v1+notebook": {
   "computePreferences": null,
   "dashboards": [],
   "environmentMetadata": {
    "base_environment": "",
    "environment_version": "2"
   },
   "language": "sql",
   "notebookMetadata": {
    "pythonIndentUnit": 4
   },
   "notebookName": "06 - Everything, Everywhere, All At Once",
   "widgets": {
    "catalog_use": {
     "currentValue": "fhir_workshop",
     "nuid": "fc8857e1-f573-4044-96c2-b67c6fdd2706",
     "typedWidgetInfo": {
      "autoCreated": false,
      "defaultValue": "fhir_workshop",
      "label": "",
      "name": "catalog_use",
      "options": {
       "widgetDisplayType": "Text",
       "validationRegex": null
      },
      "parameterDataType": "String"
     },
     "widgetInfo": {
      "widgetType": "text",
      "defaultValue": "fhir_workshop",
      "label": "",
      "name": "catalog_use",
      "options": {
       "widgetType": "text",
       "autoCreated": false,
       "validationRegex": null
      }
     }
    },
    "full_refresh": {
     "currentValue": "false",
     "nuid": "907c625c-ec78-4c36-9b83-2e873d4ece38",
     "typedWidgetInfo": {
      "autoCreated": false,
      "defaultValue": "false",
      "label": "",
      "name": "full_refresh",
      "options": {
       "widgetDisplayType": "Dropdown",
       "choices": [
        "true",
        "false"
       ],
       "fixedDomain": true,
       "multiselect": false
      },
      "parameterDataType": "String"
     },
     "widgetInfo": {
      "widgetType": "dropdown",
      "defaultValue": "false",
      "label": "",
      "name": "full_refresh",
      "options": {
       "widgetType": "dropdown",
       "autoCreated": false,
       "choices": [
        "true",
        "false"
       ]
      }
     }
    },
    "resource_type": {
     "currentValue": "Encounter",
     "nuid": "f050990a-ace6-4067-ade3-b1c07a82761b",
     "typedWidgetInfo": {
      "autoCreated": false,
      "defaultValue": "Encounter",
      "label": "",
      "name": "resource_type",
      "options": {
       "widgetDisplayType": "Text",
       "validationRegex": null
      },
      "parameterDataType": "String"
     },
     "widgetInfo": {
      "widgetType": "text",
      "defaultValue": "Encounter",
      "label": "",
      "name": "resource_type",
      "options": {
       "widgetType": "text",
       "autoCreated": false,
       "validationRegex": null
      }
     }
    },
    "schema_use": {
     "currentValue": "odl_instructor_1452233",
     "nuid": "8e33a6ff-316f-4d82-813c-b529453a3af3",
     "typedWidgetInfo": {
      "autoCreated": true,
      "defaultValue": "",
      "label": null,
      "name": "schema_use",
      "options": {
       "widgetDisplayType": "Text",
       "validationRegex": null
      },
      "parameterDataType": "String"
     },
     "widgetInfo": {
      "widgetType": "text",
      "defaultValue": "",
      "label": null,
      "name": "schema_use",
      "options": {
       "widgetType": "text",
       "autoCreated": true,
       "validationRegex": null
      }
     }
    }
   }
  },
  "language_info": {
   "name": "sql"
  }
 },
 "nbformat": 4,
 "nbformat_minor": 0
}
