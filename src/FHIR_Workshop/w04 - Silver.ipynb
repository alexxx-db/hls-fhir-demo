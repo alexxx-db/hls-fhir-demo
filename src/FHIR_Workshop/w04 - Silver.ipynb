{
 "cells": [
  {
   "cell_type": "code",
   "execution_count": 0,
   "metadata": {
    "application/vnd.databricks.v1+cell": {
     "cellMetadata": {
      "byteLimit": 2048000,
      "rowLimit": 10000
     },
     "inputWidgets": {},
     "nuid": "e9767852-f9ac-429d-96f9-c142137e23cd",
     "showTitle": false,
     "tableResultSettingsMap": {},
     "title": ""
    }
   },
   "outputs": [],
   "source": [
    "DECLARE OR REPLACE VARIABLE catalog_use STRING DEFAULT 'fhir_workshop';\n",
    "DECLARE OR REPLACE VARIABLE schema_use STRING DEFAULT REPLACE(SPLIT(current_user(), '@')[0], '.', '_');\n",
    "DECLARE OR REPLACE VARIABLE resource_type STRING DEFAULT 'Encounter';\n",
    "DECLARE OR REPLACE VARIABLE full_refresh BOOLEAN DEFAULT FALSE;"
   ]
  },
  {
   "cell_type": "code",
   "execution_count": 0,
   "metadata": {
    "application/vnd.databricks.v1+cell": {
     "cellMetadata": {
      "byteLimit": 2048000,
      "rowLimit": 10000
     },
     "inputWidgets": {},
     "nuid": "393f47ce-59cb-4fee-94ca-d762d1fc9891",
     "showTitle": false,
     "tableResultSettingsMap": {},
     "title": ""
    }
   },
   "outputs": [],
   "source": [
    "SET VARIABLE catalog_use = :catalog_use; \n",
    "SET VARIABLE schema_use = :schema_use;\n",
    "SET VARIABLE resource_type = :resource_type; \n",
    "SET VARIABLE full_refresh = :full_refresh == 'true';\n",
    "\n",
    "SELECT catalog_use, schema_use, resource_type, full_refresh;"
   ]
  },
  {
   "cell_type": "code",
   "execution_count": 0,
   "metadata": {
    "application/vnd.databricks.v1+cell": {
     "cellMetadata": {
      "byteLimit": 2048000,
      "rowLimit": 10000
     },
     "inputWidgets": {},
     "nuid": "022677e4-3ba5-4cc0-8ff9-27af08274e72",
     "showTitle": false,
     "tableResultSettingsMap": {},
     "title": ""
    }
   },
   "outputs": [],
   "source": [
    "USE IDENTIFIER(catalog_use || \".\" || schema_use);"
   ]
  },
  {
   "cell_type": "code",
   "execution_count": 0,
   "metadata": {
    "application/vnd.databricks.v1+cell": {
     "cellMetadata": {
      "byteLimit": 2048000,
      "rowLimit": 10000
     },
     "inputWidgets": {},
     "nuid": "b9334c14-3d29-4356-9890-4783b4c40011",
     "showTitle": false,
     "tableResultSettingsMap": {},
     "title": ""
    }
   },
   "outputs": [],
   "source": [
    "SELECT current_catalog(), current_schema();"
   ]
  },
  {
   "cell_type": "code",
   "execution_count": 0,
   "metadata": {
    "application/vnd.databricks.v1+cell": {
     "cellMetadata": {
      "byteLimit": 2048000,
      "rowLimit": 10000
     },
     "inputWidgets": {},
     "nuid": "d50a9a24-36de-4ce3-a8a6-3fc938ccf8dc",
     "showTitle": false,
     "tableResultSettingsMap": {},
     "title": ""
    }
   },
   "outputs": [],
   "source": [
    "DECLARE OR REPLACE VARIABLE new_resource_keys BOOLEAN DEFAULT FALSE;\n",
    "\n",
    "SET VARIABLE new_resource_keys = (\n",
    "  WITH column_diff AS (\n",
    "    SELECT column_name \n",
    "    FROM fhir_resource_schemas \n",
    "    WHERE \n",
    "      resourceType = resource_type\n",
    "    EXCEPT\n",
    "    SELECT column_name \n",
    "    FROM IDENTIFIER(catalog_use || \".information_schema.columns\")\n",
    "    WHERE \n",
    "      table_catalog = catalog_use\n",
    "      AND table_schema = schema_use\n",
    "      AND table_name = lower(resource_type)\n",
    "      AND (column_name NOT LIKE 'bundle_uuid' AND column_name NOT LIKE resource_type)\n",
    "  )\n",
    "  SELECT count(*) > 0 FROM column_diff\n",
    ");\n",
    "\n",
    "SELECT new_resource_keys;"
   ]
  },
  {
   "cell_type": "code",
   "execution_count": 0,
   "metadata": {
    "application/vnd.databricks.v1+cell": {
     "cellMetadata": {
      "byteLimit": 2048000,
      "rowLimit": 10000
     },
     "inputWidgets": {},
     "nuid": "1cab3088-647c-4286-8ba1-0310dea88a8b",
     "showTitle": false,
     "tableResultSettingsMap": {},
     "title": ""
    }
   },
   "outputs": [],
   "source": [
    "DECLARE OR REPLACE VARIABLE full_refresh_stmnt STRING; \n",
    "\n",
    "SET VARIABLE full_refresh_stmnt = (\n",
    "  CASE when (full_refresh OR new_resource_keys) THEN \"DROP TABLE IF EXISTS \" || resource_type || \";\" ELSE \"SELECT 'Performing standard refresh of streaming table \" || resource_type || \"' AS message;\" END\n",
    ");\n",
    "\n",
    "SELECT full_refresh_stmnt;"
   ]
  },
  {
   "cell_type": "code",
   "execution_count": 0,
   "metadata": {
    "application/vnd.databricks.v1+cell": {
     "cellMetadata": {
      "byteLimit": 2048000,
      "rowLimit": 10000
     },
     "inputWidgets": {},
     "nuid": "f746cf6a-715b-4993-a660-9415353a5392",
     "showTitle": false,
     "tableResultSettingsMap": {},
     "title": ""
    }
   },
   "outputs": [],
   "source": [
    "EXECUTE IMMEDIATE full_refresh_stmnt;"
   ]
  },
  {
   "cell_type": "code",
   "execution_count": 0,
   "metadata": {
    "application/vnd.databricks.v1+cell": {
     "cellMetadata": {
      "byteLimit": 2048000,
      "rowLimit": 10000
     },
     "inputWidgets": {},
     "nuid": "b2bebfca-d1bf-4369-9891-fe99f39bb8c6",
     "showTitle": false,
     "tableResultSettingsMap": {},
     "title": ""
    }
   },
   "outputs": [],
   "source": [
    "DECLARE OR REPLACE VARIABLE resource_keys STRING;\n",
    "\n",
    "SET VARIABLE resource_keys = (\n",
    "  WITH existing_colums as (\n",
    "    SELECT \n",
    "      resource_type as resourceType\n",
    "      ,column_name\n",
    "      ,ordinal_position\n",
    "    FROM \n",
    "      IDENTIFIER(catalog_use || \".information_schema.columns\")\n",
    "    WHERE \n",
    "      table_catalog = catalog_use\n",
    "      AND table_schema = schema_use\n",
    "      AND table_name = lower(resource_type)\n",
    "    ORDER BY \n",
    "      ordinal_position\n",
    "  )\n",
    "  ,ordered_columns AS (\n",
    "    SELECT\n",
    "      t1.resourceType,\n",
    "      t1.column_name,\n",
    "      t2.ordinal_position\n",
    "    FROM\n",
    "      fhir_resource_schemas t1\n",
    "      LEFT OUTER JOIN existing_colums t2 ON t1.resourceType = t2.resourceType AND t1.column_name = t2.column_name\n",
    "    WHERE\n",
    "      t1.resourceType = resource_type\n",
    "    ORDER BY\n",
    "      t2.ordinal_position\n",
    "  ),\n",
    "  ordered_values AS (\n",
    "    SELECT\n",
    "      collect_list(column_name) OVER (PARTITION BY resourceType ORDER BY ordinal_position) AS ordered_values,\n",
    "      row_number() OVER (PARTITION BY resourceType ORDER BY ordinal_position DESC) AS row_num\n",
    "    FROM\n",
    "      ordered_columns\n",
    "  )\n",
    "  SELECT\n",
    "    array_join(ordered_values, \"', '\")\n",
    "  FROM\n",
    "    ordered_values\n",
    "  WHERE\n",
    "    row_num = 1\n",
    ");\n",
    "\n",
    "select resource_keys;"
   ]
  },
  {
   "cell_type": "code",
   "execution_count": 0,
   "metadata": {
    "application/vnd.databricks.v1+cell": {
     "cellMetadata": {
      "byteLimit": 2048000,
      "rowLimit": 10000
     },
     "inputWidgets": {},
     "nuid": "a5dc43b0-c637-477a-8a63-d74a829e8ea6",
     "showTitle": false,
     "tableResultSettingsMap": {},
     "title": ""
    }
   },
   "outputs": [],
   "source": [
    "DECLARE OR REPLACE VARIABLE dynamic_ddl STRING;\n",
    "\n",
    "SET VAR dynamic_ddl = (\n",
    "  WITH existing_colums as (\n",
    "    SELECT \n",
    "      resource_type as resourceType\n",
    "      ,column_name\n",
    "      ,ordinal_position\n",
    "    FROM \n",
    "      IDENTIFIER(catalog_use || \".information_schema.columns\")\n",
    "    WHERE \n",
    "      table_catalog = catalog_use\n",
    "      AND table_schema = schema_use\n",
    "      AND table_name = lower(resource_type)\n",
    "    ORDER BY \n",
    "      ordinal_position\n",
    "  )\n",
    "  ,ordered_columns AS (\n",
    "    SELECT\n",
    "      t1.resourceType,\n",
    "      t1.column_name,\n",
    "      t2.ordinal_position\n",
    "    FROM\n",
    "      fhir_resource_schemas t1\n",
    "      LEFT OUTER JOIN existing_colums t2 ON t1.resourceType = t2.resourceType AND t1.column_name = t2.column_name\n",
    "    WHERE\n",
    "      t1.resourceType = resource_type\n",
    "    ORDER BY\n",
    "      t2.ordinal_position\n",
    "  ),\n",
    "  ordered_values AS (\n",
    "    SELECT\n",
    "      collect_list(column_name) OVER (PARTITION BY resourceType ORDER BY ordinal_position) AS ordered_values,\n",
    "      row_number() OVER (PARTITION BY resourceType ORDER BY ordinal_position DESC) AS row_num\n",
    "    FROM\n",
    "      ordered_columns\n",
    "  )\n",
    "  SELECT\n",
    "    \"\\t\" || lower(resource_type) || \"_uuid STRING NOT NULL PRIMARY KEY COMMENT 'Uniquie identifier for the unique FHIR \" || resource_type || \" Resource in a bundle.'\\n\\t,bundle_uuid STRING COMMENT 'Unique identifier for the FHIR bundle.'\\n\\t,\" || lower(resource_type) || \"_url STRING COMMENT 'The full URL of the \" || resource_type || \" resource in the entry array.  This serves as the primary key for the resource and later is used to join related resources from within a bundle.'\\n\\t,\" || \n",
    "    array_join(ordered_values, \" VARIANT\\n\\t,\") || \" VARIANT\\n\\t\" ||\n",
    "    \",CONSTRAINT fk_\" || lower(resource_type) || \"_bundle_meta_bundle_uuid FOREIGN KEY (bundle_uuid) REFERENCES \" || catalog_use || \".\" || schema_use || \".bundle_meta(bundle_uuid)\n",
    "    \\t,CONSTRAINT fk_\" || lower(resource_type) || \"_fhir_resources_resource_uuid FOREIGN KEY (\" || lower(resource_type) || \"_uuid) REFERENCES \" || catalog_use || \".\" || schema_use || \".fhir_resources(resource_uuid)\"\n",
    "  FROM\n",
    "    ordered_values\n",
    "  WHERE\n",
    "    row_num = 1\n",
    ");\n",
    "\n",
    "select dynamic_ddl;"
   ]
  },
  {
   "cell_type": "code",
   "execution_count": 0,
   "metadata": {
    "application/vnd.databricks.v1+cell": {
     "cellMetadata": {
      "byteLimit": 2048000,
      "rowLimit": 10000
     },
     "inputWidgets": {},
     "nuid": "4e059a23-bf7f-4753-afaa-40c2120c1b9e",
     "showTitle": false,
     "tableResultSettingsMap": {},
     "title": ""
    }
   },
   "outputs": [],
   "source": [
    "DECLARE OR REPLACE VARIABLE resource_stmnt STRING;\n",
    "\n",
    "SET VARIABLE resource_stmnt = \"\n",
    "CREATE OR REFRESH STREAMING TABLE \" || resource_type || \"(\\n\" ||\n",
    "  dynamic_ddl\n",
    "|| \"\\n)\n",
    "COMMENT 'Parsed FHIR \" || resource_type || \" Records'\n",
    "TBLPROPERTIES (\n",
    "  'delta.enableChangeDataFeed' = 'true'\n",
    "  ,'delta.enableDeletionVectors' = 'true'\n",
    "  ,'delta.enableRowTracking' = 'true'\n",
    "  ,'quality' = 'bronze'\n",
    "  ,'pipelines.channel' = 'PREVIEW'\n",
    "  ,'delta.feature.variantType-preview' = 'supported'\n",
    ")\n",
    "AS SELECT\n",
    "  *\n",
    "FROM (\n",
    "  SELECT\n",
    "    resource_uuid as \" || lower(resource_type) || \"_uuid\n",
    "    ,bundle_uuid\n",
    "    ,fullUrl as \"|| lower(resource_type) ||\"_url\n",
    "    ,key\n",
    "    ,value\n",
    "  FROM \n",
    "    STREAM(fhir_resources)\n",
    "  WHERE \n",
    "    resourceType = '\"|| resource_type ||\"')\n",
    "  PIVOT (\n",
    "    first(value) FOR key IN ('\" || resource_keys || \"')\n",
    "  );\n",
    "\";\n",
    "\n",
    "SELECT resource_stmnt;"
   ]
  },
  {
   "cell_type": "code",
   "execution_count": 0,
   "metadata": {
    "application/vnd.databricks.v1+cell": {
     "cellMetadata": {
      "byteLimit": 2048000,
      "rowLimit": 10000
     },
     "inputWidgets": {},
     "nuid": "6cf47231-a93e-4a59-9990-fc30f6a3e344",
     "showTitle": false,
     "tableResultSettingsMap": {},
     "title": ""
    }
   },
   "outputs": [],
   "source": [
    "EXECUTE IMMEDIATE resource_stmnt;"
   ]
  }
 ],
 "metadata": {
  "application/vnd.databricks.v1+notebook": {
   "computePreferences": null,
   "dashboards": [],
   "environmentMetadata": {
    "base_environment": "",
    "environment_version": "2"
   },
   "language": "sql",
   "notebookMetadata": {
    "pythonIndentUnit": 4
   },
   "notebookName": "w04 - Silver",
   "widgets": {
    "catalog_use": {
     "currentValue": "fhir_workshop",
     "nuid": "3493729e-ca21-4a50-993b-88f22594fd46",
     "typedWidgetInfo": {
      "autoCreated": false,
      "defaultValue": "fhir_workshop",
      "label": "",
      "name": "catalog_use",
      "options": {
       "widgetDisplayType": "Text",
       "validationRegex": null
      },
      "parameterDataType": "String"
     },
     "widgetInfo": {
      "widgetType": "text",
      "defaultValue": "fhir_workshop",
      "label": "",
      "name": "catalog_use",
      "options": {
       "widgetType": "text",
       "autoCreated": false,
       "validationRegex": null
      }
     }
    },
    "full_refresh": {
     "currentValue": "false",
     "nuid": "0ce02527-7af6-4178-8700-29fbe964aff0",
     "typedWidgetInfo": {
      "autoCreated": false,
      "defaultValue": "false",
      "label": "",
      "name": "full_refresh",
      "options": {
       "widgetDisplayType": "Dropdown",
       "choices": [
        "true",
        "false"
       ],
       "fixedDomain": true,
       "multiselect": false
      },
      "parameterDataType": "String"
     },
     "widgetInfo": {
      "widgetType": "dropdown",
      "defaultValue": "false",
      "label": "",
      "name": "full_refresh",
      "options": {
       "widgetType": "dropdown",
       "autoCreated": false,
       "choices": [
        "true",
        "false"
       ]
      }
     }
    },
    "resource_type": {
     "currentValue": "Encounter",
     "nuid": "d56694b6-b0de-4fda-a3bc-22bc42dc48a9",
     "typedWidgetInfo": {
      "autoCreated": true,
      "defaultValue": "",
      "label": null,
      "name": "resource_type",
      "options": {
       "widgetDisplayType": "Text",
       "validationRegex": null
      },
      "parameterDataType": "String"
     },
     "widgetInfo": {
      "widgetType": "text",
      "defaultValue": "",
      "label": null,
      "name": "resource_type",
      "options": {
       "widgetType": "text",
       "autoCreated": true,
       "validationRegex": null
      }
     }
    },
    "schema_use": {
     "currentValue": "synthea_55k",
     "nuid": "161bf81d-eb26-48d3-ae01-9b8ce1b69084",
     "typedWidgetInfo": {
      "autoCreated": false,
      "defaultValue": "synthea_55k",
      "label": "",
      "name": "schema_use",
      "options": {
       "widgetDisplayType": "Text",
       "validationRegex": null
      },
      "parameterDataType": "String"
     },
     "widgetInfo": {
      "widgetType": "text",
      "defaultValue": "synthea_55k",
      "label": "",
      "name": "schema_use",
      "options": {
       "widgetType": "text",
       "autoCreated": false,
       "validationRegex": null
      }
     }
    }
   }
  },
  "language_info": {
   "name": "sql"
  }
 },
 "nbformat": 4,
 "nbformat_minor": 0
}
