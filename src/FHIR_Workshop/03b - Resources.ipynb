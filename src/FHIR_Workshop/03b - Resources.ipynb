{
 "cells": [
  {
   "cell_type": "markdown",
   "metadata": {
    "application/vnd.databricks.v1+cell": {
     "cellMetadata": {},
     "inputWidgets": {},
     "nuid": "5e020327-b833-4e6b-a9dd-4d0e7829c55c",
     "showTitle": false,
     "tableResultSettingsMap": {},
     "title": ""
    }
   },
   "source": [
    "*Note:  This notebooks should be executed against a Serverelss SQL Warehouse.*"
   ]
  },
  {
   "cell_type": "markdown",
   "metadata": {
    "application/vnd.databricks.v1+cell": {
     "cellMetadata": {},
     "inputWidgets": {},
     "nuid": "8e0726e2-0828-4d5d-8fe8-828f99034f58",
     "showTitle": false,
     "tableResultSettingsMap": {},
     "title": ""
    }
   },
   "source": [
    "# Interacting with the FHIR Bundles Entry Elements to Parse Resources \n",
    "***"
   ]
  },
  {
   "cell_type": "markdown",
   "metadata": {
    "application/vnd.databricks.v1+cell": {
     "cellMetadata": {},
     "inputWidgets": {},
     "nuid": "19025241-0c52-4d81-9e72-fa200bc37a4b",
     "showTitle": false,
     "tableResultSettingsMap": {},
     "title": ""
    }
   },
   "source": [
    "## Notebook Setup\n",
    "***"
   ]
  },
  {
   "cell_type": "code",
   "execution_count": 0,
   "metadata": {
    "application/vnd.databricks.v1+cell": {
     "cellMetadata": {
      "byteLimit": 2048000,
      "rowLimit": 10000
     },
     "inputWidgets": {},
     "nuid": "f8cb1802-f5ab-49c2-b08c-d4fcae47effc",
     "showTitle": false,
     "tableResultSettingsMap": {},
     "title": ""
    }
   },
   "outputs": [],
   "source": [
    "DECLARE OR REPLACE VARIABLE schema_use STRING DEFAULT REPLACE(SPLIT(current_user(), '@')[0], '.', '_');"
   ]
  },
  {
   "cell_type": "code",
   "execution_count": 0,
   "metadata": {
    "application/vnd.databricks.v1+cell": {
     "cellMetadata": {
      "byteLimit": 2048000,
      "rowLimit": 10000
     },
     "inputWidgets": {},
     "nuid": "8bb56327-2b65-4a4c-9f79-eace6a58ddde",
     "showTitle": false,
     "tableResultSettingsMap": {},
     "title": ""
    }
   },
   "outputs": [],
   "source": [
    "USE IDENTIFIER(\"fhir_workshop.\" || schema_use);"
   ]
  },
  {
   "cell_type": "code",
   "execution_count": 0,
   "metadata": {
    "application/vnd.databricks.v1+cell": {
     "cellMetadata": {
      "byteLimit": 2048000,
      "rowLimit": 10000
     },
     "inputWidgets": {},
     "nuid": "84e0a7d7-9298-4380-ac86-fc86e60ec1ab",
     "showTitle": false,
     "tableResultSettingsMap": {},
     "title": ""
    }
   },
   "outputs": [],
   "source": [
    "SELECT current_catalog(), current_schema();"
   ]
  },
  {
   "cell_type": "markdown",
   "metadata": {
    "application/vnd.databricks.v1+cell": {
     "cellMetadata": {},
     "inputWidgets": {},
     "nuid": "a263f0cd-1d7f-4613-a7b1-33a180585306",
     "showTitle": false,
     "tableResultSettingsMap": {},
     "title": ""
    }
   },
   "source": [
    "## FHIR Bundle Meta \n",
    "***\n",
    "\n",
    "Depending on the source of the FHIR bundle there may be a full set of metadata about the bundle itself.  This is standard practice for providers that clean and standardize your incoming FHIR data, or convert your C-CDAs, ADTs, or other clinical data to the FHIR format such as Redox.  Note that Synthea doesn't include a bundle meta, therefore we're not going to fully parse the Meta object quite as much as we would if it were available.  We do have one Redox JSON loaded into our bronze tables that we can at least review.  Normally we'd split the Meta object object into separate columns exactly like we would for the Bundle's \"entry resources\" but that would be overkill for this class. \n",
    "\n",
    "What is helpful however is to have a place for items such as the `file_metadata` and then `ingest_time` avaialble in a silver table so that we don't need to continue to bring that along for the ride with the Resource tables.  "
   ]
  },
  {
   "cell_type": "code",
   "execution_count": 0,
   "metadata": {
    "application/vnd.databricks.v1+cell": {
     "cellMetadata": {
      "byteLimit": 2048000,
      "rowLimit": 10000
     },
     "inputWidgets": {},
     "nuid": "ce5d20d0-30b7-4883-846c-cf89dda8e2db",
     "showTitle": false,
     "tableResultSettingsMap": {},
     "title": ""
    }
   },
   "outputs": [],
   "source": [
    "DROP TABLE IF EXISTS fhir_bundle_metadata;"
   ]
  },
  {
   "cell_type": "code",
   "execution_count": 0,
   "metadata": {
    "application/vnd.databricks.v1+cell": {
     "cellMetadata": {
      "byteLimit": 2048000,
      "rowLimit": 10000
     },
     "inputWidgets": {},
     "nuid": "d289497b-a07b-4cad-bc82-51096ed7f344",
     "showTitle": false,
     "tableResultSettingsMap": {},
     "title": ""
    }
   },
   "outputs": [],
   "source": [
    "CREATE OR REFRESH STREAMING TABLE fhir_bundle_metadata \n",
    "COMMENT 'Original FHIR Bundle Metadata'\n",
    "TBLPROPERTIES (\n",
    "  'delta.enableChangeDataFeed' = 'true'\n",
    "  ,'delta.enableDeletionVectors' = 'true'\n",
    "  ,'delta.enableRowTracking' = 'true'\n",
    "  ,'quality' = 'bronze'\n",
    "  ,'pipelines.channel' = 'PREVIEW'\n",
    "  ,'delta.feature.variantType-preview' = 'supported'\n",
    ")\n",
    "AS SELECT\n",
    "  bundle_uuid\n",
    "  ,file_metadata\n",
    "  ,ingest_time\n",
    "FROM STREAM (fhir_bronze_variant);"
   ]
  },
  {
   "cell_type": "code",
   "execution_count": 0,
   "metadata": {
    "application/vnd.databricks.v1+cell": {
     "cellMetadata": {
      "byteLimit": 2048000,
      "rowLimit": 10000
     },
     "inputWidgets": {},
     "nuid": "16233f41-b2f6-4346-8561-641cbf02e29e",
     "showTitle": false,
     "tableResultSettingsMap": {},
     "title": ""
    }
   },
   "outputs": [],
   "source": [
    "DROP TABLE IF EXISTS fhir_resources;"
   ]
  },
  {
   "cell_type": "code",
   "execution_count": 0,
   "metadata": {
    "application/vnd.databricks.v1+cell": {
     "cellMetadata": {
      "byteLimit": 2048000,
      "rowLimit": 10000
     },
     "inputWidgets": {},
     "nuid": "68801116-a48e-4350-930b-d9f6188af4e5",
     "showTitle": false,
     "tableResultSettingsMap": {},
     "title": ""
    }
   },
   "outputs": [],
   "source": [
    "CREATE OR REFRESH STREAMING TABLE fhir_resources \n",
    "COMMENT 'Exploded FHIR Resources'\n",
    "TBLPROPERTIES (\n",
    "  'delta.enableChangeDataFeed' = 'true'\n",
    "  ,'delta.enableDeletionVectors' = 'true'\n",
    "  ,'delta.enableRowTracking' = 'true'\n",
    "  ,'quality' = 'bronze'\n",
    "  ,'pipelines.channel' = 'PREVIEW'\n",
    "  ,'delta.feature.variantType-preview' = 'supported'\n",
    ")\n",
    "AS SELECT\n",
    "  bundle_uuid\n",
    "  ,CAST(entry.value:fullUrl AS STRING) as fullUrl\n",
    "  ,CAST(entry.value:resource.resourceType AS STRING) as resourceType\n",
    "  ,resource.*\n",
    "FROM \n",
    "  STREAM(fhir_bronze_variant)\n",
    "  ,LATERAL variant_explode(fhir:entry) as entry\n",
    "  ,LATERAL variant_explode(entry.value:resource) as resource"
   ]
  },
  {
   "cell_type": "code",
   "execution_count": 0,
   "metadata": {
    "application/vnd.databricks.v1+cell": {
     "cellMetadata": {
      "byteLimit": 2048000,
      "rowLimit": 10000
     },
     "inputWidgets": {},
     "nuid": "9b1bc15d-8de5-49da-b7ce-a97e34e5a6ab",
     "showTitle": false,
     "tableResultSettingsMap": {},
     "title": ""
    }
   },
   "outputs": [],
   "source": [
    "SELECT * FROM fhir_resources;"
   ]
  },
  {
   "cell_type": "code",
   "execution_count": 0,
   "metadata": {
    "application/vnd.databricks.v1+cell": {
     "cellMetadata": {
      "byteLimit": 2048000,
      "rowLimit": 10000
     },
     "inputWidgets": {},
     "nuid": "341605f9-60e8-41ab-abfb-4b149f1c52c6",
     "showTitle": false,
     "tableResultSettingsMap": {},
     "title": ""
    }
   },
   "outputs": [],
   "source": [
    "DROP TABLE IF EXISTS fhir_resource_schemas;"
   ]
  },
  {
   "cell_type": "code",
   "execution_count": 0,
   "metadata": {
    "application/vnd.databricks.v1+cell": {
     "cellMetadata": {
      "byteLimit": 2048000,
      "rowLimit": 10000
     },
     "inputWidgets": {},
     "nuid": "61d18925-df14-4354-836a-b9f22c9a69f8",
     "showTitle": false,
     "tableResultSettingsMap": {},
     "title": ""
    }
   },
   "outputs": [],
   "source": [
    "CREATE OR REFRESH STREAMING TABLE fhir_resource_schemas \n",
    "COMMENT 'Schemas of inferred from FHIR Resource Variant Data Types'\n",
    "TBLPROPERTIES (\n",
    "  'delta.enableChangeDataFeed' = 'true'\n",
    "  ,'delta.enableDeletionVectors' = 'true'\n",
    "  ,'delta.enableRowTracking' = 'true'\n",
    "  ,'quality' = 'bronze'\n",
    "  ,'pipelines.channel' = 'PREVIEW'\n",
    "  ,'delta.feature.variantType-preview' = 'supported'\n",
    ")\n",
    "AS SELECT\n",
    "  resourceType\n",
    "  ,key as resource\n",
    "  ,schema_of_variant_agg(value) as schema_of_variant\n",
    "  ,REPLACE(schema_of_variant_agg(value), 'OBJECT', 'STRUCT') as schema_as_struct\n",
    "FROM STREAM(fhir_resources)\n",
    "GROUP BY \n",
    "  resourceType\n",
    "  ,key"
   ]
  },
  {
   "cell_type": "code",
   "execution_count": 0,
   "metadata": {
    "application/vnd.databricks.v1+cell": {
     "cellMetadata": {
      "byteLimit": 2048000,
      "rowLimit": 10000
     },
     "inputWidgets": {},
     "nuid": "fd7b1e25-3fe1-4fe2-bfa5-d3f0790a8de7",
     "showTitle": false,
     "tableResultSettingsMap": {},
     "title": ""
    }
   },
   "outputs": [],
   "source": [
    "select * from fhir_resource_schemas;"
   ]
  }
 ],
 "metadata": {
  "application/vnd.databricks.v1+notebook": {
   "computePreferences": null,
   "dashboards": [],
   "environmentMetadata": {
    "base_environment": "",
    "environment_version": "2"
   },
   "language": "sql",
   "notebookMetadata": {
    "pythonIndentUnit": 4
   },
   "notebookName": "03b - Resources",
   "widgets": {}
  },
  "language_info": {
   "name": "sql"
  }
 },
 "nbformat": 4,
 "nbformat_minor": 0
}
