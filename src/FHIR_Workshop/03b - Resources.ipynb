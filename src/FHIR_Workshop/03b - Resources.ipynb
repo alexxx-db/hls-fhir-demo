{
 "cells": [
  {
   "cell_type": "markdown",
   "metadata": {
    "application/vnd.databricks.v1+cell": {
     "cellMetadata": {
      "byteLimit": 2048000,
      "rowLimit": 10000
     },
     "inputWidgets": {},
     "nuid": "5e020327-b833-4e6b-a9dd-4d0e7829c55c",
     "showTitle": false,
     "tableResultSettingsMap": {},
     "title": ""
    }
   },
   "source": [
    "*Note:  This notebooks should be executed against a Serverelss SQL Warehouse.*"
   ]
  },
  {
   "cell_type": "markdown",
   "metadata": {
    "application/vnd.databricks.v1+cell": {
     "cellMetadata": {
      "byteLimit": 2048000,
      "rowLimit": 10000
     },
     "inputWidgets": {},
     "nuid": "8e0726e2-0828-4d5d-8fe8-828f99034f58",
     "showTitle": false,
     "tableResultSettingsMap": {},
     "title": ""
    }
   },
   "source": [
    "# Interacting with the FHIR Bundles Entry Elements to Parse Resources \n",
    "***"
   ]
  },
  {
   "cell_type": "markdown",
   "metadata": {
    "application/vnd.databricks.v1+cell": {
     "cellMetadata": {
      "byteLimit": 2048000,
      "rowLimit": 10000
     },
     "inputWidgets": {},
     "nuid": "19025241-0c52-4d81-9e72-fa200bc37a4b",
     "showTitle": false,
     "tableResultSettingsMap": {},
     "title": ""
    }
   },
   "source": [
    "## Notebook Setup\n",
    "***"
   ]
  },
  {
   "cell_type": "code",
   "execution_count": 0,
   "metadata": {
    "application/vnd.databricks.v1+cell": {
     "cellMetadata": {
      "byteLimit": 2048000,
      "rowLimit": 10000
     },
     "inputWidgets": {},
     "nuid": "f8cb1802-f5ab-49c2-b08c-d4fcae47effc",
     "showTitle": true,
     "tableResultSettingsMap": {},
     "title": "Declare a Variable to dynmaically set our schema to Use"
    }
   },
   "outputs": [],
   "source": [
    "DECLARE OR REPLACE VARIABLE schema_use STRING DEFAULT REPLACE(SPLIT(current_user(), '@')[0], '.', '_');"
   ]
  },
  {
   "cell_type": "code",
   "execution_count": 0,
   "metadata": {
    "application/vnd.databricks.v1+cell": {
     "cellMetadata": {
      "byteLimit": 2048000,
      "rowLimit": 10000
     },
     "inputWidgets": {},
     "nuid": "8bb56327-2b65-4a4c-9f79-eace6a58ddde",
     "showTitle": true,
     "tableResultSettingsMap": {},
     "title": "Set the Catalog and Schema to Use for the Notebook"
    }
   },
   "outputs": [],
   "source": [
    "USE IDENTIFIER(\"fhir_workshop.\" || schema_use);"
   ]
  },
  {
   "cell_type": "code",
   "execution_count": 0,
   "metadata": {
    "application/vnd.databricks.v1+cell": {
     "cellMetadata": {
      "byteLimit": 2048000,
      "rowLimit": 10000
     },
     "inputWidgets": {},
     "nuid": "84e0a7d7-9298-4380-ac86-fc86e60ec1ab",
     "showTitle": true,
     "tableResultSettingsMap": {},
     "title": "Verify the Catalog and Schema are Set Correctly"
    }
   },
   "outputs": [],
   "source": [
    "SELECT current_catalog(), current_schema();"
   ]
  },
  {
   "cell_type": "markdown",
   "metadata": {
    "application/vnd.databricks.v1+cell": {
     "cellMetadata": {
      "byteLimit": 2048000,
      "rowLimit": 10000
     },
     "inputWidgets": {},
     "nuid": "14570847-9d45-4a40-ba7c-2291362b0323",
     "showTitle": false,
     "tableResultSettingsMap": {},
     "title": ""
    }
   },
   "source": [
    "## Extracting and Exploding the FHIR Resources \n",
    "***\n",
    "\n",
    "The FHIR Entry is an array elements that contain the FHIR bundles's Resources, which is the primary data that we need to extract from the bundle and make silver tables.  This will allow us to much more easily integrate the data with other systems, check with duplicates, or apply CDC on any final reporting tables we might create.  \n",
    "\n",
    "Note that the tables we're going to create here for the Resources are just the beginning.  We will have stream ingested the FHIR bundles to make them easy to query and join together to form the relevant information they were intended to provide us, but these tables are not the final destination of this data.  \n",
    "\n",
    "For example, as a Health Plan we very likely have different member ids than what the ACO, Medical Home, lab, Hosptial etc uses.  We may even have internal \"belly button ids\" that represent the member over the course of their lifetime that differs from what's on their Subscriber ID cards.  This sort of specific enterprise enrichment is not going to be part of the FHIR bundles themselves and would occur as further ETL in your Lakehouse.  \n",
    "\n",
    "These Resource tables simply make that next step much easier, while also giving us a platform for real-time reporting, machine learning and GenAI to take place while the data is in motion.  \n",
    "\n",
    "The very first thing we'll do is explode the Entry array long, and begin to capture the relevant information that will allow us to filter and then pivot later.  "
   ]
  },
  {
   "cell_type": "code",
   "execution_count": 0,
   "metadata": {
    "application/vnd.databricks.v1+cell": {
     "cellMetadata": {
      "byteLimit": 2048000,
      "rowLimit": 10000
     },
     "inputWidgets": {},
     "nuid": "16233f41-b2f6-4346-8561-641cbf02e29e",
     "showTitle": true,
     "tableResultSettingsMap": {},
     "title": "Full Refresh of the fhir_resources table"
    }
   },
   "outputs": [],
   "source": [
    "DROP TABLE IF EXISTS fhir_resources;"
   ]
  },
  {
   "cell_type": "markdown",
   "metadata": {
    "application/vnd.databricks.v1+cell": {
     "cellMetadata": {
      "byteLimit": 2048000,
      "rowLimit": 10000
     },
     "inputWidgets": {},
     "nuid": "eef94bbf-3d11-4c48-95d8-80164f5c0a69",
     "showTitle": false,
     "tableResultSettingsMap": {},
     "title": ""
    }
   },
   "source": [
    "We're able to explode our variant data arrays long by using the `variant_explode` function.  Note that in SQL, we're exploding as part of the `FROM` statement.  This allows us to write SQL against the exploded data as though it were the source of another VARIANT table.  The `LATERAL` statement automatically takes care of any grouping or joining that would otherwise be required.  "
   ]
  },
  {
   "cell_type": "code",
   "execution_count": 0,
   "metadata": {
    "application/vnd.databricks.v1+cell": {
     "cellMetadata": {
      "byteLimit": 2048000,
      "rowLimit": 10000
     },
     "inputWidgets": {},
     "nuid": "a0c8a0e2-666e-4437-a2a8-9704c52c47ef",
     "showTitle": true,
     "tableResultSettingsMap": {},
     "title": "Declare the FHIR Resources Streaming Table Statement"
    }
   },
   "outputs": [],
   "source": [
    "DECLARE OR REPLACE VARIABLE fhir_resources_stmnt STRING;\n",
    "\n",
    "SET VARIABLE fhir_resources_stmnt = \"\n",
    "CREATE OR REFRESH STREAMING TABLE fhir_resources (\n",
    "  resource_uuid STRING NOT NULL PRIMARY KEY COMMENT 'Uniquie identifier for the FHIR Resource in a bundle.'\n",
    "  ,bundle_uuid STRING NOT NULL COMMENT 'Unique identifier for the FHIR bundle.'\n",
    "  ,fullUrl STRING NOT NULL COMMENT 'The full URL of the resource in the entry array.  This serves as the primary key for the resource and later is used to join related resources from within a bundle.'\n",
    "  ,resourceType STRING NOT NULL COMMENT 'The type of resource from the bundles entry array.'\n",
    "  ,pos INT COMMENT 'The position of the resource element from within the specific resource itself.  Note that a bundle my have many of the same resources inside the entry array and positioning may not be consistent across resources or bundles.'\n",
    "  ,key STRING NOT NULL COMMENT 'The name of the resources element extracted. These will serve as column names in the resource target tables.'\n",
    "  ,value VARIANT COMMENT 'The value of the resource element extracted.  This will be a variant type and may contain nested variants.'\n",
    "  ,CONSTRAINT fk_bundle_meta_bundle_uuid FOREIGN KEY (bundle_uuid) REFERENCES fhir_workshop.\" || schema_use || \".bundle_meta(bundle_uuid)\n",
    ")\n",
    "COMMENT 'Exploded FHIR Resources'\n",
    "TBLPROPERTIES (\n",
    "  'delta.enableChangeDataFeed' = 'true'\n",
    "  ,'delta.enableDeletionVectors' = 'true'\n",
    "  ,'delta.enableRowTracking' = 'true'\n",
    "  ,'quality' = 'bronze'\n",
    "  ,'pipelines.channel' = 'PREVIEW'\n",
    "  ,'delta.feature.variantType-preview' = 'supported'\n",
    ")\n",
    "AS SELECT\n",
    "  sha2(concat(bundle_uuid, entry.value:fullUrl::string), 256) as resource_uuid\n",
    "  ,bundle_uuid\n",
    "  ,CAST(entry.value:fullUrl AS STRING) as fullUrl\n",
    "  ,CAST(entry.value:resource.resourceType AS STRING) as resourceType\n",
    "  ,resource.*\n",
    "FROM \n",
    "  STREAM(fhir_bronze_variant)\n",
    "  ,LATERAL variant_explode(fhir:entry) as entry\n",
    "  ,LATERAL variant_explode(entry.value:resource) as resource\n",
    "\";\n",
    "\n",
    "SELECT fhir_resources_stmnt;"
   ]
  },
  {
   "cell_type": "markdown",
   "metadata": {
    "application/vnd.databricks.v1+cell": {
     "cellMetadata": {
      "byteLimit": 2048000,
      "rowLimit": 10000
     },
     "inputWidgets": {},
     "nuid": "5c984e74-ad6c-4e49-aa43-63b4f6203b13",
     "showTitle": false,
     "tableResultSettingsMap": {},
     "title": ""
    }
   },
   "source": [
    "We had to use a declared statement here to dynamically set the schema that our foriegn key references.  "
   ]
  },
  {
   "cell_type": "code",
   "execution_count": 0,
   "metadata": {
    "application/vnd.databricks.v1+cell": {
     "cellMetadata": {
      "byteLimit": 2048000,
      "rowLimit": 10000
     },
     "inputWidgets": {},
     "nuid": "52bcc315-1f08-46bd-980c-a7f589247003",
     "showTitle": true,
     "tableResultSettingsMap": {},
     "title": "Execute the FHIR Resources Streaming Table Statement"
    }
   },
   "outputs": [],
   "source": [
    "EXECUTE IMMEDIATE fhir_resources_stmnt;"
   ]
  },
  {
   "cell_type": "code",
   "execution_count": 0,
   "metadata": {
    "application/vnd.databricks.v1+cell": {
     "cellMetadata": {
      "byteLimit": 2048000,
      "rowLimit": 10000
     },
     "inputWidgets": {},
     "nuid": "ebd87935-184c-4ef0-a604-ed23bffc70f0",
     "showTitle": true,
     "tableResultSettingsMap": {},
     "title": "Show Create Table Statement - Helpful for Writing DDL!"
    }
   },
   "outputs": [],
   "source": [
    "show create table fhir_resources;"
   ]
  },
  {
   "cell_type": "code",
   "execution_count": 0,
   "metadata": {
    "application/vnd.databricks.v1+cell": {
     "cellMetadata": {
      "byteLimit": 2048000,
      "rowLimit": 10000
     },
     "inputWidgets": {},
     "nuid": "9b1bc15d-8de5-49da-b7ce-a97e34e5a6ab",
     "showTitle": true,
     "tableResultSettingsMap": {},
     "title": "Review the new table"
    }
   },
   "outputs": [],
   "source": [
    "SELECT * FROM fhir_resources;"
   ]
  },
  {
   "cell_type": "markdown",
   "metadata": {
    "application/vnd.databricks.v1+cell": {
     "cellMetadata": {
      "byteLimit": 2048000,
      "rowLimit": 10000
     },
     "inputWidgets": {},
     "nuid": "3a12d9de-b43f-456c-b4fe-d098eb88cf0d",
     "showTitle": false,
     "tableResultSettingsMap": {},
     "title": ""
    }
   },
   "source": [
    "## Variant is Great but...\n",
    "***\n",
    "\n",
    "Variant makes our job of parsing even the most complex JSON files much easier, however at some point we want to be able to apply data types to the data that we've extracted instead of having to do it directly with a cast each time we want to select an element.  \n",
    "\n",
    "This is especially true when we want to be able to aggregate different pieces of the data together for AI/BI dashboards, or use the output for machine learning models.  \n",
    "\n",
    "Thankfully we have some other functions at are disposal that make more sense to use now that our variant data elemnts are much smaller (and therefore less likely to change dramatically from bundle to bundle).  \n",
    "\n",
    "* `schema_of_variant` returns a string value of the schema for a variant object. \n",
    "* `schema_of_variant_agg` may be used to get a more general schema of the variant object by aggregating it over a grouping variable, such as the *resourceType* and *key* from our `fhir_resources` table.  "
   ]
  },
  {
   "cell_type": "code",
   "execution_count": 0,
   "metadata": {
    "application/vnd.databricks.v1+cell": {
     "cellMetadata": {
      "byteLimit": 2048000,
      "rowLimit": 10000
     },
     "inputWidgets": {},
     "nuid": "341605f9-60e8-41ab-abfb-4b149f1c52c6",
     "showTitle": true,
     "tableResultSettingsMap": {},
     "title": "Full Refresh of the FHIR Resource Schemas Streaming Table"
    }
   },
   "outputs": [],
   "source": [
    "DROP TABLE IF EXISTS fhir_resource_schemas;"
   ]
  },
  {
   "cell_type": "code",
   "execution_count": 0,
   "metadata": {
    "application/vnd.databricks.v1+cell": {
     "cellMetadata": {
      "byteLimit": 2048000,
      "rowLimit": 10000
     },
     "inputWidgets": {},
     "nuid": "61d18925-df14-4354-836a-b9f22c9a69f8",
     "showTitle": true,
     "tableResultSettingsMap": {},
     "title": "Create or Refresh the FHIR Resource Schemas Streaming Table"
    }
   },
   "outputs": [],
   "source": [
    "CREATE OR REFRESH STREAMING TABLE fhir_resource_schemas (\n",
    "  resourceType STRING COMMENT 'The type of resource from the bundles entry array.'\n",
    "  ,column_name STRING COMMENT 'The name of the resources element extracted. These will serve as column names in the resource target tables.'\n",
    "  ,schema_of_variant STRING COMMENT 'The schema of the resource element extracted as VARIANT.  The schema may be applied to the data elements to change into the elements official datatype.  Note that this is based on what was recieved in the bundles, which may include many nested extentions and is therefore more robust than schemas from the FHIR specefication documents.'\n",
    "  ,schema_as_struct STRING COMMENT 'The same schema as the schema_of_variant, but with STRUCT instead of OBJECT. (Note that Matt is still determining if this is needed or not.)'\n",
    ")\n",
    "COMMENT 'Schemas of inferred from FHIR Resource Variant Data Types'\n",
    "TBLPROPERTIES (\n",
    "  'delta.enableChangeDataFeed' = 'true'\n",
    "  ,'delta.enableDeletionVectors' = 'true'\n",
    "  ,'delta.enableRowTracking' = 'true'\n",
    "  ,'quality' = 'bronze'\n",
    "  ,'pipelines.channel' = 'PREVIEW'\n",
    "  ,'delta.feature.variantType-preview' = 'supported'\n",
    ")\n",
    "AS SELECT\n",
    "  resourceType\n",
    "  ,key as column_name\n",
    "  ,schema_of_variant_agg(value) as schema_of_variant\n",
    "  ,REPLACE(schema_of_variant_agg(value), 'OBJECT', 'STRUCT') as schema_as_struct\n",
    "FROM STREAM(fhir_resources)\n",
    "GROUP BY \n",
    "  resourceType\n",
    "  ,key"
   ]
  },
  {
   "cell_type": "code",
   "execution_count": 0,
   "metadata": {
    "application/vnd.databricks.v1+cell": {
     "cellMetadata": {
      "byteLimit": 2048000,
      "rowLimit": 10000
     },
     "inputWidgets": {},
     "nuid": "6b385c8d-d5a8-4f84-bd58-54df1ed3974d",
     "showTitle": true,
     "tableResultSettingsMap": {},
     "title": "Show the CREATE TABLE statement"
    }
   },
   "outputs": [],
   "source": [
    "SHOW CREATE TABLE fhir_resource_schemas;"
   ]
  },
  {
   "cell_type": "code",
   "execution_count": 0,
   "metadata": {
    "application/vnd.databricks.v1+cell": {
     "cellMetadata": {
      "byteLimit": 2048000,
      "rowLimit": 10000
     },
     "inputWidgets": {},
     "nuid": "fd7b1e25-3fe1-4fe2-bfa5-d3f0790a8de7",
     "showTitle": true,
     "tableResultSettingsMap": {},
     "title": "Review the FHIR Resource Schemas Returned"
    }
   },
   "outputs": [],
   "source": [
    "select * from fhir_resource_schemas;"
   ]
  }
 ],
 "metadata": {
  "application/vnd.databricks.v1+notebook": {
   "computePreferences": null,
   "dashboards": [],
   "environmentMetadata": {
    "base_environment": "",
    "environment_version": "2"
   },
   "language": "sql",
   "notebookMetadata": {
    "pythonIndentUnit": 4
   },
   "notebookName": "03b - Resources",
   "widgets": {}
  },
  "language_info": {
   "name": "sql"
  }
 },
 "nbformat": 4,
 "nbformat_minor": 0
}
