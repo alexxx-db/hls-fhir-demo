{
 "cells": [
  {
   "cell_type": "code",
   "execution_count": 0,
   "metadata": {
    "application/vnd.databricks.v1+cell": {
     "cellMetadata": {
      "byteLimit": 2048000,
      "rowLimit": 10000
     },
     "inputWidgets": {},
     "nuid": "31ae3182-4a31-4a7d-9cbf-0877f237f98b",
     "showTitle": false,
     "tableResultSettingsMap": {},
     "title": ""
    }
   },
   "outputs": [],
   "source": [
    "DECLARE OR REPLACE VARIABLE catalog_use STRING DEFAULT 'fhir_workshop';\n",
    "DECLARE OR REPLACE VARIABLE schema_use STRING DEFAULT REPLACE(SPLIT(current_user(), '@')[0], '.', '_');"
   ]
  },
  {
   "cell_type": "code",
   "execution_count": 0,
   "metadata": {
    "application/vnd.databricks.v1+cell": {
     "cellMetadata": {
      "byteLimit": 2048000,
      "rowLimit": 10000
     },
     "inputWidgets": {},
     "nuid": "3b20e07e-4a3f-46f6-aa28-52a77a2c089b",
     "showTitle": false,
     "tableResultSettingsMap": {},
     "title": ""
    }
   },
   "outputs": [],
   "source": [
    "SET VARIABLE catalog_use = :catalog_use; \n",
    "SET VARIABLE schema_use = :schema_use; "
   ]
  },
  {
   "cell_type": "code",
   "execution_count": 0,
   "metadata": {
    "application/vnd.databricks.v1+cell": {
     "cellMetadata": {
      "byteLimit": 2048000,
      "rowLimit": 10000
     },
     "inputWidgets": {},
     "nuid": "c362d7f2-57eb-483e-8974-bd6e102feb6c",
     "showTitle": false,
     "tableResultSettingsMap": {},
     "title": ""
    }
   },
   "outputs": [],
   "source": [
    "USE IDENTIFIER(catalog_use || \".\" || schema_use);"
   ]
  },
  {
   "cell_type": "code",
   "execution_count": 0,
   "metadata": {
    "application/vnd.databricks.v1+cell": {
     "cellMetadata": {
      "byteLimit": 2048000,
      "rowLimit": 10000
     },
     "inputWidgets": {},
     "nuid": "58f2522e-ed43-434d-bcca-ab66ae45e57d",
     "showTitle": false,
     "tableResultSettingsMap": {},
     "title": ""
    }
   },
   "outputs": [],
   "source": [
    "select current_catalog(), current_schema();"
   ]
  },
  {
   "cell_type": "code",
   "execution_count": 0,
   "metadata": {
    "application/vnd.databricks.v1+cell": {
     "cellMetadata": {
      "byteLimit": 2048000,
      "rowLimit": 10000
     },
     "inputWidgets": {},
     "nuid": "89e5743b-8173-4765-aa33-bacc372df636",
     "showTitle": false,
     "tableResultSettingsMap": {},
     "title": ""
    }
   },
   "outputs": [],
   "source": [
    "DECLARE OR REPLACE VARIABLE fhir_resources_stmnt STRING;\n",
    "\n",
    "SET VARIABLE fhir_resources_stmnt = \"\n",
    "CREATE OR REFRESH STREAMING TABLE fhir_resources (\n",
    "  resource_uuid STRING NOT NULL PRIMARY KEY COMMENT 'Uniquie identifier for the FHIR Resource in a bundle.'\n",
    "  ,bundle_uuid STRING NOT NULL COMMENT 'Unique identifier for the FHIR bundle.'\n",
    "  ,fullUrl STRING NOT NULL COMMENT 'The full URL of the resource in the entry array.  This serves as the primary key for the resource and later is used to join related resources from within a bundle.'\n",
    "  ,resourceType STRING NOT NULL COMMENT 'The type of resource from the bundles entry array.'\n",
    "  ,pos INT COMMENT 'The position of the resource element from within the specific resource itself.  Note that a bundle my have many of the same resources inside the entry array and positioning may not be consistent across resources or bundles.'\n",
    "  ,key STRING NOT NULL COMMENT 'The name of the resources element extracted. These will serve as column names in the resource target tables.'\n",
    "  ,value VARIANT COMMENT 'The value of the resource element extracted.  This will be a variant type and may contain nested variants.'\n",
    "  ,CONSTRAINT fk_bundle_meta_bundle_uuid FOREIGN KEY (bundle_uuid) REFERENCES \" || catalog_use || \".\" || schema_use || \".bundle_meta(bundle_uuid)\n",
    ")\n",
    "COMMENT 'Exploded FHIR Resources'\n",
    "TBLPROPERTIES (\n",
    "  'delta.enableChangeDataFeed' = 'true'\n",
    "  ,'delta.enableDeletionVectors' = 'true'\n",
    "  ,'delta.enableRowTracking' = 'true'\n",
    "  ,'quality' = 'bronze'\n",
    "  ,'pipelines.channel' = 'PREVIEW'\n",
    "  ,'delta.feature.variantType-preview' = 'supported'\n",
    ")\n",
    "AS SELECT\n",
    "  sha2(concat(bundle_uuid, entry.value:fullUrl::string), 256) as resource_uuid\n",
    "  ,bundle_uuid\n",
    "  ,CAST(entry.value:fullUrl AS STRING) as fullUrl\n",
    "  ,CAST(entry.value:resource.resourceType AS STRING) as resourceType\n",
    "  ,resource.*\n",
    "FROM \n",
    "  STREAM(fhir_bronze_variant)\n",
    "  ,LATERAL variant_explode(fhir:entry) as entry\n",
    "  ,LATERAL variant_explode(entry.value:resource) as resource\n",
    "\";\n",
    "\n",
    "SELECT fhir_resources_stmnt;"
   ]
  },
  {
   "cell_type": "code",
   "execution_count": 0,
   "metadata": {
    "application/vnd.databricks.v1+cell": {
     "cellMetadata": {
      "byteLimit": 2048000,
      "rowLimit": 10000
     },
     "inputWidgets": {},
     "nuid": "c5dd459f-37d2-4ab1-be5f-004b3a9490a5",
     "showTitle": false,
     "tableResultSettingsMap": {},
     "title": ""
    }
   },
   "outputs": [],
   "source": [
    "EXECUTE IMMEDIATE fhir_resources_stmnt;"
   ]
  },
  {
   "cell_type": "code",
   "execution_count": 0,
   "metadata": {
    "application/vnd.databricks.v1+cell": {
     "cellMetadata": {
      "byteLimit": 2048000,
      "rowLimit": 10000
     },
     "inputWidgets": {},
     "nuid": "a60d729b-7a16-47d0-adaa-a18a607bc6e8",
     "showTitle": false,
     "tableResultSettingsMap": {},
     "title": ""
    }
   },
   "outputs": [],
   "source": [
    "CREATE OR REFRESH STREAMING TABLE fhir_resource_schemas (\n",
    "  resourceType STRING COMMENT 'The type of resource from the bundles entry array.'\n",
    "  ,column_name STRING COMMENT 'The name of the resources element extracted. These will serve as column names in the resource target tables.'\n",
    "  ,schema_of_variant STRING COMMENT 'The schema of the resource element extracted as VARIANT.  The schema may be applied to the data elements to change into the elements official datatype.  Note that this is based on what was recieved in the bundles, which may include many nested extentions and is therefore more robust than schemas from the FHIR specefication documents.'\n",
    "  ,schema_as_struct STRING COMMENT 'The same schema as the schema_of_variant, but with STRUCT instead of OBJECT. (Note that Matt is still determining if this is needed or not.)'\n",
    ")\n",
    "COMMENT 'Schemas of inferred from FHIR Resource Variant Data Types'\n",
    "TBLPROPERTIES (\n",
    "  'delta.enableChangeDataFeed' = 'true'\n",
    "  ,'delta.enableDeletionVectors' = 'true'\n",
    "  ,'delta.enableRowTracking' = 'true'\n",
    "  ,'quality' = 'bronze'\n",
    "  ,'pipelines.channel' = 'PREVIEW'\n",
    "  ,'delta.feature.variantType-preview' = 'supported'\n",
    ")\n",
    "AS SELECT\n",
    "  resourceType\n",
    "  ,key as column_name\n",
    "  ,schema_of_variant_agg(value) as schema_of_variant\n",
    "  ,REPLACE(schema_of_variant_agg(value), 'OBJECT', 'STRUCT') as schema_as_struct\n",
    "FROM STREAM(fhir_resources)\n",
    "GROUP BY \n",
    "  resourceType\n",
    "  ,key"
   ]
  }
 ],
 "metadata": {
  "application/vnd.databricks.v1+notebook": {
   "computePreferences": null,
   "dashboards": [],
   "environmentMetadata": {
    "base_environment": "",
    "environment_version": "2"
   },
   "language": "sql",
   "notebookMetadata": {},
   "notebookName": "w02b - Resources",
   "widgets": {
    "catalog_use": {
     "currentValue": "fhir_workshop",
     "nuid": "0daa257b-7036-4c9f-8662-a854ccd33621",
     "typedWidgetInfo": {
      "autoCreated": false,
      "defaultValue": "fhir_workshop",
      "label": "",
      "name": "catalog_use",
      "options": {
       "widgetDisplayType": "Text",
       "validationRegex": null
      },
      "parameterDataType": "String"
     },
     "widgetInfo": {
      "widgetType": "text",
      "defaultValue": "fhir_workshop",
      "label": "",
      "name": "catalog_use",
      "options": {
       "widgetType": "text",
       "autoCreated": false,
       "validationRegex": null
      }
     }
    },
    "schema_use": {
     "currentValue": "synthea_55k",
     "nuid": "5771c2d8-d7fd-4abf-b8d5-51bdf4f78c93",
     "typedWidgetInfo": {
      "autoCreated": false,
      "defaultValue": "synthea_55k",
      "label": "",
      "name": "schema_use",
      "options": {
       "widgetDisplayType": "Text",
       "validationRegex": null
      },
      "parameterDataType": "String"
     },
     "widgetInfo": {
      "widgetType": "text",
      "defaultValue": "synthea_55k",
      "label": "",
      "name": "schema_use",
      "options": {
       "widgetType": "text",
       "autoCreated": false,
       "validationRegex": null
      }
     }
    }
   }
  },
  "language_info": {
   "name": "sql"
  }
 },
 "nbformat": 4,
 "nbformat_minor": 0
}
