{
 "cells": [
  {
   "cell_type": "code",
   "execution_count": 0,
   "metadata": {
    "application/vnd.databricks.v1+cell": {
     "cellMetadata": {
      "byteLimit": 2048000,
      "rowLimit": 10000
     },
     "inputWidgets": {},
     "nuid": "c5a33136-a363-4bf3-863d-9580dbf505b5",
     "showTitle": true,
     "tableResultSettingsMap": {},
     "title": "Declare Variables for Catalog and Schema"
    }
   },
   "outputs": [],
   "source": [
    "DECLARE OR REPLACE VARIABLE catalog_use STRING DEFAULT 'fhir_workshop';\n",
    "DECLARE OR REPLACE VARIABLE schema_use STRING DEFAULT REPLACE(SPLIT(current_user(), '@')[0], '.', '_');"
   ]
  },
  {
   "cell_type": "code",
   "execution_count": 0,
   "metadata": {
    "application/vnd.databricks.v1+cell": {
     "cellMetadata": {
      "byteLimit": 2048000,
      "rowLimit": 10000
     },
     "inputWidgets": {},
     "nuid": "bc00c089-3782-40fa-babf-911ce52b6b1b",
     "showTitle": true,
     "tableResultSettingsMap": {},
     "title": "Set Variables Using Input Parameters"
    }
   },
   "outputs": [],
   "source": [
    "SET VARIABLE catalog_use = :catalog_use; \n",
    "SET VARIABLE schema_use = :schema_use; "
   ]
  },
  {
   "cell_type": "code",
   "execution_count": 0,
   "metadata": {
    "application/vnd.databricks.v1+cell": {
     "cellMetadata": {
      "byteLimit": 2048000,
      "rowLimit": 10000
     },
     "inputWidgets": {},
     "nuid": "1117bf13-a00c-45be-8f35-22d73bd50d3c",
     "showTitle": true,
     "tableResultSettingsMap": {},
     "title": "Set Catalog and Schema to Use"
    }
   },
   "outputs": [],
   "source": [
    "USE IDENTIFIER(catalog_use || \".\" || schema_use);"
   ]
  },
  {
   "cell_type": "code",
   "execution_count": 0,
   "metadata": {
    "application/vnd.databricks.v1+cell": {
     "cellMetadata": {
      "byteLimit": 2048000,
      "rowLimit": 10000
     },
     "inputWidgets": {},
     "nuid": "974a2553-c3c4-403f-a1bb-85d03aaeff13",
     "showTitle": true,
     "tableResultSettingsMap": {},
     "title": "Verify Catalog and Schema"
    }
   },
   "outputs": [],
   "source": [
    "select current_catalog(), current_schema();"
   ]
  },
  {
   "cell_type": "code",
   "execution_count": 0,
   "metadata": {
    "application/vnd.databricks.v1+cell": {
     "cellMetadata": {
      "byteLimit": 2048000,
      "rowLimit": 10000
     },
     "inputWidgets": {},
     "nuid": "bccfa18a-6f32-4205-bdd1-0b2c1ffddfe3",
     "showTitle": true,
     "tableResultSettingsMap": {},
     "title": "Full Refresh FHIR Bronze"
    }
   },
   "outputs": [],
   "source": [
    "DROP TABLE IF EXISTS fhir_bronze;"
   ]
  },
  {
   "cell_type": "code",
   "execution_count": 0,
   "metadata": {
    "application/vnd.databricks.v1+cell": {
     "cellMetadata": {
      "byteLimit": 2048000,
      "rowLimit": 10000
     },
     "inputWidgets": {},
     "nuid": "21e1512d-2f29-4115-81b0-4235e61542f9",
     "showTitle": true,
     "tableResultSettingsMap": {},
     "title": "Full Refresh FHIR Bronze Variant"
    }
   },
   "outputs": [],
   "source": [
    "DROP TABLE IF EXISTS fhir_bronze_variant;"
   ]
  },
  {
   "cell_type": "code",
   "execution_count": 0,
   "metadata": {
    "application/vnd.databricks.v1+cell": {
     "cellMetadata": {
      "byteLimit": 2048000,
      "rowLimit": 10000
     },
     "inputWidgets": {},
     "nuid": "0071b937-9ace-4fe5-914c-8e716dd0ffb3",
     "showTitle": true,
     "tableResultSettingsMap": {},
     "title": "Full Refresh FHIR Resources"
    }
   },
   "outputs": [],
   "source": [
    "DROP TABLE IF EXISTS fhir_resources;"
   ]
  },
  {
   "cell_type": "code",
   "execution_count": 0,
   "metadata": {
    "application/vnd.databricks.v1+cell": {
     "cellMetadata": {
      "byteLimit": 2048000,
      "rowLimit": 10000
     },
     "inputWidgets": {},
     "nuid": "773fdc6c-37b2-416e-a44b-030c10975d1b",
     "showTitle": true,
     "tableResultSettingsMap": {},
     "title": "Full Refresh FHIR Resource Schemas"
    }
   },
   "outputs": [],
   "source": [
    "DROP TABLE IF EXISTS fhir_resource_schemas;"
   ]
  },
  {
   "cell_type": "code",
   "execution_count": 0,
   "metadata": {
    "application/vnd.databricks.v1+cell": {
     "cellMetadata": {
      "byteLimit": 2048000,
      "rowLimit": 10000
     },
     "inputWidgets": {},
     "nuid": "001a5914-022a-4749-a013-1b9b351e87bd",
     "showTitle": true,
     "tableResultSettingsMap": {},
     "title": "Full Refresh Bundle Meta"
    }
   },
   "outputs": [],
   "source": [
    "DROP TABLE IF EXISTS bundle_meta;"
   ]
  }
 ],
 "metadata": {
  "application/vnd.databricks.v1+notebook": {
   "computePreferences": null,
   "dashboards": [],
   "environmentMetadata": {
    "base_environment": "",
    "environment_version": "2"
   },
   "language": "sql",
   "notebookMetadata": {
    "pythonIndentUnit": 4
   },
   "notebookName": "w00 - Drop Streaming Tables",
   "widgets": {
    "catalog_use": {
     "currentValue": "fhir_workshop",
     "nuid": "25a5daf2-a7dc-46a8-a14e-ebaed0510adb",
     "typedWidgetInfo": {
      "autoCreated": false,
      "defaultValue": "fhir_workshop",
      "label": "",
      "name": "catalog_use",
      "options": {
       "widgetDisplayType": "Text",
       "validationRegex": null
      },
      "parameterDataType": "String"
     },
     "widgetInfo": {
      "widgetType": "text",
      "defaultValue": "fhir_workshop",
      "label": "",
      "name": "catalog_use",
      "options": {
       "widgetType": "text",
       "autoCreated": false,
       "validationRegex": null
      }
     }
    },
    "schema_use": {
     "currentValue": "synthea_55k",
     "nuid": "bb1a498a-8995-46e1-a863-bfb2702e1884",
     "typedWidgetInfo": {
      "autoCreated": false,
      "defaultValue": "synthea_55k",
      "label": "",
      "name": "schema_use",
      "options": {
       "widgetDisplayType": "Text",
       "validationRegex": null
      },
      "parameterDataType": "String"
     },
     "widgetInfo": {
      "widgetType": "text",
      "defaultValue": "synthea_55k",
      "label": "",
      "name": "schema_use",
      "options": {
       "widgetType": "text",
       "autoCreated": false,
       "validationRegex": null
      }
     }
    }
   }
  },
  "language_info": {
   "name": "sql"
  }
 },
 "nbformat": 4,
 "nbformat_minor": 0
}
