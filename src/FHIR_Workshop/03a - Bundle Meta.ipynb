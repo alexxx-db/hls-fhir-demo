{
 "cells": [
  {
   "cell_type": "markdown",
   "metadata": {
    "application/vnd.databricks.v1+cell": {
     "cellMetadata": {},
     "inputWidgets": {},
     "nuid": "11448a67-effe-49c8-822e-a27a5e5af5f1",
     "showTitle": false,
     "tableResultSettingsMap": {},
     "title": ""
    }
   },
   "source": [
    "*Note:  This notebooks should be executed against a Serverelss SQL Warehouse.*"
   ]
  },
  {
   "cell_type": "markdown",
   "metadata": {
    "application/vnd.databricks.v1+cell": {
     "cellMetadata": {},
     "inputWidgets": {},
     "nuid": "ede07a5f-ba84-4153-ab77-f3a21c7bdbf8",
     "showTitle": false,
     "tableResultSettingsMap": {},
     "title": ""
    }
   },
   "source": [
    "# Creating the FHIR Bundle Meta Table\n",
    "***"
   ]
  },
  {
   "cell_type": "markdown",
   "metadata": {
    "application/vnd.databricks.v1+cell": {
     "cellMetadata": {},
     "inputWidgets": {},
     "nuid": "a2224280-b285-492d-92bb-2c0f041c3336",
     "showTitle": false,
     "tableResultSettingsMap": {},
     "title": ""
    }
   },
   "source": [
    "## Notebook Setup\n",
    "***"
   ]
  },
  {
   "cell_type": "code",
   "execution_count": 0,
   "metadata": {
    "application/vnd.databricks.v1+cell": {
     "cellMetadata": {
      "byteLimit": 2048000,
      "rowLimit": 10000
     },
     "inputWidgets": {},
     "nuid": "66d45359-cca0-4397-9e19-695a41f22ddf",
     "showTitle": true,
     "tableResultSettingsMap": {},
     "title": "Declare a variable to set the schema used"
    }
   },
   "outputs": [],
   "source": [
    "DECLARE OR REPLACE VARIABLE schema_use STRING DEFAULT REPLACE(SPLIT(current_user(), '@')[0], '.', '_');"
   ]
  },
  {
   "cell_type": "code",
   "execution_count": 0,
   "metadata": {
    "application/vnd.databricks.v1+cell": {
     "cellMetadata": {
      "byteLimit": 2048000,
      "rowLimit": 10000
     },
     "inputWidgets": {},
     "nuid": "2cc9be29-a4c7-4326-9b62-be19214ccdd3",
     "showTitle": true,
     "tableResultSettingsMap": {},
     "title": "Set the appropriate catalog and schema for the notebook"
    }
   },
   "outputs": [],
   "source": [
    "USE IDENTIFIER(\"fhir_workshop.\" || schema_use);"
   ]
  },
  {
   "cell_type": "code",
   "execution_count": 0,
   "metadata": {
    "application/vnd.databricks.v1+cell": {
     "cellMetadata": {
      "byteLimit": 2048000,
      "rowLimit": 10000
     },
     "inputWidgets": {},
     "nuid": "6e7f4b5f-bcee-449f-aa50-1b769cd3daec",
     "showTitle": true,
     "tableResultSettingsMap": {},
     "title": "Verify the Current Catalog and Schema"
    }
   },
   "outputs": [],
   "source": [
    "SELECT current_catalog(), current_schema();"
   ]
  },
  {
   "cell_type": "markdown",
   "metadata": {
    "application/vnd.databricks.v1+cell": {
     "cellMetadata": {},
     "inputWidgets": {},
     "nuid": "404ed457-97ce-458d-bf24-2c5fa450e4c3",
     "showTitle": false,
     "tableResultSettingsMap": {},
     "title": ""
    }
   },
   "source": [
    "## FHIR Bundle Meta \n",
    "***\n",
    "\n",
    "Depending on the source of the FHIR bundle there may be a full set of metadata about the bundle itself.  This is standard practice for providers that clean and standardize your incoming FHIR data, or convert your C-CDAs, ADTs, or other clinical data to the FHIR format such as Redox.  Note that Synthea doesn't include a bundle meta, therefore we're not going to fully parse the Meta object quite as much as we would if it were available.  We do have one Redox JSON loaded into our bronze tables that we can at least review.  Normally we'd split the Meta object object into separate columns exactly like we would for the Bundle's \"entry resources\" but that would be overkill for this class. \n",
    "\n",
    "What is helpful however is to have a place for items such as the `file_metadata` and then `ingest_time` avaialble in a silver table so that we don't need to continue to bring that along for the ride with the Resource tables.  "
   ]
  },
  {
   "cell_type": "code",
   "execution_count": 0,
   "metadata": {
    "application/vnd.databricks.v1+cell": {
     "cellMetadata": {
      "byteLimit": 2048000,
      "rowLimit": 10000
     },
     "inputWidgets": {},
     "nuid": "eb104271-ee84-4998-b353-fc2ca370e6f3",
     "showTitle": true,
     "tableResultSettingsMap": {},
     "title": "Full Refresh the bundle_meta Streaming Table"
    }
   },
   "outputs": [],
   "source": [
    "DROP TABLE IF EXISTS bundle_meta;"
   ]
  },
  {
   "cell_type": "code",
   "execution_count": 0,
   "metadata": {
    "application/vnd.databricks.v1+cell": {
     "cellMetadata": {
      "byteLimit": 2048000,
      "rowLimit": 10000
     },
     "inputWidgets": {},
     "nuid": "321739d1-cb85-4504-b611-01e8eecbd791",
     "showTitle": true,
     "tableResultSettingsMap": {},
     "title": "Create or Refresh the bundle_meta Streaming Table"
    }
   },
   "outputs": [],
   "source": [
    "CREATE OR REFRESH STREAMING TABLE bundle_meta (\n",
    "  bundle_uuid STRING PRIMARY KEY COMMENT 'Unique identifier for the FHIR bundle and the primary key for the table.  This column will be required for all joins amongst resource tables as Resource primary keys are only guaranteed to be unique inside of a bundle.'\n",
    "  ,file_metadata STRUCT<\n",
    "    file_path: STRING\n",
    "    ,file_name: STRING\n",
    "    ,file_size: BIGINT\n",
    "    ,file_block_start: BIGINT\n",
    "    ,file_block_length: BIGINT\n",
    "    ,file_modification_time: TIMESTAMP\n",
    "  > COMMENT 'Original meta date of the file ingested from the volume.'\n",
    "  ,ingest_time TIMESTAMP COMMENT 'The date timestamp the file was ingested.'\n",
    "  ,bundle_resourceType STRING COMMENT \"The FHIR Bundle's overall resource type.\"\n",
    "  ,bundle_type STRING COMMENT \"The FHIR Bundle's overall type.\"\n",
    "  ,meta VARIANT COMMENT 'Metadata about the FHIR Bundle overall, typically includes information about the source of the bundle, but is not required to be passed for a valid HL7 transaction.  Always NULL for data that originated from Synthea.'\n",
    ")\n",
    "COMMENT 'Original FHIR Bundle Metadata'\n",
    "TBLPROPERTIES (\n",
    "  'delta.enableChangeDataFeed' = 'true'\n",
    "  ,'delta.enableDeletionVectors' = 'true'\n",
    "  ,'delta.enableRowTracking' = 'true'\n",
    "  ,'quality' = 'bronze'\n",
    "  ,'pipelines.channel' = 'PREVIEW'\n",
    "  ,'delta.feature.variantType-preview' = 'supported'\n",
    ")\n",
    "AS SELECT\n",
    "  bundle_uuid\n",
    "  ,file_metadata\n",
    "  ,ingest_time\n",
    "  ,fhir:resourceType::string as bundle_resourceType\n",
    "  ,fhir:type::string as bundle_type\n",
    "  ,fhir:Meta as meta\n",
    "FROM \n",
    "  STREAM (fhir_bronze_variant);"
   ]
  },
  {
   "cell_type": "code",
   "execution_count": 0,
   "metadata": {
    "application/vnd.databricks.v1+cell": {
     "cellMetadata": {
      "byteLimit": 2048000,
      "rowLimit": 10000
     },
     "inputWidgets": {},
     "nuid": "adc01911-f545-4582-8b5c-dfb39e275c17",
     "showTitle": true,
     "tableResultSettingsMap": {},
     "title": "Show the Create Table Statement - Helpful for adding DDL!"
    }
   },
   "outputs": [],
   "source": [
    "SHOW CREATE TABLE bundle_meta;"
   ]
  },
  {
   "cell_type": "code",
   "execution_count": 0,
   "metadata": {
    "application/vnd.databricks.v1+cell": {
     "cellMetadata": {
      "byteLimit": 2048000,
      "rowLimit": 10000
     },
     "inputWidgets": {},
     "nuid": "95dc446a-0bb4-4cd4-ad8a-d3cb1e7444cc",
     "showTitle": true,
     "tableResultSettingsMap": {},
     "title": "Query the One Record that Contains a Meta Object"
    }
   },
   "outputs": [],
   "source": [
    "SELECT \n",
    " *\n",
    "FROM \n",
    "  bundle_meta\n",
    "WHERE \n",
    "  file_metadata.file_name = 'DBPriorAuthExample.json'"
   ]
  }
 ],
 "metadata": {
  "application/vnd.databricks.v1+notebook": {
   "computePreferences": null,
   "dashboards": [],
   "environmentMetadata": {
    "base_environment": "",
    "environment_version": "2"
   },
   "inputWidgetPreferences": null,
   "language": "sql",
   "notebookMetadata": {
    "pythonIndentUnit": 4
   },
   "notebookName": "03a - Bundle Meta",
   "widgets": {}
  },
  "language_info": {
   "name": "sql"
  }
 },
 "nbformat": 4,
 "nbformat_minor": 0
}
