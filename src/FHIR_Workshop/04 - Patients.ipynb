{
 "cells": [
  {
   "cell_type": "markdown",
   "metadata": {
    "application/vnd.databricks.v1+cell": {
     "cellMetadata": {},
     "inputWidgets": {},
     "nuid": "00abb99a-fc03-49f9-acb3-5144e1d43f9d",
     "showTitle": false,
     "tableResultSettingsMap": {},
     "title": ""
    }
   },
   "source": [
    "*Note that this notebook should be executed against a Serverless SQL Warehouse.*"
   ]
  },
  {
   "cell_type": "markdown",
   "metadata": {
    "application/vnd.databricks.v1+cell": {
     "cellMetadata": {},
     "inputWidgets": {},
     "nuid": "26ff8acc-0165-4bc1-8c25-1d04773f352a",
     "showTitle": false,
     "tableResultSettingsMap": {},
     "title": ""
    }
   },
   "source": [
    "# Creating Resource Tables Using Patient As an Example \n",
    "***"
   ]
  },
  {
   "cell_type": "markdown",
   "metadata": {
    "application/vnd.databricks.v1+cell": {
     "cellMetadata": {},
     "inputWidgets": {},
     "nuid": "2008c3eb-6075-40ae-8020-d9d60cf7bce0",
     "showTitle": false,
     "tableResultSettingsMap": {},
     "title": ""
    }
   },
   "source": [
    "## Notebook Setup\n",
    "***"
   ]
  },
  {
   "cell_type": "code",
   "execution_count": 0,
   "metadata": {
    "application/vnd.databricks.v1+cell": {
     "cellMetadata": {
      "byteLimit": 2048000,
      "rowLimit": 10000
     },
     "inputWidgets": {},
     "nuid": "b1c9ea30-91b9-4947-9f80-3cce0cdb6797",
     "showTitle": true,
     "tableResultSettingsMap": {},
     "title": "Declare the Schema to Use"
    }
   },
   "outputs": [],
   "source": [
    "DECLARE OR REPLACE VARIABLE schema_use STRING DEFAULT REPLACE(SPLIT(current_user(), '@')[0], '.', '_');"
   ]
  },
  {
   "cell_type": "code",
   "execution_count": 0,
   "metadata": {
    "application/vnd.databricks.v1+cell": {
     "cellMetadata": {
      "byteLimit": 2048000,
      "rowLimit": 10000
     },
     "inputWidgets": {},
     "nuid": "bdf88405-8afb-420a-a946-fe340e862c92",
     "showTitle": true,
     "tableResultSettingsMap": {},
     "title": "Set the Catalog and Schema for the Notebook"
    }
   },
   "outputs": [],
   "source": [
    "USE IDENTIFIER(\"fhir_workshop.\" || schema_use);"
   ]
  },
  {
   "cell_type": "code",
   "execution_count": 0,
   "metadata": {
    "application/vnd.databricks.v1+cell": {
     "cellMetadata": {
      "byteLimit": 2048000,
      "rowLimit": 10000
     },
     "inputWidgets": {},
     "nuid": "761f4abd-d2ed-4495-a924-d44d5be39725",
     "showTitle": true,
     "tableResultSettingsMap": {},
     "title": "Review the Current Catalog and Schema"
    }
   },
   "outputs": [],
   "source": [
    "SELECT current_catalog(), current_schema();"
   ]
  },
  {
   "cell_type": "markdown",
   "metadata": {
    "application/vnd.databricks.v1+cell": {
     "cellMetadata": {},
     "inputWidgets": {},
     "nuid": "f9526aed-79b7-428d-af70-4f476351a73f",
     "showTitle": false,
     "tableResultSettingsMap": {},
     "title": ""
    }
   },
   "source": [
    "## Determine Column Names to Pivot and Dynamically Set DDL \n",
    "*** "
   ]
  },
  {
   "cell_type": "markdown",
   "metadata": {
    "application/vnd.databricks.v1+cell": {
     "cellMetadata": {},
     "inputWidgets": {},
     "nuid": "7e1d32e4-549e-4fac-ad13-9cac713305ac",
     "showTitle": false,
     "tableResultSettingsMap": {},
     "title": ""
    }
   },
   "source": [
    "The column names are required for our `PIVOT`. "
   ]
  },
  {
   "cell_type": "code",
   "execution_count": 0,
   "metadata": {
    "application/vnd.databricks.v1+cell": {
     "cellMetadata": {
      "byteLimit": 2048000,
      "rowLimit": 10000
     },
     "inputWidgets": {},
     "nuid": "a6c26c5c-8fa7-402a-b583-3189a8ef98d0",
     "showTitle": true,
     "tableResultSettingsMap": {},
     "title": "Identify Patient Resource Elements We've Received"
    }
   },
   "outputs": [],
   "source": [
    "DECLARE OR REPLACE VARIABLE patient_keys STRING;\n",
    "\n",
    "SET VAR patient_keys = (\n",
    "  SELECT \n",
    "    array_join(collect_list(DISTINCT column_name), \"', '\")\n",
    "  FROM \n",
    "    fhir_resource_schemas\n",
    "  WHERE \n",
    "    resourceType = 'Patient'\n",
    ");\n",
    "\n",
    "select patient_keys;"
   ]
  },
  {
   "cell_type": "code",
   "execution_count": 0,
   "metadata": {
    "application/vnd.databricks.v1+cell": {
     "cellMetadata": {
      "byteLimit": 2048000,
      "rowLimit": 10000
     },
     "inputWidgets": {},
     "nuid": "ca89c016-a852-4e4f-9a76-257caa37f5bd",
     "showTitle": true,
     "tableResultSettingsMap": {},
     "title": "Dynamically Build the DDL Statement to Apply Primary and Foreign Keys After Pivot"
    }
   },
   "outputs": [],
   "source": [
    "DECLARE OR REPLACE VARIABLE patient_dynamic_ddl STRING;\n",
    "\n",
    "SET VAR patient_dynamic_ddl = (\n",
    "  SELECT\n",
    "    \"\\tpatient_uuid STRING NOT NULL PRIMARY KEY COMMENT 'Uniquie identifier for the FHIR Resource in a bundle.'\\n\\t,bundle_uuid STRING COMMENT 'Unique identifier for the FHIR bundle.'\\n\\t,patient_url STRING COMMENT 'The full URL of the resource in the entry array.  This serves as the primary key for the resource and later is used to join related resources from within a bundle.'\\n\\t,\" || \n",
    "    array_join(collect_list(DISTINCT column_name), \" VARIANT\\n\\t,\") || \" VARIANT\\n\\t\" ||\n",
    "    \",CONSTRAINT fk_patient_bundle_meta_bundle_uuid FOREIGN KEY (bundle_uuid) REFERENCES fhir_workshop.\" || schema_use || \".bundle_meta(bundle_uuid)\n",
    "    \\t,CONSTRAINT fk_patient_fhir_resources_resource_uuid FOREIGN KEY (patient_uuid) REFERENCES fhir_workshop.\" || schema_use || \".fhir_resources(resource_uuid)\"\n",
    "  FROM \n",
    "    fhir_resource_schemas\n",
    "  WHERE \n",
    "    resourceType = 'Patient'\n",
    ");\n",
    "\n",
    "select patient_dynamic_ddl;"
   ]
  },
  {
   "cell_type": "code",
   "execution_count": 0,
   "metadata": {
    "application/vnd.databricks.v1+cell": {
     "cellMetadata": {
      "byteLimit": 2048000,
      "rowLimit": 10000
     },
     "inputWidgets": {},
     "nuid": "aac111ec-8bf8-4366-bb81-25d15e469f55",
     "showTitle": true,
     "tableResultSettingsMap": {},
     "title": "Full Refresh Patient Streaming Table"
    }
   },
   "outputs": [],
   "source": [
    "DROP TABLE IF EXISTS Patient;"
   ]
  },
  {
   "cell_type": "code",
   "execution_count": 0,
   "metadata": {
    "application/vnd.databricks.v1+cell": {
     "cellMetadata": {
      "byteLimit": 2048000,
      "rowLimit": 10000
     },
     "inputWidgets": {},
     "nuid": "5e3b80c1-78f9-42dd-bc8b-1baca287c07a",
     "showTitle": true,
     "tableResultSettingsMap": {},
     "title": "Dynamically Declare the Patient Resource Create Streaming Table Statement"
    }
   },
   "outputs": [],
   "source": [
    "DECLARE OR REPLACE VARIABLE patient_resource_stmnt STRING;\n",
    "\n",
    "SET VARIABLE patient_resource_stmnt = \"\n",
    "CREATE OR REFRESH STREAMING TABLE Patient (\\n\" ||\n",
    "  patient_dynamic_ddl\n",
    "|| \"\\n)\n",
    "COMMENT 'Parsed FHIR Patient Records'\n",
    "TBLPROPERTIES (\n",
    "  'delta.enableChangeDataFeed' = 'true'\n",
    "  ,'delta.enableDeletionVectors' = 'true'\n",
    "  ,'delta.enableRowTracking' = 'true'\n",
    "  ,'quality' = 'bronze'\n",
    "  ,'pipelines.channel' = 'PREVIEW'\n",
    "  ,'delta.feature.variantType-preview' = 'supported'\n",
    ")\n",
    "AS SELECT\n",
    "  *\n",
    "FROM (\n",
    "  SELECT\n",
    "    resource_uuid as patient_uuid \n",
    "    ,bundle_uuid\n",
    "    ,fullUrl as patient_url\n",
    "    ,key\n",
    "    ,value\n",
    "  FROM \n",
    "    STREAM(fhir_resources)\n",
    "  WHERE \n",
    "    resourceType = 'Patient')\n",
    "  PIVOT (\n",
    "    first(value) FOR key IN ('\" || patient_keys || \"')\n",
    "  );\n",
    "\";\n",
    "\n",
    "SELECT patient_resource_stmnt;\n"
   ]
  },
  {
   "cell_type": "code",
   "execution_count": 0,
   "metadata": {
    "application/vnd.databricks.v1+cell": {
     "cellMetadata": {
      "byteLimit": 2048000,
      "rowLimit": 10000
     },
     "inputWidgets": {},
     "nuid": "fd9b6c99-d8d2-4b5a-bc6f-03095a48f9bf",
     "showTitle": true,
     "tableResultSettingsMap": {},
     "title": "Execute the Streaming Patient Resource Table Statement"
    }
   },
   "outputs": [],
   "source": [
    "EXECUTE IMMEDIATE patient_resource_stmnt;"
   ]
  },
  {
   "cell_type": "code",
   "execution_count": 0,
   "metadata": {
    "application/vnd.databricks.v1+cell": {
     "cellMetadata": {
      "byteLimit": 2048000,
      "rowLimit": 10000
     },
     "inputWidgets": {},
     "nuid": "cc88de29-434e-41d3-a071-58bfcf2cd734",
     "showTitle": true,
     "tableResultSettingsMap": {},
     "title": "Show the Create Table Statement"
    }
   },
   "outputs": [],
   "source": [
    "show create table Patient;"
   ]
  },
  {
   "cell_type": "code",
   "execution_count": 0,
   "metadata": {
    "application/vnd.databricks.v1+cell": {
     "cellMetadata": {
      "byteLimit": 2048000,
      "rowLimit": 10000
     },
     "inputWidgets": {},
     "nuid": "8c6080ab-5b93-4a22-9928-e0846f001283",
     "showTitle": true,
     "tableResultSettingsMap": {},
     "title": "Display the first 10 records of the Patient table."
    }
   },
   "outputs": [],
   "source": [
    "select * from patient limit 10;"
   ]
  }
 ],
 "metadata": {
  "application/vnd.databricks.v1+notebook": {
   "computePreferences": null,
   "dashboards": [],
   "environmentMetadata": {
    "base_environment": "",
    "environment_version": "2"
   },
   "language": "sql",
   "notebookMetadata": {
    "pythonIndentUnit": 4
   },
   "notebookName": "04 - Patients",
   "widgets": {}
  },
  "language_info": {
   "name": "sql"
  }
 },
 "nbformat": 4,
 "nbformat_minor": 0
}
