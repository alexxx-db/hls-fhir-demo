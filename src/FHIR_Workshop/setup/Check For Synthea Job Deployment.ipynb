{
 "cells": [
  {
   "cell_type": "code",
   "execution_count": 0,
   "metadata": {
    "application/vnd.databricks.v1+cell": {
     "cellMetadata": {
      "byteLimit": 2048000,
      "rowLimit": 10000
     },
     "inputWidgets": {},
     "nuid": "8c9c11ef-5d2d-42b1-b612-12ac67f3ef33",
     "showTitle": true,
     "tableResultSettingsMap": {},
     "title": "Upgrade the Databricks Python SDK"
    }
   },
   "outputs": [],
   "source": [
    "%pip install databricks-sdk --upgrade"
   ]
  },
  {
   "cell_type": "code",
   "execution_count": 0,
   "metadata": {
    "application/vnd.databricks.v1+cell": {
     "cellMetadata": {
      "byteLimit": 2048000,
      "rowLimit": 10000
     },
     "inputWidgets": {},
     "nuid": "8caa9bf4-c3d7-42f1-b298-54d2d6061671",
     "showTitle": true,
     "tableResultSettingsMap": {},
     "title": "Restart Python"
    }
   },
   "outputs": [],
   "source": [
    "dbutils.library.restartPython()"
   ]
  },
  {
   "cell_type": "code",
   "execution_count": 0,
   "metadata": {
    "application/vnd.databricks.v1+cell": {
     "cellMetadata": {
      "byteLimit": 2048000,
      "rowLimit": 10000
     },
     "inputWidgets": {},
     "nuid": "3118aecb-d3fa-418e-8b15-2047c26ba5eb",
     "showTitle": true,
     "tableResultSettingsMap": {},
     "title": "Set Up the Workspace Client"
    }
   },
   "outputs": [],
   "source": [
    "from databricks.sdk import WorkspaceClient\n",
    "\n",
    "w = WorkspaceClient()"
   ]
  },
  {
   "cell_type": "code",
   "execution_count": 0,
   "metadata": {
    "application/vnd.databricks.v1+cell": {
     "cellMetadata": {
      "byteLimit": 2048000,
      "rowLimit": 10000
     },
     "inputWidgets": {},
     "nuid": "d4237521-6d20-4fca-a691-948593314193",
     "showTitle": true,
     "tableResultSettingsMap": {},
     "title": "Retrive Current User Information"
    }
   },
   "outputs": [],
   "source": [
    "displayName = w.current_user.me().as_dict()['displayName']\n",
    "# user_id = w.current_user.me().as_dict()['id']"
   ]
  },
  {
   "cell_type": "code",
   "execution_count": 0,
   "metadata": {
    "application/vnd.databricks.v1+cell": {
     "cellMetadata": {
      "byteLimit": 2048000,
      "rowLimit": 10000
     },
     "inputWidgets": {},
     "nuid": "dcfbdb33-7838-4504-8dad-784be74647c5",
     "showTitle": true,
     "tableResultSettingsMap": {},
     "title": "Define User Name"
    }
   },
   "outputs": [],
   "source": [
    "user_name = displayName.split(\"@\",)[0].replace(\".\", \"_\")\n",
    "user_name"
   ]
  },
  {
   "cell_type": "code",
   "execution_count": 0,
   "metadata": {
    "application/vnd.databricks.v1+cell": {
     "cellMetadata": {
      "byteLimit": 2048000,
      "rowLimit": 10000
     },
     "inputWidgets": {},
     "nuid": "6edfc3ee-7d42-4ab1-bac7-3583038f88fb",
     "showTitle": true,
     "tableResultSettingsMap": {},
     "title": "Search for Synthea Job Name"
    }
   },
   "outputs": [],
   "source": [
    "# odl_instructor_1452233-4421165353956983-synthea-data-generation\n",
    "jobs_list = w.jobs.list(\n",
    "    expand_tasks=False\n",
    "    # ,name = f\"{user_name}-{user_id}-synthea-data-generation\"\n",
    "    ,name = f\"{user_name}-synthea-data-generation\"\n",
    ")\n",
    "jobs_list = [job.as_dict() for job in jobs_list]\n",
    "jobs_list"
   ]
  },
  {
   "cell_type": "code",
   "execution_count": 0,
   "metadata": {
    "application/vnd.databricks.v1+cell": {
     "cellMetadata": {
      "byteLimit": 2048000,
      "rowLimit": 10000
     },
     "inputWidgets": {},
     "nuid": "1fb8c4ed-4617-4747-b963-0fe9afaa892f",
     "showTitle": true,
     "tableResultSettingsMap": {},
     "title": "Set Job Exists Variable"
    }
   },
   "outputs": [],
   "source": [
    "if len(jobs_list) > 0: \n",
    "  job_exists = \"true\"\n",
    "else:\n",
    "  job_exists = \"false\""
   ]
  },
  {
   "cell_type": "code",
   "execution_count": 0,
   "metadata": {
    "application/vnd.databricks.v1+cell": {
     "cellMetadata": {
      "byteLimit": 2048000,
      "rowLimit": 10000
     },
     "inputWidgets": {},
     "nuid": "2ddb72c4-5ecf-437c-ba56-c4b21a40d7a2",
     "showTitle": true,
     "tableResultSettingsMap": {},
     "title": "Set Job Exists Task Value"
    }
   },
   "outputs": [],
   "source": [
    "dbutils.jobs.taskValues.set(\"job_exists\", job_exists)"
   ]
  }
 ],
 "metadata": {
  "application/vnd.databricks.v1+notebook": {
   "computePreferences": null,
   "dashboards": [],
   "environmentMetadata": {
    "base_environment": "",
    "environment_version": "2"
   },
   "inputWidgetPreferences": null,
   "language": "python",
   "notebookMetadata": {
    "pythonIndentUnit": 4
   },
   "notebookName": "Check For Synthea Job Deployment",
   "widgets": {}
  },
  "language_info": {
   "name": "python"
  }
 },
 "nbformat": 4,
 "nbformat_minor": 0
}
