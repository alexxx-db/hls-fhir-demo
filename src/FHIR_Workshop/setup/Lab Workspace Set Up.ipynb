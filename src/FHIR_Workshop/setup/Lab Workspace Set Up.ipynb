{
 "cells": [
  {
   "cell_type": "markdown",
   "metadata": {
    "application/vnd.databricks.v1+cell": {
     "cellMetadata": {
      "byteLimit": 2048000,
      "rowLimit": 10000
     },
     "inputWidgets": {},
     "nuid": "f1ae4412-6747-4694-aed2-c272673e4e65",
     "showTitle": false,
     "tableResultSettingsMap": {},
     "title": ""
    }
   },
   "source": [
    "# Lab Workspace Set Up\n",
    "***"
   ]
  },
  {
   "cell_type": "markdown",
   "metadata": {
    "application/vnd.databricks.v1+cell": {
     "cellMetadata": {
      "byteLimit": 2048000,
      "rowLimit": 10000
     },
     "inputWidgets": {},
     "nuid": "3d784076-1212-4289-8cea-79caf19a5e4e",
     "showTitle": false,
     "tableResultSettingsMap": {},
     "title": ""
    }
   },
   "source": [
    "### Update the Databricks Python SDK\n",
    "***"
   ]
  },
  {
   "cell_type": "code",
   "execution_count": 0,
   "metadata": {
    "application/vnd.databricks.v1+cell": {
     "cellMetadata": {
      "byteLimit": 2048000,
      "rowLimit": 10000
     },
     "inputWidgets": {},
     "nuid": "0d849910-af68-441d-ab60-9fff8361feb9",
     "showTitle": false,
     "tableResultSettingsMap": {},
     "title": ""
    }
   },
   "outputs": [],
   "source": [
    "%pip install databricks-sdk --upgrade"
   ]
  },
  {
   "cell_type": "code",
   "execution_count": 0,
   "metadata": {
    "application/vnd.databricks.v1+cell": {
     "cellMetadata": {
      "byteLimit": 2048000,
      "rowLimit": 10000
     },
     "inputWidgets": {},
     "nuid": "fdcece38-f989-4abd-9b71-e0f8fe941abb",
     "showTitle": false,
     "tableResultSettingsMap": {},
     "title": ""
    }
   },
   "outputs": [],
   "source": [
    "dbutils.library.restartPython()"
   ]
  },
  {
   "cell_type": "code",
   "execution_count": 0,
   "metadata": {
    "application/vnd.databricks.v1+cell": {
     "cellMetadata": {
      "byteLimit": 2048000,
      "rowLimit": 10000
     },
     "inputWidgets": {},
     "nuid": "2e21fcbe-622f-4067-9410-239349fc5cf5",
     "showTitle": false,
     "tableResultSettingsMap": {},
     "title": ""
    }
   },
   "outputs": [],
   "source": [
    "dbutils.widgets.text(\"customer_name\", \"\", \"Customer Name\")"
   ]
  },
  {
   "cell_type": "code",
   "execution_count": 0,
   "metadata": {
    "application/vnd.databricks.v1+cell": {
     "cellMetadata": {
      "byteLimit": 2048000,
      "rowLimit": 10000
     },
     "inputWidgets": {},
     "nuid": "e1e5da30-a8fa-4c12-9419-210791591b43",
     "showTitle": false,
     "tableResultSettingsMap": {},
     "title": ""
    }
   },
   "outputs": [],
   "source": [
    "from databricks.sdk import WorkspaceClient\n",
    "\n",
    "w = WorkspaceClient()"
   ]
  },
  {
   "cell_type": "markdown",
   "metadata": {
    "application/vnd.databricks.v1+cell": {
     "cellMetadata": {
      "byteLimit": 2048000,
      "rowLimit": 10000
     },
     "inputWidgets": {},
     "nuid": "aabb1554-a532-4c93-b81b-f71176b15fd1",
     "showTitle": false,
     "tableResultSettingsMap": {},
     "title": ""
    }
   },
   "source": [
    "### Set Customer Parameters\n",
    "***"
   ]
  },
  {
   "cell_type": "code",
   "execution_count": 0,
   "metadata": {
    "application/vnd.databricks.v1+cell": {
     "cellMetadata": {
      "byteLimit": 2048000,
      "rowLimit": 10000
     },
     "inputWidgets": {},
     "nuid": "9b11a47c-e6d2-43f8-a62f-42b835770845",
     "showTitle": false,
     "tableResultSettingsMap": {},
     "title": ""
    }
   },
   "outputs": [],
   "source": [
    "customer_name = dbutils.widgets.get(\"customer_name\")"
   ]
  },
  {
   "cell_type": "code",
   "execution_count": 0,
   "metadata": {
    "application/vnd.databricks.v1+cell": {
     "cellMetadata": {
      "byteLimit": 2048000,
      "rowLimit": 10000
     },
     "inputWidgets": {},
     "nuid": "85ebf6f9-a139-4e9b-8bf7-393259b46d33",
     "showTitle": false,
     "tableResultSettingsMap": {},
     "title": ""
    }
   },
   "outputs": [],
   "source": [
    "print(f\"\"\"\n",
    "      customer_name = {customer_name}\n",
    "\"\"\")"
   ]
  },
  {
   "cell_type": "markdown",
   "metadata": {
    "application/vnd.databricks.v1+cell": {
     "cellMetadata": {
      "byteLimit": 2048000,
      "rowLimit": 10000
     },
     "inputWidgets": {},
     "nuid": "a0bca855-b2c0-436c-a37e-d2bb726325be",
     "showTitle": false,
     "tableResultSettingsMap": {},
     "title": ""
    }
   },
   "source": [
    "### Set Up the Default Catalog\n",
    "***"
   ]
  },
  {
   "cell_type": "code",
   "execution_count": 0,
   "metadata": {
    "application/vnd.databricks.v1+cell": {
     "cellMetadata": {
      "byteLimit": 2048000,
      "implicitDf": true,
      "rowLimit": 10000
     },
     "inputWidgets": {},
     "nuid": "3ff63331-6b51-4ab5-b820-bfd6e7337113",
     "showTitle": true,
     "tableResultSettingsMap": {},
     "title": "Set up Catalog for the FHIR Workshop"
    }
   },
   "outputs": [],
   "source": [
    "%sql\n",
    "CREATE CATALOG IF NOT EXISTS fhir_workshop;"
   ]
  },
  {
   "cell_type": "code",
   "execution_count": 0,
   "metadata": {
    "application/vnd.databricks.v1+cell": {
     "cellMetadata": {
      "byteLimit": 2048000,
      "implicitDf": true,
      "rowLimit": 10000
     },
     "inputWidgets": {},
     "nuid": "eda092c6-b184-4956-b8ba-ecafb0ca3e67",
     "showTitle": false,
     "tableResultSettingsMap": {},
     "title": ""
    }
   },
   "outputs": [],
   "source": [
    "%sql\n",
    "GRANT USE CATALOG ON CATALOG fhir_workshop TO `account users`;\n",
    "GRANT CREATE SCHEMA ON CATALOG fhir_workshop TO `account users`;"
   ]
  },
  {
   "cell_type": "code",
   "execution_count": 0,
   "metadata": {
    "application/vnd.databricks.v1+cell": {
     "cellMetadata": {
      "byteLimit": 2048000,
      "implicitDf": true,
      "rowLimit": 10000
     },
     "inputWidgets": {},
     "nuid": "8bb4e271-272d-4369-a01d-7501e06adb60",
     "showTitle": false,
     "tableResultSettingsMap": {},
     "title": ""
    }
   },
   "outputs": [],
   "source": [
    "%sql\n",
    "REVOKE BROWSE ON CATALOG fhir_workshop FROM `account users`; "
   ]
  },
  {
   "cell_type": "code",
   "execution_count": 0,
   "metadata": {
    "application/vnd.databricks.v1+cell": {
     "cellMetadata": {
      "byteLimit": 2048000,
      "implicitDf": true,
      "rowLimit": 10000
     },
     "inputWidgets": {},
     "nuid": "ce4afe84-9417-4e8e-b177-b821c9f22895",
     "showTitle": false,
     "tableResultSettingsMap": {},
     "title": ""
    }
   },
   "outputs": [],
   "source": [
    "%sql\n",
    "SHOW GRANTS ON CATALOG fhir_workshop;"
   ]
  },
  {
   "cell_type": "markdown",
   "metadata": {
    "application/vnd.databricks.v1+cell": {
     "cellMetadata": {},
     "inputWidgets": {},
     "nuid": "bffac565-5b75-4c00-9f7d-d89862cf4b12",
     "showTitle": false,
     "tableResultSettingsMap": {},
     "title": ""
    }
   },
   "source": [
    "### Create Synthea Schemas \n",
    "***"
   ]
  },
  {
   "cell_type": "code",
   "execution_count": 0,
   "metadata": {
    "application/vnd.databricks.v1+cell": {
     "cellMetadata": {
      "byteLimit": 2048000,
      "implicitDf": true,
      "rowLimit": 10000
     },
     "inputWidgets": {},
     "nuid": "c1362bd6-d254-4ac4-9db5-cb367a63e347",
     "showTitle": false,
     "tableResultSettingsMap": {},
     "title": ""
    }
   },
   "outputs": [],
   "source": [
    "%sql\n",
    "use catalog fhir_workshop;"
   ]
  },
  {
   "cell_type": "code",
   "execution_count": 0,
   "metadata": {
    "application/vnd.databricks.v1+cell": {
     "cellMetadata": {
      "byteLimit": 2048000,
      "implicitDf": true,
      "rowLimit": 10000
     },
     "inputWidgets": {},
     "nuid": "5cb3a5e5-e1af-4138-8b8f-4af29c4a7ffe",
     "showTitle": false,
     "tableResultSettingsMap": {},
     "title": ""
    }
   },
   "outputs": [],
   "source": [
    "%sql\n",
    "CREATE SCHEMA IF NOT EXISTS synthea;\n",
    "GRANT USE SCHEMA ON SCHEMA synthea TO `account users`;\n",
    "GRANT SELECT ON SCHEMA synthea TO `account users`;\n",
    "GRANT EXECUTE ON SCHEMA synthea TO `account users`;\n",
    "GRANT READ VOLUME ON SCHEMA synthea TO `account users`;\n",
    "    \n",
    "SHOW GRANTS ON SCHEMA synthea;"
   ]
  },
  {
   "cell_type": "code",
   "execution_count": 0,
   "metadata": {
    "application/vnd.databricks.v1+cell": {
     "cellMetadata": {
      "byteLimit": 2048000,
      "implicitDf": true,
      "rowLimit": 10000
     },
     "inputWidgets": {},
     "nuid": "fbdc160f-aedf-42d1-95a5-904fc03d9496",
     "showTitle": false,
     "tableResultSettingsMap": {},
     "title": ""
    }
   },
   "outputs": [],
   "source": [
    "%sql\n",
    "CREATE SCHEMA IF NOT EXISTS synthea_65k;\n",
    "GRANT USE SCHEMA ON SCHEMA synthea_65k TO `account users`;\n",
    "GRANT SELECT ON SCHEMA synthea_65k TO `account users`;\n",
    "GRANT EXECUTE ON SCHEMA synthea_65k TO `account users`;\n",
    "GRANT READ VOLUME ON SCHEMA synthea_65k TO `account users`;\n",
    "    \n",
    "SHOW GRANTS ON SCHEMA synthea_65k;"
   ]
  },
  {
   "cell_type": "markdown",
   "metadata": {
    "application/vnd.databricks.v1+cell": {
     "cellMetadata": {
      "byteLimit": 2048000,
      "rowLimit": 10000
     },
     "inputWidgets": {},
     "nuid": "d7720317-35a7-4a0a-ace3-ab77e1997fbc",
     "showTitle": false,
     "tableResultSettingsMap": {},
     "title": ""
    }
   },
   "source": [
    "### Set fhir_workshop as the default Catalog\n",
    "***"
   ]
  },
  {
   "cell_type": "code",
   "execution_count": 0,
   "metadata": {
    "application/vnd.databricks.v1+cell": {
     "cellMetadata": {
      "byteLimit": 2048000,
      "rowLimit": 10000
     },
     "inputWidgets": {},
     "nuid": "6882e425-577a-4cbe-8a59-10a650ca1c4d",
     "showTitle": false,
     "tableResultSettingsMap": {},
     "title": ""
    }
   },
   "outputs": [],
   "source": [
    "from databricks.sdk.service.settings import DefaultNamespaceSetting, StringMessage\n",
    "from databricks.sdk.errors.platform import ResourceConflict"
   ]
  },
  {
   "cell_type": "code",
   "execution_count": 0,
   "metadata": {
    "application/vnd.databricks.v1+cell": {
     "cellMetadata": {
      "byteLimit": 2048000,
      "rowLimit": 10000
     },
     "inputWidgets": {},
     "nuid": "368381bc-13d1-4b82-8060-1f7e64d80ac2",
     "showTitle": false,
     "tableResultSettingsMap": {},
     "title": ""
    }
   },
   "outputs": [],
   "source": [
    "try:\n",
    "    w.settings.default_namespace.update(\n",
    "        allow_missing=True\n",
    "        ,setting=DefaultNamespaceSetting(\n",
    "            namespace=StringMessage(\n",
    "                value=\"fhir_workshop\"\n",
    "            )\n",
    "        )\n",
    "        ,field_mask=\"namespace\"\n",
    "    )\n",
    "except Exception as e:\n",
    "    print(f\"Default namespace already set, update with serializedCT as etag: {e}\")"
   ]
  },
  {
   "cell_type": "code",
   "execution_count": 0,
   "metadata": {
    "application/vnd.databricks.v1+cell": {
     "cellMetadata": {
      "byteLimit": 2048000,
      "rowLimit": 10000
     },
     "inputWidgets": {},
     "nuid": "a357d308-5cdf-4178-a6d5-a229561d467a",
     "showTitle": false,
     "tableResultSettingsMap": {},
     "title": ""
    }
   },
   "outputs": [],
   "source": [
    "dfn = w.settings.default_namespace.get()\n",
    "\n",
    "if dfn.namespace.value != \"fhir_workshop\":\n",
    "  w.settings.default_namespace.update(\n",
    "        allow_missing=True\n",
    "        ,setting=DefaultNamespaceSetting(\n",
    "            namespace=StringMessage(\n",
    "                value=\"fhir_workshop\"\n",
    "            )\n",
    "            ,etag = dfn.etag\n",
    "        )\n",
    "        ,field_mask=\"namespace\"\n",
    "    )\n",
    "  dfn = w.settings.default_namespace.get()\n",
    "\n",
    "print(f\"\"\"\n",
    "    Default namespace is: {dfn.namespace.value}\n",
    "\"\"\")"
   ]
  },
  {
   "cell_type": "markdown",
   "metadata": {
    "application/vnd.databricks.v1+cell": {
     "cellMetadata": {
      "byteLimit": 2048000,
      "rowLimit": 10000
     },
     "inputWidgets": {},
     "nuid": "bdaa6159-e5ff-4085-8590-41dd663535e7",
     "showTitle": false,
     "tableResultSettingsMap": {},
     "title": ""
    }
   },
   "source": [
    "_Note that all compute resources must be completely restarted to take affect._"
   ]
  },
  {
   "cell_type": "markdown",
   "metadata": {
    "application/vnd.databricks.v1+cell": {
     "cellMetadata": {},
     "inputWidgets": {},
     "nuid": "b1ec7612-bad3-4e99-a300-85f83f7d0c86",
     "showTitle": false,
     "tableResultSettingsMap": {},
     "title": ""
    }
   },
   "source": [
    "### Create the SQL Warehouse for the Class \n",
    "***"
   ]
  },
  {
   "cell_type": "code",
   "execution_count": 0,
   "metadata": {
    "application/vnd.databricks.v1+cell": {
     "cellMetadata": {
      "byteLimit": 2048000,
      "rowLimit": 10000
     },
     "inputWidgets": {},
     "nuid": "373eed7f-4acd-40fb-9e9d-f401fd1dc0fe",
     "showTitle": false,
     "tableResultSettingsMap": {},
     "title": ""
    }
   },
   "outputs": [],
   "source": [
    "from databricks.sdk.service.sql import Channel, ChannelName, WarehouseAccessControlRequest, WarehousePermissionLevel"
   ]
  },
  {
   "cell_type": "code",
   "execution_count": 0,
   "metadata": {
    "application/vnd.databricks.v1+cell": {
     "cellMetadata": {
      "byteLimit": 2048000,
      "rowLimit": 10000
     },
     "inputWidgets": {},
     "nuid": "0ed35304-1f1d-441a-a094-56f97485ff33",
     "showTitle": true,
     "tableResultSettingsMap": {},
     "title": "If the Warehouse Exists, Return the Warehouse ID, Otherwise Create the Warehouse"
    }
   },
   "outputs": [],
   "source": [
    "warehouses = w.warehouses.list()\n",
    "warehouses = [warehouse.as_dict() for warehouse in warehouses if warehouse.name == f\"{customer_name} SQL Warehouse 2XL 1-40\"]\n",
    "len(warehouses)\n",
    "\n",
    "if len(warehouses) > 0:\n",
    "  warehouse_id = warehouses[0]['id']\n",
    "else:\n",
    "  warehouse_id = w.warehouses.create(\n",
    "      auto_stop_mins = 10\n",
    "      ,channel = Channel(name = ChannelName(\"CHANNEL_NAME_CURRENT\"))\n",
    "      ,cluster_size = \"2X-Large\"\n",
    "      ,enable_photon = True\n",
    "      ,enable_serverless_compute = True\n",
    "      ,max_num_clusters = 40\n",
    "      ,min_num_clusters = 1\n",
    "      ,name = f\"{customer_name} SQL Warehouse 2XL 1-40\"\n",
    "  ).id\n",
    "\n",
    "warehouse_id"
   ]
  },
  {
   "cell_type": "code",
   "execution_count": 0,
   "metadata": {
    "application/vnd.databricks.v1+cell": {
     "cellMetadata": {
      "byteLimit": 2048000,
      "rowLimit": 10000
     },
     "inputWidgets": {},
     "nuid": "2bae34d5-6df3-4f17-92e0-39ab9f032024",
     "showTitle": true,
     "tableResultSettingsMap": {},
     "title": "Update Warehouse Permissons for Can Monitor"
    }
   },
   "outputs": [],
   "source": [
    "w.warehouses.update_permissions(\n",
    "    warehouse_id=warehouse_id,\n",
    "    access_control_list=[\n",
    "        WarehouseAccessControlRequest(\n",
    "            group_name='users',\n",
    "            permission_level=WarehousePermissionLevel(\"CAN_MONITOR\")\n",
    "        )\n",
    "    ]\n",
    ")"
   ]
  }
 ],
 "metadata": {
  "application/vnd.databricks.v1+notebook": {
   "computePreferences": null,
   "dashboards": [],
   "environmentMetadata": {
    "base_environment": "",
    "environment_version": "2"
   },
   "inputWidgetPreferences": null,
   "language": "python",
   "notebookMetadata": {
    "mostRecentlyExecutedCommandWithImplicitDF": {
     "commandId": 5462783851798209,
     "dataframes": [
      "_sqldf"
     ]
    },
    "pythonIndentUnit": 4
   },
   "notebookName": "Lab Workspace Set Up",
   "widgets": {
    "customer_name": {
     "currentValue": "WholeCare",
     "nuid": "932607e4-24bc-41bc-b4ea-eda55ddbde6a",
     "typedWidgetInfo": {
      "autoCreated": false,
      "defaultValue": "",
      "label": "Customer Name",
      "name": "customer_name",
      "options": {
       "widgetDisplayType": "Text",
       "validationRegex": null
      },
      "parameterDataType": "String"
     },
     "widgetInfo": {
      "widgetType": "text",
      "defaultValue": "",
      "label": "Customer Name",
      "name": "customer_name",
      "options": {
       "widgetType": "text",
       "autoCreated": null,
       "validationRegex": null
      }
     }
    }
   }
  },
  "language_info": {
   "name": "python"
  }
 },
 "nbformat": 4,
 "nbformat_minor": 0
}
