{
 "cells": [
  {
   "cell_type": "code",
   "execution_count": 0,
   "metadata": {
    "application/vnd.databricks.v1+cell": {
     "cellMetadata": {
      "byteLimit": 2048000,
      "rowLimit": 10000
     },
     "inputWidgets": {},
     "nuid": "7ae673b3-2812-4ab5-bf5e-2aa43dcbc79e",
     "showTitle": false,
     "tableResultSettingsMap": {},
     "title": ""
    }
   },
   "outputs": [],
   "source": [
    "%pip install databricks-sdk --upgrade"
   ]
  },
  {
   "cell_type": "code",
   "execution_count": 0,
   "metadata": {
    "application/vnd.databricks.v1+cell": {
     "cellMetadata": {
      "byteLimit": 2048000,
      "rowLimit": 10000
     },
     "inputWidgets": {},
     "nuid": "f165103e-a6e4-4716-b7d1-0aa2625c9cd9",
     "showTitle": false,
     "tableResultSettingsMap": {},
     "title": ""
    }
   },
   "outputs": [],
   "source": [
    "dbutils.library.restartPython()"
   ]
  },
  {
   "cell_type": "code",
   "execution_count": 0,
   "metadata": {
    "application/vnd.databricks.v1+cell": {
     "cellMetadata": {
      "byteLimit": 2048000,
      "rowLimit": 10000
     },
     "inputWidgets": {},
     "nuid": "b940a587-a957-4689-94bb-b60f430377d5",
     "showTitle": false,
     "tableResultSettingsMap": {},
     "title": ""
    }
   },
   "outputs": [],
   "source": [
    "dbutils.widgets.text(\"min_records_override\", \"1500\")\n",
    "dbutils.widgets.text(\"inject_bad_data_override\", \"true\")\n",
    "dbutils.widgets.text(\"catalog_name_override\", \"fhir_workshop\")\n",
    "dbutils.widgets.text(\"schema_name_override\", \"synthea\")\n",
    "dbutils.widgets.text(\"create_landing_zone_override\", \"true\")\n",
    "dbutils.widgets.text(\"max_records_override\", \"1600\")"
   ]
  },
  {
   "cell_type": "code",
   "execution_count": 0,
   "metadata": {
    "application/vnd.databricks.v1+cell": {
     "cellMetadata": {
      "byteLimit": 2048000,
      "rowLimit": 10000
     },
     "inputWidgets": {},
     "nuid": "6aa495bb-70b5-453b-bd83-2df19e696cea",
     "showTitle": false,
     "tableResultSettingsMap": {},
     "title": ""
    }
   },
   "outputs": [],
   "source": [
    "from databricks.sdk import WorkspaceClient\n",
    "\n",
    "w = WorkspaceClient()"
   ]
  },
  {
   "cell_type": "code",
   "execution_count": 0,
   "metadata": {
    "application/vnd.databricks.v1+cell": {
     "cellMetadata": {
      "byteLimit": 2048000,
      "rowLimit": 10000
     },
     "inputWidgets": {},
     "nuid": "38def417-5e7a-4c91-9aa4-d75a17fbe2cc",
     "showTitle": false,
     "tableResultSettingsMap": {},
     "title": ""
    }
   },
   "outputs": [],
   "source": [
    "displayName = w.current_user.me().as_dict()['displayName']\n",
    "user_name = displayName.split(\"@\",)[0].replace(\".\", \"_\")\n",
    "user_name"
   ]
  },
  {
   "cell_type": "code",
   "execution_count": 0,
   "metadata": {
    "application/vnd.databricks.v1+cell": {
     "cellMetadata": {},
     "inputWidgets": {},
     "nuid": "d37d0a46-f529-48c3-915b-b8a44a7cfff9",
     "showTitle": false,
     "tableResultSettingsMap": {},
     "title": ""
    }
   },
   "outputs": [],
   "source": [
    "jobs_list = w.jobs.list(\n",
    "    expand_tasks=False\n",
    "    # ,name = f\"{user_name}-{user_id}-synthea-data-generation\"\n",
    "    ,name = f\"{user_name}-synthea-data-generation\"\n",
    ")\n",
    "jobs_list = [job.as_dict() for job in jobs_list]\n",
    "jobs_list"
   ]
  },
  {
   "cell_type": "code",
   "execution_count": 0,
   "metadata": {
    "application/vnd.databricks.v1+cell": {
     "cellMetadata": {},
     "inputWidgets": {},
     "nuid": "3bac57d3-f605-48b3-b605-912d0bb6de56",
     "showTitle": false,
     "tableResultSettingsMap": {},
     "title": ""
    }
   },
   "outputs": [],
   "source": [
    "job_id = jobs_list[0]['job_id']\n",
    "job_id"
   ]
  },
  {
   "cell_type": "code",
   "execution_count": 0,
   "metadata": {
    "application/vnd.databricks.v1+cell": {
     "cellMetadata": {},
     "inputWidgets": {},
     "nuid": "33f5bc87-a58b-49f4-a744-d15c2da43ecb",
     "showTitle": false,
     "tableResultSettingsMap": {},
     "title": ""
    }
   },
   "outputs": [],
   "source": [
    "w.jobs.run_now_and_wait(\n",
    "    job_id=job_id\n",
    "    ,job_parameters = {\n",
    "        \"min_records\": dbutils.widgets.get(\"min_records_override\"),\n",
    "        \"inject_bad_data\": dbutils.widgets.get(\"inject_bad_data_override\"),\n",
    "        \"catalog_name\": dbutils.widgets.get(\"catalog_use\"),\n",
    "        \"schema_name\": dbutils.widgets.get(\"schema_use\"),\n",
    "        \"create_landing_zone\": dbutils.widgets.get(\"create_landing_zone_override\"),\n",
    "        \"max_records\": dbutils.widgets.get(\"max_records_override\")\n",
    "    }\n",
    ")"
   ]
  }
 ],
 "metadata": {
  "application/vnd.databricks.v1+notebook": {
   "computePreferences": null,
   "dashboards": [],
   "environmentMetadata": {
    "base_environment": "",
    "environment_version": "2"
   },
   "inputWidgetPreferences": null,
   "language": "python",
   "notebookMetadata": {
    "pythonIndentUnit": 4
   },
   "notebookName": "Generate Synthethic Data",
   "widgets": {
    "catalog_name": {
     "currentValue": "fhir_workshop",
     "nuid": "26b39c45-f1e1-4283-84b8-ce45bb2ab8a4",
     "typedWidgetInfo": {
      "autoCreated": false,
      "defaultValue": "fhir_workshop",
      "label": "",
      "name": "catalog_name",
      "options": {
       "widgetDisplayType": "Text",
       "validationRegex": null
      },
      "parameterDataType": "String"
     },
     "widgetInfo": {
      "widgetType": "text",
      "defaultValue": "fhir_workshop",
      "label": "",
      "name": "catalog_name",
      "options": {
       "widgetType": "text",
       "autoCreated": false,
       "validationRegex": null
      }
     }
    },
    "create_landing_zone_override": {
     "currentValue": "true",
     "nuid": "2500da8d-f743-4942-be74-db598a7a1f30",
     "typedWidgetInfo": {
      "autoCreated": false,
      "defaultValue": "true",
      "label": null,
      "name": "create_landing_zone_override",
      "options": {
       "widgetDisplayType": "Text",
       "validationRegex": null
      },
      "parameterDataType": "String"
     },
     "widgetInfo": {
      "widgetType": "text",
      "defaultValue": "true",
      "label": null,
      "name": "create_landing_zone_override",
      "options": {
       "widgetType": "text",
       "autoCreated": null,
       "validationRegex": null
      }
     }
    },
    "inject_bad_data_override": {
     "currentValue": "true",
     "nuid": "b2d1f50b-922b-4ee4-80cf-c00107c9f320",
     "typedWidgetInfo": {
      "autoCreated": false,
      "defaultValue": "true",
      "label": null,
      "name": "inject_bad_data_override",
      "options": {
       "widgetDisplayType": "Text",
       "validationRegex": null
      },
      "parameterDataType": "String"
     },
     "widgetInfo": {
      "widgetType": "text",
      "defaultValue": "true",
      "label": null,
      "name": "inject_bad_data_override",
      "options": {
       "widgetType": "text",
       "autoCreated": null,
       "validationRegex": null
      }
     }
    },
    "max_records_override": {
     "currentValue": "1600",
     "nuid": "e6fcd9ef-6cd7-4997-af27-097aaf127fce",
     "typedWidgetInfo": {
      "autoCreated": false,
      "defaultValue": "1600",
      "label": null,
      "name": "max_records_override",
      "options": {
       "widgetDisplayType": "Text",
       "validationRegex": null
      },
      "parameterDataType": "String"
     },
     "widgetInfo": {
      "widgetType": "text",
      "defaultValue": "1600",
      "label": null,
      "name": "max_records_override",
      "options": {
       "widgetType": "text",
       "autoCreated": null,
       "validationRegex": null
      }
     }
    },
    "min_records_override": {
     "currentValue": "1500",
     "nuid": "8b97f879-fc80-45ff-b0ff-a3d29f7d5fbf",
     "typedWidgetInfo": {
      "autoCreated": false,
      "defaultValue": "1500",
      "label": null,
      "name": "min_records_override",
      "options": {
       "widgetDisplayType": "Text",
       "validationRegex": null
      },
      "parameterDataType": "String"
     },
     "widgetInfo": {
      "widgetType": "text",
      "defaultValue": "1500",
      "label": null,
      "name": "min_records_override",
      "options": {
       "widgetType": "text",
       "autoCreated": null,
       "validationRegex": null
      }
     }
    },
    "schema_name": {
     "currentValue": "synthea",
     "nuid": "dac62d26-20ee-43a5-b1e9-7d878bbc226f",
     "typedWidgetInfo": {
      "autoCreated": false,
      "defaultValue": "synthea",
      "label": "",
      "name": "schema_name",
      "options": {
       "widgetDisplayType": "Text",
       "validationRegex": null
      },
      "parameterDataType": "String"
     },
     "widgetInfo": {
      "widgetType": "text",
      "defaultValue": "synthea",
      "label": "",
      "name": "schema_name",
      "options": {
       "widgetType": "text",
       "autoCreated": false,
       "validationRegex": null
      }
     }
    }
   }
  },
  "language_info": {
   "name": "python"
  }
 },
 "nbformat": 4,
 "nbformat_minor": 0
}
