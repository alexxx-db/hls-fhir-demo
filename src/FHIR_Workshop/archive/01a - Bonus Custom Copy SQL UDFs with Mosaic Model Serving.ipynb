{
 "cells": [
  {
   "cell_type": "code",
   "execution_count": 0,
   "metadata": {
    "application/vnd.databricks.v1+cell": {
     "cellMetadata": {
      "byteLimit": 2048000,
      "rowLimit": 10000
     },
     "inputWidgets": {},
     "nuid": "6415a142-c399-4bf0-bc70-66b9538fe3af",
     "showTitle": false,
     "tableResultSettingsMap": {},
     "title": ""
    }
   },
   "outputs": [],
   "source": [
    "%pip install --upgrade databricks-sdk"
   ]
  },
  {
   "cell_type": "code",
   "execution_count": 0,
   "metadata": {
    "application/vnd.databricks.v1+cell": {
     "cellMetadata": {
      "byteLimit": 2048000,
      "rowLimit": 10000
     },
     "inputWidgets": {},
     "nuid": "9d34022f-302c-46dd-b475-6380a98dddfe",
     "showTitle": false,
     "tableResultSettingsMap": {},
     "title": ""
    }
   },
   "outputs": [],
   "source": [
    "dbutils.library.restartPython()"
   ]
  },
  {
   "cell_type": "code",
   "execution_count": 0,
   "metadata": {
    "application/vnd.databricks.v1+cell": {
     "cellMetadata": {
      "byteLimit": 2048000,
      "rowLimit": 10000
     },
     "inputWidgets": {},
     "nuid": "3dc7398e-b533-455b-951f-431a301c7485",
     "showTitle": false,
     "tableResultSettingsMap": {},
     "title": ""
    }
   },
   "outputs": [],
   "source": [
    "schema_use = spark.sql(\"SELECT REPLACE(SPLIT(current_user(), '@')[0], '.', '_')\").collect()[0][0]\n",
    "schema_use"
   ]
  },
  {
   "cell_type": "code",
   "execution_count": 0,
   "metadata": {
    "application/vnd.databricks.v1+cell": {
     "cellMetadata": {
      "byteLimit": 2048000,
      "rowLimit": 10000
     },
     "inputWidgets": {},
     "nuid": "267824d7-b2d1-470b-b5d9-a52b38585419",
     "showTitle": false,
     "tableResultSettingsMap": {},
     "title": ""
    }
   },
   "outputs": [],
   "source": [
    "source_volume = \"/Volumes/fhir_workshop/synthea/synthetic_files_raw/output/fhir/\"\n",
    "target_volume = f\"/Volumes/fhir_workshop/{schema_use}/landing/\"\n",
    "target_volume"
   ]
  },
  {
   "cell_type": "code",
   "execution_count": 0,
   "metadata": {
    "application/vnd.databricks.v1+cell": {
     "cellMetadata": {
      "byteLimit": 2048000,
      "rowLimit": 10000
     },
     "inputWidgets": {},
     "nuid": "e0b1d5c8-ecdf-433a-bc0b-6fa74114b3eb",
     "showTitle": false,
     "tableResultSettingsMap": {},
     "title": ""
    }
   },
   "outputs": [],
   "source": [
    "import mlflow\n",
    "import shutil\n",
    "import glob\n",
    "import os"
   ]
  },
  {
   "cell_type": "code",
   "execution_count": 0,
   "metadata": {
    "application/vnd.databricks.v1+cell": {
     "cellMetadata": {
      "byteLimit": 2048000,
      "rowLimit": 10000
     },
     "inputWidgets": {},
     "nuid": "f5c89a1c-2f95-4a50-8204-b6757cbee388",
     "showTitle": false,
     "tableResultSettingsMap": {},
     "title": ""
    }
   },
   "outputs": [],
   "source": [
    "class VolumeCopyFiles(mlflow.pyfunc.PythonModel):\n",
    "    def __init__(self):\n",
    "        pass\n",
    "\n",
    "    def load_context(self, context):\n",
    "        import shutil\n",
    "        import glob\n",
    "        import os\n",
    "\n",
    "    def copy_files(self, source_volume: str, target_volume: str, file_pattern: str=None):\n",
    "        # Check if the source and target volumes end with a slash\n",
    "        if not source_volume.endswith('/'):\n",
    "            source_volume += '/'\n",
    "\n",
    "        if not target_volume.endswith('/'):\n",
    "            target_volume += '/'\n",
    "\n",
    "        # Use glob to locate files based on the file pattern\n",
    "        if file_pattern is None:\n",
    "            file_pattern = '*'\n",
    "\n",
    "        files = glob.glob(os.path.join(source_volume, file_pattern))\n",
    "\n",
    "        # Copy each file to the destination directory\n",
    "        for file in files:\n",
    "            target_file = os.path.join(target_volume, os.path.basename(file))\n",
    "            if os.path.exists(target_file):\n",
    "                os.remove(target_file)\n",
    "            shutil.copy2(file, target_volume)\n",
    "\n",
    "        return f\"Copied {str(len(files))} files.\"\n",
    "\n",
    "    def predict(self, context, model_input, params = None):\n",
    "        results = []\n",
    "        # Apply the copy_files function to each row of the DataFrame\n",
    "        # Convert Pandas DF to string.\n",
    "        for row in model_input.itertuples(index=False):\n",
    "            result = self.copy_files(\n",
    "                source_volume = row.source_volume\n",
    "                ,target_volume = row.target_volume\n",
    "                ,file_pattern = row.file_pattern\n",
    "            )\n",
    "            results.append(result)\n",
    "        return results"
   ]
  },
  {
   "cell_type": "code",
   "execution_count": 0,
   "metadata": {
    "application/vnd.databricks.v1+cell": {
     "cellMetadata": {},
     "inputWidgets": {},
     "nuid": "5eda7013-482c-46d2-b9f9-ce3c7cd25ed4",
     "showTitle": false,
     "tableResultSettingsMap": {},
     "title": ""
    }
   },
   "outputs": [],
   "source": [
    "class VolumeCopyFiles(mlflow.pyfunc.PythonModel):\n",
    "    def __init__(self):\n",
    "        pass\n",
    "\n",
    "    def load_context(self, context):\n",
    "        import shutil\n",
    "        import glob\n",
    "        import os\n",
    "\n",
    "    def copy_files(self, source_volume: str, target_volume: str, file_pattern: str=None):\n",
    "        # Check if the source and target volumes end with a slash\n",
    "        if not source_volume.endswith('/'):\n",
    "            source_volume += '/'\n",
    "\n",
    "        if not target_volume.endswith('/'):\n",
    "            target_volume += '/'\n",
    "\n",
    "        # Use glob to locate files based on the file pattern\n",
    "        if file_pattern is None:\n",
    "            file_pattern = '*'\n",
    "\n",
    "        files = glob.glob(os.path.join(source_volume, file_pattern))\n",
    "\n",
    "        # Copy each file to the destination directory\n",
    "        for file in files:\n",
    "            target_file = os.path.join(target_volume, os.path.basename(file))\n",
    "            if os.path.exists(target_file):\n",
    "                os.remove(target_file)\n",
    "            shutil.copy2(file, target_volume)\n",
    "\n",
    "        return f\"Copied {str(len(files))} files.\"\n",
    "\n",
    "    def predict(self, context, model_input, params = None):\n",
    "        results = []\n",
    "        # Apply the copy_files function to each row of the DataFrame\n",
    "        # Convert Pandas DF to string.\n",
    "        for row in model_input.itertuples(index=False):\n",
    "            result = self.copy_files(\n",
    "                source_volume = row.source_volume\n",
    "                ,target_volume = row.target_volume\n",
    "                ,file_pattern = row.file_pattern\n",
    "            )\n",
    "            results.append(result)\n",
    "        return results"
   ]
  },
  {
   "cell_type": "code",
   "execution_count": 0,
   "metadata": {
    "application/vnd.databricks.v1+cell": {
     "cellMetadata": {
      "byteLimit": 2048000,
      "rowLimit": 10000
     },
     "inputWidgets": {},
     "nuid": "2b1ca871-ed9f-40e4-a8af-dbcfb04969aa",
     "showTitle": false,
     "tableResultSettingsMap": {},
     "title": ""
    }
   },
   "outputs": [],
   "source": [
    "import pandas as pd\n",
    "\n",
    "df = pd.DataFrame({\"source_volume\": [source_volume], \"target_volume\": [target_volume], \"file_pattern\": [\"A*.json\"]})\n",
    "df"
   ]
  },
  {
   "cell_type": "code",
   "execution_count": 0,
   "metadata": {
    "application/vnd.databricks.v1+cell": {
     "cellMetadata": {
      "byteLimit": 2048000,
      "rowLimit": 10000
     },
     "inputWidgets": {},
     "nuid": "fec3e2ad-b185-48d5-ba9f-628327ef0dbe",
     "showTitle": false,
     "tableResultSettingsMap": {},
     "title": ""
    }
   },
   "outputs": [],
   "source": [
    "import pandas as pd\n",
    "\n",
    "# Create a Pandas DataFrame with a single row.\n",
    "# This will be used to infer the model signature\n",
    "# which is mandatory for UC model registry.\n",
    "from mlflow.models import infer_signature"
   ]
  },
  {
   "cell_type": "code",
   "execution_count": 0,
   "metadata": {
    "application/vnd.databricks.v1+cell": {
     "cellMetadata": {
      "byteLimit": 2048000,
      "rowLimit": 10000
     },
     "inputWidgets": {},
     "nuid": "024c7a0b-3970-4993-869d-01d7676fb00d",
     "showTitle": false,
     "tableResultSettingsMap": {},
     "title": ""
    }
   },
   "outputs": [],
   "source": [
    "signature = infer_signature(df, [\"volume_copy_files\"])\n",
    "signature"
   ]
  },
  {
   "cell_type": "code",
   "execution_count": 0,
   "metadata": {
    "application/vnd.databricks.v1+cell": {
     "cellMetadata": {
      "byteLimit": 2048000,
      "rowLimit": 10000
     },
     "inputWidgets": {},
     "nuid": "e93d1bee-c864-46e2-8f61-163c9ae60701",
     "showTitle": false,
     "tableResultSettingsMap": {},
     "title": ""
    }
   },
   "outputs": [],
   "source": [
    "with mlflow.start_run():\n",
    "\n",
    " # Ensure the standard python libraries glob, shutil, and os are available based on this version of the DBR.  \n",
    " conda_env = mlflow.pyfunc.get_default_conda_env()\n",
    "\n",
    " mlflow.pyfunc.log_model(artifact_path=\"model\",\n",
    "                         python_model=VolumeCopyFiles(),\n",
    "                         signature=signature,\n",
    "                         conda_env=conda_env)\n",
    " \n",
    " run_id = mlflow.active_run().info.run_id"
   ]
  },
  {
   "cell_type": "code",
   "execution_count": 0,
   "metadata": {
    "application/vnd.databricks.v1+cell": {
     "cellMetadata": {
      "byteLimit": 2048000,
      "rowLimit": 10000
     },
     "inputWidgets": {},
     "nuid": "a2a166e3-3c59-490e-acaf-8856ea45a981",
     "showTitle": false,
     "tableResultSettingsMap": {},
     "title": ""
    }
   },
   "outputs": [],
   "source": [
    "logged_model = f\"runs:/{run_id}/model\"\n",
    "\n",
    "# Load model as a PyFuncModel.\n",
    "loaded_model = mlflow.pyfunc.load_model(logged_model)\n",
    "\n",
    "# Predict on a Pandas DataFrame.\n",
    "loaded_model.predict(df)"
   ]
  },
  {
   "cell_type": "code",
   "execution_count": 0,
   "metadata": {
    "application/vnd.databricks.v1+cell": {
     "cellMetadata": {
      "byteLimit": 2048000,
      "rowLimit": 10000
     },
     "inputWidgets": {},
     "nuid": "b85ddde2-8ec5-4f4c-b774-ddd98fab6bcd",
     "showTitle": false,
     "tableResultSettingsMap": {},
     "title": ""
    }
   },
   "outputs": [],
   "source": [
    "catalog = \"fhir_workshop\"\n",
    "schema = \"synthea\"\n",
    "model_name = \"volume_copy_files\"\n",
    "full_model_name = f\"{catalog}.{schema}.{model_name}\"\n",
    "\n",
    "mlflow.set_registry_uri(\"databricks-uc\")\n",
    "\n",
    "mlflow.register_model(f\"runs:/{run_id}/model\", full_model_name)"
   ]
  },
  {
   "cell_type": "code",
   "execution_count": 0,
   "metadata": {
    "application/vnd.databricks.v1+cell": {
     "cellMetadata": {
      "byteLimit": 2048000,
      "rowLimit": 10000
     },
     "inputWidgets": {},
     "nuid": "eabb846a-d403-45ff-a250-82eec0c1e2f8",
     "showTitle": false,
     "tableResultSettingsMap": {},
     "title": ""
    }
   },
   "outputs": [],
   "source": [
    "client = mlflow.MlflowClient()\n",
    "\n",
    "# Search for all versions of the model\n",
    "model_version_infos = client.search_model_versions(f\"name = '{full_model_name}'\")\n",
    "\n",
    "# Find the latest version\n",
    "latest_version = max([model_version_info.version for model_version_info in model_version_infos])\n",
    "print(f\"\"\"\n",
    "    The latest version of the model {full_model_name} in Unity Catalog is version {latest_version}.\n",
    "\"\"\")"
   ]
  },
  {
   "cell_type": "code",
   "execution_count": 0,
   "metadata": {
    "application/vnd.databricks.v1+cell": {
     "cellMetadata": {
      "byteLimit": 2048000,
      "rowLimit": 10000
     },
     "inputWidgets": {},
     "nuid": "4fa4712a-70ba-4c33-9c80-2ec4ad022383",
     "showTitle": false,
     "tableResultSettingsMap": {},
     "title": ""
    }
   },
   "outputs": [],
   "source": [
    "# Load Unity Catalog model as a PyFuncModel.\n",
    "loaded_model = mlflow.pyfunc.load_model(f\"models:/{full_model_name}/{latest_version}\")\n",
    "\n",
    "# Predict on a Pandas DataFrame.\n",
    "loaded_model.predict(df)"
   ]
  },
  {
   "cell_type": "code",
   "execution_count": 0,
   "metadata": {
    "application/vnd.databricks.v1+cell": {
     "cellMetadata": {
      "byteLimit": 2048000,
      "rowLimit": 10000
     },
     "inputWidgets": {},
     "nuid": "b6341d91-8db7-4ce6-ba50-bdd224fdea15",
     "showTitle": false,
     "tableResultSettingsMap": {},
     "title": ""
    }
   },
   "outputs": [],
   "source": [
    "# Set the model alias\n",
    "client.set_registered_model_alias(\n",
    "    name=full_model_name\n",
    "    ,alias=\"Staged\"\n",
    "    ,version=latest_version\n",
    ")"
   ]
  },
  {
   "cell_type": "markdown",
   "metadata": {
    "application/vnd.databricks.v1+cell": {
     "cellMetadata": {},
     "inputWidgets": {},
     "nuid": "c94a89f9-9809-4793-b49b-8baeb552587e",
     "showTitle": false,
     "tableResultSettingsMap": {},
     "title": ""
    }
   },
   "source": [
    "## Use the GUI to Serve the Model with Mosaic AI Model Serving \n",
    "\n",
    "The test the model with the browser query using:\n",
    "\n",
    "```{  \n",
    "    \"dataframe_split\": {  \n",
    "        \"index\": [0],  \n",
    "        \"columns\": [\"source_volume\", \"target_volume\", \"file_pattern\"],  \n",
    "        \"data\": [ [\"/Volumes/fhir_workshop/synthea/synthetic_files_raw/output/fhir/\",\"/Volumes/fhir_workshop/odl_instructor_1452233/landing/\", \"A*.json\"]  \n",
    "        ]  \n",
    "    }  \n",
    "}```"
   ]
  },
  {
   "cell_type": "code",
   "execution_count": 0,
   "metadata": {
    "application/vnd.databricks.v1+cell": {
     "cellMetadata": {
      "byteLimit": 2048000,
      "rowLimit": 10000
     },
     "inputWidgets": {},
     "nuid": "769cd797-a8de-42d3-8b28-cec4ee82a2e0",
     "showTitle": false,
     "tableResultSettingsMap": {},
     "title": ""
    }
   },
   "outputs": [],
   "source": [
    "w.serving_endpoints.get(\"fhir_workshop_synthea_volume_copy_files\")"
   ]
  },
  {
   "cell_type": "code",
   "execution_count": 0,
   "metadata": {
    "application/vnd.databricks.v1+cell": {
     "cellMetadata": {
      "byteLimit": 2048000,
      "implicitDf": true,
      "rowLimit": 10000
     },
     "inputWidgets": {},
     "nuid": "58586b2f-f05e-4eac-97ce-d4512f25eae3",
     "showTitle": false,
     "tableResultSettingsMap": {},
     "title": ""
    }
   },
   "outputs": [],
   "source": [
    "%sql\n",
    "DECLARE OR REPLACE VARIABLE schema_use STRING DEFAULT REPLACE(SPLIT(current_user(), '@')[0], '.', '_');\n",
    "DECLARE OR REPLACE VARIABLE target_volume STRING DEFAULT \"/Volumes/fhir_workshop/\" || schema_use || \"/landing/\";\n",
    "\n",
    "select target_volume;"
   ]
  },
  {
   "cell_type": "code",
   "execution_count": 0,
   "metadata": {
    "application/vnd.databricks.v1+cell": {
     "cellMetadata": {
      "byteLimit": 2048000,
      "implicitDf": true,
      "rowLimit": 10000
     },
     "inputWidgets": {},
     "nuid": "00d821e5-4b02-4abe-bafa-c797e74d1103",
     "showTitle": false,
     "tableResultSettingsMap": {},
     "title": ""
    }
   },
   "outputs": [],
   "source": [
    "%sql\n",
    "SELECT ai_query(\n",
    "  'fhir_workshop_synthea_volume_copy_files'\n",
    "  ,request => named_struct(\n",
    "    \"source_volume\", \"/Volumes/fhir_workshop/synthea/synthetic_files_raw/output/fhir/\"\n",
    "    ,\"target_volume\", target_volume\n",
    "    ,\"file_pattern\", \"A*.json\")\n",
    "  ,returnType => \"STRING\"\n",
    "  ) as results;"
   ]
  }
 ],
 "metadata": {
  "application/vnd.databricks.v1+notebook": {
   "computePreferences": null,
   "dashboards": [],
   "environmentMetadata": {
    "base_environment": "",
    "environment_version": "2"
   },
   "language": "python",
   "notebookMetadata": {
    "mostRecentlyExecutedCommandWithImplicitDF": {
     "commandId": 5189746170171801,
     "dataframes": [
      "_sqldf"
     ]
    },
    "pythonIndentUnit": 4
   },
   "notebookName": "01a - Bonus Custom Copy SQL UDFs with Mosaic Model Serving",
   "widgets": {}
  },
  "language_info": {
   "name": "python"
  }
 },
 "nbformat": 4,
 "nbformat_minor": 0
}
