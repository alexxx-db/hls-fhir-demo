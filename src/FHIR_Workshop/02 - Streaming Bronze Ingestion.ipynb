{
 "cells": [
  {
   "cell_type": "code",
   "execution_count": 0,
   "metadata": {
    "application/vnd.databricks.v1+cell": {
     "cellMetadata": {
      "byteLimit": 2048000,
      "rowLimit": 10000
     },
     "inputWidgets": {},
     "nuid": "ecd755e2-27f7-4606-a19a-2b1e318e62f6",
     "showTitle": true,
     "tableResultSettingsMap": {},
     "title": "Set the Schema to Use as a Declared Variable"
    }
   },
   "outputs": [],
   "source": [
    "DECLARE OR REPLACE VARIABLE schema_use STRING DEFAULT REPLACE(SPLIT(current_user(), '@')[0], '.', '_');"
   ]
  },
  {
   "cell_type": "code",
   "execution_count": 0,
   "metadata": {
    "application/vnd.databricks.v1+cell": {
     "cellMetadata": {
      "byteLimit": 2048000,
      "rowLimit": 10000
     },
     "inputWidgets": {},
     "nuid": "e4fabb7a-86d7-441e-8322-2a4bb979f0cb",
     "showTitle": true,
     "tableResultSettingsMap": {},
     "title": "Use Catalog and Schema Statement"
    }
   },
   "outputs": [],
   "source": [
    "USE IDENTIFIER(\"fhir_workshop.\" || schema_use);"
   ]
  },
  {
   "cell_type": "code",
   "execution_count": 0,
   "metadata": {
    "application/vnd.databricks.v1+cell": {
     "cellMetadata": {
      "byteLimit": 2048000,
      "rowLimit": 10000
     },
     "inputWidgets": {},
     "nuid": "11762452-0650-454e-bca8-e37bd23bdd03",
     "showTitle": true,
     "tableResultSettingsMap": {},
     "title": "Check the Current Catalog and Schema is Set"
    }
   },
   "outputs": [],
   "source": [
    "SELECT current_catalog(), current_schema();"
   ]
  },
  {
   "cell_type": "code",
   "execution_count": 0,
   "metadata": {
    "application/vnd.databricks.v1+cell": {
     "cellMetadata": {
      "byteLimit": 2048000,
      "rowLimit": 10000
     },
     "inputWidgets": {},
     "nuid": "c451796d-9d6b-43e5-a7e0-32e8a1d61a49",
     "showTitle": true,
     "tableResultSettingsMap": {},
     "title": "Show Volumes Available in the Catalog.Schema"
    }
   },
   "outputs": [],
   "source": [
    "SHOW VOLUMES;"
   ]
  },
  {
   "cell_type": "code",
   "execution_count": 0,
   "metadata": {
    "application/vnd.databricks.v1+cell": {
     "cellMetadata": {
      "byteLimit": 2048000,
      "rowLimit": 10000
     },
     "inputWidgets": {},
     "nuid": "f2104132-ea0e-4e83-87e9-271d8a4c498f",
     "showTitle": true,
     "tableResultSettingsMap": {},
     "title": "Dynamically Build the LIST statement"
    }
   },
   "outputs": [],
   "source": [
    "DECLARE OR REPLACE VARIABLE list_stmnt STRING;\n",
    "\n",
    "SET VARIABLE list_stmnt = \"LIST '/Volumes/fhir_workshop/\" || schema_use || \"/landing/' LIMIT 100;\";\n",
    "\n",
    "SELECT list_stmnt;"
   ]
  },
  {
   "cell_type": "code",
   "execution_count": 0,
   "metadata": {
    "application/vnd.databricks.v1+cell": {
     "cellMetadata": {
      "byteLimit": 2048000,
      "rowLimit": 10000
     },
     "inputWidgets": {},
     "nuid": "2b30497d-1067-4098-8ebd-8f195c908ca8",
     "showTitle": true,
     "tableResultSettingsMap": {},
     "title": "Execute the LIST Statement"
    }
   },
   "outputs": [],
   "source": [
    "EXECUTE IMMEDIATE list_stmnt;"
   ]
  },
  {
   "cell_type": "code",
   "execution_count": 0,
   "metadata": {
    "application/vnd.databricks.v1+cell": {
     "cellMetadata": {
      "byteLimit": 2048000,
      "rowLimit": 10000
     },
     "inputWidgets": {},
     "nuid": "ee320fef-a187-47f1-8f8f-6e399f69c9fc",
     "showTitle": true,
     "tableResultSettingsMap": {},
     "title": "Full Refresh of the FHIR Bronze Table"
    }
   },
   "outputs": [],
   "source": [
    "DROP TABLE IF EXISTS fhir_bronze;"
   ]
  },
  {
   "cell_type": "code",
   "execution_count": 0,
   "metadata": {
    "application/vnd.databricks.v1+cell": {
     "cellMetadata": {
      "byteLimit": 2048000,
      "rowLimit": 10000
     },
     "inputWidgets": {},
     "nuid": "8b7e8b43-cfff-46fc-929f-f5d8637d8f8d",
     "showTitle": true,
     "tableResultSettingsMap": {},
     "title": "Dynamically Create the FHIR Bronze Streaming Table Statement"
    }
   },
   "outputs": [],
   "source": [
    "DECLARE OR REPLACE VARIABLE create_streaming_bronze_stmnt STRING;\n",
    "\n",
    "SET VARIABLE create_streaming_bronze_stmnt = \"\n",
    "CREATE OR REFRESH STREAMING TABLE fhir_bronze (\n",
    "  file_metadata STRUCT<\n",
    "    file_path: STRING,\n",
    "    file_name: STRING,\n",
    "    file_size: BIGINT,\n",
    "    file_block_start: BIGINT,\n",
    "    file_block_length: BIGINT,\n",
    "    file_modification_time: TIMESTAMP\n",
    "  > NOT NULL COMMENT 'Original meta date of the file ingested from the volume.'\n",
    "  ,ingest_time TIMESTAMP NOT NULL DEFAULT CURRENT_TIMESTAMP() COMMENT 'The date timestamp the file was ingested.'\n",
    "  ,bundle_uuid STRING NOT NULL COMMENT 'Unique identifier for the FHIR bundle.'\n",
    "  ,value STRING COMMENT 'Original JSON record ingested from the volume as a full text string value.'\n",
    ")\n",
    "COMMENT 'Ingest FHIR JSON records as Full Text STRING'\n",
    "TBLPROPERTIES (\n",
    "  'delta.enableChangeDataFeed' = 'true',\n",
    "  'delta.enableDeletionVectors' = 'true',\n",
    "  'delta.enableRowTracking' = 'true',\n",
    "  'quality' = 'bronze'\n",
    ")\n",
    "AS SELECT\n",
    "  _metadata as file_metadata\n",
    "  ,uuid() as bundle_uuid\n",
    "  ,* \n",
    "FROM STREAM read_files(\n",
    "  '/Volumes/fhir_workshop/\" || schema_use || \"/landing/'\n",
    "  ,format => 'text'\n",
    "  ,wholeText => true\n",
    ")\n",
    "\";\n",
    "\n",
    "SELECT create_streaming_bronze_stmnt;"
   ]
  },
  {
   "cell_type": "code",
   "execution_count": 0,
   "metadata": {
    "application/vnd.databricks.v1+cell": {
     "cellMetadata": {
      "byteLimit": 2048000,
      "rowLimit": 10000
     },
     "inputWidgets": {},
     "nuid": "517aa813-001f-4ea0-aff6-4923106742f2",
     "showTitle": true,
     "tableResultSettingsMap": {},
     "title": "Excecute the FHIR Bronze Statement"
    }
   },
   "outputs": [],
   "source": [
    "EXECUTE IMMEDIATE create_streaming_bronze_stmnt;"
   ]
  },
  {
   "cell_type": "code",
   "execution_count": 0,
   "metadata": {
    "application/vnd.databricks.v1+cell": {
     "cellMetadata": {
      "byteLimit": 2048000,
      "rowLimit": 10000
     },
     "inputWidgets": {},
     "nuid": "3741825c-69e6-4014-878e-873983325c9b",
     "showTitle": true,
     "tableResultSettingsMap": {},
     "title": "Query the First 10 Rows of the FHIR Bronze Table"
    }
   },
   "outputs": [],
   "source": [
    "SELECT * FROM fhir_bronze limit 1;"
   ]
  },
  {
   "cell_type": "code",
   "execution_count": 0,
   "metadata": {
    "application/vnd.databricks.v1+cell": {
     "cellMetadata": {
      "byteLimit": 2048000,
      "rowLimit": 10000
     },
     "inputWidgets": {},
     "nuid": "35b47530-af03-48b4-987d-da3094c910c1",
     "showTitle": true,
     "tableResultSettingsMap": {},
     "title": "Record Count"
    }
   },
   "outputs": [],
   "source": [
    "select count(*) as rcrd_cnt from fhir_bronze;"
   ]
  },
  {
   "cell_type": "code",
   "execution_count": 0,
   "metadata": {
    "application/vnd.databricks.v1+cell": {
     "cellMetadata": {
      "byteLimit": 2048000,
      "rowLimit": 10000
     },
     "inputWidgets": {},
     "nuid": "fb20b2fd-6b55-4bc2-b11d-a583dac1cfd5",
     "showTitle": true,
     "tableResultSettingsMap": {},
     "title": "Full Refresh of FHIR Bronze with Variant"
    }
   },
   "outputs": [],
   "source": [
    "DROP TABLE IF EXISTS fhir_bronze_variant;"
   ]
  },
  {
   "cell_type": "code",
   "execution_count": 0,
   "metadata": {
    "application/vnd.databricks.v1+cell": {
     "cellMetadata": {
      "byteLimit": 2048000,
      "rowLimit": 10000
     },
     "inputWidgets": {},
     "nuid": "82ba4e4c-d535-4b1e-9402-0e6705a34668",
     "showTitle": true,
     "tableResultSettingsMap": {},
     "title": "Create or Refresh FHIR Bronze Variant Streaming Table"
    }
   },
   "outputs": [],
   "source": [
    "CREATE OR REFRESH STREAMING TABLE fhir_bronze_variant (\n",
    "  bundle_uuid STRING NOT NULL COMMENT 'Unique identifier for the FHIR bundle.'\n",
    "  ,ingest_time TIMESTAMP NOT NULL COMMENT 'The date timestamp the file was ingested.'\n",
    "  ,file_metadata STRUCT<\n",
    "    file_path: STRING,\n",
    "    file_name: STRING,\n",
    "    file_size: BIGINT,\n",
    "    file_block_start: BIGINT,\n",
    "    file_block_length: BIGINT,\n",
    "    file_modification_time: TIMESTAMP\n",
    "  > NOT NULL COMMENT 'Original meta date of the file ingested from the volume.'\n",
    "  ,fhir VARIANT COMMENT 'Original JSON record fully parsed as a variant data type.'\n",
    ")\n",
    "COMMENT 'Evaluate FHIR JSON records as VARIANT'\n",
    "TBLPROPERTIES (\n",
    "  'delta.enableChangeDataFeed' = 'true'\n",
    "  ,'delta.enableDeletionVectors' = 'true' \n",
    "  ,'delta.enableRowTracking' = 'true'\n",
    "  ,'quality' = 'bronze'\n",
    "  ,'pipelines.channel' = 'PREVIEW'\n",
    "  ,'delta.feature.variantType-preview' = 'supported'\n",
    ")\n",
    "AS SELECT\n",
    "  bundle_uuid\n",
    "  ,ingest_time\n",
    "  ,file_metadata\n",
    "  ,try_parse_json(value) as fhir \n",
    "FROM STREAM fhir_bronze;"
   ]
  },
  {
   "cell_type": "code",
   "execution_count": 0,
   "metadata": {
    "application/vnd.databricks.v1+cell": {
     "cellMetadata": {
      "byteLimit": 2048000,
      "rowLimit": 10000
     },
     "inputWidgets": {},
     "nuid": "e62b9fc7-44b1-42e8-a500-09c9e2d9a45f",
     "showTitle": true,
     "tableResultSettingsMap": {},
     "title": "Query the First Few Records of the Bronze Variant Table"
    }
   },
   "outputs": [],
   "source": [
    "select * from fhir_bronze_variant where fhir is not null limit 3;"
   ]
  },
  {
   "cell_type": "code",
   "execution_count": 0,
   "metadata": {
    "application/vnd.databricks.v1+cell": {
     "cellMetadata": {
      "byteLimit": 2048000,
      "rowLimit": 10000
     },
     "inputWidgets": {},
     "nuid": "7296e0e5-344c-4bb5-b4fe-0eae74be66b0",
     "showTitle": true,
     "tableResultSettingsMap": {},
     "title": "Write SQL Using Variant"
    }
   },
   "outputs": [],
   "source": [
    "select \n",
    "  fhir:entry[0].resource.address[0].extension[0].extension[0].valueDecimal::double as latitude\n",
    "  ,fhir:entry[0].resource.address[0].extension[0].extension[1].valueDecimal::double as longitude\n",
    "from \n",
    "  fhir_bronze_variant\n",
    "where fhir is not null;"
   ]
  }
 ],
 "metadata": {
  "application/vnd.databricks.v1+notebook": {
   "computePreferences": null,
   "dashboards": [],
   "environmentMetadata": {
    "base_environment": "",
    "environment_version": "2"
   },
   "language": "sql",
   "notebookMetadata": {
    "pythonIndentUnit": 4
   },
   "notebookName": "02 - Streaming Bronze Ingestion",
   "widgets": {}
  },
  "language_info": {
   "name": "sql"
  }
 },
 "nbformat": 4,
 "nbformat_minor": 0
}
