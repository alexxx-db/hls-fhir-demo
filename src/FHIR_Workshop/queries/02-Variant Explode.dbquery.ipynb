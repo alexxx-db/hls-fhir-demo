{
 "cells": [
  {
   "cell_type": "code",
   "execution_count": 0,
   "metadata": {
    "application/vnd.databricks.v1+cell": {
     "cellMetadata": {
      "byteLimit": 10485760,
      "rowLimit": 1000
     },
     "inputWidgets": {},
     "nuid": "10f369cb-53a7-4d42-8f84-de4d42a781ec",
     "showTitle": false,
     "tableResultSettingsMap": {},
     "title": ""
    }
   },
   "outputs": [
    {
     "output_type": "display_data",
     "data": {
      "text/plain": [
       "Databricks visualization. Run in Databricks to view."
      ]
     },
     "metadata": {
      "application/vnd.databricks.v1.subcommand+json": {
       "baseErrorDetails": null,
       "bindings": {},
       "collapsed": false,
       "command": "%sql WITH q AS (with resources as (\n  SELECT\n  bundle_uuid || entry.value:fullUrl::string as resource_sk\n  ,entry.value:resource.resourceType::string as resourceType\nFROM\n  fhir_bronze_variant\n  ,LATERAL variant_explode(fhir:entry) as entry\nwhere fhir is not null\n)\nselect \n  resourceType\n  ,count(distinct resource_sk) as count\nfrom resources\ngroup by resourceType) SELECT `resourceType`,SUM(`count`) `column_94ab1a2234` FROM q GROUP BY `resourceType`",
       "commandTitle": "Visualization 1",
       "commandType": "auto",
       "commandVersion": 0,
       "commentThread": [],
       "commentsVisible": false,
       "contentSha256Hex": null,
       "customPlotOptions": {
        "redashChart": [
         {
          "key": "type",
          "value": "CHART"
         },
         {
          "key": "options",
          "value": {
           "alignYAxesAtZero": true,
           "coefficient": 1,
           "columnConfigurationMap": {
            "x": {
             "column": "resourceType",
             "id": "column_94ab1a2233"
            },
            "y": [
             {
              "column": "count",
              "id": "column_94ab1a2234",
              "transform": "SUM"
             }
            ]
           },
           "dateTimeFormat": "DD/MM/YYYY HH:mm",
           "direction": {
            "type": "counterclockwise"
           },
           "error_y": {
            "type": "data",
            "visible": true
           },
           "globalSeriesType": "column",
           "isAggregationOn": true,
           "legend": {
            "traceorder": "normal"
           },
           "missingValuesAsZero": true,
           "numberFormat": "0,0.[00000]",
           "percentFormat": "0[.]00%",
           "series": {
            "error_y": {
             "type": "data",
             "visible": true
            },
            "stacking": null
           },
           "seriesOptions": {
            "column_94ab1a2234": {
             "name": "count",
             "yAxis": 0
            }
           },
           "showDataLabels": false,
           "sizemode": "diameter",
           "sortX": false,
           "sortY": true,
           "swappedAxes": true,
           "textFormat": "",
           "useAggregationsUi": true,
           "valuesOptions": {},
           "version": 2,
           "xAxis": {
            "labels": {
             "enabled": true
            },
            "type": "-"
           },
           "yAxis": [
            {
             "type": "-"
            },
            {
             "opposite": true,
             "type": "-"
            }
           ]
          }
         }
        ]
       },
       "datasetPreviewNameToCmdIdMap": {},
       "diffDeletes": [],
       "diffInserts": [],
       "displayType": "redashChart",
       "error": null,
       "errorDetails": null,
       "errorSummary": null,
       "errorTraceType": null,
       "finishTime": 0,
       "globalVars": {},
       "guid": "",
       "height": "auto",
       "hideCommandCode": false,
       "hideCommandResult": false,
       "iPythonMetadata": null,
       "inputWidgets": {},
       "isLockedInExamMode": false,
       "latestUser": "a user",
       "latestUserId": null,
       "listResultMetadata": null,
       "metadata": {},
       "nuid": "10f9bb98-b916-4e93-a005-baf1ea378d08",
       "origId": 0,
       "parentHierarchy": [],
       "pivotAggregation": null,
       "pivotColumns": null,
       "position": 2.0,
       "resultDbfsErrorMessage": null,
       "resultDbfsStatus": "INLINED_IN_TREE",
       "results": null,
       "showCommandTitle": false,
       "startTime": 0,
       "state": "input",
       "streamStates": {},
       "subcommandOptions": {
        "queryPlan": {
         "groups": [
          {
           "column": "resourceType",
           "type": "column"
          }
         ],
         "selects": [
          {
           "column": "resourceType",
           "type": "column"
          },
          {
           "alias": "column_94ab1a2234",
           "args": [
            {
             "column": "count",
             "type": "column"
            }
           ],
           "function": "SUM",
           "type": "function"
          }
         ]
        },
        "redashId": "0f9a82c6-dbcf-47aa-af53-dc61a296b01f",
        "redashLastUpdated": 1740472323000
       },
       "submitTime": 0,
       "subtype": "tableResultSubCmd.visualization",
       "tableResultIndex": 4,
       "tableResultSettingsMap": {},
       "useConsistentColors": false,
       "version": "CommandV1",
       "width": "auto",
       "workflows": null,
       "xColumns": null,
       "yColumns": null
      }
     },
     "output_type": "display_data"
    }
   ],
   "source": [
    "DECLARE OR REPLACE VARIABLE schema_use STRING DEFAULT REPLACE(SPLIT(current_user(), '@')[0], '.', '_');\n",
    "\n",
    "USE IDENTIFIER(\"fhir_workshop.\" || schema_use);\n",
    "\n",
    "SELECT\n",
    "  bundle_uuid\n",
    "  ,fhir:resourceType::string as bundle_resourceType\n",
    "  ,fhir:type::string as bundle_type\n",
    "  ,entry.*\n",
    "FROM\n",
    "  fhir_bronze_variant\n",
    "  ,LATERAL variant_explode(fhir:entry) as entry\n",
    "where fhir is not null;\n",
    "\n",
    "SELECT\n",
    "  bundle_uuid\n",
    "  ,entry.value:fullUrl::string as fullUrl -- the fullUrl is the primary key of the resource in the bundle, it is only unique inside a bundle and not guaranteed unique across bundles\n",
    "  ,entry.value:request\n",
    "  ,entry.value:resource.resourceType::string as resourceType\n",
    "  ,entry.value:resource\n",
    "FROM\n",
    "  fhir_bronze_variant\n",
    "  ,LATERAL variant_explode(fhir:entry) as entry\n",
    "where fhir is not null;\n",
    "\n",
    "with resources as (\n",
    "  SELECT DISTINCT \n",
    "  bundle_uuid || entry.value:fullUrl::string as resource_sk\n",
    "  ,entry.value:resource.resourceType::string as resourceType\n",
    "FROM\n",
    "  fhir_bronze_variant\n",
    "  ,LATERAL variant_explode(fhir:entry) as entry\n",
    "where fhir is not null\n",
    ")\n",
    "select \n",
    "  resourceType\n",
    "  ,count(resource_sk) as count\n",
    "from resources\n",
    "group by resourceType\n",
    "ORDER BY count desc;\n"
   ]
  }
 ],
 "metadata": {
  "application/vnd.databricks.v1+notebook": {
   "computePreferences": null,
   "dashboards": [],
   "environmentMetadata": null,
   "language": "sql",
   "notebookMetadata": {
    "sqlQueryOptions": {
     "applyAutoLimit": true,
     "catalog": "fhir_workshop",
     "schema": "default"
    }
   },
   "notebookName": "02-Variant Explode.dbquery.ipynb",
   "widgets": {}
  },
  "language_info": {
   "name": "sql"
  }
 },
 "nbformat": 4,
 "nbformat_minor": 0
}
