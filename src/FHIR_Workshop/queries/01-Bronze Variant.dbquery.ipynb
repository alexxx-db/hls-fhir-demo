{
 "cells": [
  {
   "cell_type": "code",
   "execution_count": 0,
   "metadata": {
    "application/vnd.databricks.v1+cell": {
     "cellMetadata": {
      "byteLimit": 10485760,
      "rowLimit": 1000
     },
     "inputWidgets": {},
     "nuid": "49db647c-fa71-4513-971a-f0aab2f13a95",
     "showTitle": false,
     "tableResultSettingsMap": {},
     "title": ""
    }
   },
   "outputs": [
    {
     "output_type": "display_data",
     "data": {
      "text/plain": [
       "Databricks visualization. Run in Databricks to view."
      ]
     },
     "metadata": {
      "application/vnd.databricks.v1.subcommand+json": {
       "baseErrorDetails": null,
       "bindings": {},
       "collapsed": false,
       "command": "DECLARE OR REPLACE VARIABLE schema_use STRING DEFAULT REPLACE(SPLIT(current_user(), '@')[0], '.', '_');\n\nUSE IDENTIFIER(\"fhir_workshop.\" || schema_use);\n\nSELECT * FROM fhir_bronze_variant where fhir is not null;\n\nSELECT\n  bundle_uuid\n  ,fhir:resourceType::string as bundle_resourceType\n  ,fhir:type::string as bundle_type\n  ,fhir:meta\n  ,fhir:entry\nFROM\n  fhir_bronze_variant\nwhere fhir is not null;\n\n-- we can technically write SQL against any element of the variant column immediately\nselect \n  bundle_uuid\n  ,fhir:entry[0].resource.communication[0].language.text::string as language\n  ,fhir:entry[0].resource.address[0].extension[0].extension[0].valueDecimal::double as latitude\n  ,fhir:entry[0].resource.address[0].extension[0].extension[1].valueDecimal::double as longitude\nfrom \n  fhir_bronze_variant\nwhere fhir is not null \n  and fhir:entry[0].resource.resourceType::string = \"Patient\";",
       "commandTitle": "Map Markers - Clusters",
       "commandType": "auto",
       "commandVersion": 0,
       "commentThread": [],
       "commentsVisible": false,
       "contentSha256Hex": null,
       "customPlotOptions": {
        "redashChart": [
         {
          "key": "type",
          "value": "MAP"
         },
         {
          "key": "options",
          "value": {
           "backgroundColor": "#356AFF",
           "borderColor": "#356AFF",
           "bounds": null,
           "classify": "language",
           "clusterMarkers": true,
           "customizeMarkers": false,
           "foregroundColor": "#ffffff",
           "groups": {},
           "iconFont": "circle",
           "iconShape": "marker",
           "latColName": "latitude",
           "lonColName": "longitude",
           "mapTileUrl": "//{s}.tile.openstreetmap.org/{z}/{x}/{y}.png",
           "popup": {
            "enabled": true,
            "template": ""
           },
           "tooltip": {
            "enabled": true,
            "template": ""
           }
          }
         }
        ]
       },
       "datasetPreviewNameToCmdIdMap": {},
       "diffDeletes": [],
       "diffInserts": [],
       "displayType": "redashChart",
       "error": null,
       "errorDetails": null,
       "errorSummary": null,
       "errorTraceType": null,
       "finishTime": 0,
       "globalVars": {},
       "guid": "",
       "height": "auto",
       "hideCommandCode": false,
       "hideCommandResult": false,
       "iPythonMetadata": null,
       "inputWidgets": {},
       "isLockedInExamMode": false,
       "latestUser": "a user",
       "latestUserId": null,
       "listResultMetadata": null,
       "metadata": {},
       "nuid": "e59def60-9c8e-426d-9912-d2ca915ab729",
       "origId": 0,
       "parentHierarchy": [],
       "pivotAggregation": null,
       "pivotColumns": null,
       "position": 2.0,
       "resultDbfsErrorMessage": null,
       "resultDbfsStatus": "INLINED_IN_TREE",
       "results": null,
       "showCommandTitle": false,
       "startTime": 0,
       "state": "input",
       "streamStates": {},
       "subcommandOptions": {},
       "submitTime": 0,
       "subtype": "tableResultSubCmd.visualization",
       "tableResultIndex": 4,
       "tableResultSettingsMap": {},
       "useConsistentColors": false,
       "version": "CommandV1",
       "width": "auto",
       "workflows": null,
       "xColumns": null,
       "yColumns": null
      }
     },
     "output_type": "display_data"
    }
   ],
   "source": [
    "DECLARE OR REPLACE VARIABLE schema_use STRING DEFAULT REPLACE(SPLIT(current_user(), '@')[0], '.', '_');\n",
    "\n",
    "USE IDENTIFIER(\"fhir_workshop.\" || schema_use);\n",
    "\n",
    "SELECT * FROM fhir_bronze_variant where fhir is not null;\n",
    "\n",
    "-- retrieve elements from variant using : and then . notation.  cast with ::\n",
    "SELECT\n",
    "  bundle_uuid\n",
    "  ,fhir:resourceType::string as bundle_resourceType\n",
    "  ,fhir:type::string as bundle_type\n",
    "  ,fhir:meta\n",
    "  ,fhir:entry\n",
    "FROM\n",
    "  fhir_bronze_variant\n",
    "where fhir is not null;\n",
    "\n",
    "-- we can technically write SQL against any element of the variant column immediately\n",
    "select \n",
    "  bundle_uuid\n",
    "  ,fhir:entry[0].resource.communication[0].language.text::string as language\n",
    "  ,fhir:entry[0].resource.address[0].extension[0].extension[0].valueDecimal::double as latitude\n",
    "  ,fhir:entry[0].resource.address[0].extension[0].extension[1].valueDecimal::double as longitude\n",
    "from \n",
    "  fhir_bronze_variant\n",
    "where fhir is not null \n",
    "  and fhir:entry[0].resource.resourceType::string = \"Patient\";"
   ]
  }
 ],
 "metadata": {
  "application/vnd.databricks.v1+notebook": {
   "computePreferences": null,
   "dashboards": [],
   "environmentMetadata": null,
   "language": "sql",
   "notebookMetadata": {
    "sqlQueryOptions": {
     "applyAutoLimit": true,
     "catalog": "fhir_workshop",
     "schema": "default"
    }
   },
   "notebookName": "01-Bronze Variant.dbquery.ipynb",
   "widgets": {}
  },
  "language_info": {
   "name": "sql"
  }
 },
 "nbformat": 4,
 "nbformat_minor": 0
}
