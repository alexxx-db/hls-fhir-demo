{
 "cells": [
  {
   "cell_type": "code",
   "execution_count": 0,
   "metadata": {
    "application/vnd.databricks.v1+cell": {
     "cellMetadata": {
      "byteLimit": 10485760,
      "rowLimit": 1000
     },
     "inputWidgets": {},
     "nuid": "bfff8574-c895-4dae-afad-5a5bbe7bc5d9",
     "showTitle": false,
     "tableResultSettingsMap": {},
     "title": ""
    }
   },
   "outputs": [],
   "source": [
    "DECLARE OR REPLACE VARIABLE schema_use STRING DEFAULT REPLACE(SPLIT(current_user(), '@')[0], '.', '_');\n",
    "\n",
    "USE IDENTIFIER(\"fhir_workshop.\" || schema_use);\n",
    "\n",
    "-- lateral explode entry and then resource\n",
    "SELECT\n",
    "  bundle_uuid\n",
    "  ,entry.value:fullUrl::string as fullUrl -- the fullUrl is the primary key of the resource in the bundle, it is only unique inside a bundle and not guaranteed unique across bundles\n",
    "  ,entry.value:resource.resourceType::string as resourceType\n",
    "  ,resource.*\n",
    "FROM\n",
    "  fhir_bronze_variant\n",
    "  ,LATERAL variant_explode(fhir:entry) as entry\n",
    "  ,LATERAL variant_explode(entry.value:resource) as resource\n",
    "where fhir is not null;\n",
    "\n",
    "-- patient resource \n"
   ]
  }
 ],
 "metadata": {
  "application/vnd.databricks.v1+notebook": {
   "computePreferences": null,
   "dashboards": [],
   "environmentMetadata": null,
   "language": "sql",
   "notebookMetadata": {
    "sqlQueryOptions": {
     "applyAutoLimit": true,
     "catalog": "fhir_workshop",
     "schema": "default"
    }
   },
   "notebookName": "03-Explode Resources.dbquery.ipynb",
   "widgets": {}
  },
  "language_info": {
   "name": "sql"
  }
 },
 "nbformat": 4,
 "nbformat_minor": 0
}
