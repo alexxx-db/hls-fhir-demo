{
 "cells": [
  {
   "cell_type": "code",
   "execution_count": 0,
   "metadata": {
    "application/vnd.databricks.v1+cell": {
     "cellMetadata": {
      "byteLimit": 10485760,
      "rowLimit": 64000
     },
     "inputWidgets": {},
     "nuid": "04f9e6c5-b9e9-41c1-8397-3785fef69b10",
     "showTitle": false,
     "tableResultSettingsMap": {},
     "title": ""
    }
   },
   "outputs": [],
   "source": [
    "SELECT \n",
    "    t1.workspace_id\n",
    "    -- ,t1.usage_metadata.job_id\n",
    "    -- ,t1.usage_metadata.job_name \n",
    "    ,t1.usage_date\n",
    "    ,t1.sku_name\n",
    "    ,SUM(t1.usage_quantity * list_prices.pricing.default) as list_cost \n",
    "FROM \n",
    "    system.billing.usage t1 \n",
    "INNER JOIN \n",
    "    system.billing.list_prices on t1.cloud = list_prices.cloud \n",
    "    AND t1.sku_name = list_prices.sku_name \n",
    "    AND t1.usage_start_time >= list_prices.price_start_time \n",
    "    AND (t1.usage_end_time <= list_prices.price_end_time OR list_prices.price_end_time is null) \n",
    "WHERE \n",
    "      t1.account_id = \"a773849f-3852-4da4-8e28-7538c066fdf4\"\n",
    "  AND t1.workspace_id = \"4145167375195986\"\n",
    "  -- AND (t1.identity_metadata.run_as = \"odl_instructor_1452233@databrickslabs.com\" OR\n",
    "  --     t1.identity_metadata.created_by = \"odl_instructor_1452233@databrickslabs.com\" OR\n",
    "  --     t1.identity_metadata.owned_by = \"odl_instructor_1452233@databrickslabs.com\")\n",
    "  AND t1.usage_date >= DATEADD(day, -7, CURRENT_DATE()) \n",
    "GROUP BY \n",
    "    t1.workspace_id\n",
    "    -- ,t1.usage_metadata.job_id\n",
    "    -- ,t1.usage_metadata.job_name\n",
    "    ,t1.usage_date\n",
    "    ,t1.sku_name\n",
    "ORDER BY \n",
    "    t1.usage_date DESC;"
   ]
  }
 ],
 "metadata": {
  "application/vnd.databricks.v1+notebook": {
   "computePreferences": null,
   "dashboards": [],
   "environmentMetadata": null,
   "language": "sql",
   "notebookMetadata": {
    "pythonIndentUnit": 4,
    "sqlQueryOptions": {
     "applyAutoLimit": false,
     "catalog": "system",
     "schema": "billing"
    }
   },
   "notebookName": "Total Cost for the Course.dbquery.ipynb",
   "widgets": {}
  },
  "language_info": {
   "name": "sql"
  }
 },
 "nbformat": 4,
 "nbformat_minor": 0
}
