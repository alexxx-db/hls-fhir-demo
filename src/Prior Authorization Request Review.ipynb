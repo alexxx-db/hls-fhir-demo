{
 "cells": [
  {
   "cell_type": "markdown",
   "metadata": {
    "application/vnd.databricks.v1+cell": {
     "cellMetadata": {
      "byteLimit": 2048000,
      "rowLimit": 10000
     },
     "inputWidgets": {},
     "nuid": "58cd7439-e344-48d6-9401-43202cb1f19c",
     "showTitle": false,
     "tableResultSettingsMap": {},
     "title": ""
    }
   },
   "source": [
    "# Databricks Health & Life Sciences\n",
    "### Webinar FY25 Q4\n",
    "## Prior Authorization Review with DBSQL, Variant, dbignite & redox-ehr-api\n",
    "\n",
    "*** "
   ]
  },
  {
   "cell_type": "markdown",
   "metadata": {
    "application/vnd.databricks.v1+cell": {
     "cellMetadata": {
      "byteLimit": 2048000,
      "rowLimit": 10000
     },
     "inputWidgets": {},
     "nuid": "d8e0547b-3098-449f-a833-69f578445630",
     "showTitle": false,
     "tableResultSettingsMap": {},
     "title": ""
    }
   },
   "source": [
    "## Exploratory Analysis\n",
    "***"
   ]
  },
  {
   "cell_type": "code",
   "execution_count": 0,
   "metadata": {
    "application/vnd.databricks.v1+cell": {
     "cellMetadata": {
      "byteLimit": 2048000,
      "rowLimit": 10000
     },
     "inputWidgets": {},
     "nuid": "9635bc86-c7b1-4c7d-a3d9-fffd6511f735",
     "showTitle": true,
     "tableResultSettingsMap": {},
     "title": "Set Input Paramerter and Declare Variable for Bundle to Review"
    }
   },
   "outputs": [],
   "source": [
    "DECLARE OR REPLACE VARIABLE prior_auth_bundle_uuid STRING DEFAULT \"a710df7d-92b8-4e3e-99ca-b5df37808bc9\";\n",
    "\n",
    "SET VARIABLE prior_auth_bundle_uuid = :bundle_uuid;\n",
    "\n",
    "SELECT prior_auth_bundle_uuid;"
   ]
  },
  {
   "cell_type": "code",
   "execution_count": 0,
   "metadata": {
    "application/vnd.databricks.v1+cell": {
     "cellMetadata": {
      "byteLimit": 2048000,
      "implicitDf": true,
      "rowLimit": 10000
     },
     "inputWidgets": {},
     "nuid": "6a3130ac-86f4-4337-9b1a-c8202993916b",
     "showTitle": true,
     "tableResultSettingsMap": {},
     "title": "Set Catalog & Schema to Use"
    }
   },
   "outputs": [],
   "source": [
    "USE redox.hls_webinar_fy25q4;"
   ]
  },
  {
   "cell_type": "code",
   "execution_count": 0,
   "metadata": {
    "application/vnd.databricks.v1+cell": {
     "cellMetadata": {
      "byteLimit": 2048000,
      "implicitDf": true,
      "rowLimit": 10000
     },
     "inputWidgets": {},
     "nuid": "64509a95-0fee-4d4e-af3b-098b31973fcf",
     "showTitle": true,
     "tableResultSettingsMap": {},
     "title": "Review the Full Bundle As It Originally Arrived in Bronze with Variant"
    }
   },
   "outputs": [],
   "source": [
    "SELECT \n",
    "  * \n",
    "FROM \n",
    "  fhir_bronze_variant \n",
    "WHERE \n",
    "  bundle_uuid = prior_auth_bundle_uuid;"
   ]
  },
  {
   "cell_type": "code",
   "execution_count": 0,
   "metadata": {
    "application/vnd.databricks.v1+cell": {
     "cellMetadata": {
      "byteLimit": 2048000,
      "rowLimit": 10000
     },
     "inputWidgets": {},
     "nuid": "c5bb6ce0-c194-4084-b08a-e957b3f323ae",
     "showTitle": true,
     "tableResultSettingsMap": {},
     "title": "Lateral Explode the Entry Array That Contains the Resources and Extact the Resource Type"
    }
   },
   "outputs": [],
   "source": [
    "%sql\n",
    "SELECT \n",
    "  bundle_uuid\n",
    "  ,entry.value:fullUrl::string as fullUrl\n",
    "  ,entry.value:resource.resourceType::string as resourceType\n",
    "  ,entry.value as resource\n",
    "FROM \n",
    "  fhir_bronze_variant\n",
    "  ,LATERAL variant_explode(fhir:entry) as entry\n",
    "WHERE \n",
    "  bundle_uuid = prior_auth_bundle_uuid"
   ]
  },
  {
   "cell_type": "code",
   "execution_count": 0,
   "metadata": {
    "application/vnd.databricks.v1+cell": {
     "cellMetadata": {
      "byteLimit": 2048000,
      "rowLimit": 10000
     },
     "inputWidgets": {},
     "nuid": "7735c3cd-7060-4939-9601-a721b4b36c3e",
     "showTitle": false,
     "tableResultSettingsMap": {},
     "title": ""
    }
   },
   "outputs": [],
   "source": [
    "-- just started writing this SQL statement. not finished yet, requires more fullurl from above.\n",
    "WITH entry_exploded as (SELECT \n",
    "  bundle_uuid\n",
    "  ,entry.value:fullUrl::string as fullUrl\n",
    "  ,entry.value:resource.resourceType::string as resourceType\n",
    "  ,entry.value as resource\n",
    "FROM \n",
    "  fhir_bronze_variant\n",
    "  ,LATERAL variant_explode(fhir:entry) as entry\n",
    "WHERE \n",
    "  bundle_uuid = prior_auth_bundle_uuid\n",
    ")\n",
    "SELECT * FROM (\n",
    "  SELECT\n",
    "    bundle_uuid\n",
    "    ,fullUrl\n",
    "    ,resourceType\n",
    "    ,resource\n",
    "  FROM \n",
    "    entry_exploded\n",
    "  )\n",
    "  PIVOT (\n",
    "    first(resource) FOR resourceType IN (\n",
    "      'Claim'\n",
    "      ,'Patient'\n",
    "      ,'Practitioner'\n",
    "      ,'Organization'\n",
    "      ,'Coverage'\n",
    "      ,'RelatedPerson'\n",
    "      ,'ServiceRequest'\n",
    "    )\n",
    "  )\n",
    "\n",
    ";"
   ]
  },
  {
   "cell_type": "code",
   "execution_count": 0,
   "metadata": {
    "application/vnd.databricks.v1+cell": {
     "cellMetadata": {
      "byteLimit": 2048000,
      "rowLimit": 10000
     },
     "inputWidgets": {},
     "nuid": "6e19f470-70ef-4b7a-a9a4-800741ae636c",
     "showTitle": false,
     "tableResultSettingsMap": {},
     "title": ""
    }
   },
   "outputs": [],
   "source": [
    "%sql\n",
    "with service_requested as (\n",
    "  select\n",
    "    bundle_uuid\n",
    "    ,code:coding[0].code::string as requested_pro_code\n",
    "    ,ai_query(\n",
    "      endpoint => 'databricks-meta-llama-3-3-70b-instruct'\n",
    "      ,request => 'lookup HCPCS Procedure Code description for ' || code:coding[0].code::string\n",
    "      ,returnType => 'STRING'\n",
    "    ) AS requested_proc_code\n",
    "    ,status::string as request_status\n",
    "  from\n",
    "    servicerequest\n",
    "  where bundle_uuid = prior_auth_bundle_uuid\n",
    ")\n",
    ",claim_details as (\n",
    "  select \n",
    "    bundle_uuid\n",
    "    ,id::string as claim_id\n",
    "    ,use::string as use\n",
    "    ,diagnosis:[0].diagnosisCodeableConcept.coding[0].code::string as primary_diag_code\n",
    "    ,diagnosis:[1].diagnosisCodeableConcept.coding[0].code::string as diag_code_2\n",
    "    ,diagnosis:[2].diagnosisCodeableConcept.coding[0].code::string as diag_code_3\n",
    "    ,ai_query(\n",
    "      endpoint => 'databricks-meta-llama-3-3-70b-instruct'\n",
    "      ,request => 'Lookup the ICD10 CM code descriptions for ' || diagnosis:[0].diagnosisCodeableConcept.coding[0].code::string || ' and ' || diagnosis:[1].diagnosisCodeableConcept.coding[0].code::string || ' and ' || diagnosis:[2].diagnosisCodeableConcept.coding[0].code::string || '. Then summarize in less than 200 characters.'\n",
    "      ,returnType => 'STRING'\n",
    "    ) AS diagnosis_code_summary\n",
    "    ,priority:coding[0].code::string as priority\n",
    "    ,type:coding[0].code::string as claim_type\n",
    "  from \n",
    "    claim\n",
    "  where \n",
    "    bundle_uuid = prior_auth_bundle_uuid\n",
    ")\n",
    ",patient_details as (\n",
    "  select\n",
    "    bundle_uuid\n",
    "    ,id::string as patient_id\n",
    "    ,name:[0].family::string as family_name\n",
    "    ,name:[0].given[0]::string as given_name\n",
    "  from \n",
    "    patient\n",
    "  where \n",
    "    bundle_uuid = prior_auth_bundle_uuid\n",
    ")\n",
    "select \n",
    "  pd.*\n",
    "  ,sr.* EXCEPT (bundle_uuid)\n",
    "  ,cd.* EXCEPT (bundle_uuid)\n",
    "from \n",
    "  patient_details pd INNER JOIN \n",
    "  service_requested sr ON pd.bundle_uuid = sr.bundle_uuid INNER JOIN\n",
    "  claim_details cd ON pd.bundle_uuid = cd.bundle_uuid AND cd.bundle_uuid = sr.bundle_uuid\n",
    ";"
   ]
  }
 ],
 "metadata": {
  "application/vnd.databricks.v1+notebook": {
   "computePreferences": null,
   "dashboards": [],
   "environmentMetadata": {
    "base_environment": "",
    "client": "1"
   },
   "language": "sql",
   "notebookMetadata": {
    "mostRecentlyExecutedCommandWithImplicitDF": {
     "commandId": -1,
     "dataframes": [
      "_sqldf"
     ]
    },
    "pythonIndentUnit": 2
   },
   "notebookName": "Prior Authorization Request Review",
   "widgets": {
    "bundle_uuid": {
     "currentValue": "a710df7d-92b8-4e3e-99ca-b5df37808bc9",
     "nuid": "41137793-eb00-4ca1-ac2d-744669daf21f",
     "typedWidgetInfo": {
      "autoCreated": false,
      "defaultValue": "a710df7d-92b8-4e3e-99ca-b5df37808bc9",
      "label": "",
      "name": "bundle_uuid",
      "options": {
       "widgetDisplayType": "Text",
       "validationRegex": null
      },
      "parameterDataType": "String"
     },
     "widgetInfo": {
      "widgetType": "text",
      "defaultValue": "a710df7d-92b8-4e3e-99ca-b5df37808bc9",
      "label": "",
      "name": "bundle_uuid",
      "options": {
       "widgetType": "text",
       "autoCreated": false,
       "validationRegex": null
      }
     }
    }
   }
  },
  "language_info": {
   "name": "sql"
  }
 },
 "nbformat": 4,
 "nbformat_minor": 0
}
