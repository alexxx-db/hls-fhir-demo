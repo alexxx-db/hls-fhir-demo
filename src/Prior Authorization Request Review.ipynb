{
 "cells": [
  {
   "cell_type": "code",
   "execution_count": 0,
   "metadata": {
    "application/vnd.databricks.v1+cell": {
     "cellMetadata": {
      "byteLimit": 2048000,
      "rowLimit": 10000
     },
     "inputWidgets": {},
     "nuid": "9635bc86-c7b1-4c7d-a3d9-fffd6511f735",
     "showTitle": false,
     "tableResultSettingsMap": {},
     "title": ""
    }
   },
   "outputs": [],
   "source": [
    "DECLARE OR REPLACE VARIABLE prior_auth_bundle_uuid STRING DEFAULT \"a710df7d-92b8-4e3e-99ca-b5df37808bc9\";"
   ]
  },
  {
   "cell_type": "code",
   "execution_count": 0,
   "metadata": {
    "application/vnd.databricks.v1+cell": {
     "cellMetadata": {
      "byteLimit": 2048000,
      "rowLimit": 10000
     },
     "inputWidgets": {},
     "nuid": "6a3130ac-86f4-4337-9b1a-c8202993916b",
     "showTitle": false,
     "tableResultSettingsMap": {},
     "title": ""
    }
   },
   "outputs": [],
   "source": [
    "USE redox.hls_webinar_fy25q4;"
   ]
  },
  {
   "cell_type": "code",
   "execution_count": 0,
   "metadata": {
    "application/vnd.databricks.v1+cell": {
     "cellMetadata": {
      "byteLimit": 2048000,
      "rowLimit": 10000
     },
     "inputWidgets": {},
     "nuid": "64509a95-0fee-4d4e-af3b-098b31973fcf",
     "showTitle": false,
     "tableResultSettingsMap": {},
     "title": ""
    }
   },
   "outputs": [],
   "source": [
    "SELECT * \n",
    "FROM fhir_bronze_variant \n",
    "WHERE bundle_uuid = prior_auth_bundle_uuid"
   ]
  },
  {
   "cell_type": "code",
   "execution_count": 0,
   "metadata": {
    "application/vnd.databricks.v1+cell": {
     "cellMetadata": {
      "byteLimit": 2048000,
      "rowLimit": 10000
     },
     "inputWidgets": {},
     "nuid": "c5bb6ce0-c194-4084-b08a-e957b3f323ae",
     "showTitle": false,
     "tableResultSettingsMap": {},
     "title": ""
    }
   },
   "outputs": [],
   "source": [
    "SELECT \n",
    "  bundle_uuid\n",
    "  ,entry.value:resource.resourceType::string as resourceType\n",
    "  ,entry.value\n",
    "FROM \n",
    "  fhir_bronze_variant\n",
    "  ,LATERAL variant_explode(fhir:entry) as entry\n",
    "WHERE \n",
    "  bundle_uuid = prior_auth_bundle_uuid"
   ]
  },
  {
   "cell_type": "code",
   "execution_count": 0,
   "metadata": {
    "application/vnd.databricks.v1+cell": {
     "cellMetadata": {
      "byteLimit": 2048000,
      "rowLimit": 10000
     },
     "inputWidgets": {},
     "nuid": "6e19f470-70ef-4b7a-a9a4-800741ae636c",
     "showTitle": false,
     "tableResultSettingsMap": {},
     "title": ""
    }
   },
   "outputs": [],
   "source": [
    "with service_requested as (\n",
    "  select\n",
    "    bundle_uuid\n",
    "    ,code:coding[0].code::string as requested_pro_code\n",
    "    ,ai_query(\n",
    "      endpoint => 'databricks-meta-llama-3-3-70b-instruct'\n",
    "      ,request => 'lookup HCPCS Procedure Code description for ' || code:coding[0].code::string\n",
    "      ,returnType => 'STRING'\n",
    "    ) AS requested_proc_code\n",
    "    ,status::string as request_status\n",
    "  from\n",
    "    servicerequest\n",
    "  where bundle_uuid = prior_auth_bundle_uuid\n",
    ")\n",
    ",claim_details as (\n",
    "  select \n",
    "    bundle_uuid\n",
    "    ,use::string as use\n",
    "    ,diagnosis:[0].diagnosisCodeableConcept.coding[0].code::string as primary_diag_code\n",
    "    ,diagnosis:[1].diagnosisCodeableConcept.coding[0].code::string as diag_code_2\n",
    "    ,diagnosis:[2].diagnosisCodeableConcept.coding[0].code::string as diag_code_3\n",
    "    ,ai_query(\n",
    "      endpoint => 'databricks-meta-llama-3-3-70b-instruct'\n",
    "      ,request => 'Lookup the ICD10 CM code descriptions for ' || diagnosis:[0].diagnosisCodeableConcept.coding[0].code::string || ' and ' || diagnosis:[1].diagnosisCodeableConcept.coding[0].code::string || ' and ' || diagnosis:[2].diagnosisCodeableConcept.coding[0].code::string || '. Then summarize in less than 200 characters.'\n",
    "      ,returnType => 'STRING'\n",
    "    ) AS diagnosis_code_summary\n",
    "    ,priority:coding[0].code::string as priority\n",
    "    ,type:coding[0].code::string as claim_type\n",
    "  from \n",
    "    claim\n",
    "  where \n",
    "    bundle_uuid = prior_auth_bundle_uuid\n",
    ")\n",
    ",patient_details as (\n",
    "  select\n",
    "    bundle_uuid\n",
    "    ,id::string as patient_id\n",
    "    ,name:[0].family::string as family_name\n",
    "    ,name:[0].given[0]::string as given_name\n",
    "  from \n",
    "    patient\n",
    "  where \n",
    "    bundle_uuid = prior_auth_bundle_uuid\n",
    ")\n",
    "select \n",
    "  pd.*\n",
    "  ,sr.* EXCEPT (bundle_uuid)\n",
    "  ,cd.* EXCEPT (bundle_uuid)\n",
    "from \n",
    "  patient_details pd INNER JOIN \n",
    "  service_requested sr ON pd.bundle_uuid = sr.bundle_uuid INNER JOIN\n",
    "  claim_details cd ON pd.bundle_uuid = cd.bundle_uuid AND cd.bundle_uuid = sr.bundle_uuid\n",
    ";"
   ]
  }
 ],
 "metadata": {
  "application/vnd.databricks.v1+notebook": {
   "computePreferences": null,
   "dashboards": [],
   "environmentMetadata": {
    "base_environment": "",
    "client": "1"
   },
   "language": "sql",
   "notebookMetadata": {
    "pythonIndentUnit": 2
   },
   "notebookName": "Prior Authorization Request Review",
   "widgets": {}
  },
  "language_info": {
   "name": "sql"
  }
 },
 "nbformat": 4,
 "nbformat_minor": 0
}
