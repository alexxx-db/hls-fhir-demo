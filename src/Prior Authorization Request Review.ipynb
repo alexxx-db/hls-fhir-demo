{
 "cells": [
  {
   "cell_type": "code",
   "execution_count": 0,
   "metadata": {
    "application/vnd.databricks.v1+cell": {
     "cellMetadata": {
      "byteLimit": 2048000,
      "rowLimit": 10000
     },
     "inputWidgets": {},
     "nuid": "9635bc86-c7b1-4c7d-a3d9-fffd6511f735",
     "showTitle": false,
     "tableResultSettingsMap": {},
     "title": ""
    }
   },
   "outputs": [
    {
     "output_type": "display_data",
     "data": {
      "text/html": [
       "<style scoped>\n",
       "  .table-result-container {\n",
       "    max-height: 300px;\n",
       "    overflow: auto;\n",
       "  }\n",
       "  table, th, td {\n",
       "    border: 1px solid black;\n",
       "    border-collapse: collapse;\n",
       "  }\n",
       "  th, td {\n",
       "    padding: 5px;\n",
       "  }\n",
       "  th {\n",
       "    text-align: left;\n",
       "  }\n",
       "</style><div class='table-result-container'><table class='table-result'><thead style='background-color: white'><tr></tr></thead><tbody></tbody></table></div>"
      ]
     },
     "metadata": {
      "application/vnd.databricks.v1+output": {
       "addedWidgets": {},
       "aggData": [],
       "aggError": "",
       "aggOverflow": false,
       "aggSchema": [],
       "aggSeriesLimitReached": false,
       "aggType": "",
       "arguments": {},
       "columnCustomDisplayInfos": {},
       "data": [],
       "datasetInfos": [],
       "dbfsResultPath": null,
       "isJsonSchema": true,
       "metadata": {},
       "overflow": false,
       "plotOptions": {
        "customPlotOptions": {},
        "displayType": "table",
        "pivotAggregation": null,
        "pivotColumns": null,
        "xColumns": null,
        "yColumns": null
       },
       "removedWidgets": [],
       "schema": [],
       "type": "table"
      }
     },
     "output_type": "display_data"
    }
   ],
   "source": [
    "DECLARE OR REPLACE VARIABLE prior_auth_bundle_uuid STRING DEFAULT \"a710df7d-92b8-4e3e-99ca-b5df37808bc9\";"
   ]
  },
  {
   "cell_type": "code",
   "execution_count": 0,
   "metadata": {
    "application/vnd.databricks.v1+cell": {
     "cellMetadata": {
      "byteLimit": 2048000,
      "rowLimit": 10000
     },
     "inputWidgets": {},
     "nuid": "6a3130ac-86f4-4337-9b1a-c8202993916b",
     "showTitle": false,
     "tableResultSettingsMap": {},
     "title": ""
    }
   },
   "outputs": [
    {
     "output_type": "display_data",
     "data": {
      "text/html": [
       "<style scoped>\n",
       "  .table-result-container {\n",
       "    max-height: 300px;\n",
       "    overflow: auto;\n",
       "  }\n",
       "  table, th, td {\n",
       "    border: 1px solid black;\n",
       "    border-collapse: collapse;\n",
       "  }\n",
       "  th, td {\n",
       "    padding: 5px;\n",
       "  }\n",
       "  th {\n",
       "    text-align: left;\n",
       "  }\n",
       "</style><div class='table-result-container'><table class='table-result'><thead style='background-color: white'><tr></tr></thead><tbody></tbody></table></div>"
      ]
     },
     "metadata": {
      "application/vnd.databricks.v1+output": {
       "addedWidgets": {},
       "aggData": [],
       "aggError": "",
       "aggOverflow": false,
       "aggSchema": [],
       "aggSeriesLimitReached": false,
       "aggType": "",
       "arguments": {},
       "columnCustomDisplayInfos": {},
       "data": [],
       "datasetInfos": [],
       "dbfsResultPath": null,
       "isJsonSchema": true,
       "metadata": {},
       "overflow": false,
       "plotOptions": {
        "customPlotOptions": {},
        "displayType": "table",
        "pivotAggregation": null,
        "pivotColumns": null,
        "xColumns": null,
        "yColumns": null
       },
       "removedWidgets": [],
       "schema": [],
       "type": "table"
      }
     },
     "output_type": "display_data"
    }
   ],
   "source": [
    "USE redox.hls_webinar_fy25q4;"
   ]
  },
  {
   "cell_type": "code",
   "execution_count": 0,
   "metadata": {
    "application/vnd.databricks.v1+cell": {
     "cellMetadata": {
      "byteLimit": 2048000,
      "rowLimit": 10000
     },
     "inputWidgets": {},
     "nuid": "64509a95-0fee-4d4e-af3b-098b31973fcf",
     "showTitle": false,
     "tableResultSettingsMap": {},
     "title": ""
    }
   },
   "outputs": [
    {
     "output_type": "display_data",
     "data": {
      "text/html": [
       "<style scoped>\n",
       "  .table-result-container {\n",
       "    max-height: 300px;\n",
       "    overflow: auto;\n",
       "  }\n",
       "  table, th, td {\n",
       "    border: 1px solid black;\n",
       "    border-collapse: collapse;\n",
       "  }\n",
       "  th, td {\n",
       "    padding: 5px;\n",
       "  }\n",
       "  th {\n",
       "    text-align: left;\n",
       "  }\n",
       "</style><div class='table-result-container'><table class='table-result'><thead style='background-color: white'><tr><th>bundle_uuid</th><th>ingest_time</th><th>file_metadata</th><th>fhir</th></tr></thead><tbody><tr><td>a710df7d-92b8-4e3e-99ca-b5df37808bc9</td><td>2025-01-26T15:49:40.668-05:00</td><td>Map(file_modification_time -> 2025-01-26T15:48:05.000-05:00, file_block_length -> 13170, file_name -> DBPriorAuthExample.json, file_size -> 13170, file_block_start -> 0, file_path -> /Volumes/redox/hls_webinar_fy25q4/landing/DBPriorAuthExample.json)</td><td>{\"entry\":[{\"fullUrl\":\"https://fhir.redoxengine.com/fhir-sandbox/Claim/e95745e2-1e43-4b18-aef8-22f243a9494d\",\"resource\":{\"accident\":{\"date\":\"2023-05-10\",\"type\":{\"coding\":[{\"code\":\"EM\",\"system\":\"https://valueset.x12.org/x217/005010/request/2000E/UM/1/05/01/1362\"}]}},\"careTeam\":[{\"extension\":[{\"url\":\"http://hl7.org/fhir/us/davinci-pas/StructureDefinition/extension-careTeamClaimScope\",\"valueBoolean\":true}],\"provider\":{\"reference\":\"Practitioner/359f46ce-421f-4bf4-acf1-b1c681c0870c\"},\"qualification\":{\"coding\":[{\"code\":\"261Q00000X\",\"system\":\"https://valueset.x12.org/x217/005010/request/2010EA/PRV/1/03/00/127\"}]},\"role\":{\"coding\":[{\"code\":\"P3\",\"system\":\"https://valueset.x12.org/x217/005010/request/2010EA/NM1/1/01/00/98\"}]},\"sequence\":1}],\"created\":\"2025-01-24T12:02:13.985Z\",\"diagnosis\":[{\"diagnosisCodeableConcept\":{\"coding\":[{\"code\":\"S83.241D\",\"system\":\"http://hl7.org/fhir/sid/icd-10-cm\"}]},\"sequence\":1},{\"diagnosisCodeableConcept\":{\"coding\":[{\"code\":\"S86.912D\",\"system\":\"http://hl7.org/fhir/sid/icd-10-cm\"}]},\"sequence\":2},{\"diagnosisCodeableConcept\":{\"coding\":[{\"code\":\"M23.201\",\"system\":\"http://hl7.org/fhir/sid/icd-10-cm\"}]},\"sequence\":3}],\"extension\":[{\"url\":\"http://hl7.org/fhir/us/davinci-pas/StructureDefinition/extension-levelOfServiceCode\",\"valueCodeableConcept\":{\"coding\":[{\"code\":\"E\",\"system\":\"https://valueset.x12.org/x217/005010/request/2000E/UM/1/06/00/1338\"}]}},{\"url\":\"https://valueset.x12.org/x217/005010/request/header/BHT/1/03/00/127\",\"valueString\":\"3856_153489_20250124040210135\"}],\"id\":\"e95745e2-1e43-4b18-aef8-22f243a9494d\",\"identifier\":[{\"system\":\"https://worksite.redox.com/electronic_submission/provider_summary_of_data\",\"value\":\"P1\"}],\"insurance\":[{\"coverage\":{\"reference\":\"Coverage/d5d8af8e-1669-4b5c-9293-8d00b084b998\"},\"focal\":true,\"sequence\":1}],\"insurer\":{\"reference\":\"Organization/e9df1ec5-c358-4ed7-9401-a962327ae1ba\"},\"item\":[{\"extension\":[{\"url\":\"http://hl7.org/fhir/us/davinci-pas/StructureDefinition/extension-requestedService\",\"valueReference\":{\"reference\":\"ServiceRequest/5b3eebbb-f839-4aa3-af66-1f237fa8690a\"}}],\"informationSequence\":[6],\"productOrService\":{\"coding\":[{\"code\":\"99204\",\"system\":\"http://www.ama-assn.org/go/cpt\"}]},\"sequence\":1}],\"meta\":{\"profile\":[\"https://fhir.redoxengine.com/StructureDefinition/redox-pa-claim\"]},\"patient\":{\"reference\":\"Patient/11ba90ce-8192-40f1-aa18-d3c75c306013\"},\"priority\":{\"coding\":[{\"code\":\"normal\",\"system\":\"http://terminology.hl7.org/CodeSystem/processpriority\"}]},\"provider\":{\"reference\":\"Organization/ad151930-1ccd-429f-b412-7e218e80bf32\"},\"related\":[{\"reference\":{\"system\":\"https://worksite.redox.com/electronic_submission/provider_communication_id\",\"value\":\"2028079\"},\"relationship\":{\"coding\":[{\"code\":\"associated\",\"system\":\"http://terminology.hl7.org/CodeSystem/ex-relatedclaimrelationship\"}]}}],\"resourceType\":\"Claim\",\"status\":\"active\",\"type\":{\"coding\":[{\"code\":\"professional\",\"system\":\"http://terminology.hl7.org/CodeSystem/claim-type\"}]},\"use\":\"preauthorization\"}},{\"fullUrl\":\"https://fhir.redoxengine.com/fhir-sandbox/Patient/11ba90ce-8192-40f1-aa18-d3c75c306013\",\"resource\":{\"birthDate\":\"1992-03-14\",\"gender\":\"male\",\"id\":\"11ba90ce-8192-40f1-aa18-d3c75c306013\",\"identifier\":[{\"system\":\"https://worksite.redox.com/electronic_submission/redox_claim_number\",\"value\":\"06881206\"},{\"system\":\"https://worksite.redox.com/electronic_submission/redox_rfa_type_written_confirmation\",\"value\":\"0\"}],\"meta\":{\"profile\":[\"https://fhir.redoxengine.com/StructureDefinition/redox-pa-patient\"]},\"name\":[{\"family\":\"Harper\",\"given\":[\"Elliot\"],\"suffix\":[]}],\"resourceType\":\"Patient\"}},{\"fullUrl\":\"https://fhir.redoxengine.com/fhir-sandbox/Practitioner/359f46ce-421f-4bf4-acf1-b1c681c0870c\",\"resource\":{\"address\":[{\"city\":\"San Diego\",\"line\":[\"4527 Oakwood Avenue\"],\"postalCode\":\"92103\",\"state\":\"CA\"}],\"id\":\"359f46ce-421f-4bf4-acf1-b1c681c0870c\",\"identifier\":[{\"system\":\"http://hl7.org/fhir/sid/us-npi\",\"value\":\"1740567893\"},{\"type\":{\"coding\":[{\"code\":\"1J\"}]},\"value\":\"CA Health System\"}],\"meta\":{\"profile\":[\"https://fhir.redoxengine.com/StructureDefinition/redox-practitioner\"]},\"name\":[{\"family\":\"Bennett\",\"given\":[\"Olivia\"],\"suffix\":[]}],\"resourceType\":\"Practitioner\"}},{\"fullUrl\":\"https://fhir.redoxengine.com/fhir-sandbox/Organization/ad151930-1ccd-429f-b412-7e218e80bf32\",\"resource\":{\"active\":true,\"address\":[{\"city\":\"San Diego\",\"line\":[\"4527 Oakwood Avenue\"],\"postalCode\":\"92103\",\"state\":\"CA\"}],\"contact\":[{\"name\":{\"text\":\"\"},\"purpose\":{\"coding\":[{\"code\":\"BILL\",\"system\":\"http://terminology.hl7.org/CodeSystem/contactentity-type\"}]},\"telecom\":[]},{\"name\":{\"text\":\"\"},\"purpose\":{\"coding\":[{\"code\":\"ADMIN\",\"system\":\"http://terminology.hl7.org/CodeSystem/contactentity-type\"}]},\"telecom\":[]}],\"id\":\"ad151930-1ccd-429f-b412-7e218e80bf32\",\"identifier\":[{\"system\":\"http://hl7.org/fhir/sid/us-npi\",\"value\":\"1740567893\"}],\"meta\":{\"profile\":[\"https://fhir.redoxengine.com/StructureDefinition/redox-pa-organization-requestor\"]},\"name\":\"CA Health System\",\"resourceType\":\"Organization\",\"type\":[{\"coding\":[{\"code\":\"FA\",\"system\":\"https://valueset.x12.org/x217/005010/response/2010B/NM1/1/01/00/98\"}]}]}},{\"fullUrl\":\"https://fhir.redoxengine.com/fhir-sandbox/Coverage/d5d8af8e-1669-4b5c-9293-8d00b084b998\",\"resource\":{\"beneficiary\":{\"reference\":\"Patient/11ba90ce-8192-40f1-aa18-d3c75c306013\"},\"id\":\"d5d8af8e-1669-4b5c-9293-8d00b084b998\",\"meta\":{\"profile\":[\"https://fhir.redoxengine.com/StructureDefinition/redox-pa-coverage\"]},\"payor\":[{\"reference\":\"Organization/e9df1ec5-c358-4ed7-9401-a962327ae1ba\"}],\"resourceType\":\"Coverage\",\"status\":\"active\",\"subscriber\":{\"reference\":\"RelatedPerson/69530c14-c68a-4d21-918a-dd516143e9aa\"}}},{\"fullUrl\":\"https://fhir.redoxengine.com/fhir-sandbox/Organization/e9df1ec5-c358-4ed7-9401-a962327ae1ba\",\"resource\":{\"active\":true,\"id\":\"e9df1ec5-c358-4ed7-9401-a962327ae1ba\",\"identifier\":[{\"system\":\"urn:oid:2.16.840.1.113883.4.7\",\"value\":\"Pre Auth Payer Id\"}],\"meta\":{\"profile\":[\"https://fhir.redoxengine.com/StructureDefinition/redox-pa-organization-insurer\"]},\"name\":\"Payer Company 1\",\"resourceType\":\"Organization\",\"type\":[{\"coding\":[{\"code\":\"X3\",\"system\":\"https://valueset.x12.org/x217/005010/request/2010A/NM1/1/01/00/98\"}]}]}},{\"fullUrl\":\"https://fhir.redoxengine.com/fhir-sandbox/RelatedPerson/69530c14-c68a-4d21-918a-dd516143e9aa\",\"resource\":{\"id\":\"69530c14-c68a-4d21-918a-dd516143e9aa\",\"meta\":{\"profile\":[\"https://fhir.redoxengine.com/StructureDefinition/redox-relatedperson\"]},\"name\":[{\"given\":[\"Avenal State Prison\"]}],\"patient\":{\"reference\":\"Patient/11ba90ce-8192-40f1-aa18-d3c75c306013\"},\"relationship\":[{\"coding\":[{\"code\":\"E\",\"system\":\"http://terminology.hl7.org/CodeSystem/v2-0131\"}]}],\"resourceType\":\"RelatedPerson\"}},{\"fullUrl\":\"https://fhir.redoxengine.com/fhir-sandbox/ServiceRequest/5b3eebbb-f839-4aa3-af66-1f237fa8690a\",\"resource\":{\"code\":{\"coding\":[{\"code\":\"99204\",\"system\":\"http://www.cms.gov/Medicare/Coding/HCPCSReleaseCodeSets\"}]},\"id\":\"5b3eebbb-f839-4aa3-af66-1f237fa8690a\",\"intent\":\"order\",\"meta\":{\"profile\":[\"https://fhir.redoxengine.com/StructureDefinition/redox-pa-service-request\"]},\"quantityQuantity\":{\"code\":\"11\",\"system\":\"http://unitsofmeasure.org\"},\"requester\":{\"reference\":\"Practitioner/359f46ce-421f-4bf4-acf1-b1c681c0870c\"},\"resourceType\":\"ServiceRequest\",\"status\":\"active\",\"subject\":{\"reference\":\"Patient/11ba90ce-8192-40f1-aa18-d3c75c306013\"}}}],\"id\":\"002028080\",\"meta\":{\"profile\":[\"https://fhir.redoxengine.com/StructureDefinition/redox-pa-claim-request-bundle\"]},\"resourceType\":\"Bundle\",\"timestamp\":\"2025-01-24T12:02:13.989Z\",\"type\":\"collection\"}</td></tr></tbody></table></div>"
      ]
     },
     "metadata": {
      "application/vnd.databricks.v1+output": {
       "addedWidgets": {},
       "aggData": [],
       "aggError": "",
       "aggOverflow": false,
       "aggSchema": [],
       "aggSeriesLimitReached": false,
       "aggType": "",
       "arguments": {},
       "columnCustomDisplayInfos": {},
       "data": [
        [
         "a710df7d-92b8-4e3e-99ca-b5df37808bc9",
         "2025-01-26T15:49:40.668-05:00",
         {
          "file_block_length": "13170",
          "file_block_start": "0",
          "file_modification_time": "2025-01-26T15:48:05.000-05:00",
          "file_name": "DBPriorAuthExample.json",
          "file_path": "/Volumes/redox/hls_webinar_fy25q4/landing/DBPriorAuthExample.json",
          "file_size": "13170"
         },
         "{\"entry\":[{\"fullUrl\":\"https://fhir.redoxengine.com/fhir-sandbox/Claim/e95745e2-1e43-4b18-aef8-22f243a9494d\",\"resource\":{\"accident\":{\"date\":\"2023-05-10\",\"type\":{\"coding\":[{\"code\":\"EM\",\"system\":\"https://valueset.x12.org/x217/005010/request/2000E/UM/1/05/01/1362\"}]}},\"careTeam\":[{\"extension\":[{\"url\":\"http://hl7.org/fhir/us/davinci-pas/StructureDefinition/extension-careTeamClaimScope\",\"valueBoolean\":true}],\"provider\":{\"reference\":\"Practitioner/359f46ce-421f-4bf4-acf1-b1c681c0870c\"},\"qualification\":{\"coding\":[{\"code\":\"261Q00000X\",\"system\":\"https://valueset.x12.org/x217/005010/request/2010EA/PRV/1/03/00/127\"}]},\"role\":{\"coding\":[{\"code\":\"P3\",\"system\":\"https://valueset.x12.org/x217/005010/request/2010EA/NM1/1/01/00/98\"}]},\"sequence\":1}],\"created\":\"2025-01-24T12:02:13.985Z\",\"diagnosis\":[{\"diagnosisCodeableConcept\":{\"coding\":[{\"code\":\"S83.241D\",\"system\":\"http://hl7.org/fhir/sid/icd-10-cm\"}]},\"sequence\":1},{\"diagnosisCodeableConcept\":{\"coding\":[{\"code\":\"S86.912D\",\"system\":\"http://hl7.org/fhir/sid/icd-10-cm\"}]},\"sequence\":2},{\"diagnosisCodeableConcept\":{\"coding\":[{\"code\":\"M23.201\",\"system\":\"http://hl7.org/fhir/sid/icd-10-cm\"}]},\"sequence\":3}],\"extension\":[{\"url\":\"http://hl7.org/fhir/us/davinci-pas/StructureDefinition/extension-levelOfServiceCode\",\"valueCodeableConcept\":{\"coding\":[{\"code\":\"E\",\"system\":\"https://valueset.x12.org/x217/005010/request/2000E/UM/1/06/00/1338\"}]}},{\"url\":\"https://valueset.x12.org/x217/005010/request/header/BHT/1/03/00/127\",\"valueString\":\"3856_153489_20250124040210135\"}],\"id\":\"e95745e2-1e43-4b18-aef8-22f243a9494d\",\"identifier\":[{\"system\":\"https://worksite.redox.com/electronic_submission/provider_summary_of_data\",\"value\":\"P1\"}],\"insurance\":[{\"coverage\":{\"reference\":\"Coverage/d5d8af8e-1669-4b5c-9293-8d00b084b998\"},\"focal\":true,\"sequence\":1}],\"insurer\":{\"reference\":\"Organization/e9df1ec5-c358-4ed7-9401-a962327ae1ba\"},\"item\":[{\"extension\":[{\"url\":\"http://hl7.org/fhir/us/davinci-pas/StructureDefinition/extension-requestedService\",\"valueReference\":{\"reference\":\"ServiceRequest/5b3eebbb-f839-4aa3-af66-1f237fa8690a\"}}],\"informationSequence\":[6],\"productOrService\":{\"coding\":[{\"code\":\"99204\",\"system\":\"http://www.ama-assn.org/go/cpt\"}]},\"sequence\":1}],\"meta\":{\"profile\":[\"https://fhir.redoxengine.com/StructureDefinition/redox-pa-claim\"]},\"patient\":{\"reference\":\"Patient/11ba90ce-8192-40f1-aa18-d3c75c306013\"},\"priority\":{\"coding\":[{\"code\":\"normal\",\"system\":\"http://terminology.hl7.org/CodeSystem/processpriority\"}]},\"provider\":{\"reference\":\"Organization/ad151930-1ccd-429f-b412-7e218e80bf32\"},\"related\":[{\"reference\":{\"system\":\"https://worksite.redox.com/electronic_submission/provider_communication_id\",\"value\":\"2028079\"},\"relationship\":{\"coding\":[{\"code\":\"associated\",\"system\":\"http://terminology.hl7.org/CodeSystem/ex-relatedclaimrelationship\"}]}}],\"resourceType\":\"Claim\",\"status\":\"active\",\"type\":{\"coding\":[{\"code\":\"professional\",\"system\":\"http://terminology.hl7.org/CodeSystem/claim-type\"}]},\"use\":\"preauthorization\"}},{\"fullUrl\":\"https://fhir.redoxengine.com/fhir-sandbox/Patient/11ba90ce-8192-40f1-aa18-d3c75c306013\",\"resource\":{\"birthDate\":\"1992-03-14\",\"gender\":\"male\",\"id\":\"11ba90ce-8192-40f1-aa18-d3c75c306013\",\"identifier\":[{\"system\":\"https://worksite.redox.com/electronic_submission/redox_claim_number\",\"value\":\"06881206\"},{\"system\":\"https://worksite.redox.com/electronic_submission/redox_rfa_type_written_confirmation\",\"value\":\"0\"}],\"meta\":{\"profile\":[\"https://fhir.redoxengine.com/StructureDefinition/redox-pa-patient\"]},\"name\":[{\"family\":\"Harper\",\"given\":[\"Elliot\"],\"suffix\":[]}],\"resourceType\":\"Patient\"}},{\"fullUrl\":\"https://fhir.redoxengine.com/fhir-sandbox/Practitioner/359f46ce-421f-4bf4-acf1-b1c681c0870c\",\"resource\":{\"address\":[{\"city\":\"San Diego\",\"line\":[\"4527 Oakwood Avenue\"],\"postalCode\":\"92103\",\"state\":\"CA\"}],\"id\":\"359f46ce-421f-4bf4-acf1-b1c681c0870c\",\"identifier\":[{\"system\":\"http://hl7.org/fhir/sid/us-npi\",\"value\":\"1740567893\"},{\"type\":{\"coding\":[{\"code\":\"1J\"}]},\"value\":\"CA Health System\"}],\"meta\":{\"profile\":[\"https://fhir.redoxengine.com/StructureDefinition/redox-practitioner\"]},\"name\":[{\"family\":\"Bennett\",\"given\":[\"Olivia\"],\"suffix\":[]}],\"resourceType\":\"Practitioner\"}},{\"fullUrl\":\"https://fhir.redoxengine.com/fhir-sandbox/Organization/ad151930-1ccd-429f-b412-7e218e80bf32\",\"resource\":{\"active\":true,\"address\":[{\"city\":\"San Diego\",\"line\":[\"4527 Oakwood Avenue\"],\"postalCode\":\"92103\",\"state\":\"CA\"}],\"contact\":[{\"name\":{\"text\":\"\"},\"purpose\":{\"coding\":[{\"code\":\"BILL\",\"system\":\"http://terminology.hl7.org/CodeSystem/contactentity-type\"}]},\"telecom\":[]},{\"name\":{\"text\":\"\"},\"purpose\":{\"coding\":[{\"code\":\"ADMIN\",\"system\":\"http://terminology.hl7.org/CodeSystem/contactentity-type\"}]},\"telecom\":[]}],\"id\":\"ad151930-1ccd-429f-b412-7e218e80bf32\",\"identifier\":[{\"system\":\"http://hl7.org/fhir/sid/us-npi\",\"value\":\"1740567893\"}],\"meta\":{\"profile\":[\"https://fhir.redoxengine.com/StructureDefinition/redox-pa-organization-requestor\"]},\"name\":\"CA Health System\",\"resourceType\":\"Organization\",\"type\":[{\"coding\":[{\"code\":\"FA\",\"system\":\"https://valueset.x12.org/x217/005010/response/2010B/NM1/1/01/00/98\"}]}]}},{\"fullUrl\":\"https://fhir.redoxengine.com/fhir-sandbox/Coverage/d5d8af8e-1669-4b5c-9293-8d00b084b998\",\"resource\":{\"beneficiary\":{\"reference\":\"Patient/11ba90ce-8192-40f1-aa18-d3c75c306013\"},\"id\":\"d5d8af8e-1669-4b5c-9293-8d00b084b998\",\"meta\":{\"profile\":[\"https://fhir.redoxengine.com/StructureDefinition/redox-pa-coverage\"]},\"payor\":[{\"reference\":\"Organization/e9df1ec5-c358-4ed7-9401-a962327ae1ba\"}],\"resourceType\":\"Coverage\",\"status\":\"active\",\"subscriber\":{\"reference\":\"RelatedPerson/69530c14-c68a-4d21-918a-dd516143e9aa\"}}},{\"fullUrl\":\"https://fhir.redoxengine.com/fhir-sandbox/Organization/e9df1ec5-c358-4ed7-9401-a962327ae1ba\",\"resource\":{\"active\":true,\"id\":\"e9df1ec5-c358-4ed7-9401-a962327ae1ba\",\"identifier\":[{\"system\":\"urn:oid:2.16.840.1.113883.4.7\",\"value\":\"Pre Auth Payer Id\"}],\"meta\":{\"profile\":[\"https://fhir.redoxengine.com/StructureDefinition/redox-pa-organization-insurer\"]},\"name\":\"Payer Company 1\",\"resourceType\":\"Organization\",\"type\":[{\"coding\":[{\"code\":\"X3\",\"system\":\"https://valueset.x12.org/x217/005010/request/2010A/NM1/1/01/00/98\"}]}]}},{\"fullUrl\":\"https://fhir.redoxengine.com/fhir-sandbox/RelatedPerson/69530c14-c68a-4d21-918a-dd516143e9aa\",\"resource\":{\"id\":\"69530c14-c68a-4d21-918a-dd516143e9aa\",\"meta\":{\"profile\":[\"https://fhir.redoxengine.com/StructureDefinition/redox-relatedperson\"]},\"name\":[{\"given\":[\"Avenal State Prison\"]}],\"patient\":{\"reference\":\"Patient/11ba90ce-8192-40f1-aa18-d3c75c306013\"},\"relationship\":[{\"coding\":[{\"code\":\"E\",\"system\":\"http://terminology.hl7.org/CodeSystem/v2-0131\"}]}],\"resourceType\":\"RelatedPerson\"}},{\"fullUrl\":\"https://fhir.redoxengine.com/fhir-sandbox/ServiceRequest/5b3eebbb-f839-4aa3-af66-1f237fa8690a\",\"resource\":{\"code\":{\"coding\":[{\"code\":\"99204\",\"system\":\"http://www.cms.gov/Medicare/Coding/HCPCSReleaseCodeSets\"}]},\"id\":\"5b3eebbb-f839-4aa3-af66-1f237fa8690a\",\"intent\":\"order\",\"meta\":{\"profile\":[\"https://fhir.redoxengine.com/StructureDefinition/redox-pa-service-request\"]},\"quantityQuantity\":{\"code\":\"11\",\"system\":\"http://unitsofmeasure.org\"},\"requester\":{\"reference\":\"Practitioner/359f46ce-421f-4bf4-acf1-b1c681c0870c\"},\"resourceType\":\"ServiceRequest\",\"status\":\"active\",\"subject\":{\"reference\":\"Patient/11ba90ce-8192-40f1-aa18-d3c75c306013\"}}}],\"id\":\"002028080\",\"meta\":{\"profile\":[\"https://fhir.redoxengine.com/StructureDefinition/redox-pa-claim-request-bundle\"]},\"resourceType\":\"Bundle\",\"timestamp\":\"2025-01-24T12:02:13.989Z\",\"type\":\"collection\"}"
        ]
       ],
       "datasetInfos": [],
       "dbfsResultPath": null,
       "isJsonSchema": true,
       "metadata": {},
       "overflow": false,
       "plotOptions": {
        "customPlotOptions": {},
        "displayType": "table",
        "pivotAggregation": null,
        "pivotColumns": null,
        "xColumns": null,
        "yColumns": null
       },
       "removedWidgets": [],
       "schema": [
        {
         "metadata": "{}",
         "name": "bundle_uuid",
         "type": "\"string\""
        },
        {
         "metadata": "{}",
         "name": "ingest_time",
         "type": "\"timestamp\""
        },
        {
         "metadata": "{}",
         "name": "file_metadata",
         "type": "{\"type\":\"map\",\"keyType\":\"\",\"valueType\":\"\"}"
        },
        {
         "metadata": "{}",
         "name": "fhir",
         "type": "\"variant\""
        }
       ],
       "type": "table"
      }
     },
     "output_type": "display_data"
    }
   ],
   "source": [
    "SELECT * \n",
    "FROM fhir_bronze_variant \n",
    "WHERE bundle_uuid = prior_auth_bundle_uuid"
   ]
  },
  {
   "cell_type": "code",
   "execution_count": 0,
   "metadata": {
    "application/vnd.databricks.v1+cell": {
     "cellMetadata": {
      "byteLimit": 2048000,
      "rowLimit": 10000
     },
     "inputWidgets": {},
     "nuid": "c5bb6ce0-c194-4084-b08a-e957b3f323ae",
     "showTitle": false,
     "tableResultSettingsMap": {},
     "title": ""
    }
   },
   "outputs": [
    {
     "output_type": "display_data",
     "data": {
      "text/html": [
       "<style scoped>\n",
       "  .table-result-container {\n",
       "    max-height: 300px;\n",
       "    overflow: auto;\n",
       "  }\n",
       "  table, th, td {\n",
       "    border: 1px solid black;\n",
       "    border-collapse: collapse;\n",
       "  }\n",
       "  th, td {\n",
       "    padding: 5px;\n",
       "  }\n",
       "  th {\n",
       "    text-align: left;\n",
       "  }\n",
       "</style><div class='table-result-container'><table class='table-result'><thead style='background-color: white'><tr><th>bundle_uuid</th><th>resourceType</th><th>value</th></tr></thead><tbody><tr><td>a710df7d-92b8-4e3e-99ca-b5df37808bc9</td><td>Claim</td><td>{\"fullUrl\":\"https://fhir.redoxengine.com/fhir-sandbox/Claim/e95745e2-1e43-4b18-aef8-22f243a9494d\",\"resource\":{\"accident\":{\"date\":\"2023-05-10\",\"type\":{\"coding\":[{\"code\":\"EM\",\"system\":\"https://valueset.x12.org/x217/005010/request/2000E/UM/1/05/01/1362\"}]}},\"careTeam\":[{\"extension\":[{\"url\":\"http://hl7.org/fhir/us/davinci-pas/StructureDefinition/extension-careTeamClaimScope\",\"valueBoolean\":true}],\"provider\":{\"reference\":\"Practitioner/359f46ce-421f-4bf4-acf1-b1c681c0870c\"},\"qualification\":{\"coding\":[{\"code\":\"261Q00000X\",\"system\":\"https://valueset.x12.org/x217/005010/request/2010EA/PRV/1/03/00/127\"}]},\"role\":{\"coding\":[{\"code\":\"P3\",\"system\":\"https://valueset.x12.org/x217/005010/request/2010EA/NM1/1/01/00/98\"}]},\"sequence\":1}],\"created\":\"2025-01-24T12:02:13.985Z\",\"diagnosis\":[{\"diagnosisCodeableConcept\":{\"coding\":[{\"code\":\"S83.241D\",\"system\":\"http://hl7.org/fhir/sid/icd-10-cm\"}]},\"sequence\":1},{\"diagnosisCodeableConcept\":{\"coding\":[{\"code\":\"S86.912D\",\"system\":\"http://hl7.org/fhir/sid/icd-10-cm\"}]},\"sequence\":2},{\"diagnosisCodeableConcept\":{\"coding\":[{\"code\":\"M23.201\",\"system\":\"http://hl7.org/fhir/sid/icd-10-cm\"}]},\"sequence\":3}],\"extension\":[{\"url\":\"http://hl7.org/fhir/us/davinci-pas/StructureDefinition/extension-levelOfServiceCode\",\"valueCodeableConcept\":{\"coding\":[{\"code\":\"E\",\"system\":\"https://valueset.x12.org/x217/005010/request/2000E/UM/1/06/00/1338\"}]}},{\"url\":\"https://valueset.x12.org/x217/005010/request/header/BHT/1/03/00/127\",\"valueString\":\"3856_153489_20250124040210135\"}],\"id\":\"e95745e2-1e43-4b18-aef8-22f243a9494d\",\"identifier\":[{\"system\":\"https://worksite.redox.com/electronic_submission/provider_summary_of_data\",\"value\":\"P1\"}],\"insurance\":[{\"coverage\":{\"reference\":\"Coverage/d5d8af8e-1669-4b5c-9293-8d00b084b998\"},\"focal\":true,\"sequence\":1}],\"insurer\":{\"reference\":\"Organization/e9df1ec5-c358-4ed7-9401-a962327ae1ba\"},\"item\":[{\"extension\":[{\"url\":\"http://hl7.org/fhir/us/davinci-pas/StructureDefinition/extension-requestedService\",\"valueReference\":{\"reference\":\"ServiceRequest/5b3eebbb-f839-4aa3-af66-1f237fa8690a\"}}],\"informationSequence\":[6],\"productOrService\":{\"coding\":[{\"code\":\"99204\",\"system\":\"http://www.ama-assn.org/go/cpt\"}]},\"sequence\":1}],\"meta\":{\"profile\":[\"https://fhir.redoxengine.com/StructureDefinition/redox-pa-claim\"]},\"patient\":{\"reference\":\"Patient/11ba90ce-8192-40f1-aa18-d3c75c306013\"},\"priority\":{\"coding\":[{\"code\":\"normal\",\"system\":\"http://terminology.hl7.org/CodeSystem/processpriority\"}]},\"provider\":{\"reference\":\"Organization/ad151930-1ccd-429f-b412-7e218e80bf32\"},\"related\":[{\"reference\":{\"system\":\"https://worksite.redox.com/electronic_submission/provider_communication_id\",\"value\":\"2028079\"},\"relationship\":{\"coding\":[{\"code\":\"associated\",\"system\":\"http://terminology.hl7.org/CodeSystem/ex-relatedclaimrelationship\"}]}}],\"resourceType\":\"Claim\",\"status\":\"active\",\"type\":{\"coding\":[{\"code\":\"professional\",\"system\":\"http://terminology.hl7.org/CodeSystem/claim-type\"}]},\"use\":\"preauthorization\"}}</td></tr><tr><td>a710df7d-92b8-4e3e-99ca-b5df37808bc9</td><td>Patient</td><td>{\"fullUrl\":\"https://fhir.redoxengine.com/fhir-sandbox/Patient/11ba90ce-8192-40f1-aa18-d3c75c306013\",\"resource\":{\"birthDate\":\"1992-03-14\",\"gender\":\"male\",\"id\":\"11ba90ce-8192-40f1-aa18-d3c75c306013\",\"identifier\":[{\"system\":\"https://worksite.redox.com/electronic_submission/redox_claim_number\",\"value\":\"06881206\"},{\"system\":\"https://worksite.redox.com/electronic_submission/redox_rfa_type_written_confirmation\",\"value\":\"0\"}],\"meta\":{\"profile\":[\"https://fhir.redoxengine.com/StructureDefinition/redox-pa-patient\"]},\"name\":[{\"family\":\"Harper\",\"given\":[\"Elliot\"],\"suffix\":[]}],\"resourceType\":\"Patient\"}}</td></tr><tr><td>a710df7d-92b8-4e3e-99ca-b5df37808bc9</td><td>Practitioner</td><td>{\"fullUrl\":\"https://fhir.redoxengine.com/fhir-sandbox/Practitioner/359f46ce-421f-4bf4-acf1-b1c681c0870c\",\"resource\":{\"address\":[{\"city\":\"San Diego\",\"line\":[\"4527 Oakwood Avenue\"],\"postalCode\":\"92103\",\"state\":\"CA\"}],\"id\":\"359f46ce-421f-4bf4-acf1-b1c681c0870c\",\"identifier\":[{\"system\":\"http://hl7.org/fhir/sid/us-npi\",\"value\":\"1740567893\"},{\"type\":{\"coding\":[{\"code\":\"1J\"}]},\"value\":\"CA Health System\"}],\"meta\":{\"profile\":[\"https://fhir.redoxengine.com/StructureDefinition/redox-practitioner\"]},\"name\":[{\"family\":\"Bennett\",\"given\":[\"Olivia\"],\"suffix\":[]}],\"resourceType\":\"Practitioner\"}}</td></tr><tr><td>a710df7d-92b8-4e3e-99ca-b5df37808bc9</td><td>Organization</td><td>{\"fullUrl\":\"https://fhir.redoxengine.com/fhir-sandbox/Organization/ad151930-1ccd-429f-b412-7e218e80bf32\",\"resource\":{\"active\":true,\"address\":[{\"city\":\"San Diego\",\"line\":[\"4527 Oakwood Avenue\"],\"postalCode\":\"92103\",\"state\":\"CA\"}],\"contact\":[{\"name\":{\"text\":\"\"},\"purpose\":{\"coding\":[{\"code\":\"BILL\",\"system\":\"http://terminology.hl7.org/CodeSystem/contactentity-type\"}]},\"telecom\":[]},{\"name\":{\"text\":\"\"},\"purpose\":{\"coding\":[{\"code\":\"ADMIN\",\"system\":\"http://terminology.hl7.org/CodeSystem/contactentity-type\"}]},\"telecom\":[]}],\"id\":\"ad151930-1ccd-429f-b412-7e218e80bf32\",\"identifier\":[{\"system\":\"http://hl7.org/fhir/sid/us-npi\",\"value\":\"1740567893\"}],\"meta\":{\"profile\":[\"https://fhir.redoxengine.com/StructureDefinition/redox-pa-organization-requestor\"]},\"name\":\"CA Health System\",\"resourceType\":\"Organization\",\"type\":[{\"coding\":[{\"code\":\"FA\",\"system\":\"https://valueset.x12.org/x217/005010/response/2010B/NM1/1/01/00/98\"}]}]}}</td></tr><tr><td>a710df7d-92b8-4e3e-99ca-b5df37808bc9</td><td>Coverage</td><td>{\"fullUrl\":\"https://fhir.redoxengine.com/fhir-sandbox/Coverage/d5d8af8e-1669-4b5c-9293-8d00b084b998\",\"resource\":{\"beneficiary\":{\"reference\":\"Patient/11ba90ce-8192-40f1-aa18-d3c75c306013\"},\"id\":\"d5d8af8e-1669-4b5c-9293-8d00b084b998\",\"meta\":{\"profile\":[\"https://fhir.redoxengine.com/StructureDefinition/redox-pa-coverage\"]},\"payor\":[{\"reference\":\"Organization/e9df1ec5-c358-4ed7-9401-a962327ae1ba\"}],\"resourceType\":\"Coverage\",\"status\":\"active\",\"subscriber\":{\"reference\":\"RelatedPerson/69530c14-c68a-4d21-918a-dd516143e9aa\"}}}</td></tr><tr><td>a710df7d-92b8-4e3e-99ca-b5df37808bc9</td><td>Organization</td><td>{\"fullUrl\":\"https://fhir.redoxengine.com/fhir-sandbox/Organization/e9df1ec5-c358-4ed7-9401-a962327ae1ba\",\"resource\":{\"active\":true,\"id\":\"e9df1ec5-c358-4ed7-9401-a962327ae1ba\",\"identifier\":[{\"system\":\"urn:oid:2.16.840.1.113883.4.7\",\"value\":\"Pre Auth Payer Id\"}],\"meta\":{\"profile\":[\"https://fhir.redoxengine.com/StructureDefinition/redox-pa-organization-insurer\"]},\"name\":\"Payer Company 1\",\"resourceType\":\"Organization\",\"type\":[{\"coding\":[{\"code\":\"X3\",\"system\":\"https://valueset.x12.org/x217/005010/request/2010A/NM1/1/01/00/98\"}]}]}}</td></tr><tr><td>a710df7d-92b8-4e3e-99ca-b5df37808bc9</td><td>RelatedPerson</td><td>{\"fullUrl\":\"https://fhir.redoxengine.com/fhir-sandbox/RelatedPerson/69530c14-c68a-4d21-918a-dd516143e9aa\",\"resource\":{\"id\":\"69530c14-c68a-4d21-918a-dd516143e9aa\",\"meta\":{\"profile\":[\"https://fhir.redoxengine.com/StructureDefinition/redox-relatedperson\"]},\"name\":[{\"given\":[\"Avenal State Prison\"]}],\"patient\":{\"reference\":\"Patient/11ba90ce-8192-40f1-aa18-d3c75c306013\"},\"relationship\":[{\"coding\":[{\"code\":\"E\",\"system\":\"http://terminology.hl7.org/CodeSystem/v2-0131\"}]}],\"resourceType\":\"RelatedPerson\"}}</td></tr><tr><td>a710df7d-92b8-4e3e-99ca-b5df37808bc9</td><td>ServiceRequest</td><td>{\"fullUrl\":\"https://fhir.redoxengine.com/fhir-sandbox/ServiceRequest/5b3eebbb-f839-4aa3-af66-1f237fa8690a\",\"resource\":{\"code\":{\"coding\":[{\"code\":\"99204\",\"system\":\"http://www.cms.gov/Medicare/Coding/HCPCSReleaseCodeSets\"}]},\"id\":\"5b3eebbb-f839-4aa3-af66-1f237fa8690a\",\"intent\":\"order\",\"meta\":{\"profile\":[\"https://fhir.redoxengine.com/StructureDefinition/redox-pa-service-request\"]},\"quantityQuantity\":{\"code\":\"11\",\"system\":\"http://unitsofmeasure.org\"},\"requester\":{\"reference\":\"Practitioner/359f46ce-421f-4bf4-acf1-b1c681c0870c\"},\"resourceType\":\"ServiceRequest\",\"status\":\"active\",\"subject\":{\"reference\":\"Patient/11ba90ce-8192-40f1-aa18-d3c75c306013\"}}}</td></tr></tbody></table></div>"
      ]
     },
     "metadata": {
      "application/vnd.databricks.v1+output": {
       "addedWidgets": {},
       "aggData": [],
       "aggError": "",
       "aggOverflow": false,
       "aggSchema": [],
       "aggSeriesLimitReached": false,
       "aggType": "",
       "arguments": {},
       "columnCustomDisplayInfos": {},
       "data": [
        [
         "a710df7d-92b8-4e3e-99ca-b5df37808bc9",
         "Claim",
         "{\"fullUrl\":\"https://fhir.redoxengine.com/fhir-sandbox/Claim/e95745e2-1e43-4b18-aef8-22f243a9494d\",\"resource\":{\"accident\":{\"date\":\"2023-05-10\",\"type\":{\"coding\":[{\"code\":\"EM\",\"system\":\"https://valueset.x12.org/x217/005010/request/2000E/UM/1/05/01/1362\"}]}},\"careTeam\":[{\"extension\":[{\"url\":\"http://hl7.org/fhir/us/davinci-pas/StructureDefinition/extension-careTeamClaimScope\",\"valueBoolean\":true}],\"provider\":{\"reference\":\"Practitioner/359f46ce-421f-4bf4-acf1-b1c681c0870c\"},\"qualification\":{\"coding\":[{\"code\":\"261Q00000X\",\"system\":\"https://valueset.x12.org/x217/005010/request/2010EA/PRV/1/03/00/127\"}]},\"role\":{\"coding\":[{\"code\":\"P3\",\"system\":\"https://valueset.x12.org/x217/005010/request/2010EA/NM1/1/01/00/98\"}]},\"sequence\":1}],\"created\":\"2025-01-24T12:02:13.985Z\",\"diagnosis\":[{\"diagnosisCodeableConcept\":{\"coding\":[{\"code\":\"S83.241D\",\"system\":\"http://hl7.org/fhir/sid/icd-10-cm\"}]},\"sequence\":1},{\"diagnosisCodeableConcept\":{\"coding\":[{\"code\":\"S86.912D\",\"system\":\"http://hl7.org/fhir/sid/icd-10-cm\"}]},\"sequence\":2},{\"diagnosisCodeableConcept\":{\"coding\":[{\"code\":\"M23.201\",\"system\":\"http://hl7.org/fhir/sid/icd-10-cm\"}]},\"sequence\":3}],\"extension\":[{\"url\":\"http://hl7.org/fhir/us/davinci-pas/StructureDefinition/extension-levelOfServiceCode\",\"valueCodeableConcept\":{\"coding\":[{\"code\":\"E\",\"system\":\"https://valueset.x12.org/x217/005010/request/2000E/UM/1/06/00/1338\"}]}},{\"url\":\"https://valueset.x12.org/x217/005010/request/header/BHT/1/03/00/127\",\"valueString\":\"3856_153489_20250124040210135\"}],\"id\":\"e95745e2-1e43-4b18-aef8-22f243a9494d\",\"identifier\":[{\"system\":\"https://worksite.redox.com/electronic_submission/provider_summary_of_data\",\"value\":\"P1\"}],\"insurance\":[{\"coverage\":{\"reference\":\"Coverage/d5d8af8e-1669-4b5c-9293-8d00b084b998\"},\"focal\":true,\"sequence\":1}],\"insurer\":{\"reference\":\"Organization/e9df1ec5-c358-4ed7-9401-a962327ae1ba\"},\"item\":[{\"extension\":[{\"url\":\"http://hl7.org/fhir/us/davinci-pas/StructureDefinition/extension-requestedService\",\"valueReference\":{\"reference\":\"ServiceRequest/5b3eebbb-f839-4aa3-af66-1f237fa8690a\"}}],\"informationSequence\":[6],\"productOrService\":{\"coding\":[{\"code\":\"99204\",\"system\":\"http://www.ama-assn.org/go/cpt\"}]},\"sequence\":1}],\"meta\":{\"profile\":[\"https://fhir.redoxengine.com/StructureDefinition/redox-pa-claim\"]},\"patient\":{\"reference\":\"Patient/11ba90ce-8192-40f1-aa18-d3c75c306013\"},\"priority\":{\"coding\":[{\"code\":\"normal\",\"system\":\"http://terminology.hl7.org/CodeSystem/processpriority\"}]},\"provider\":{\"reference\":\"Organization/ad151930-1ccd-429f-b412-7e218e80bf32\"},\"related\":[{\"reference\":{\"system\":\"https://worksite.redox.com/electronic_submission/provider_communication_id\",\"value\":\"2028079\"},\"relationship\":{\"coding\":[{\"code\":\"associated\",\"system\":\"http://terminology.hl7.org/CodeSystem/ex-relatedclaimrelationship\"}]}}],\"resourceType\":\"Claim\",\"status\":\"active\",\"type\":{\"coding\":[{\"code\":\"professional\",\"system\":\"http://terminology.hl7.org/CodeSystem/claim-type\"}]},\"use\":\"preauthorization\"}}"
        ],
        [
         "a710df7d-92b8-4e3e-99ca-b5df37808bc9",
         "Patient",
         "{\"fullUrl\":\"https://fhir.redoxengine.com/fhir-sandbox/Patient/11ba90ce-8192-40f1-aa18-d3c75c306013\",\"resource\":{\"birthDate\":\"1992-03-14\",\"gender\":\"male\",\"id\":\"11ba90ce-8192-40f1-aa18-d3c75c306013\",\"identifier\":[{\"system\":\"https://worksite.redox.com/electronic_submission/redox_claim_number\",\"value\":\"06881206\"},{\"system\":\"https://worksite.redox.com/electronic_submission/redox_rfa_type_written_confirmation\",\"value\":\"0\"}],\"meta\":{\"profile\":[\"https://fhir.redoxengine.com/StructureDefinition/redox-pa-patient\"]},\"name\":[{\"family\":\"Harper\",\"given\":[\"Elliot\"],\"suffix\":[]}],\"resourceType\":\"Patient\"}}"
        ],
        [
         "a710df7d-92b8-4e3e-99ca-b5df37808bc9",
         "Practitioner",
         "{\"fullUrl\":\"https://fhir.redoxengine.com/fhir-sandbox/Practitioner/359f46ce-421f-4bf4-acf1-b1c681c0870c\",\"resource\":{\"address\":[{\"city\":\"San Diego\",\"line\":[\"4527 Oakwood Avenue\"],\"postalCode\":\"92103\",\"state\":\"CA\"}],\"id\":\"359f46ce-421f-4bf4-acf1-b1c681c0870c\",\"identifier\":[{\"system\":\"http://hl7.org/fhir/sid/us-npi\",\"value\":\"1740567893\"},{\"type\":{\"coding\":[{\"code\":\"1J\"}]},\"value\":\"CA Health System\"}],\"meta\":{\"profile\":[\"https://fhir.redoxengine.com/StructureDefinition/redox-practitioner\"]},\"name\":[{\"family\":\"Bennett\",\"given\":[\"Olivia\"],\"suffix\":[]}],\"resourceType\":\"Practitioner\"}}"
        ],
        [
         "a710df7d-92b8-4e3e-99ca-b5df37808bc9",
         "Organization",
         "{\"fullUrl\":\"https://fhir.redoxengine.com/fhir-sandbox/Organization/ad151930-1ccd-429f-b412-7e218e80bf32\",\"resource\":{\"active\":true,\"address\":[{\"city\":\"San Diego\",\"line\":[\"4527 Oakwood Avenue\"],\"postalCode\":\"92103\",\"state\":\"CA\"}],\"contact\":[{\"name\":{\"text\":\"\"},\"purpose\":{\"coding\":[{\"code\":\"BILL\",\"system\":\"http://terminology.hl7.org/CodeSystem/contactentity-type\"}]},\"telecom\":[]},{\"name\":{\"text\":\"\"},\"purpose\":{\"coding\":[{\"code\":\"ADMIN\",\"system\":\"http://terminology.hl7.org/CodeSystem/contactentity-type\"}]},\"telecom\":[]}],\"id\":\"ad151930-1ccd-429f-b412-7e218e80bf32\",\"identifier\":[{\"system\":\"http://hl7.org/fhir/sid/us-npi\",\"value\":\"1740567893\"}],\"meta\":{\"profile\":[\"https://fhir.redoxengine.com/StructureDefinition/redox-pa-organization-requestor\"]},\"name\":\"CA Health System\",\"resourceType\":\"Organization\",\"type\":[{\"coding\":[{\"code\":\"FA\",\"system\":\"https://valueset.x12.org/x217/005010/response/2010B/NM1/1/01/00/98\"}]}]}}"
        ],
        [
         "a710df7d-92b8-4e3e-99ca-b5df37808bc9",
         "Coverage",
         "{\"fullUrl\":\"https://fhir.redoxengine.com/fhir-sandbox/Coverage/d5d8af8e-1669-4b5c-9293-8d00b084b998\",\"resource\":{\"beneficiary\":{\"reference\":\"Patient/11ba90ce-8192-40f1-aa18-d3c75c306013\"},\"id\":\"d5d8af8e-1669-4b5c-9293-8d00b084b998\",\"meta\":{\"profile\":[\"https://fhir.redoxengine.com/StructureDefinition/redox-pa-coverage\"]},\"payor\":[{\"reference\":\"Organization/e9df1ec5-c358-4ed7-9401-a962327ae1ba\"}],\"resourceType\":\"Coverage\",\"status\":\"active\",\"subscriber\":{\"reference\":\"RelatedPerson/69530c14-c68a-4d21-918a-dd516143e9aa\"}}}"
        ],
        [
         "a710df7d-92b8-4e3e-99ca-b5df37808bc9",
         "Organization",
         "{\"fullUrl\":\"https://fhir.redoxengine.com/fhir-sandbox/Organization/e9df1ec5-c358-4ed7-9401-a962327ae1ba\",\"resource\":{\"active\":true,\"id\":\"e9df1ec5-c358-4ed7-9401-a962327ae1ba\",\"identifier\":[{\"system\":\"urn:oid:2.16.840.1.113883.4.7\",\"value\":\"Pre Auth Payer Id\"}],\"meta\":{\"profile\":[\"https://fhir.redoxengine.com/StructureDefinition/redox-pa-organization-insurer\"]},\"name\":\"Payer Company 1\",\"resourceType\":\"Organization\",\"type\":[{\"coding\":[{\"code\":\"X3\",\"system\":\"https://valueset.x12.org/x217/005010/request/2010A/NM1/1/01/00/98\"}]}]}}"
        ],
        [
         "a710df7d-92b8-4e3e-99ca-b5df37808bc9",
         "RelatedPerson",
         "{\"fullUrl\":\"https://fhir.redoxengine.com/fhir-sandbox/RelatedPerson/69530c14-c68a-4d21-918a-dd516143e9aa\",\"resource\":{\"id\":\"69530c14-c68a-4d21-918a-dd516143e9aa\",\"meta\":{\"profile\":[\"https://fhir.redoxengine.com/StructureDefinition/redox-relatedperson\"]},\"name\":[{\"given\":[\"Avenal State Prison\"]}],\"patient\":{\"reference\":\"Patient/11ba90ce-8192-40f1-aa18-d3c75c306013\"},\"relationship\":[{\"coding\":[{\"code\":\"E\",\"system\":\"http://terminology.hl7.org/CodeSystem/v2-0131\"}]}],\"resourceType\":\"RelatedPerson\"}}"
        ],
        [
         "a710df7d-92b8-4e3e-99ca-b5df37808bc9",
         "ServiceRequest",
         "{\"fullUrl\":\"https://fhir.redoxengine.com/fhir-sandbox/ServiceRequest/5b3eebbb-f839-4aa3-af66-1f237fa8690a\",\"resource\":{\"code\":{\"coding\":[{\"code\":\"99204\",\"system\":\"http://www.cms.gov/Medicare/Coding/HCPCSReleaseCodeSets\"}]},\"id\":\"5b3eebbb-f839-4aa3-af66-1f237fa8690a\",\"intent\":\"order\",\"meta\":{\"profile\":[\"https://fhir.redoxengine.com/StructureDefinition/redox-pa-service-request\"]},\"quantityQuantity\":{\"code\":\"11\",\"system\":\"http://unitsofmeasure.org\"},\"requester\":{\"reference\":\"Practitioner/359f46ce-421f-4bf4-acf1-b1c681c0870c\"},\"resourceType\":\"ServiceRequest\",\"status\":\"active\",\"subject\":{\"reference\":\"Patient/11ba90ce-8192-40f1-aa18-d3c75c306013\"}}}"
        ]
       ],
       "datasetInfos": [],
       "dbfsResultPath": null,
       "isJsonSchema": true,
       "metadata": {},
       "overflow": false,
       "plotOptions": {
        "customPlotOptions": {},
        "displayType": "table",
        "pivotAggregation": null,
        "pivotColumns": null,
        "xColumns": null,
        "yColumns": null
       },
       "removedWidgets": [],
       "schema": [
        {
         "metadata": "{}",
         "name": "bundle_uuid",
         "type": "\"string\""
        },
        {
         "metadata": "{}",
         "name": "resourceType",
         "type": "\"string\""
        },
        {
         "metadata": "{}",
         "name": "value",
         "type": "\"variant\""
        }
       ],
       "type": "table"
      }
     },
     "output_type": "display_data"
    }
   ],
   "source": [
    "SELECT \n",
    "  bundle_uuid\n",
    "  ,entry.value:resource.resourceType::string as resourceType\n",
    "  ,entry.value\n",
    "FROM \n",
    "  fhir_bronze_variant\n",
    "  ,LATERAL variant_explode(fhir:entry) as entry\n",
    "WHERE \n",
    "  bundle_uuid = prior_auth_bundle_uuid"
   ]
  },
  {
   "cell_type": "code",
   "execution_count": 0,
   "metadata": {
    "application/vnd.databricks.v1+cell": {
     "cellMetadata": {
      "byteLimit": 2048000,
      "rowLimit": 10000
     },
     "inputWidgets": {},
     "nuid": "6e19f470-70ef-4b7a-a9a4-800741ae636c",
     "showTitle": false,
     "tableResultSettingsMap": {},
     "title": ""
    }
   },
   "outputs": [
    {
     "output_type": "display_data",
     "data": {
      "text/html": [
       "<style scoped>\n",
       "  .table-result-container {\n",
       "    max-height: 300px;\n",
       "    overflow: auto;\n",
       "  }\n",
       "  table, th, td {\n",
       "    border: 1px solid black;\n",
       "    border-collapse: collapse;\n",
       "  }\n",
       "  th, td {\n",
       "    padding: 5px;\n",
       "  }\n",
       "  th {\n",
       "    text-align: left;\n",
       "  }\n",
       "</style><div class='table-result-container'><table class='table-result'><thead style='background-color: white'><tr><th>bundle_uuid</th><th>patient_id</th><th>family_name</th><th>given_name</th><th>requested_pro_code</th><th>requested_proc_code</th><th>request_status</th><th>use</th><th>primary_diag_code</th><th>diag_code_2</th><th>diag_code_3</th><th>diagnosis_code_summary</th><th>priority</th><th>claim_type</th></tr></thead><tbody><tr><td>a710df7d-92b8-4e3e-99ca-b5df37808bc9</td><td>11ba90ce-8192-40f1-aa18-d3c75c306013</td><td>Harper</td><td>Elliot</td><td>99204</td><td>The HCPCS (Healthcare Common Procedure Coding System) code 99204 refers to a specific medical procedure. According to the Centers for Medicare and Medicaid Services (CMS), the description for HCPCS code 99204 is:\n",
       "\n",
       "**Office or other outpatient visit for the evaluation and management of a new patient, which requires these 3 key components:**\n",
       "\n",
       "1. **A problem-focused history;**\n",
       "2. **A problem-focused examination;**\n",
       "3. **Straightforward medical decision making.**\n",
       "\n",
       "Typically, 15-30 minutes are spent with the patient and/or family.\n",
       "\n",
       "This code is part of the Evaluation and Management (E/M) services, which are used to report visits to a healthcare provider's office or other outpatient settings. The code 99204 is specifically used for new patients, as opposed to established patients, which would be reported with a different code (e.g., 99213).\n",
       "\n",
       "Keep in mind that HCPCS codes are updated annually, and it's essential to verify the code description and guidelines with the current year's coding resources, such as the CMS website or the American Medical Association (AMA) CPT manual.</td><td>active</td><td>preauthorization</td><td>S83.241D</td><td>S86.912D</td><td>M23.201</td><td>S83.241D: Dislocation of right patella, subsequent encounter\n",
       "S86.912D: Laceration of other muscles, fascia and tendons at ankle and foot, subsequent encounter\n",
       "M23.201: Cystic meniscus, right knee, medial meniscus \n",
       "\n",
       "Summary: Knee and ankle injuries.</td><td>normal</td><td>professional</td></tr></tbody></table></div>"
      ]
     },
     "metadata": {
      "application/vnd.databricks.v1+output": {
       "addedWidgets": {},
       "aggData": [],
       "aggError": "",
       "aggOverflow": false,
       "aggSchema": [],
       "aggSeriesLimitReached": false,
       "aggType": "",
       "arguments": {},
       "columnCustomDisplayInfos": {},
       "data": [
        [
         "a710df7d-92b8-4e3e-99ca-b5df37808bc9",
         "11ba90ce-8192-40f1-aa18-d3c75c306013",
         "Harper",
         "Elliot",
         "99204",
         "The HCPCS (Healthcare Common Procedure Coding System) code 99204 refers to a specific medical procedure. According to the Centers for Medicare and Medicaid Services (CMS), the description for HCPCS code 99204 is:\n\n**Office or other outpatient visit for the evaluation and management of a new patient, which requires these 3 key components:**\n\n1. **A problem-focused history;**\n2. **A problem-focused examination;**\n3. **Straightforward medical decision making.**\n\nTypically, 15-30 minutes are spent with the patient and/or family.\n\nThis code is part of the Evaluation and Management (E/M) services, which are used to report visits to a healthcare provider's office or other outpatient settings. The code 99204 is specifically used for new patients, as opposed to established patients, which would be reported with a different code (e.g., 99213).\n\nKeep in mind that HCPCS codes are updated annually, and it's essential to verify the code description and guidelines with the current year's coding resources, such as the CMS website or the American Medical Association (AMA) CPT manual.",
         "active",
         "preauthorization",
         "S83.241D",
         "S86.912D",
         "M23.201",
         "S83.241D: Dislocation of right patella, subsequent encounter\nS86.912D: Laceration of other muscles, fascia and tendons at ankle and foot, subsequent encounter\nM23.201: Cystic meniscus, right knee, medial meniscus \n\nSummary: Knee and ankle injuries.",
         "normal",
         "professional"
        ]
       ],
       "datasetInfos": [],
       "dbfsResultPath": null,
       "isJsonSchema": true,
       "metadata": {},
       "overflow": false,
       "plotOptions": {
        "customPlotOptions": {},
        "displayType": "table",
        "pivotAggregation": null,
        "pivotColumns": null,
        "xColumns": null,
        "yColumns": null
       },
       "removedWidgets": [],
       "schema": [
        {
         "metadata": "{}",
         "name": "bundle_uuid",
         "type": "\"string\""
        },
        {
         "metadata": "{}",
         "name": "patient_id",
         "type": "\"string\""
        },
        {
         "metadata": "{}",
         "name": "family_name",
         "type": "\"string\""
        },
        {
         "metadata": "{}",
         "name": "given_name",
         "type": "\"string\""
        },
        {
         "metadata": "{}",
         "name": "requested_pro_code",
         "type": "\"string\""
        },
        {
         "metadata": "{}",
         "name": "requested_proc_code",
         "type": "\"string\""
        },
        {
         "metadata": "{}",
         "name": "request_status",
         "type": "\"string\""
        },
        {
         "metadata": "{}",
         "name": "use",
         "type": "\"string\""
        },
        {
         "metadata": "{}",
         "name": "primary_diag_code",
         "type": "\"string\""
        },
        {
         "metadata": "{}",
         "name": "diag_code_2",
         "type": "\"string\""
        },
        {
         "metadata": "{}",
         "name": "diag_code_3",
         "type": "\"string\""
        },
        {
         "metadata": "{}",
         "name": "diagnosis_code_summary",
         "type": "\"string\""
        },
        {
         "metadata": "{}",
         "name": "priority",
         "type": "\"string\""
        },
        {
         "metadata": "{}",
         "name": "claim_type",
         "type": "\"string\""
        }
       ],
       "type": "table"
      }
     },
     "output_type": "display_data"
    }
   ],
   "source": [
    "with service_requested as (\n",
    "  select\n",
    "    bundle_uuid\n",
    "    ,code:coding[0].code::string as requested_pro_code\n",
    "    ,ai_query(\n",
    "      endpoint => 'databricks-meta-llama-3-3-70b-instruct'\n",
    "      ,request => 'lookup HCPCS Procedure Code description for ' || code:coding[0].code::string\n",
    "      ,returnType => 'STRING'\n",
    "    ) AS requested_proc_code\n",
    "    ,status::string as request_status\n",
    "  from\n",
    "    servicerequest\n",
    "  where bundle_uuid = prior_auth_bundle_uuid\n",
    ")\n",
    ",claim_details as (\n",
    "  select \n",
    "    bundle_uuid\n",
    "    ,use::string as use\n",
    "    ,diagnosis:[0].diagnosisCodeableConcept.coding[0].code::string as primary_diag_code\n",
    "    ,diagnosis:[1].diagnosisCodeableConcept.coding[0].code::string as diag_code_2\n",
    "    ,diagnosis:[2].diagnosisCodeableConcept.coding[0].code::string as diag_code_3\n",
    "    ,ai_query(\n",
    "      endpoint => 'databricks-meta-llama-3-3-70b-instruct'\n",
    "      ,request => 'Lookup the ICD10 CM code descriptions for ' || diagnosis:[0].diagnosisCodeableConcept.coding[0].code::string || ' and ' || diagnosis:[1].diagnosisCodeableConcept.coding[0].code::string || ' and ' || diagnosis:[2].diagnosisCodeableConcept.coding[0].code::string || '. Then summarize in less than 200 characters.'\n",
    "      ,returnType => 'STRING'\n",
    "    ) AS diagnosis_code_summary\n",
    "    ,priority:coding[0].code::string as priority\n",
    "    ,type:coding[0].code::string as claim_type\n",
    "  from \n",
    "    claim\n",
    "  where \n",
    "    bundle_uuid = prior_auth_bundle_uuid\n",
    ")\n",
    ",patient_details as (\n",
    "  select\n",
    "    bundle_uuid\n",
    "    ,id::string as patient_id\n",
    "    ,name:[0].family::string as family_name\n",
    "    ,name:[0].given[0]::string as given_name\n",
    "  from \n",
    "    patient\n",
    "  where \n",
    "    bundle_uuid = prior_auth_bundle_uuid\n",
    ")\n",
    "select \n",
    "  pd.*\n",
    "  ,sr.* EXCEPT (bundle_uuid)\n",
    "  ,cd.* EXCEPT (bundle_uuid)\n",
    "from \n",
    "  patient_details pd INNER JOIN \n",
    "  service_requested sr ON pd.bundle_uuid = sr.bundle_uuid INNER JOIN\n",
    "  claim_details cd ON pd.bundle_uuid = cd.bundle_uuid AND cd.bundle_uuid = sr.bundle_uuid\n",
    ";"
   ]
  }
 ],
 "metadata": {
  "application/vnd.databricks.v1+notebook": {
   "computePreferences": null,
   "dashboards": [],
   "environmentMetadata": {
    "base_environment": "",
    "client": "1"
   },
   "language": "sql",
   "notebookMetadata": {
    "pythonIndentUnit": 2
   },
   "notebookName": "Prior Authorization Request Review",
   "widgets": {}
  },
  "language_info": {
   "name": "sql"
  }
 },
 "nbformat": 4,
 "nbformat_minor": 0
}
