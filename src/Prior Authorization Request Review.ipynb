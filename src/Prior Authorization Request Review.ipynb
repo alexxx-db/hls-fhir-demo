{
 "cells": [
  {
   "cell_type": "code",
   "execution_count": 0,
   "metadata": {
    "application/vnd.databricks.v1+cell": {
     "cellMetadata": {},
     "inputWidgets": {},
     "nuid": "8677362c-291d-4789-abb6-3d92e876127e",
     "showTitle": false,
     "tableResultSettingsMap": {},
     "title": ""
    }
   },
   "outputs": [],
   "source": [
    "select \n",
    "  cast(entry.value:resource.resourceType as string) as resourceType,\n",
    "  count(*)\n",
    "from redox.hls_webinar_fy25q4.fhir_bronze_variant,\n",
    "  LATERAL variant_explode(fhir:entry) as entry\n",
    "where bundle_uuid = :bundle_uuid\n",
    "group by\n",
    "  resourceType\n",
    "\n",
    "-- a710df7d-92b8-4e3e-99ca-b5df37808bc9 is the prior auth example"
   ]
  }
 ],
 "metadata": {
  "application/vnd.databricks.v1+notebook": {
   "computePreferences": null,
   "dashboards": [],
   "environmentMetadata": {
    "base_environment": "",
    "client": "1"
   },
   "language": "sql",
   "notebookMetadata": {},
   "notebookName": "Prior Authorization Request Review",
   "widgets": {}
  },
  "language_info": {
   "name": "sql"
  }
 },
 "nbformat": 4,
 "nbformat_minor": 0
}
