{
 "cells": [
  {
   "cell_type": "code",
   "execution_count": 0,
   "metadata": {
    "application/vnd.databricks.v1+cell": {
     "cellMetadata": {
      "byteLimit": 10485760,
      "rowLimit": 1000
     },
     "inputWidgets": {},
     "nuid": "66a49587-8954-4fa2-ac5e-a23dfcaa465f",
     "showTitle": false,
     "tableResultSettingsMap": {},
     "title": ""
    }
   },
   "outputs": [],
   "source": [
    "SELECT parse_json(ai_query(\n",
    "  'redox_make_request',\n",
    "  request => named_struct(\n",
    "    'http_method', 'post'\n",
    "    ,'resource', 'Observation'\n",
    "    ,'action', '\\$observation-create'\n",
    "    ,'data', '\n",
    "{\n",
    "   \"resourceType\":\"Bundle\",\n",
    "   \"entry\":[\n",
    "      {\n",
    "         \"resource\":{\n",
    "            \"category\":[\n",
    "               {\n",
    "                  \"coding\":[\n",
    "                     {\n",
    "                        \"code\":\"survey\",\n",
    "                        \"display\":\"Survey\",\n",
    "                        \"system\":\"http://terminology.hl7.org/CodeSystem/observation-category\"\n",
    "                     }\n",
    "                  ]\n",
    "               }\n",
    "            ],\n",
    "            \"code\":{\n",
    "               \"coding\":[\n",
    "                  {\n",
    "                     \"code\":\"78033-8\",\n",
    "                     \"display\":\"Remaining Hospital Stay\",\n",
    "                     \"system\":\"http://loinc.org\"\n",
    "                  }\n",
    "               ],\n",
    "               \"text\":\"Remaining Hospital Stay\"\n",
    "            },\n",
    "            \"effectiveDateTime\":\"2024-01-28T18:06:33.245-05:00\",\n",
    "            \"issued\":\"2024-01-28T18:06:33.245-05:00\",\n",
    "            \"resourceType\":\"Observation\",\n",
    "            \"status\":\"final\",\n",
    "            \"valueQuantity\":{\n",
    "               \"code\":\"days\",\n",
    "               \"system\":\"https://www.nubc.org/CodeSystem/RevenueCodes\",\n",
    "               \"unit\":\"days\",\n",
    "               \"value\":4\n",
    "            },\n",
    "            \"subject\": {\n",
    "              \"reference\": \"Patient/58117110-ae47-452a-be2c-2d82b3a9e24b\"\n",
    "            },\n",
    "            \"identifier\": [\n",
    "            {\n",
    "              \"system\": \"urn:databricks\",\n",
    "              \"value\": \"1234567890\"\n",
    "            }\n",
    "          ]\n",
    "         }\n",
    "      },\n",
    "      {\n",
    "         \"resource\":{\n",
    "           \"resourceType\": \"Patient\",\n",
    "           \"identifier\": [\n",
    "            {\n",
    "              \"system\": \"urn:redox:health-one:MR\",\n",
    "              \"value\": \"0000991458\"\n",
    "            },\n",
    "            {\n",
    "              \"system\": \"http://hl7.org/fhir/sid/us-ssn\",\n",
    "              \"value\": \"547-01-9991\"\n",
    "            }\n",
    "          ]\n",
    "         }\n",
    "      }\n",
    "   ]\n",
    "}\n",
    "')\n",
    ",returnType => \"STRING\")) as result"
   ]
  }
 ],
 "metadata": {
  "application/vnd.databricks.v1+notebook": {
   "computePreferences": null,
   "dashboards": [],
   "environmentMetadata": null,
   "inputWidgetPreferences": null,
   "language": "sql",
   "notebookMetadata": {
    "pythonIndentUnit": 4,
    "sqlQueryOptions": {
     "applyAutoLimit": true,
     "catalog": "fhir_workshop",
     "schema": "synthea"
    }
   },
   "notebookName": "1 - Redox Make Request - Mosaic Model Serving.dbquery.ipynb",
   "widgets": {}
  },
  "language_info": {
   "name": "sql"
  }
 },
 "nbformat": 4,
 "nbformat_minor": 0
}
