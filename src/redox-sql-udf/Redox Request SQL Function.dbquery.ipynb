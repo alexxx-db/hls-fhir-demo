{
 "cells": [
  {
   "cell_type": "code",
   "execution_count": 0,
   "metadata": {
    "application/vnd.databricks.v1+cell": {
     "cellMetadata": {
      "byteLimit": 10485760,
      "rowLimit": 1000
     },
     "inputWidgets": {},
     "nuid": "462dfd5d-2702-41dd-86d6-0b90cc90a697",
     "showTitle": false,
     "tableResultSettingsMap": {},
     "title": ""
    }
   },
   "outputs": [],
   "source": [
    "-- result is very large, therefore a subsstring is used for the display\n",
    "use redox.himss25;\n",
    "\n",
    "select try_parse_json('{\n",
    "  \"entry\": [\n",
    "    {\n",
    "      \"fullUrl\": \"https://fhir.redoxengine.com/fhir-sandbox/DiagnosticReport/b5041a91-90c8-4290-85df-2dd73e90d897\",\n",
    "      \"resource\": {\n",
    "        \"basedOn\": [\n",
    "          {\n",
    "            \"reference\": \"ServiceRequest/66fac6da-0bb9-4a91-92db-99fd9997c908\"\n",
    "          }\n",
    "        ],\n",
    "        \"code\": {\n",
    "          \"coding\": [\n",
    "            {\n",
    "              \"code\": \"REPORT\",\n",
    "              \"display\": \"Karius Lab Test Results\",\n",
    "              \"system\": \"http://karius.com/fhir/CodeSystem/custom-codes\"\n",
    "            }\n",
    "          ]\n",
    "        },\n",
    "        \"encounter\": {\n",
    "          \"reference\": \"Encounter/f2fa31d8-4d00-4207-9e9c-78e0ae29fccb\"\n",
    "        },\n",
    "        \"id\": \"b5041a91-90c8-4290-85df-2dd73e90d897\",\n",
    "        \"issued\": \"2025-02-12T18:07:10.080Z\",\n",
    "        \"meta\": {\n",
    "          \"lastUpdated\": \"2025-02-27T18:58:35.799180+00:00\",\n",
    "          \"versionId\": \"MTc0MDY4MjcxNTc5OTE4MDAwMA\"\n",
    "        },\n",
    "        \"presentedForm\": [\n",
    "          {\n",
    "            \"contentType\": \"application/pdf\",\n",
    "            \"creation\": \"2025-02-12T18:07:10.080Z\",\n",
    "            \"data\": \"JVBERi0xLjUKJeLjz9MKCjEgMCBvYmoKP\"\n",
    "          }\n",
    "        ]\n",
    "      }\n",
    "    }\n",
    "  ]\n",
    "}') as example;\n",
    "\n",
    "with eg as (\n",
    "  SELECT\n",
    "    \"post\" as http_method\n",
    "    ,\"DiagnosticReport\" as resource\n",
    "    ,\"_search\" as action\n",
    "    ,\"subject=Patient/81c2f5eb-f99f-40c4-b504-59483e6148d7\" as data\n",
    ")\n",
    ",response as (\n",
    "  SELECT\n",
    "    try_parse_json(redox_request(\n",
    "    http_method\n",
    "    ,resource\n",
    "    ,action\n",
    "    ,data\n",
    "  )) as response\n",
    "FROM \n",
    "  eg\n",
    ")\n",
    "SELECT\n",
    "  entry.value:fullUrl::string as fullUrl\n",
    "  ,entry.value:resource.based_on\n",
    "  ,entry.value:resource.code\n",
    "  ,entry.value:resource.encounter.reference::string as encounter_url\n",
    "  ,entry.value:resource.id::string as diagnostic_report_id\n",
    "  ,entry.value:resource.issued::timestamp as issued\n",
    "  ,entry.value:resource.meta\n",
    "  ,presentedForm.value:contentType::string as content_type\n",
    "  ,presentedForm.value:creation::timestamp as creation\n",
    "  ,unbase64(presentedForm.value:data::string) as diagnostic_report\n",
    "FROM \n",
    "  response \n",
    "  ,LATERAL variant_explode(response:entry) as entry\n",
    "  ,LATERAL variant_explode(entry.value:resource.presentedForm) as presentedForm\n",
    ";"
   ]
  }
 ],
 "metadata": {
  "application/vnd.databricks.v1+notebook": {
   "computePreferences": null,
   "dashboards": [],
   "environmentMetadata": null,
   "language": "sql",
   "notebookMetadata": {
    "sqlQueryOptions": {
     "applyAutoLimit": true,
     "catalog": "redox",
     "schema": "himss25"
    }
   },
   "notebookName": "Redox Request SQL Function.dbquery.ipynb",
   "widgets": {}
  },
  "language_info": {
   "name": "sql"
  }
 },
 "nbformat": 4,
 "nbformat_minor": 0
}
