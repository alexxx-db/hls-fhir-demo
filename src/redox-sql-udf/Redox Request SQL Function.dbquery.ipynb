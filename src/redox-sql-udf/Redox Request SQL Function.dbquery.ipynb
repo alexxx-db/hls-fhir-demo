{
 "cells": [
  {
   "cell_type": "code",
   "execution_count": 0,
   "metadata": {
    "application/vnd.databricks.v1+cell": {
     "cellMetadata": {
      "byteLimit": 10485760,
      "rowLimit": 1000
     },
     "inputWidgets": {},
     "nuid": "462dfd5d-2702-41dd-86d6-0b90cc90a697",
     "showTitle": false,
     "tableResultSettingsMap": {},
     "title": ""
    }
   },
   "outputs": [],
   "source": [
    "use redox.himss25;\n",
    "\n",
    "with eg as (\n",
    "  SELECT\n",
    "    \"post\" as http_method\n",
    "    ,\"DiagnosticReport\" as resource\n",
    "    ,\"_search\" as action\n",
    "    ,\"subject=Patient/81c2f5eb-f99f-40c4-b504-59483e6148d7\" as data\n",
    ")\n",
    "SELECT\n",
    "  redox_request(\n",
    "    http_method\n",
    "    ,resource\n",
    "    ,action\n",
    "    ,data\n",
    "  )\n",
    "FROM \n",
    "  eg\n",
    ";"
   ]
  }
 ],
 "metadata": {
  "application/vnd.databricks.v1+notebook": {
   "computePreferences": null,
   "dashboards": [],
   "environmentMetadata": null,
   "language": "sql",
   "notebookMetadata": {
    "sqlQueryOptions": {
     "applyAutoLimit": true,
     "catalog": "redox",
     "schema": "himss25"
    }
   },
   "notebookName": "Redox Request SQL Function.dbquery.ipynb",
   "widgets": {}
  },
  "language_info": {
   "name": "sql"
  }
 },
 "nbformat": 4,
 "nbformat_minor": 0
}
