{
 "cells": [
  {
   "cell_type": "markdown",
   "metadata": {
    "application/vnd.databricks.v1+cell": {
     "cellMetadata": {
      "byteLimit": 2048000,
      "rowLimit": 10000
     },
     "inputWidgets": {},
     "nuid": "4bf884f1-dc14-45c0-8a91-af00b1a008ab",
     "showTitle": false,
     "tableResultSettingsMap": {},
     "title": ""
    }
   },
   "source": [
    "*Note that this notebook should be run with a dedicated compute cluster with the ML Runtime.  It was developed using DBR 16.2 ML originally.* "
   ]
  },
  {
   "cell_type": "code",
   "execution_count": 0,
   "metadata": {
    "application/vnd.databricks.v1+cell": {
     "cellMetadata": {
      "byteLimit": 2048000,
      "rowLimit": 10000
     },
     "inputWidgets": {},
     "nuid": "9f0ed45f-d486-4bed-bab2-26b6f2285809",
     "showTitle": false,
     "tableResultSettingsMap": {},
     "title": ""
    }
   },
   "outputs": [],
   "source": [
    "%load_ext autoreload\n",
    "%autoreload 2"
   ]
  },
  {
   "cell_type": "code",
   "execution_count": 0,
   "metadata": {
    "application/vnd.databricks.v1+cell": {
     "cellMetadata": {
      "byteLimit": 2048000,
      "rowLimit": 10000
     },
     "inputWidgets": {},
     "nuid": "2454056a-db2d-4a89-a4f8-8839988d10f4",
     "showTitle": false,
     "tableResultSettingsMap": {},
     "title": ""
    }
   },
   "outputs": [],
   "source": [
    "%pip install git+https://github.com/databricks-industry-solutions/redox-ehr-api"
   ]
  },
  {
   "cell_type": "code",
   "execution_count": 0,
   "metadata": {
    "application/vnd.databricks.v1+cell": {
     "cellMetadata": {
      "byteLimit": 2048000,
      "rowLimit": 10000
     },
     "inputWidgets": {},
     "nuid": "a0c0919e-0575-44d6-824d-a4df3b0a0d59",
     "showTitle": false,
     "tableResultSettingsMap": {},
     "title": ""
    }
   },
   "outputs": [],
   "source": [
    "%restart_python"
   ]
  },
  {
   "cell_type": "markdown",
   "metadata": {
    "application/vnd.databricks.v1+cell": {
     "cellMetadata": {
      "byteLimit": 2048000,
      "rowLimit": 10000
     },
     "inputWidgets": {},
     "nuid": "00f8fe0d-4f59-4c7b-9247-529fbc4711c7",
     "showTitle": false,
     "tableResultSettingsMap": {},
     "title": ""
    }
   },
   "source": [
    "## Standard Usage \n",
    "***"
   ]
  },
  {
   "cell_type": "code",
   "execution_count": 0,
   "metadata": {
    "application/vnd.databricks.v1+cell": {
     "cellMetadata": {
      "byteLimit": 2048000,
      "rowLimit": 10000
     },
     "inputWidgets": {},
     "nuid": "6021ebfb-d232-4209-9ef5-02da0ea88752",
     "showTitle": false,
     "tableResultSettingsMap": {},
     "title": ""
    }
   },
   "outputs": [],
   "source": [
    "databricks_secret_scope = \"redox-field-eng\"\n",
    "\n",
    "redox_private_key = dbutils.secrets.get(scope = databricks_secret_scope, key = \"redox_private_key\")\n",
    "redox_client_id = dbutils.secrets.get(scope = databricks_secret_scope, key = \"redox_client_id\")\n",
    "redox_source_id = dbutils.secrets.get(scope = databricks_secret_scope, key = \"redox_source_id\")\n",
    "redox_public_kid = dbutils.secrets.get(scope = databricks_secret_scope, key = \"redox_public_kid\")\n",
    "\n",
    "print(f\"\"\" \n",
    "      redox_private_key: {redox_private_key}\n",
    "      redox_client_id: {redox_client_id}\n",
    "      redox_source_id: {redox_source_id}\n",
    "      redox_public_kid: {redox_public_kid}\n",
    "\"\"\")"
   ]
  },
  {
   "cell_type": "code",
   "execution_count": 0,
   "metadata": {
    "application/vnd.databricks.v1+cell": {
     "cellMetadata": {
      "byteLimit": 2048000,
      "rowLimit": 10000
     },
     "inputWidgets": {},
     "nuid": "85e334c7-1d1a-4fe1-a85d-9d36d7ec29c2",
     "showTitle": false,
     "tableResultSettingsMap": {},
     "title": ""
    }
   },
   "outputs": [],
   "source": [
    "import json\n",
    "\n",
    "redox_auth_json = f\"\"\"\n",
    "{{\n",
    "  \"kty\": \"RSA\",\n",
    "  \"kid\": \"{redox_public_kid}\",\n",
    "  \"alg\": \"RS384\",\n",
    "  \"use\": \"sig\"\n",
    "}}\n",
    "\"\"\"\n",
    "\n",
    "json.loads(redox_auth_json)"
   ]
  },
  {
   "cell_type": "code",
   "execution_count": 0,
   "metadata": {
    "application/vnd.databricks.v1+cell": {
     "cellMetadata": {
      "byteLimit": 2048000,
      "rowLimit": 10000
     },
     "inputWidgets": {},
     "nuid": "af38133f-b3f4-4f87-9ce6-fee082c9be50",
     "showTitle": false,
     "tableResultSettingsMap": {},
     "title": ""
    }
   },
   "outputs": [],
   "source": [
    "from redoxwrite.auth import * \n",
    "from redoxwrite.endpoint import *"
   ]
  },
  {
   "cell_type": "code",
   "execution_count": 0,
   "metadata": {
    "application/vnd.databricks.v1+cell": {
     "cellMetadata": {
      "byteLimit": 2048000,
      "rowLimit": 10000
     },
     "inputWidgets": {},
     "nuid": "a4ad6ffe-56e0-4588-bb92-0c1b38fbd7f9",
     "showTitle": false,
     "tableResultSettingsMap": {},
     "title": ""
    }
   },
   "outputs": [],
   "source": [
    "auth = RedoxApiAuth(\n",
    "  redox_client_id\n",
    "  ,redox_private_key\n",
    "  ,redox_auth_json\n",
    "  ,redox_source_id\n",
    ")\n",
    "print(\"Is connection successful? \" + str(auth.can_connect()))"
   ]
  },
  {
   "cell_type": "code",
   "execution_count": 0,
   "metadata": {
    "application/vnd.databricks.v1+cell": {
     "cellMetadata": {
      "byteLimit": 2048000,
      "rowLimit": 10000
     },
     "inputWidgets": {},
     "nuid": "ca2ed3c4-0a64-4570-b36f-5bdbf595b5cb",
     "showTitle": false,
     "tableResultSettingsMap": {},
     "title": ""
    }
   },
   "outputs": [],
   "source": [
    "#All Redox FHIR request URLs start with this base: https://api.redoxengine.com/fhir/R4/[organization-name]/[environment-type]/\n",
    "redox_base_url = 'https://api.redoxengine.com/fhir/R4/redox-fhir-sandbox/Development/'\n",
    "\n",
    "rapi = RedoxApiRequest(auth, base_url = redox_base_url)"
   ]
  },
  {
   "cell_type": "code",
   "execution_count": 0,
   "metadata": {
    "application/vnd.databricks.v1+cell": {
     "cellMetadata": {
      "byteLimit": 2048000,
      "rowLimit": 10000
     },
     "inputWidgets": {},
     "nuid": "fa893ccc-90a4-489d-abb6-30ea7105b745",
     "showTitle": false,
     "tableResultSettingsMap": {},
     "title": ""
    }
   },
   "outputs": [],
   "source": [
    "#creating an observation for remaining length of 4 day stay at a hospital \n",
    "observation = \"\"\"\n",
    "{\n",
    "   \"resourceType\":\"Bundle\",\n",
    "   \"entry\":[\n",
    "      {\n",
    "         \"resource\":{\n",
    "            \"category\":[\n",
    "               {\n",
    "                  \"coding\":[\n",
    "                     {\n",
    "                        \"code\":\"survey\",\n",
    "                        \"display\":\"Survey\",\n",
    "                        \"system\":\"http://terminology.hl7.org/CodeSystem/observation-category\"\n",
    "                     }\n",
    "                  ]\n",
    "               }\n",
    "            ],\n",
    "            \"code\":{\n",
    "               \"coding\":[\n",
    "                  {\n",
    "                     \"code\":\"78033-8\",\n",
    "                     \"display\":\"Remaining Hospital Stay\",\n",
    "                     \"system\":\"http://loinc.org\"\n",
    "                  }\n",
    "               ],\n",
    "               \"text\":\"Remaining Hospital Stay\"\n",
    "            },\n",
    "            \"effectiveDateTime\":\"2024-01-28T18:06:33.245-05:00\",\n",
    "            \"issued\":\"2024-01-28T18:06:33.245-05:00\",\n",
    "            \"resourceType\":\"Observation\",\n",
    "            \"status\":\"final\",\n",
    "            \"valueQuantity\":{\n",
    "               \"code\":\"days\",\n",
    "               \"system\":\"https://www.nubc.org/CodeSystem/RevenueCodes\",\n",
    "               \"unit\":\"days\",\n",
    "               \"value\":4\n",
    "            },\n",
    "            \"subject\": {\n",
    "              \"reference\": \"Patient/58117110-ae47-452a-be2c-2d82b3a9e24b\"\n",
    "            },\n",
    "            \"identifier\": [\n",
    "            {\n",
    "              \"system\": \"urn:databricks\",\n",
    "              \"value\": \"1234567890\"\n",
    "            }\n",
    "          ]\n",
    "         }\n",
    "      },\n",
    "      {\n",
    "         \"resource\":{\n",
    "           \"resourceType\": \"Patient\",\n",
    "           \"identifier\": [\n",
    "            {\n",
    "              \"system\": \"urn:redox:health-one:MR\",\n",
    "              \"value\": \"0000991458\"\n",
    "            },\n",
    "            {\n",
    "              \"system\": \"http://hl7.org/fhir/sid/us-ssn\",\n",
    "              \"value\": \"547-01-9991\"\n",
    "            }\n",
    "          ]\n",
    "         }\n",
    "      }\n",
    "   ]\n",
    "}\n",
    "\"\"\""
   ]
  },
  {
   "cell_type": "code",
   "execution_count": 0,
   "metadata": {
    "application/vnd.databricks.v1+cell": {
     "cellMetadata": {
      "byteLimit": 2048000,
      "rowLimit": 10000
     },
     "inputWidgets": {},
     "nuid": "eb7f11f8-64b0-43c0-9807-64e25bb380f1",
     "showTitle": false,
     "tableResultSettingsMap": {},
     "title": ""
    }
   },
   "outputs": [],
   "source": [
    "result = rapi.make_request(\n",
    "  http_method=\"post\"\n",
    "  ,resource=\"Observation\"\n",
    "  ,action=\"$observation-create\"\n",
    "  ,data=observation\n",
    ")"
   ]
  },
  {
   "cell_type": "code",
   "execution_count": 0,
   "metadata": {
    "application/vnd.databricks.v1+cell": {
     "cellMetadata": {
      "byteLimit": 2048000,
      "rowLimit": 10000
     },
     "inputWidgets": {},
     "nuid": "605cdc1d-6140-4278-92b4-f7fb3ebfd8d9",
     "showTitle": false,
     "tableResultSettingsMap": {},
     "title": ""
    }
   },
   "outputs": [],
   "source": [
    "import json\n",
    "\n",
    "print(f\"Response Status Code: {result['response']['response_status_code']}\")\n",
    "print(\"\\n\")\n",
    "print(json.dumps(json.loads(result['response']['response_text']), indent=4))"
   ]
  },
  {
   "cell_type": "code",
   "execution_count": 0,
   "metadata": {
    "application/vnd.databricks.v1+cell": {
     "cellMetadata": {
      "byteLimit": 2048000,
      "rowLimit": 10000
     },
     "inputWidgets": {},
     "nuid": "0f534fcf-0ed3-4deb-947d-336884f935f2",
     "showTitle": false,
     "tableResultSettingsMap": {},
     "title": ""
    }
   },
   "outputs": [],
   "source": [
    "import mlflow\n",
    "# import base64\n",
    "# from databricks.sdk import WorkspaceClient\n",
    "from os import environ"
   ]
  },
  {
   "cell_type": "code",
   "execution_count": 0,
   "metadata": {
    "application/vnd.databricks.v1+cell": {
     "cellMetadata": {
      "byteLimit": 2048000,
      "rowLimit": 10000
     },
     "inputWidgets": {},
     "nuid": "85715d17-e84b-4403-aa54-7cf2f4b45a27",
     "showTitle": false,
     "tableResultSettingsMap": {},
     "title": ""
    }
   },
   "outputs": [],
   "source": [
    "# from databricks.sdk import WorkspaceClient\n",
    "# w = WorkspaceClient()\n",
    "# base64.b64decode(w.secrets.get_secret(scope = databricks_secret_scope, key = \"redox_private_key\").value).decode('utf-8')"
   ]
  },
  {
   "cell_type": "code",
   "execution_count": 0,
   "metadata": {
    "application/vnd.databricks.v1+cell": {
     "cellMetadata": {
      "byteLimit": 2048000,
      "rowLimit": 10000
     },
     "inputWidgets": {},
     "nuid": "a29b9de2-151a-43d3-b5c2-249d70c64582",
     "showTitle": false,
     "tableResultSettingsMap": {},
     "title": ""
    }
   },
   "outputs": [],
   "source": [
    "environ['REDOX_PRIVATE_KEY'] = redox_private_key\n",
    "environ['REDOX_CLIENT_ID'] = redox_client_id\n",
    "environ['REDOX_SOURCE_ID'] = redox_source_id\n",
    "environ['REDOX_PUBLIC_KID'] = redox_public_kid"
   ]
  },
  {
   "cell_type": "code",
   "execution_count": 0,
   "metadata": {
    "application/vnd.databricks.v1+cell": {
     "cellMetadata": {
      "byteLimit": 2048000,
      "rowLimit": 10000
     },
     "inputWidgets": {},
     "nuid": "ddeba32c-d470-499c-b8b3-c5e55c0b0a4b",
     "showTitle": false,
     "tableResultSettingsMap": {},
     "title": ""
    }
   },
   "outputs": [],
   "source": [
    "class RedoxMakeRequest(mlflow.pyfunc.PythonModel):\n",
    "    def __init__(self, base_url, redox_secret_scope):\n",
    "        self.base_url = base_url\n",
    "        self.redox_secret_scope = redox_secret_scope\n",
    "\n",
    "    def load_context(self, context):\n",
    "        import redoxwrite.auth\n",
    "        import redoxwrite.endpoint\n",
    "        # from base64 import b64decode\n",
    "        # from databricks.sdk import WorkspaceClient\n",
    "        # w = WorkspaceClient()\n",
    "        from os import environ\n",
    "        self.redox_private_key = environ['REDOX_PRIVATE_KEY']\n",
    "        self.redox_client_id = environ['REDOX_CLIENT_ID']\n",
    "        self.redox_source_id = environ['REDOX_SOURCE_ID']\n",
    "        self.redox_public_kid = environ['REDOX_PUBLIC_KID']\n",
    "        self.redox_auth_json = f\"\"\"\n",
    "                {{\n",
    "                \"kty\": \"RSA\",\n",
    "                \"kid\": \"{self.redox_public_kid}\",\n",
    "                \"alg\": \"RS384\",\n",
    "                \"use\": \"sig\"\n",
    "                }}\n",
    "            \"\"\"\n",
    "        self.auth = RedoxApiAuth(\n",
    "                self.redox_client_id\n",
    "                ,self.redox_private_key\n",
    "                ,self.redox_auth_json\n",
    "                ,self.redox_source_id\n",
    "            )\n",
    "        self.rapi = RedoxApiRequest(self.auth, base_url = self.base_url)\n",
    "    \n",
    "    def predict(self, context, model_input, params = None): \n",
    "        results = []\n",
    "        # Apply the self.rapi.make_request function to each row of the DataFrame\n",
    "        # Assumes that the model input contains the following columns:\n",
    "            # http_method, resource, action, data where data is a value FHIR payload\n",
    "        # Convert Pandas DF to string.\n",
    "        for row in model_input.itertuples(index=False):\n",
    "            result = self.rapi.make_request(\n",
    "                http_method=row.http_method\n",
    "                ,resource=row.resource\n",
    "                ,action=row.action\n",
    "                ,data=row.data\n",
    "            )\n",
    "            respone_text = result['response']['response_text']\n",
    "            results.append(respone_text)\n",
    "        return results"
   ]
  },
  {
   "cell_type": "code",
   "execution_count": 0,
   "metadata": {
    "application/vnd.databricks.v1+cell": {
     "cellMetadata": {
      "byteLimit": 2048000,
      "rowLimit": 10000
     },
     "inputWidgets": {},
     "nuid": "b4a3d247-bad3-4e03-aff8-4baff67cf26a",
     "showTitle": false,
     "tableResultSettingsMap": {},
     "title": ""
    }
   },
   "outputs": [],
   "source": [
    "import pandas as pd\n",
    "\n",
    "df = pd.DataFrame({\"http_method\": [\"post\", \"post\"], \"resource\": [\"Observation\", \"DiagnosticReport\"], \"action\": [\"$observation-create\", \"_search\"], \"data\": [observation, \"subject=Patient/81c2f5eb-f99f-40c4-b504-59483e6148d7'\"]})\n",
    "df"
   ]
  },
  {
   "cell_type": "code",
   "execution_count": 0,
   "metadata": {
    "application/vnd.databricks.v1+cell": {
     "cellMetadata": {
      "byteLimit": 2048000,
      "rowLimit": 10000
     },
     "inputWidgets": {},
     "nuid": "60fa83ce-568e-45b4-9f30-f35507052a22",
     "showTitle": false,
     "tableResultSettingsMap": {},
     "title": ""
    }
   },
   "outputs": [],
   "source": [
    "signature = mlflow.models.infer_signature(df, [\"redox_make_request\"])\n",
    "signature"
   ]
  },
  {
   "cell_type": "code",
   "execution_count": 0,
   "metadata": {
    "application/vnd.databricks.v1+cell": {
     "cellMetadata": {
      "byteLimit": 2048000,
      "rowLimit": 10000
     },
     "inputWidgets": {},
     "nuid": "c99e3882-ef71-4c5e-9659-c7983929b03f",
     "showTitle": false,
     "tableResultSettingsMap": {},
     "title": ""
    }
   },
   "outputs": [],
   "source": [
    "conda_env = mlflow.pyfunc.get_default_conda_env()\n",
    "conda_env[\"dependencies\"][-1][\"pip\"].append(\"git+https://github.com/databricks-industry-solutions/redox-ehr-api\")\n",
    "# conda_env[\"dependencies\"][-1][\"pip\"].append(\"databricks-sdk\")\n",
    "conda_env[\"dependencies\"][-1][\"pip\"].append(\"pyjwt\")\n",
    "conda_env[\"dependencies\"][-1][\"pip\"].append(\"cryptography\")\n",
    "print(conda_env)"
   ]
  },
  {
   "cell_type": "code",
   "execution_count": 0,
   "metadata": {
    "application/vnd.databricks.v1+cell": {
     "cellMetadata": {
      "byteLimit": 2048000,
      "rowLimit": 10000
     },
     "inputWidgets": {},
     "nuid": "d837686d-ee98-453f-b9d1-ee63e3fdb9dd",
     "showTitle": false,
     "tableResultSettingsMap": {},
     "title": ""
    }
   },
   "outputs": [],
   "source": [
    "with mlflow.start_run():\n",
    "\n",
    "    # Ensure the standard python libraries and the redox-ehr-api classed and methods are installed in the conda environment\n",
    "    conda_env = mlflow.pyfunc.get_default_conda_env()\n",
    "    conda_env[\"dependencies\"][-1][\"pip\"].append(\"git+https://github.com/databricks-industry-solutions/redox-ehr-api\")\n",
    "    # conda_env[\"dependencies\"][-1][\"pip\"].append(\"databricks-sdk\")\n",
    "    conda_env[\"dependencies\"][-1][\"pip\"].append(\"pyjwt\")\n",
    "    conda_env[\"dependencies\"][-1][\"pip\"].append(\"cryptography\")\n",
    "    \n",
    "    mlflow.pyfunc.log_model(\n",
    "        artifact_path=\"model\"\n",
    "        ,python_model=RedoxMakeRequest(\n",
    "            base_url=redox_base_url\n",
    "            ,redox_secret_scope=databricks_secret_scope\n",
    "        )\n",
    "        ,signature=signature\n",
    "        ,conda_env=conda_env\n",
    "    )\n",
    " \n",
    "    run_id = mlflow.active_run().info.run_id"
   ]
  },
  {
   "cell_type": "code",
   "execution_count": 0,
   "metadata": {
    "application/vnd.databricks.v1+cell": {
     "cellMetadata": {
      "byteLimit": 2048000,
      "rowLimit": 10000
     },
     "inputWidgets": {},
     "nuid": "965b3317-3cf9-46e5-b8d5-e48b69583827",
     "showTitle": false,
     "tableResultSettingsMap": {},
     "title": ""
    }
   },
   "outputs": [],
   "source": [
    "logged_model = f\"runs:/{run_id}/model\"\n",
    "\n",
    "# Load model as a PyFuncModel.\n",
    "loaded_model = mlflow.pyfunc.load_model(logged_model)\n",
    "\n",
    "# Predict on a Pandas DataFrame.\n",
    "loaded_model.predict(df)"
   ]
  },
  {
   "cell_type": "code",
   "execution_count": 0,
   "metadata": {
    "application/vnd.databricks.v1+cell": {
     "cellMetadata": {
      "byteLimit": 2048000,
      "rowLimit": 10000
     },
     "inputWidgets": {},
     "nuid": "3331029a-fb36-44e2-8190-03a027769eae",
     "showTitle": false,
     "tableResultSettingsMap": {},
     "title": ""
    }
   },
   "outputs": [],
   "source": [
    "catalog = \"redox\"\n",
    "schema = \"himss25\"\n",
    "model_name = \"redox_make_request\"\n",
    "full_model_name = f\"{catalog}.{schema}.{model_name}\"\n",
    "\n",
    "mlflow.set_registry_uri(\"databricks-uc\")\n",
    "\n",
    "mlflow.register_model(f\"runs:/{run_id}/model\", full_model_name)"
   ]
  },
  {
   "cell_type": "code",
   "execution_count": 0,
   "metadata": {
    "application/vnd.databricks.v1+cell": {
     "cellMetadata": {
      "byteLimit": 2048000,
      "rowLimit": 10000
     },
     "inputWidgets": {},
     "nuid": "bcae0cb0-b564-451a-ade2-4079efad660d",
     "showTitle": false,
     "tableResultSettingsMap": {},
     "title": ""
    }
   },
   "outputs": [],
   "source": [
    "client = mlflow.MlflowClient()\n",
    "\n",
    "# Search for all versions of the model\n",
    "model_version_infos = client.search_model_versions(f\"name = '{full_model_name}'\")\n",
    "\n",
    "# Find the latest version\n",
    "latest_version = max([model_version_info.version for model_version_info in model_version_infos])\n",
    "print(f\"\"\"\n",
    "    The latest version of the model {full_model_name} in Unity Catalog is version {latest_version}.\n",
    "\"\"\")"
   ]
  },
  {
   "cell_type": "code",
   "execution_count": 0,
   "metadata": {
    "application/vnd.databricks.v1+cell": {
     "cellMetadata": {
      "byteLimit": 2048000,
      "rowLimit": 10000
     },
     "inputWidgets": {},
     "nuid": "19fcdf2b-ad8a-44c9-adb4-f8126db8a209",
     "showTitle": false,
     "tableResultSettingsMap": {},
     "title": ""
    }
   },
   "outputs": [],
   "source": [
    "prior_model_version = client.get_model_version_by_alias(full_model_name, \"latest_version\")\n",
    "\n",
    "if prior_model_version.version != latest_version:\n",
    "    client.delete_registered_model_alias(full_model_name, \"latest_version\")\n",
    "\n",
    "# Create an alias for the model version\n",
    "client.set_registered_model_alias(full_model_name, \"latest_version\", latest_version)"
   ]
  },
  {
   "cell_type": "code",
   "execution_count": 0,
   "metadata": {
    "application/vnd.databricks.v1+cell": {
     "cellMetadata": {
      "byteLimit": 2048000,
      "rowLimit": 10000
     },
     "inputWidgets": {},
     "nuid": "24dc3245-5366-4b63-8255-61a7b9ea95b2",
     "showTitle": false,
     "tableResultSettingsMap": {},
     "title": ""
    }
   },
   "outputs": [],
   "source": [
    "# Load Unity Catalog model as a PyFuncModel.\n",
    "loaded_model = mlflow.pyfunc.load_model(f\"models:/{full_model_name}@latest_version\")\n",
    "\n",
    "# Predict on a Pandas DataFrame.\n",
    "loaded_model.predict(df)"
   ]
  },
  {
   "cell_type": "markdown",
   "metadata": {
    "application/vnd.databricks.v1+cell": {
     "cellMetadata": {},
     "inputWidgets": {},
     "nuid": "5246415c-7118-4eda-bfb9-e7299c36af39",
     "showTitle": false,
     "tableResultSettingsMap": {},
     "title": ""
    }
   },
   "source": [
    "Mnaually serve the model from Unity Catalog and Set Required Variables"
   ]
  },
  {
   "cell_type": "markdown",
   "metadata": {
    "application/vnd.databricks.v1+cell": {
     "cellMetadata": {},
     "inputWidgets": {},
     "nuid": "3c504bee-a138-462c-a499-89b34e307402",
     "showTitle": false,
     "tableResultSettingsMap": {},
     "title": ""
    }
   },
   "source": [
    "Browser Version:\n",
    "\n",
    "{\"dataframe_records\":[{\"http_method\":\"post\",\"resource\":\"Observation\",\"action\":\"$observation-create\",\"data\":\"\\n{\\n   \\\"resourceType\\\":\\\"Bundle\\\",\\n   \\\"entry\\\":[\\n      {\\n         \\\"resource\\\":{\\n            \\\"category\\\":[\\n               {\\n                  \\\"coding\\\":[\\n                     {\\n                        \\\"code\\\":\\\"survey\\\",\\n                        \\\"display\\\":\\\"Survey\\\",\\n                        \\\"system\\\":\\\"http://terminology.hl7.org/CodeSystem/observation-category\\\"\\n                     }\\n                  ]\\n               }\\n            ],\\n            \\\"code\\\":{\\n               \\\"coding\\\":[\\n                  {\\n                     \\\"code\\\":\\\"78033-8\\\",\\n                     \\\"display\\\":\\\"Remaining Hospital Stay\\\",\\n                     \\\"system\\\":\\\"http://loinc.org\\\"\\n                  }\\n               ],\\n               \\\"text\\\":\\\"Remaining Hospital Stay\\\"\\n            },\\n            \\\"effectiveDateTime\\\":\\\"2024-01-28T18:06:33.245-05:00\\\",\\n            \\\"issued\\\":\\\"2024-01-28T18:06:33.245-05:00\\\",\\n            \\\"resourceType\\\":\\\"Observation\\\",\\n            \\\"status\\\":\\\"final\\\",\\n            \\\"valueQuantity\\\":{\\n               \\\"code\\\":\\\"days\\\",\\n               \\\"system\\\":\\\"https://www.nubc.org/CodeSystem/RevenueCodes\\\",\\n               \\\"unit\\\":\\\"days\\\",\\n               \\\"value\\\":4\\n            },\\n            \\\"subject\\\": {\\n              \\\"reference\\\": \\\"Patient/58117110-ae47-452a-be2c-2d82b3a9e24b\\\"\\n            },\\n            \\\"identifier\\\": [\\n            {\\n              \\\"system\\\": \\\"urn:databricks\\\",\\n              \\\"value\\\": \\\"1234567890\\\"\\n            }\\n          ]\\n         }\\n      },\\n      {\\n         \\\"resource\\\":{\\n           \\\"resourceType\\\": \\\"Patient\\\",\\n           \\\"identifier\\\": [\\n            {\\n              \\\"system\\\": \\\"urn:redox:health-one:MR\\\",\\n              \\\"value\\\": \\\"0000991458\\\"\\n            },\\n            {\\n              \\\"system\\\": \\\"http://hl7.org/fhir/sid/us-ssn\\\",\\n              \\\"value\\\": \\\"547-01-9991\\\"\\n            }\\n          ]\\n         }\\n      }\\n   ]\\n}\\n\"}]}"
   ]
  }
 ],
 "metadata": {
  "application/vnd.databricks.v1+notebook": {
   "computePreferences": null,
   "dashboards": [],
   "environmentMetadata": {
    "base_environment": "",
    "environment_version": "2"
   },
   "language": "python",
   "notebookMetadata": {
    "mostRecentlyExecutedCommandWithImplicitDF": {
     "commandId": -1,
     "dataframes": [
      "_sqldf"
     ]
    },
    "pythonIndentUnit": 4
   },
   "notebookName": "Redox MLFlow Pyfunc",
   "widgets": {}
  },
  "language_info": {
   "name": "python"
  }
 },
 "nbformat": 4,
 "nbformat_minor": 0
}
