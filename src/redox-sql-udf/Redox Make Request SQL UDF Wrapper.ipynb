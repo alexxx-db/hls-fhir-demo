{
 "cells": [
  {
   "cell_type": "code",
   "execution_count": 0,
   "metadata": {
    "application/vnd.databricks.v1+cell": {
     "cellMetadata": {
      "byteLimit": 2048000,
      "rowLimit": 10000
     },
     "inputWidgets": {},
     "nuid": "5192ba84-83e5-45e2-b502-65cf1fc9136f",
     "showTitle": false,
     "tableResultSettingsMap": {},
     "title": ""
    }
   },
   "outputs": [],
   "source": [
    "USE redox.himss25;"
   ]
  },
  {
   "cell_type": "code",
   "execution_count": 0,
   "metadata": {
    "application/vnd.databricks.v1+cell": {
     "cellMetadata": {
      "byteLimit": 2048000,
      "rowLimit": 10000
     },
     "inputWidgets": {},
     "nuid": "c2b26471-9169-4d63-b0d9-30716ddba02b",
     "showTitle": true,
     "tableResultSettingsMap": {},
     "title": "Using AI Query Directly"
    }
   },
   "outputs": [],
   "source": [
    "SELECT parse_json(ai_query(\n",
    "  'redox_make_request',\n",
    "  request => named_struct(\n",
    "    'http_method', 'post'\n",
    "    ,'resource', 'Observation'\n",
    "    ,'action', '\\$observation-create'\n",
    "    ,'data', '\n",
    "{\n",
    "   \"resourceType\":\"Bundle\",\n",
    "   \"entry\":[\n",
    "      {\n",
    "         \"resource\":{\n",
    "            \"category\":[\n",
    "               {\n",
    "                  \"coding\":[\n",
    "                     {\n",
    "                        \"code\":\"survey\",\n",
    "                        \"display\":\"Survey\",\n",
    "                        \"system\":\"http://terminology.hl7.org/CodeSystem/observation-category\"\n",
    "                     }\n",
    "                  ]\n",
    "               }\n",
    "            ],\n",
    "            \"code\":{\n",
    "               \"coding\":[\n",
    "                  {\n",
    "                     \"code\":\"78033-8\",\n",
    "                     \"display\":\"Remaining Hospital Stay\",\n",
    "                     \"system\":\"http://loinc.org\"\n",
    "                  }\n",
    "               ],\n",
    "               \"text\":\"Remaining Hospital Stay\"\n",
    "            },\n",
    "            \"effectiveDateTime\":\"2024-01-28T18:06:33.245-05:00\",\n",
    "            \"issued\":\"2024-01-28T18:06:33.245-05:00\",\n",
    "            \"resourceType\":\"Observation\",\n",
    "            \"status\":\"final\",\n",
    "            \"valueQuantity\":{\n",
    "               \"code\":\"days\",\n",
    "               \"system\":\"https://www.nubc.org/CodeSystem/RevenueCodes\",\n",
    "               \"unit\":\"days\",\n",
    "               \"value\":4\n",
    "            },\n",
    "            \"subject\": {\n",
    "              \"reference\": \"Patient/58117110-ae47-452a-be2c-2d82b3a9e24b\"\n",
    "            },\n",
    "            \"identifier\": [\n",
    "            {\n",
    "              \"system\": \"urn:databricks\",\n",
    "              \"value\": \"1234567890\"\n",
    "            }\n",
    "          ]\n",
    "         }\n",
    "      },\n",
    "      {\n",
    "         \"resource\":{\n",
    "           \"resourceType\": \"Patient\",\n",
    "           \"identifier\": [\n",
    "            {\n",
    "              \"system\": \"urn:redox:health-one:MR\",\n",
    "              \"value\": \"0000991458\"\n",
    "            },\n",
    "            {\n",
    "              \"system\": \"http://hl7.org/fhir/sid/us-ssn\",\n",
    "              \"value\": \"547-01-9991\"\n",
    "            }\n",
    "          ]\n",
    "         }\n",
    "      }\n",
    "   ]\n",
    "}\n",
    "')\n",
    ",returnType => \"STRING\")) as result"
   ]
  },
  {
   "cell_type": "code",
   "execution_count": 0,
   "metadata": {
    "application/vnd.databricks.v1+cell": {
     "cellMetadata": {
      "byteLimit": 2048000,
      "rowLimit": 10000
     },
     "inputWidgets": {},
     "nuid": "1bbe60cf-3555-4ec1-90a7-ee8801513ab4",
     "showTitle": false,
     "tableResultSettingsMap": {},
     "title": ""
    }
   },
   "outputs": [],
   "source": [
    "CREATE OR REPLACE FUNCTION redox_request \n",
    "(\n",
    "  http_method STRING COMMENT \"The http method to invoke for the Redox Rest API. Typically 'post' or 'get'.\" \n",
    "  ,resource STRING COMMENT \"The Redox resource endpoint to use for the REST API. (Note including the base_url.)\" \n",
    "  ,action STRING COMMENT \"The Redox action to invoke for the resource. (e.g. For ClaimResponse, the action is <dollar_sign>respond.)\" \n",
    "  ,data STRING COMMENT \"The data to send to the Redox API. This is typically a JSON string but may be a base64 encoded string.\" \n",
    ")\n",
    "RETURNS VARIANT\n",
    "LANGUAGE SQL\n",
    "NOT DETERMINISTIC\n",
    "CONTAINS SQL\n",
    "COMMENT 'The response text from the Redox API Call.'\n",
    "RETURN try_parse_json(\n",
    "  ai_query(\n",
    "    endpoint => 'redox_make_request'\n",
    "    ,request => named_struct(\n",
    "      'http_method', http_method\n",
    "      ,'resource', resource\n",
    "      ,'action', action\n",
    "      ,'data', data\n",
    "    )\n",
    "    ,returnType => \"STRING\"\n",
    "  )\n",
    ");"
   ]
  },
  {
   "cell_type": "code",
   "execution_count": 0,
   "metadata": {
    "application/vnd.databricks.v1+cell": {
     "cellMetadata": {
      "byteLimit": 2048000,
      "rowLimit": 10000
     },
     "inputWidgets": {},
     "nuid": "a842a458-3a16-46ee-bddb-e410f6479a32",
     "showTitle": false,
     "tableResultSettingsMap": {},
     "title": ""
    }
   },
   "outputs": [],
   "source": [
    "with eg as (\n",
    "  SELECT\n",
    "    \"post\" as http_method\n",
    "    ,\"DiagnosticReport\" as resource\n",
    "    ,\"_search\" as action\n",
    "    ,\"subject=Patient/81c2f5eb-f99f-40c4-b504-59483e6148d7\" as data\n",
    ")\n",
    "SELECT\n",
    "  redox_request(\n",
    "    http_method\n",
    "    ,resource\n",
    "    ,action\n",
    "    ,data\n",
    "  )\n",
    "FROM \n",
    "  eg\n",
    ";"
   ]
  }
 ],
 "metadata": {
  "application/vnd.databricks.v1+notebook": {
   "computePreferences": null,
   "dashboards": [],
   "environmentMetadata": {
    "base_environment": "",
    "environment_version": "2"
   },
   "language": "sql",
   "notebookMetadata": {
    "pythonIndentUnit": 4
   },
   "notebookName": "Redox Make Request SQL UDF Wrapper",
   "widgets": {}
  },
  "language_info": {
   "name": "sql"
  }
 },
 "nbformat": 4,
 "nbformat_minor": 0
}
