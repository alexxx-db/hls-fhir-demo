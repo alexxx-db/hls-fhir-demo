{
 "cells": [
  {
   "cell_type": "code",
   "execution_count": 0,
   "metadata": {
    "application/vnd.databricks.v1+cell": {
     "cellMetadata": {
      "byteLimit": 2048000,
      "rowLimit": 10000
     },
     "inputWidgets": {},
     "nuid": "5192ba84-83e5-45e2-b502-65cf1fc9136f",
     "showTitle": false,
     "tableResultSettingsMap": {},
     "title": ""
    }
   },
   "outputs": [],
   "source": [
    "USE redox.hls_webinar_fy25q4;"
   ]
  },
  {
   "cell_type": "code",
   "execution_count": 0,
   "metadata": {
    "application/vnd.databricks.v1+cell": {
     "cellMetadata": {
      "byteLimit": 2048000,
      "rowLimit": 10000
     },
     "inputWidgets": {},
     "nuid": "1bbe60cf-3555-4ec1-90a7-ee8801513ab4",
     "showTitle": false,
     "tableResultSettingsMap": {},
     "title": ""
    }
   },
   "outputs": [],
   "source": [
    "CREATE OR REPLACE FUNCTION redox_request \n",
    "(\n",
    "  http_method STRING COMMENT \"The http method to invoke for the Redox Rest API. Typically 'post' or 'get'.\" \n",
    "  ,resource STRING COMMENT \"The Redox resource endpoint to use for the REST API. (Note including the base_url.)\" \n",
    "  ,action STRING COMMENT \"The Redox action to invoke for the resource. (e.g. For ClaimResponse, the action is <dollar_sign>respond.)\" \n",
    "  ,data STRING COMMENT \"The data to send to the Redox API. This is typically a JSON string but may be a base64 encoded string.\" \n",
    ")\n",
    "RETURNS STRING\n",
    "LANGUAGE SQL\n",
    "NOT DETERMINISTIC\n",
    "CONTAINS SQL\n",
    "COMMENT 'The response text from the Redox API Call.'\n",
    "RETURN ai_query(\n",
    "  endpoint => 'redox_make_request'\n",
    "  ,request => named_struct(\n",
    "    'http_method', http_method\n",
    "    ,'resource', resource\n",
    "    ,'action', action\n",
    "    ,'data', data\n",
    "  )\n",
    "  ,returnType => \"STRING\"\n",
    ");"
   ]
  },
  {
   "cell_type": "code",
   "execution_count": 0,
   "metadata": {
    "application/vnd.databricks.v1+cell": {
     "cellMetadata": {
      "byteLimit": 2048000,
      "rowLimit": 10000
     },
     "inputWidgets": {},
     "nuid": "a842a458-3a16-46ee-bddb-e410f6479a32",
     "showTitle": false,
     "tableResultSettingsMap": {},
     "title": ""
    }
   },
   "outputs": [],
   "source": [
    "with eg as (\n",
    "  SELECT\n",
    "    \"post\" as http_method\n",
    "    ,\"DiagnosticReport\" as resource\n",
    "    ,\"_search\" as action\n",
    "    ,\"subject=Patient/81c2f5eb-f99f-40c4-b504-59483e6148d7\" as data\n",
    ")\n",
    "SELECT\n",
    "  try_parse_json(redox_request(\n",
    "    http_method\n",
    "    ,resource\n",
    "    ,action\n",
    "    ,data\n",
    "  ))\n",
    "FROM \n",
    "  eg\n",
    ";"
   ]
  }
 ],
 "metadata": {
  "application/vnd.databricks.v1+notebook": {
   "computePreferences": null,
   "dashboards": [],
   "environmentMetadata": {
    "base_environment": "",
    "environment_version": "2"
   },
   "language": "sql",
   "notebookMetadata": {
    "pythonIndentUnit": 2
   },
   "notebookName": "2 - Redox Make Request SQL UDF Wrapper",
   "widgets": {}
  },
  "language_info": {
   "name": "sql"
  }
 },
 "nbformat": 4,
 "nbformat_minor": 0
}
