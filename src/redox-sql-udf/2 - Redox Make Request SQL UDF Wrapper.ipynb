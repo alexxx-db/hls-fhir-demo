{
 "cells": [
  {
   "cell_type": "markdown",
   "metadata": {
    "application/vnd.databricks.v1+cell": {
     "cellMetadata": {},
     "inputWidgets": {},
     "nuid": "4041acc0-bce9-46da-9023-3c037f7cabdf",
     "showTitle": false,
     "tableResultSettingsMap": {},
     "title": ""
    }
   },
   "source": [
    "*Note that this notebook is SQL and may be executed using a Servless SQL Warehouse* "
   ]
  },
  {
   "cell_type": "code",
   "execution_count": 0,
   "metadata": {
    "application/vnd.databricks.v1+cell": {
     "cellMetadata": {
      "byteLimit": 2048000,
      "rowLimit": 10000
     },
     "inputWidgets": {},
     "nuid": "a4e2ac32-2794-405e-b878-c5807b815e5d",
     "showTitle": true,
     "tableResultSettingsMap": {},
     "title": "Declare Variables for Catalog and Schema"
    }
   },
   "outputs": [],
   "source": [
    "DECLARE OR REPLACE VARIABLE catalog_use STRING DEFAULT 'redox';\n",
    "DECLARE OR REPLACE VARIABLE schema_use STRING DEFAULT 'hls_webinar_fy25q4';"
   ]
  },
  {
   "cell_type": "code",
   "execution_count": 0,
   "metadata": {
    "application/vnd.databricks.v1+cell": {
     "cellMetadata": {
      "byteLimit": 2048000,
      "rowLimit": 10000
     },
     "inputWidgets": {},
     "nuid": "ce587607-c259-44e5-815f-a737ad14d628",
     "showTitle": true,
     "tableResultSettingsMap": {},
     "title": "Set Variables Based on Input Parameters"
    }
   },
   "outputs": [],
   "source": [
    "SET VAR catalog_use = :catalog_use;\n",
    "SET VAR schema_use = :schema_use; "
   ]
  },
  {
   "cell_type": "code",
   "execution_count": 0,
   "metadata": {
    "application/vnd.databricks.v1+cell": {
     "cellMetadata": {
      "byteLimit": 2048000,
      "rowLimit": 10000
     },
     "inputWidgets": {},
     "nuid": "5192ba84-83e5-45e2-b502-65cf1fc9136f",
     "showTitle": true,
     "tableResultSettingsMap": {},
     "title": "Use Catalog and Schema"
    }
   },
   "outputs": [],
   "source": [
    "USE IDENTIFIER(catalog_use || '.' || schema_use);\n",
    "SELECT current_catalog(), current_schema();"
   ]
  },
  {
   "cell_type": "code",
   "execution_count": 0,
   "metadata": {
    "application/vnd.databricks.v1+cell": {
     "cellMetadata": {
      "byteLimit": 2048000,
      "rowLimit": 10000
     },
     "inputWidgets": {},
     "nuid": "1bbe60cf-3555-4ec1-90a7-ee8801513ab4",
     "showTitle": true,
     "tableResultSettingsMap": {},
     "title": "Create SQL UDF in Unity Catalog the Wraps Around AI Query and the 'redox_make_request' Served Endpoint"
    }
   },
   "outputs": [],
   "source": [
    "CREATE OR REPLACE FUNCTION redox_request \n",
    "(\n",
    "  http_method STRING COMMENT \"The http method to invoke for the Redox Rest API. Typically 'post' or 'get'.\" \n",
    "  ,resource STRING COMMENT \"The Redox resource endpoint to use for the REST API. (Note including the base_url.)\" \n",
    "  ,action STRING COMMENT \"The Redox action to invoke for the resource. (e.g. For ClaimResponse, the action is <dollar_sign>respond.)\" \n",
    "  ,data STRING COMMENT \"The data to send to the Redox API. This is typically a JSON string but may be a base64 encoded string.\" \n",
    ")\n",
    "RETURNS STRING\n",
    "LANGUAGE SQL\n",
    "NOT DETERMINISTIC\n",
    "CONTAINS SQL\n",
    "COMMENT 'The response text from the Redox API Call.'\n",
    "RETURN ai_query(\n",
    "  endpoint => 'redox_make_request'\n",
    "  ,request => named_struct(\n",
    "    'http_method', http_method\n",
    "    ,'resource', resource\n",
    "    ,'action', action\n",
    "    ,'data', data\n",
    "  )\n",
    "  ,returnType => \"STRING\"\n",
    ");"
   ]
  },
  {
   "cell_type": "code",
   "execution_count": 0,
   "metadata": {
    "application/vnd.databricks.v1+cell": {
     "cellMetadata": {
      "byteLimit": 2048000,
      "rowLimit": 10000
     },
     "inputWidgets": {},
     "nuid": "a842a458-3a16-46ee-bddb-e410f6479a32",
     "showTitle": true,
     "tableResultSettingsMap": {},
     "title": "Test the New Function"
    }
   },
   "outputs": [],
   "source": [
    "with eg as (\n",
    "  SELECT\n",
    "    \"post\" as http_method\n",
    "    ,\"DiagnosticReport\" as resource\n",
    "    ,\"_search\" as action\n",
    "    ,\"subject=Patient/81c2f5eb-f99f-40c4-b504-59483e6148d7\" as data\n",
    ")\n",
    ",response as (\n",
    "  SELECT\n",
    "    try_parse_json(redox_request(\n",
    "    http_method\n",
    "    ,resource\n",
    "    ,action\n",
    "    ,data\n",
    "  )) as response\n",
    "FROM \n",
    "  eg\n",
    ")\n",
    "SELECT\n",
    "  entry.value:fullUrl::string as fullUrl\n",
    "  ,entry.value:resource.based_on\n",
    "  ,entry.value:resource.code\n",
    "  ,entry.value:resource.encounter.reference::string as encounter_url\n",
    "  ,entry.value:resource.id::string as diagnostic_report_id\n",
    "  ,entry.value:resource.issued::timestamp as issued\n",
    "  ,entry.value:resource.meta\n",
    "  ,presentedForm.value:contentType::string as content_type\n",
    "  ,presentedForm.value:creation::timestamp as creation\n",
    "  ,unbase64(presentedForm.value:data::string)::string as diagnostic_report\n",
    "FROM \n",
    "  response \n",
    "  ,LATERAL variant_explode(response:entry) as entry\n",
    "  ,LATERAL variant_explode(entry.value:resource.presentedForm) as presentedForm\n",
    ";"
   ]
  }
 ],
 "metadata": {
  "application/vnd.databricks.v1+notebook": {
   "computePreferences": null,
   "dashboards": [],
   "environmentMetadata": {
    "base_environment": "",
    "environment_version": "2"
   },
   "inputWidgetPreferences": null,
   "language": "sql",
   "notebookMetadata": {
    "pythonIndentUnit": 4
   },
   "notebookName": "2 - Redox Make Request SQL UDF Wrapper",
   "widgets": {
    "catalog_use": {
     "currentValue": "fhir_workshop",
     "nuid": "7106aaa1-415b-4fe7-98a8-5949a3e9d152",
     "typedWidgetInfo": {
      "autoCreated": false,
      "defaultValue": "redox",
      "label": "",
      "name": "catalog_use",
      "options": {
       "widgetDisplayType": "Text",
       "validationRegex": null
      },
      "parameterDataType": "String"
     },
     "widgetInfo": {
      "widgetType": "text",
      "defaultValue": "redox",
      "label": "",
      "name": "catalog_use",
      "options": {
       "widgetType": "text",
       "autoCreated": false,
       "validationRegex": null
      }
     }
    },
    "schema_use": {
     "currentValue": "synthea",
     "nuid": "11bc143d-6c97-4798-ae50-6beb8ec38972",
     "typedWidgetInfo": {
      "autoCreated": false,
      "defaultValue": "hls_webinar_fy25q4",
      "label": "",
      "name": "schema_use",
      "options": {
       "widgetDisplayType": "Text",
       "validationRegex": null
      },
      "parameterDataType": "String"
     },
     "widgetInfo": {
      "widgetType": "text",
      "defaultValue": "hls_webinar_fy25q4",
      "label": "",
      "name": "schema_use",
      "options": {
       "widgetType": "text",
       "autoCreated": false,
       "validationRegex": null
      }
     }
    }
   }
  },
  "language_info": {
   "name": "sql"
  }
 },
 "nbformat": 4,
 "nbformat_minor": 0
}
