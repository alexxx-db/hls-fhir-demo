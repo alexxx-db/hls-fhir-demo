{
 "cells": [
  {
   "cell_type": "code",
   "execution_count": 0,
   "metadata": {
    "application/vnd.databricks.v1+cell": {
     "cellMetadata": {
      "byteLimit": 2048000,
      "rowLimit": 10000
     },
     "inputWidgets": {},
     "nuid": "254c0f61-9ef5-45a9-8a64-c66279a667b6",
     "showTitle": false,
     "tableResultSettingsMap": {},
     "title": ""
    }
   },
   "outputs": [],
   "source": [
    "%load_ext autoreload\n",
    "%autoreload 2\n",
    "# Enables autoreload; learn more at https://docs.databricks.com/en/files/workspace-modules.html#autoreload-for-python-modules\n",
    "# To disable autoreload; run %autoreload 0"
   ]
  },
  {
   "cell_type": "code",
   "execution_count": 0,
   "metadata": {
    "application/vnd.databricks.v1+cell": {
     "cellMetadata": {
      "byteLimit": 2048000,
      "rowLimit": 10000
     },
     "inputWidgets": {},
     "nuid": "7f26380d-e6e1-4320-9f89-5d889a555c8c",
     "showTitle": false,
     "tableResultSettingsMap": {},
     "title": ""
    }
   },
   "outputs": [],
   "source": [
    "%pip install git+https://github.com/databrickslabs/dbignite.git"
   ]
  },
  {
   "cell_type": "code",
   "execution_count": 0,
   "metadata": {
    "application/vnd.databricks.v1+cell": {
     "cellMetadata": {
      "byteLimit": 2048000,
      "rowLimit": 10000
     },
     "inputWidgets": {},
     "nuid": "74f7e87a-bc24-4b8e-8b45-915dd3c06b2a",
     "showTitle": false,
     "tableResultSettingsMap": {},
     "title": ""
    }
   },
   "outputs": [],
   "source": [
    "%restart_python"
   ]
  },
  {
   "cell_type": "code",
   "execution_count": 0,
   "metadata": {
    "application/vnd.databricks.v1+cell": {
     "cellMetadata": {
      "byteLimit": 2048000,
      "rowLimit": 10000
     },
     "inputWidgets": {},
     "nuid": "fc8fb719-8eac-48c3-9412-8a744e922136",
     "showTitle": true,
     "tableResultSettingsMap": {},
     "title": "Input Parameters"
    }
   },
   "outputs": [],
   "source": [
    "# Databricks Secret Scope for the Run-As User\n",
    "dbutils.widgets.text(\n",
    "  \"databricks_secret_scope\"\n",
    "  ,spark.sql(\"select current_user()\").collect()[0][0].split(sep=\"@\")[0].replace(\".\", \"-\")\n",
    "  ,\"User's Personal DB Secrets Scope\"\n",
    ")\n",
    "\n",
    "# Databricks Secret Key for the GitHub PAT in the User's Scope\n",
    "dbutils.widgets.text(\n",
    "  \"github_token_secret_key\"\n",
    "  ,\"gh_pat\"\n",
    "  ,\"GitHub Token DB Secret Key\"\n",
    ")\n",
    "\n",
    "# Run-As User's GitHub User Name\n",
    "dbutils.widgets.text(\n",
    "  \"github_username\"\n",
    "  ,spark.sql(\"select current_user()\").collect()[0][0]\n",
    "  ,\"User's Personal GitHub Username\"\n",
    ")"
   ]
  },
  {
   "cell_type": "code",
   "execution_count": 0,
   "metadata": {
    "application/vnd.databricks.v1+cell": {
     "cellMetadata": {
      "byteLimit": 2048000,
      "rowLimit": 10000
     },
     "inputWidgets": {},
     "nuid": "fcc9a9e9-d917-4895-9f60-3078f52f3765",
     "showTitle": false,
     "tableResultSettingsMap": {},
     "title": ""
    }
   },
   "outputs": [],
   "source": [
    "\n",
    "from urllib.parse import quote\n",
    "\n",
    "github_username = quote(dbutils.widgets.get(\"github_username\"))\n",
    "github_token = quote(dbutils.secrets.get(scope = dbutils.widgets.get(\"databricks_secret_scope\"), key = dbutils.widgets.get(\"github_token_secret_key\")))\n",
    "\n",
    "print(f\"\"\"\n",
    "   github_username: {github_username}\n",
    "   github_token: {github_token}   \n",
    "\"\"\")"
   ]
  },
  {
   "cell_type": "markdown",
   "metadata": {
    "application/vnd.databricks.v1+cell": {
     "cellMetadata": {
      "byteLimit": 2048000,
      "rowLimit": 10000
     },
     "inputWidgets": {},
     "nuid": "09ebed7c-ea7c-442c-9b39-25e3d0806770",
     "showTitle": false,
     "tableResultSettingsMap": {},
     "title": ""
    }
   },
   "source": [
    "## Connect to Redox"
   ]
  },
  {
   "cell_type": "code",
   "execution_count": 0,
   "metadata": {
    "application/vnd.databricks.v1+cell": {
     "cellMetadata": {
      "byteLimit": 2048000,
      "rowLimit": 10000
     },
     "inputWidgets": {},
     "nuid": "dbff19f2-2a76-4778-81bf-1e0a976f2825",
     "showTitle": true,
     "tableResultSettingsMap": {},
     "title": "Retrieve Redox API Secret Values"
    }
   },
   "outputs": [],
   "source": [
    "redox_private_key = dbutils.secrets.get(scope = dbutils.widgets.get(\"databricks_secret_scope\"), key = \"redox_private_key\")\n",
    "redox_client_id = dbutils.secrets.get(scope = dbutils.widgets.get(\"databricks_secret_scope\"), key = \"redox_client_id\")\n",
    "# redox_source_id = dbutils.secrets.get(scope = dbutils.widgets.get(\"databricks_secret_scope\"), key = \"redox_source_id\")\n",
    "redox_source_id = \"91b0ab2f-7b86-441d-9cbf-9b9a6d648d59\"\n",
    "redox_public_kid = dbutils.secrets.get(scope = dbutils.widgets.get(\"databricks_secret_scope\"), key = \"redox_kid\")\n",
    "\n",
    "print(f\"\"\" \n",
    "      redox_private_key: {redox_private_key}\n",
    "      redox_client_id: {redox_client_id}\n",
    "      redox_source_id: {redox_source_id}\n",
    "      redox_public_kid: {redox_public_kid}\n",
    "\"\"\")"
   ]
  },
  {
   "cell_type": "code",
   "execution_count": 0,
   "metadata": {
    "application/vnd.databricks.v1+cell": {
     "cellMetadata": {
      "byteLimit": 2048000,
      "rowLimit": 10000
     },
     "inputWidgets": {},
     "nuid": "3029d500-e4d9-4b28-bf39-17267f7cb13d",
     "showTitle": true,
     "tableResultSettingsMap": {},
     "title": "Credentials Setup"
    }
   },
   "outputs": [],
   "source": [
    "import json\n",
    "\n",
    "redox_auth_json = f\"\"\"\n",
    "{{\n",
    "  \"kty\": \"RSA\",\n",
    "  \"kid\": \"{redox_public_kid}\",\n",
    "  \"alg\": \"RS384\",\n",
    "  \"use\": \"sig\"\n",
    "}}\n",
    "\"\"\"\n",
    "\n",
    "json.loads(redox_auth_json)"
   ]
  },
  {
   "cell_type": "code",
   "execution_count": 0,
   "metadata": {
    "application/vnd.databricks.v1+cell": {
     "cellMetadata": {
      "byteLimit": 2048000,
      "rowLimit": 10000
     },
     "inputWidgets": {},
     "nuid": "aeb2c632-e117-4de7-854b-92d1dd5f1968",
     "showTitle": true,
     "tableResultSettingsMap": {},
     "title": "Check Redox API Connection"
    }
   },
   "outputs": [],
   "source": [
    "from redoxwrite.auth import * \n",
    "from redoxwrite.endpoint import *\n",
    "\n",
    "auth = RedoxApiAuth(\n",
    "  redox_client_id\n",
    "  ,redox_private_key\n",
    "  ,redox_auth_json\n",
    "  ,redox_source_id\n",
    ")\n",
    "print(\"Is connection successful? \" + str(auth.can_connect()))"
   ]
  },
  {
   "cell_type": "code",
   "execution_count": 0,
   "metadata": {
    "application/vnd.databricks.v1+cell": {
     "cellMetadata": {
      "byteLimit": 2048000,
      "rowLimit": 10000
     },
     "inputWidgets": {},
     "nuid": "f20db2c3-c6c4-435b-b2fc-4e39d2e71db4",
     "showTitle": true,
     "tableResultSettingsMap": {},
     "title": "Create API Endpoint"
    }
   },
   "outputs": [],
   "source": [
    "#All Redox FHIR request URLs start with this base: https://api.redoxengine.com/fhir/R4/[organization-name]/[environment-type]/\n",
    "redox_base_url = 'https://api.redoxengine.com/fhir/R4/redox-fhir-sandbox/Development/'\n",
    "\n",
    "rapi = RedoxApiRequest(auth, base_url = redox_base_url)"
   ]
  },
  {
   "cell_type": "code",
   "execution_count": 0,
   "metadata": {
    "application/vnd.databricks.v1+cell": {
     "cellMetadata": {
      "byteLimit": 2048000,
      "rowLimit": 10000
     },
     "inputWidgets": {},
     "nuid": "f4a930a0-46fb-4c8a-b0c5-78c95e26d9f2",
     "showTitle": false,
     "tableResultSettingsMap": {},
     "title": ""
    }
   },
   "outputs": [],
   "source": [
    "result = rapi.make_request(\"post\", resource=\"Patient\", action=\"_search\", data = \"{'identifier' : 'urn:redox:redox-fhir-sandbox:MR|kyHGADnvX3xbkU4V9ayaqh'}\")"
   ]
  },
  {
   "cell_type": "code",
   "execution_count": 0,
   "metadata": {
    "application/vnd.databricks.v1+cell": {
     "cellMetadata": {
      "byteLimit": 2048000,
      "rowLimit": 10000
     },
     "inputWidgets": {},
     "nuid": "136e8cbc-0ab0-4948-8a14-66c6c71fb5cd",
     "showTitle": false,
     "tableResultSettingsMap": {},
     "title": ""
    }
   },
   "outputs": [],
   "source": [
    "if result['response']['response_status_code'] != 200:\n",
    "  print(\"Failed to update the patient information\")\n",
    "print(json.dumps(json.loads(result['response']['response_text']), indent=2))"
   ]
  },
  {
   "cell_type": "code",
   "execution_count": 0,
   "metadata": {
    "application/vnd.databricks.v1+cell": {
     "cellMetadata": {
      "byteLimit": 2048000,
      "rowLimit": 10000
     },
     "inputWidgets": {},
     "nuid": "e626875f-0102-408d-b66e-d44302091b93",
     "showTitle": false,
     "tableResultSettingsMap": {},
     "title": ""
    }
   },
   "outputs": [],
   "source": [
    "# approved_service = \"\"\"\n",
    "# {\n",
    "#   \"id\": \"RedoxClaimResponseBundleComprehensiveExample\",\n",
    "#   \"type\": \"collection\",\n",
    "#   \"entry\": [\n",
    "#     {\n",
    "#       \"resource\": {\n",
    "#         \"id\": \"RedoxPAClaimResponseExample\",\n",
    "#         \"use\": \"preauthorization\",\n",
    "#         \"item\": [\n",
    "#           {\n",
    "#             \"extension\": [\n",
    "#               {\n",
    "#                 \"url\": \"http://hl7.org/fhir/us/davinci-pas/StructureDefinition/extension-administrationReferenceNumber\",\n",
    "#                 \"valueString\": \"REF456\"\n",
    "#               },\n",
    "#               {\n",
    "#                 \"url\": \"http://hl7.org/fhir/us/davinci-pas/StructureDefinition/extension-itemPreAuthIssueDate\",\n",
    "#                 \"valueDate\": \"2021-08-23\"\n",
    "#               },\n",
    "#               {\n",
    "#                 \"url\": \"http://hl7.org/fhir/us/davinci-pas/StructureDefinition/extension-itemPreAuthPeriod\",\n",
    "#                 \"valuePeriod\": {\n",
    "#                   \"end\": \"2021-09-23\",\n",
    "#                   \"start\": \"2021-08-23\"\n",
    "#                 }\n",
    "#               },\n",
    "#               {\n",
    "#                 \"url\": \"http://hl7.org/fhir/us/davinci-pas/StructureDefinition/extension-itemTraceNumber\",\n",
    "#                 \"valueIdentifier\": {\n",
    "#                   \"value\": \"23462346\"\n",
    "#                 }\n",
    "#               },\n",
    "#               {\n",
    "#                 \"url\": \"http://hl7.org/fhir/us/davinci-pas/StructureDefinition/extension-itemAuthorizedDetail\",\n",
    "#                 \"extension\": [\n",
    "#                   {\n",
    "#                     \"url\": \"productOrServiceCode\",\n",
    "#                     \"valueCodeableConcept\": {\n",
    "#                       \"text\": \"Right heart catheterization\",\n",
    "#                       \"coding\": [\n",
    "#                         {\n",
    "#                           \"code\": \"93451\",\n",
    "#                           \"system\": \"http://www.ama-assn.org/go/cpt\"\n",
    "#                         }\n",
    "#                       ]\n",
    "#                     }\n",
    "#                   },\n",
    "#                   {\n",
    "#                     \"url\": \"quantity\",\n",
    "#                     \"valueQuantity\": {\n",
    "#                       \"value\": 1\n",
    "#                     }\n",
    "#                   },\n",
    "#                   {\n",
    "#                     \"url\": \"unitPrice\",\n",
    "#                     \"valueMoney\": {\n",
    "#                       \"value\": 4966,\n",
    "#                       \"currency\": \"USD\"\n",
    "#                     }\n",
    "#                   }\n",
    "#                 ]\n",
    "#               }\n",
    "#             ],\n",
    "#             \"adjudication\": [\n",
    "#               {\n",
    "#                 \"category\": {\n",
    "#                   \"coding\": [\n",
    "#                     {\n",
    "#                       \"code\": \"submitted\",\n",
    "#                       \"system\": \"http://terminology.hl7.org/CodeSystem/adjudication\"\n",
    "#                     }\n",
    "#                   ]\n",
    "#                 },\n",
    "#                 \"extension\": [\n",
    "#                   {\n",
    "#                     \"url\": \"http://hl7.org/fhir/us/davinci-pas/StructureDefinition/extension-reviewAction\",\n",
    "#                     \"extension\": [\n",
    "#                       {\n",
    "#                         \"url\": \"http://hl7.org/fhir/us/davinci-pas/StructureDefinition/extension-reviewActionCode\",\n",
    "#                         \"valueCodeableConcept\": {\n",
    "#                           \"coding\": [\n",
    "#                             {\n",
    "#                               \"code\": \"A1\",\n",
    "#                               \"system\": \"https://codesystem.x12.org/005010/306\",\n",
    "#                               \"display\": \"Certified in total\"\n",
    "#                             }\n",
    "#                           ]\n",
    "#                         }\n",
    "#                       },\n",
    "#                       {\n",
    "#                         \"url\": \"number\",\n",
    "#                         \"valueString\": \"AUTH1001\"\n",
    "#                       }\n",
    "#                     ]\n",
    "#                   }\n",
    "#                 ]\n",
    "#               }\n",
    "#             ],\n",
    "#             \"itemSequence\": 1\n",
    "#           }\n",
    "#         ],\n",
    "#         \"type\": {\n",
    "#           \"coding\": [\n",
    "#             {\n",
    "#               \"code\": \"professional\",\n",
    "#               \"system\": \"http://terminology.hl7.org/CodeSystem/claim-type\"\n",
    "#             }\n",
    "#           ]\n",
    "#         },\n",
    "#         \"status\": \"active\",\n",
    "#         \"created\": \"2021-08-23T16:35:54.648Z\",\n",
    "#         \"insurer\": {\n",
    "#           \"reference\": \"Organization/RedoxPAInsurerOrganizationExample\"\n",
    "#         },\n",
    "#         \"outcome\": \"complete\",\n",
    "#         \"patient\": {\n",
    "#           \"reference\": \"Patient/RedoxPABeneficiaryExample\"\n",
    "#         },\n",
    "#         \"request\": {\n",
    "#           \"reference\": \"Claim/RedoxPAServiceClaimExample\",\n",
    "#           \"identifier\": {\n",
    "#             \"type\": {\n",
    "#               \"coding\": [\n",
    "#                 {\n",
    "#                   \"code\": \"ClaimID\"\n",
    "#                 }\n",
    "#               ]\n",
    "#             },\n",
    "#             \"value\": \"urn:uuid:97b8d6d0-ac3d-411a-b32a-e1d237aceb6a\"\n",
    "#           }\n",
    "#         },\n",
    "#         \"requestor\": {\n",
    "#           \"reference\": \"Organization/RedoxPARequestorOrganizationExample\"\n",
    "#         },\n",
    "#         \"processNote\": [\n",
    "#           {\n",
    "#             \"text\": \"Covered under extended benefits\"\n",
    "#           }\n",
    "#         ],\n",
    "#         \"resourceType\": \"ClaimResponse\"\n",
    "#       }\n",
    "#     },\n",
    "#     {\n",
    "#       \"resource\": {\n",
    "#         \"id\": \"RedoxPABeneficiaryExample\",\n",
    "#         \"name\": [\n",
    "#           {\n",
    "#             \"given\": [\n",
    "#               \"Timothy\",\n",
    "#               \"Paul\"\n",
    "#             ],\n",
    "#             \"family\": \"Bixby\"\n",
    "#           }\n",
    "#         ],\n",
    "#         \"gender\": \"male\",\n",
    "#         \"birthDate\": \"2008-01-06\",\n",
    "#         \"identifier\": [\n",
    "#           {\n",
    "#             \"value\": \"M23462346\",\n",
    "#             \"system\": \"urn:redox:MRN\"\n",
    "#           }\n",
    "#         ],\n",
    "#         \"resourceType\": \"Patient\"\n",
    "#       }\n",
    "#     },\n",
    "#     {\n",
    "#       \"resource\": {\n",
    "#         \"id\": \"RedoxPACoverageWithRelatedSubscriberExample\",\n",
    "#         \"class\": [\n",
    "#           {\n",
    "#             \"type\": {\n",
    "#               \"coding\": [\n",
    "#                 {\n",
    "#                   \"code\": \"group\",\n",
    "#                   \"system\": \"http://terminology.hl7.org/CodeSystem/coverage-class\"\n",
    "#                 }\n",
    "#               ]\n",
    "#             },\n",
    "#             \"value\": \"GRP2245\"\n",
    "#           }\n",
    "#         ],\n",
    "#         \"payor\": [\n",
    "#           {\n",
    "#             \"reference\": \"Organization/RedoxPAInsurerOrganizationExample\"\n",
    "#           }\n",
    "#         ],\n",
    "#         \"status\": \"active\",\n",
    "#         \"subscriber\": {\n",
    "#           \"reference\": \"RelatedPerson/RedoxPASubscriberExample\"\n",
    "#         },\n",
    "#         \"beneficiary\": {\n",
    "#           \"reference\": \"Patient/RedoxPABeneficiaryExample\"\n",
    "#         },\n",
    "#         \"resourceType\": \"Coverage\",\n",
    "#         \"subscriberId\": \"M2346623\"\n",
    "#       }\n",
    "#     },\n",
    "#     {\n",
    "#       \"resource\": {\n",
    "#         \"id\": \"RedoxPARequestorOrganizationExample\",\n",
    "#         \"name\": \"Good Health Clinics\",\n",
    "#         \"active\": true,\n",
    "#         \"address\": [\n",
    "#           {\n",
    "#             \"city\": \"Madison\",\n",
    "#             \"line\": [\n",
    "#               \"123 Main St.\"\n",
    "#             ],\n",
    "#             \"state\": \"WI\",\n",
    "#             \"country\": \"USA\",\n",
    "#             \"district\": \"Dane\",\n",
    "#             \"postalCode\": \"53703\"\n",
    "#           }\n",
    "#         ],\n",
    "#         \"resourceType\": \"Organization\"\n",
    "#       }\n",
    "#     },\n",
    "#     {\n",
    "#       \"resource\": {\n",
    "#         \"id\": \"RedoxPAInsurerOrganizationExample\",\n",
    "#         \"name\": \"Aetna\",\n",
    "#         \"active\": true,\n",
    "#         \"address\": [\n",
    "#           {\n",
    "#             \"city\": \"Lexington\",\n",
    "#             \"line\": [\n",
    "#               \"PO Box 14080\"\n",
    "#             ],\n",
    "#             \"state\": \"KY\",\n",
    "#             \"country\": \"USA\",\n",
    "#             \"district\": \"Fayette\",\n",
    "#             \"postalCode\": \"40512-4079\"\n",
    "#           }\n",
    "#         ],\n",
    "#         \"resourceType\": \"Organization\"\n",
    "#       }\n",
    "#     },\n",
    "#     {\n",
    "#       \"resource\": {\n",
    "#         \"id\": \"RedoxPAPractitionerRoleExamplePat\",\n",
    "#         \"location\": [\n",
    "#           {\n",
    "#             \"display\": \"1st Street Family Clinic\"\n",
    "#           }\n",
    "#         ],\n",
    "#         \"specialty\": [\n",
    "#           {\n",
    "#             \"coding\": [\n",
    "#               {\n",
    "#                 \"code\": \"394579002\",\n",
    "#                 \"system\": \"http://snomed.info/sct\",\n",
    "#                 \"display\": \"Cardiology\"\n",
    "#               }\n",
    "#             ]\n",
    "#           }\n",
    "#         ],\n",
    "#         \"organization\": {\n",
    "#           \"reference\": \"Organization/RedoxPARequestorOrganizationExample\"\n",
    "#         },\n",
    "#         \"practitioner\": {\n",
    "#           \"reference\": \"Practitioner/RedoxPAPractitionerExamplePat\"\n",
    "#         },\n",
    "#         \"resourceType\": \"PractitionerRole\"\n",
    "#       }\n",
    "#     },\n",
    "#     {\n",
    "#       \"resource\": {\n",
    "#         \"id\": \"RedoxPAPractitionerExamplePat\",\n",
    "#         \"name\": [\n",
    "#           {\n",
    "#             \"given\": [\n",
    "#               \"Pat\"\n",
    "#             ],\n",
    "#             \"family\": \"Granite\"\n",
    "#           }\n",
    "#         ],\n",
    "#         \"address\": [\n",
    "#           {\n",
    "#             \"city\": \"Madison\",\n",
    "#             \"line\": [\n",
    "#               \"123 Main St.\"\n",
    "#             ],\n",
    "#             \"state\": \"WI\",\n",
    "#             \"country\": \"USA\",\n",
    "#             \"district\": \"Dane\",\n",
    "#             \"postalCode\": \"53703\"\n",
    "#           }\n",
    "#         ],\n",
    "#         \"telecom\": [\n",
    "#           {\n",
    "#             \"value\": \"+16085551234\"\n",
    "#           }\n",
    "#         ],\n",
    "#         \"identifier\": [\n",
    "#           {\n",
    "#             \"value\": \"4356789876\",\n",
    "#             \"system\": \"http://hl7.org/fhir/sid/us-npi\"\n",
    "#           }\n",
    "#         ],\n",
    "#         \"resourceType\": \"Practitioner\"\n",
    "#       }\n",
    "#     },\n",
    "#     {\n",
    "#       \"resource\": {\n",
    "#         \"id\": \"RedoxPASubscriberExample\",\n",
    "#         \"name\": [\n",
    "#           {\n",
    "#             \"given\": [\n",
    "#               \"Barbara\"\n",
    "#             ],\n",
    "#             \"family\": \"Bixby\"\n",
    "#           }\n",
    "#         ],\n",
    "#         \"patient\": {\n",
    "#           \"reference\": \"RedoxPABeneficiary\"\n",
    "#         },\n",
    "#         \"relationship\": [\n",
    "#           {\n",
    "#             \"text\": \"Mother\"\n",
    "#           }\n",
    "#         ],\n",
    "#         \"resourceType\": \"RelatedPerson\"\n",
    "#       }\n",
    "#     },\n",
    "#     {\n",
    "#       \"resource\": {\n",
    "#         \"id\": \"RedoxPAServiceClaimExample\",\n",
    "#         \"use\": \"preauthorization\",\n",
    "#         \"item\": [\n",
    "#           {\n",
    "#             \"sequence\": 1,\n",
    "#             \"extension\": [\n",
    "#               {\n",
    "#                 \"url\": \"http://hl7.org/fhir/us/davinci-pas/StructureDefinition/extension-requestedService\",\n",
    "#                 \"valueReference\": {\n",
    "#                   \"reference\": \"ServiceRequest/RedoxPAServiceRequestExample\"\n",
    "#                 }\n",
    "#               },\n",
    "#               {\n",
    "#                 \"url\": \"http://hl7.org/fhir/us/davinci-pas/StructureDefinition/extension-itemTraceNumber\",\n",
    "#                 \"valueIdentifier\": {\n",
    "#                   \"value\": \"23462346\"\n",
    "#                 }\n",
    "#               }\n",
    "#             ],\n",
    "#             \"productOrService\": {\n",
    "#               \"text\": \"Coronary angiography with right heart catheterization\",\n",
    "#               \"coding\": [\n",
    "#                 {\n",
    "#                   \"code\": \"93456\",\n",
    "#                   \"system\": \"http://www.ama-assn.org/go/cpt\"\n",
    "#                 }\n",
    "#               ]\n",
    "#             }\n",
    "#           }\n",
    "#         ],\n",
    "#         \"type\": {\n",
    "#           \"coding\": [\n",
    "#             {\n",
    "#               \"code\": \"professional\",\n",
    "#               \"system\": \"http://terminology.hl7.org/CodeSystem/claim-type\"\n",
    "#             }\n",
    "#           ]\n",
    "#         },\n",
    "#         \"status\": \"active\",\n",
    "#         \"created\": \"2021-09-02T18:44:13.307Z\",\n",
    "#         \"enterer\": {\n",
    "#           \"reference\": \"PractitionerRole/RedoxPAPractitionerRoleExamplePat\"\n",
    "#         },\n",
    "#         \"insurer\": {\n",
    "#           \"reference\": \"Organization/RedoxPAInsurerOrganizationExample\"\n",
    "#         },\n",
    "#         \"patient\": {\n",
    "#           \"reference\": \"Patient/RedoxPABeneficiaryExample\"\n",
    "#         },\n",
    "#         \"priority\": {\n",
    "#           \"coding\": [\n",
    "#             {\n",
    "#               \"code\": \"normal\",\n",
    "#               \"system\": \"http://terminology.hl7.org/CodeSystem/processpriority\"\n",
    "#             }\n",
    "#           ]\n",
    "#         },\n",
    "#         \"provider\": {\n",
    "#           \"reference\": \"Organization/RedoxPARequestorOrganizationExample\"\n",
    "#         },\n",
    "#         \"diagnosis\": [\n",
    "#           {\n",
    "#             \"sequence\": 1,\n",
    "#             \"diagnosisCodeableConcept\": {\n",
    "#               \"coding\": [\n",
    "#                 {\n",
    "#                   \"code\": \"I42.9\",\n",
    "#                   \"system\": \"http://hl7.org/fhir/sid/icd-10-cm\",\n",
    "#                   \"display\": \"Cardiomyopathy, unspecified\"\n",
    "#                 }\n",
    "#               ]\n",
    "#             }\n",
    "#           }\n",
    "#         ],\n",
    "#         \"insurance\": [\n",
    "#           {\n",
    "#             \"focal\": true,\n",
    "#             \"coverage\": {\n",
    "#               \"reference\": \"Coverage/RedoxPACoverageExample\"\n",
    "#             },\n",
    "#             \"sequence\": 1\n",
    "#           }\n",
    "#         ],\n",
    "#         \"identifier\": [\n",
    "#           {\n",
    "#             \"type\": {\n",
    "#               \"coding\": [\n",
    "#                 {\n",
    "#                   \"code\": \"ClaimID\"\n",
    "#                 }\n",
    "#               ]\n",
    "#             },\n",
    "#             \"value\": \"urn:uuid:97b8d6d0-ac3d-411a-b32a-e1d237aceb6a\"\n",
    "#           }\n",
    "#         ],\n",
    "#         \"resourceType\": \"Claim\",\n",
    "#         \"supportingInfo\": [\n",
    "#           {\n",
    "#             \"category\": {\n",
    "#               \"coding\": [\n",
    "#                 {\n",
    "#                   \"code\": \"additionalInformation\",\n",
    "#                   \"system\": \"http://hl7.org/fhir/us/davinci-pas/CodeSystem/PASSupportingInfoType\",\n",
    "#                   \"display\": \"Send additional paperwork or supporting information is sent for the request.\"\n",
    "#                 }\n",
    "#               ]\n",
    "#             },\n",
    "#             \"sequence\": 1,\n",
    "#             \"valueReference\": {\n",
    "#               \"reference\": \"DocumentReference/RedoxPADocumentReferenceExample\"\n",
    "#             }\n",
    "#           },\n",
    "#           {\n",
    "#             \"category\": {\n",
    "#               \"coding\": [\n",
    "#                 {\n",
    "#                   \"code\": \"freeFormMessage\",\n",
    "#                   \"system\": \"http://hl7.org/fhir/us/davinci-pas/CodeSystem/PASSupportingInfoType\",\n",
    "#                   \"display\": \"Written Confirmation.\"\n",
    "#                 }\n",
    "#               ]\n",
    "#             },\n",
    "#             \"sequence\": 2,\n",
    "#             \"valueString\": \"1\"\n",
    "#           }\n",
    "#         ]\n",
    "#       }\n",
    "#     }\n",
    "#   ],\n",
    "#   \"timestamp\": \"2021-10-21T19:09:02.452Z\",\n",
    "#   \"identifier\": {\n",
    "#     \"value\": \"urn:uuid:59f129cf-2eca-4965-88f2-452558af1934\",\n",
    "#     \"system\": \"urn:ietf:rfc:3986\"\n",
    "#   },\n",
    "#   \"resourceType\": \"Bundle\"\n",
    "# }\n",
    "# \"\"\""
   ]
  },
  {
   "cell_type": "code",
   "execution_count": 0,
   "metadata": {
    "application/vnd.databricks.v1+cell": {
     "cellMetadata": {
      "byteLimit": 2048000,
      "rowLimit": 10000
     },
     "inputWidgets": {},
     "nuid": "057f24d5-7d58-4d49-a1b7-2c199121f495",
     "showTitle": false,
     "tableResultSettingsMap": {},
     "title": ""
    }
   },
   "outputs": [],
   "source": [
    "# result = rapi.make_request(http_method=\"post\", resource=\"ClaimResponse\", action=\"$respond\", data=approved_service)"
   ]
  },
  {
   "cell_type": "code",
   "execution_count": 0,
   "metadata": {
    "application/vnd.databricks.v1+cell": {
     "cellMetadata": {
      "byteLimit": 2048000,
      "rowLimit": 10000
     },
     "inputWidgets": {},
     "nuid": "608243d4-b3ef-4c14-a9ed-ac480ee8bdd9",
     "showTitle": false,
     "tableResultSettingsMap": {},
     "title": ""
    }
   },
   "outputs": [],
   "source": [
    "# result"
   ]
  },
  {
   "cell_type": "code",
   "execution_count": 0,
   "metadata": {
    "application/vnd.databricks.v1+cell": {
     "cellMetadata": {
      "byteLimit": 2048000,
      "rowLimit": 10000
     },
     "inputWidgets": {},
     "nuid": "929e2cc5-c242-4478-8eac-3fd5b4461167",
     "showTitle": false,
     "tableResultSettingsMap": {},
     "title": ""
    }
   },
   "outputs": [],
   "source": [
    "# if result['response']['response_status_code'] != 200:\n",
    "#   print(\"Failed to update the patient information\")\n",
    "# print(json.dumps(json.loads(result['response']['response_text']), indent=2))"
   ]
  },
  {
   "cell_type": "code",
   "execution_count": 0,
   "metadata": {
    "application/vnd.databricks.v1+cell": {
     "cellMetadata": {
      "byteLimit": 2048000,
      "rowLimit": 10000
     },
     "inputWidgets": {},
     "nuid": "748fa5ce-7786-4d29-9111-b89a41a66d98",
     "showTitle": false,
     "tableResultSettingsMap": {},
     "title": ""
    }
   },
   "outputs": [],
   "source": [
    "enrollment_sdf = spark.table(\"mgiglia.hv_claims.enrollment\")\n",
    "display(enrollment_sdf)"
   ]
  },
  {
   "cell_type": "code",
   "execution_count": 0,
   "metadata": {
    "application/vnd.databricks.v1+cell": {
     "cellMetadata": {
      "byteLimit": 2048000,
      "rowLimit": 10000
     },
     "inputWidgets": {},
     "nuid": "56290f6e-3c8a-43d0-a8a6-2c6233c39d06",
     "showTitle": false,
     "tableResultSettingsMap": {},
     "title": ""
    }
   },
   "outputs": [],
   "source": [
    "from dbignite.writer.bundler import *\n",
    "from dbignite.writer.fhir_encoder import *"
   ]
  },
  {
   "cell_type": "code",
   "execution_count": 0,
   "metadata": {
    "application/vnd.databricks.v1+cell": {
     "cellMetadata": {
      "byteLimit": 2048000,
      "rowLimit": 10000
     },
     "inputWidgets": {},
     "nuid": "1e23c061-e505-4adf-a937-0b291a8ad547",
     "showTitle": false,
     "tableResultSettingsMap": {},
     "title": ""
    }
   },
   "outputs": [],
   "source": [
    "help(Mapping)"
   ]
  },
  {
   "cell_type": "code",
   "execution_count": 0,
   "metadata": {
    "application/vnd.databricks.v1+cell": {
     "cellMetadata": {},
     "inputWidgets": {},
     "nuid": "061bddf9-2a64-49eb-b9cd-72cfd614f0e5",
     "showTitle": false,
     "tableResultSettingsMap": {},
     "title": ""
    }
   },
   "outputs": [],
   "source": [
    "maps = [\n",
    "  Mapping('patient_id', 'Patient.id')\n",
    "  ,Mapping('patient_gender', 'Patient.gender')\n",
    "  ,Mapping('patient_year_of_birth', 'Patient.birthDate')\n",
    "  ,Mapping('patient_zip3', 'Patient.address.postalCode')\n",
    "  ,Mapping('patient_state', 'Patient.address.state')\n",
    "  ,Mapping('date_start', 'Coverage.period.start')\n",
    "  ,Mapping('date_end', 'Coverage.period.end')\n",
    "  ,Mapping()\n",
    "  ,Mapping('<url of a hardcoded system reference>', 'Patient.identifier.system', True)\n",
    "\t,Mapping('PATIENT_ID', 'Patient.id')]"
   ]
  }
 ],
 "metadata": {
  "application/vnd.databricks.v1+notebook": {
   "computePreferences": null,
   "dashboards": [],
   "environmentMetadata": {
    "base_environment": "",
    "client": "2"
   },
   "language": "python",
   "notebookMetadata": {
    "pythonIndentUnit": 2
   },
   "notebookName": "Redox API Requests",
   "widgets": {
    "databricks_secret_scope": {
     "currentValue": "matthew-giglia",
     "nuid": "8d9f7ab6-f5aa-4937-931e-ee5663febbfc",
     "typedWidgetInfo": {
      "autoCreated": false,
      "defaultValue": "matthew-giglia",
      "label": "User's Personal DB Secrets Scope",
      "name": "databricks_secret_scope",
      "options": {
       "widgetDisplayType": "Text",
       "validationRegex": null
      },
      "parameterDataType": "String"
     },
     "widgetInfo": {
      "widgetType": "text",
      "defaultValue": "matthew-giglia",
      "label": "User's Personal DB Secrets Scope",
      "name": "databricks_secret_scope",
      "options": {
       "widgetType": "text",
       "autoCreated": null,
       "validationRegex": null
      }
     }
    },
    "github_token_secret_key": {
     "currentValue": "gh_pat",
     "nuid": "bc6b34d0-37db-49a8-91e2-64c13436061f",
     "typedWidgetInfo": {
      "autoCreated": false,
      "defaultValue": "gh_pat",
      "label": "GitHub Token DB Secret Key",
      "name": "github_token_secret_key",
      "options": {
       "widgetDisplayType": "Text",
       "validationRegex": null
      },
      "parameterDataType": "String"
     },
     "widgetInfo": {
      "widgetType": "text",
      "defaultValue": "gh_pat",
      "label": "GitHub Token DB Secret Key",
      "name": "github_token_secret_key",
      "options": {
       "widgetType": "text",
       "autoCreated": null,
       "validationRegex": null
      }
     }
    },
    "github_username": {
     "currentValue": "matthew.giglia@databricks.com",
     "nuid": "21b9ffa1-d214-4f2c-bc52-3d5bd020fa4b",
     "typedWidgetInfo": {
      "autoCreated": false,
      "defaultValue": "matthew.giglia@databricks.com",
      "label": "User's Personal GitHub Username",
      "name": "github_username",
      "options": {
       "widgetDisplayType": "Text",
       "validationRegex": null
      },
      "parameterDataType": "String"
     },
     "widgetInfo": {
      "widgetType": "text",
      "defaultValue": "matthew.giglia@databricks.com",
      "label": "User's Personal GitHub Username",
      "name": "github_username",
      "options": {
       "widgetType": "text",
       "autoCreated": null,
       "validationRegex": null
      }
     }
    }
   }
  },
  "language_info": {
   "name": "python"
  }
 },
 "nbformat": 4,
 "nbformat_minor": 0
}
